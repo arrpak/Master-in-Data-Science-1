{
 "cells": [
  {
   "cell_type": "markdown",
   "metadata": {},
   "source": [
    "## Challenge: Exercise 3\n",
    "#### To plot the monthly number of searches for flights arriving at Málaga, Madrid or Barcelona\n",
    "\n",
    "For the arriving airport, you can use the Destination column in the searches file. Plot a curve for Málaga, another one for Madrid, and another one for Barcelona, in the same figure.\n",
    "\n"
   ]
  },
  {
   "cell_type": "code",
   "execution_count": 1,
   "metadata": {
    "collapsed": false
   },
   "outputs": [],
   "source": [
    "import numpy as np\n",
    "import pandas as pd\n",
    "from pandas import DataFrame,Series\n",
    "import matplotlib.pyplot as plt\n",
    "%matplotlib inline"
   ]
  },
  {
   "cell_type": "markdown",
   "metadata": {},
   "source": [
    "##### To obtain monthly number of searches for flights arriving at Malaga, Madrid or Barcelona"
   ]
  },
  {
   "cell_type": "code",
   "execution_count": 2,
   "metadata": {
    "collapsed": true
   },
   "outputs": [],
   "source": [
    "import bz2\n",
    "files_path=\"/home/dsc/Repositories/Master-in-Data-Science/Data/\""
   ]
  },
  {
   "cell_type": "code",
   "execution_count": 3,
   "metadata": {
    "collapsed": false
   },
   "outputs": [
    {
     "data": {
      "text/html": [
       "<div>\n",
       "<table border=\"1\" class=\"dataframe\">\n",
       "  <thead>\n",
       "    <tr style=\"text-align: right;\">\n",
       "      <th></th>\n",
       "      <th>Date</th>\n",
       "      <th>Destination</th>\n",
       "      <th>Month</th>\n",
       "    </tr>\n",
       "  </thead>\n",
       "  <tbody>\n",
       "    <tr>\n",
       "      <th>11188946</th>\n",
       "      <td>2013-03-01</td>\n",
       "      <td>MAD</td>\n",
       "      <td>3</td>\n",
       "    </tr>\n",
       "    <tr>\n",
       "      <th>12176313</th>\n",
       "      <td>2013-11-26</td>\n",
       "      <td>MAD</td>\n",
       "      <td>11</td>\n",
       "    </tr>\n",
       "    <tr>\n",
       "      <th>1497661</th>\n",
       "      <td>2013-03-03</td>\n",
       "      <td>BCN</td>\n",
       "      <td>3</td>\n",
       "    </tr>\n",
       "    <tr>\n",
       "      <th>19247872</th>\n",
       "      <td>2013-08-09</td>\n",
       "      <td>BCN</td>\n",
       "      <td>8</td>\n",
       "    </tr>\n",
       "    <tr>\n",
       "      <th>12441516</th>\n",
       "      <td>2013-08-24</td>\n",
       "      <td>MAD</td>\n",
       "      <td>8</td>\n",
       "    </tr>\n",
       "    <tr>\n",
       "      <th>4623407</th>\n",
       "      <td>2013-11-12</td>\n",
       "      <td>MAD</td>\n",
       "      <td>11</td>\n",
       "    </tr>\n",
       "  </tbody>\n",
       "</table>\n",
       "</div>"
      ],
      "text/plain": [
       "                Date Destination  Month\n",
       "11188946  2013-03-01         MAD      3\n",
       "12176313  2013-11-26         MAD     11\n",
       "1497661   2013-03-03         BCN      3\n",
       "19247872  2013-08-09         BCN      8\n",
       "12441516  2013-08-24         MAD      8\n",
       "4623407   2013-11-12         MAD     11"
      ]
     },
     "execution_count": 3,
     "metadata": {},
     "output_type": "execute_result"
    }
   ],
   "source": [
    "searches_file = bz2.BZ2File(files_path+\"searches.csv.bz2\")\n",
    "searches_df = pd.read_csv(searches_file, sep='^', usecols=['Destination','Date'])\n",
    "\n",
    "# To create dataframe only with MAD-Madrid,BCN-Barcelona and AGP-Malaga and without Nan\n",
    "searches_df = searches_df[searches_df['Destination'].isin(['MAD','BCN','AGP'])].dropna()\n",
    "\n",
    "# To add a column with month of search\n",
    "from dateutil.parser import parse\n",
    "searches_df['Month'] = searches_df['Date'].apply(lambda d: parse(d).month)\n",
    "searches_df.sample(6)"
   ]
  },
  {
   "cell_type": "code",
   "execution_count": 4,
   "metadata": {
    "collapsed": false
   },
   "outputs": [
    {
     "data": {
      "text/html": [
       "<div>\n",
       "<table border=\"1\" class=\"dataframe\">\n",
       "  <thead>\n",
       "    <tr style=\"text-align: right;\">\n",
       "      <th>Destination</th>\n",
       "      <th>AGP</th>\n",
       "      <th>BCN</th>\n",
       "      <th>MAD</th>\n",
       "    </tr>\n",
       "    <tr>\n",
       "      <th>Month</th>\n",
       "      <th></th>\n",
       "      <th></th>\n",
       "      <th></th>\n",
       "    </tr>\n",
       "  </thead>\n",
       "  <tbody>\n",
       "    <tr>\n",
       "      <th>1</th>\n",
       "      <td>9633</td>\n",
       "      <td>29469</td>\n",
       "      <td>24258</td>\n",
       "    </tr>\n",
       "    <tr>\n",
       "      <th>2</th>\n",
       "      <td>8379</td>\n",
       "      <td>28329</td>\n",
       "      <td>22800</td>\n",
       "    </tr>\n",
       "    <tr>\n",
       "      <th>3</th>\n",
       "      <td>10659</td>\n",
       "      <td>30552</td>\n",
       "      <td>24681</td>\n",
       "    </tr>\n",
       "    <tr>\n",
       "      <th>4</th>\n",
       "      <td>8265</td>\n",
       "      <td>31236</td>\n",
       "      <td>25251</td>\n",
       "    </tr>\n",
       "    <tr>\n",
       "      <th>5</th>\n",
       "      <td>10830</td>\n",
       "      <td>28728</td>\n",
       "      <td>26334</td>\n",
       "    </tr>\n",
       "    <tr>\n",
       "      <th>6</th>\n",
       "      <td>7923</td>\n",
       "      <td>26505</td>\n",
       "      <td>22800</td>\n",
       "    </tr>\n",
       "    <tr>\n",
       "      <th>7</th>\n",
       "      <td>8892</td>\n",
       "      <td>29241</td>\n",
       "      <td>22971</td>\n",
       "    </tr>\n",
       "    <tr>\n",
       "      <th>8</th>\n",
       "      <td>7866</td>\n",
       "      <td>27075</td>\n",
       "      <td>21831</td>\n",
       "    </tr>\n",
       "    <tr>\n",
       "      <th>9</th>\n",
       "      <td>8151</td>\n",
       "      <td>23427</td>\n",
       "      <td>21147</td>\n",
       "    </tr>\n",
       "    <tr>\n",
       "      <th>10</th>\n",
       "      <td>6499</td>\n",
       "      <td>20276</td>\n",
       "      <td>22294</td>\n",
       "    </tr>\n",
       "    <tr>\n",
       "      <th>11</th>\n",
       "      <td>6384</td>\n",
       "      <td>19824</td>\n",
       "      <td>20272</td>\n",
       "    </tr>\n",
       "    <tr>\n",
       "      <th>12</th>\n",
       "      <td>3696</td>\n",
       "      <td>15400</td>\n",
       "      <td>14504</td>\n",
       "    </tr>\n",
       "  </tbody>\n",
       "</table>\n",
       "</div>"
      ],
      "text/plain": [
       "Destination    AGP    BCN    MAD\n",
       "Month                           \n",
       "1             9633  29469  24258\n",
       "2             8379  28329  22800\n",
       "3            10659  30552  24681\n",
       "4             8265  31236  25251\n",
       "5            10830  28728  26334\n",
       "6             7923  26505  22800\n",
       "7             8892  29241  22971\n",
       "8             7866  27075  21831\n",
       "9             8151  23427  21147\n",
       "10            6499  20276  22294\n",
       "11            6384  19824  20272\n",
       "12            3696  15400  14504"
      ]
     },
     "execution_count": 4,
     "metadata": {},
     "output_type": "execute_result"
    }
   ],
   "source": [
    "# Finally, grouping and pivoting dataframe\n",
    "searches_gr = searches_df.groupby(['Destination','Month'])\n",
    "final_df = searches_gr.count().reset_index()\n",
    "final_df = final_df.pivot(index='Month', columns='Destination', values='Date')\n",
    "final_df"
   ]
  },
  {
   "cell_type": "markdown",
   "metadata": {},
   "source": [
    "##### To plot results for the three airports in the same figure"
   ]
  },
  {
   "cell_type": "code",
   "execution_count": 5,
   "metadata": {
    "collapsed": false
   },
   "outputs": [
    {
     "data": {
      "image/png": "[encoded data removed]",
      "text/plain": [
       "<matplotlib.figure.Figure at 0x7f483b1309d0>"
      ]
     },
     "metadata": {},
     "output_type": "display_data"
    }
   ],
   "source": [
    "final_df.plot()\n",
    "plt.xticks(final_df.index)\n",
    "plt.legend(bbox_to_anchor=(1.05,1), loc=2, borderaxespad=0.)\n",
    "plt.title(\"\\nMonthly searches by main spanish airports\\n\")\n",
    "plt.xlabel(\"\\nMonth\")\n",
    "plt.ylabel(\"Number of searches\\n\")\n",
    "plt.show()"
   ]
  }
 ],
 "metadata": {
  "kernelspec": {
   "display_name": "Python 2",
   "language": "python",
   "name": "python2"
  },
  "language_info": {
   "codemirror_mode": {
    "name": "ipython",
    "version": 2
   },
   "file_extension": ".py",
   "mimetype": "text/x-python",
   "name": "python",
   "nbconvert_exporter": "python",
   "pygments_lexer": "ipython2",
   "version": "2.7.10"
  }
 },
 "nbformat": 4,
 "nbformat_minor": 0
}
