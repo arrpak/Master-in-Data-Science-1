{
 "cells": [
  {
   "cell_type": "code",
   "execution_count": 2,
   "metadata": {
    "collapsed": false
   },
   "outputs": [],
   "source": [
    "import numpy as np\n",
    "import pandas as pd\n",
    "from pandas import Series, DataFrame\n",
    "import matplotlib\n",
    "import matplotlib.pyplot as plt"
   ]
  },
  {
   "cell_type": "code",
   "execution_count": 5,
   "metadata": {
    "collapsed": false
   },
   "outputs": [
    {
     "data": {
      "text/html": [
       "<div>\n",
       "<table border=\"1\" class=\"dataframe\">\n",
       "  <thead>\n",
       "    <tr style=\"text-align: right;\">\n",
       "      <th></th>\n",
       "      <th>iata_code</th>\n",
       "      <th>manufacturer</th>\n",
       "      <th>model</th>\n",
       "      <th>iata_group</th>\n",
       "      <th>iata_category</th>\n",
       "      <th>icao_code</th>\n",
       "      <th>nb_engines</th>\n",
       "      <th>aircraft_type</th>\n",
       "    </tr>\n",
       "  </thead>\n",
       "  <tbody>\n",
       "    <tr>\n",
       "      <th>0</th>\n",
       "      <td>100</td>\n",
       "      <td>Fokker</td>\n",
       "      <td>100</td>\n",
       "      <td>100</td>\n",
       "      <td>2J</td>\n",
       "      <td>F100</td>\n",
       "      <td>2</td>\n",
       "      <td>J</td>\n",
       "    </tr>\n",
       "    <tr>\n",
       "      <th>1</th>\n",
       "      <td>141</td>\n",
       "      <td>BAe</td>\n",
       "      <td>146-100</td>\n",
       "      <td>146</td>\n",
       "      <td>4J</td>\n",
       "      <td>B461</td>\n",
       "      <td>4</td>\n",
       "      <td>J</td>\n",
       "    </tr>\n",
       "    <tr>\n",
       "      <th>2</th>\n",
       "      <td>142</td>\n",
       "      <td>BAe</td>\n",
       "      <td>BAE Systems 146-200 Passenger</td>\n",
       "      <td>146</td>\n",
       "      <td>4J</td>\n",
       "      <td>B462</td>\n",
       "      <td>4</td>\n",
       "      <td>J</td>\n",
       "    </tr>\n",
       "    <tr>\n",
       "      <th>3</th>\n",
       "      <td>143</td>\n",
       "      <td>BAe</td>\n",
       "      <td>146-300</td>\n",
       "      <td>146</td>\n",
       "      <td>4J</td>\n",
       "      <td>B463</td>\n",
       "      <td>4</td>\n",
       "      <td>J</td>\n",
       "    </tr>\n",
       "    <tr>\n",
       "      <th>4</th>\n",
       "      <td>146</td>\n",
       "      <td>BAe</td>\n",
       "      <td>146</td>\n",
       "      <td>NaN</td>\n",
       "      <td>NaN</td>\n",
       "      <td>NaN</td>\n",
       "      <td>NaN</td>\n",
       "      <td>NaN</td>\n",
       "    </tr>\n",
       "  </tbody>\n",
       "</table>\n",
       "</div>"
      ],
      "text/plain": [
       "  iata_code manufacturer                          model iata_group  \\\n",
       "0       100       Fokker                            100        100   \n",
       "1       141          BAe                        146-100        146   \n",
       "2       142          BAe  BAE Systems 146-200 Passenger        146   \n",
       "3       143          BAe                        146-300        146   \n",
       "4       146          BAe                            146        NaN   \n",
       "\n",
       "  iata_category icao_code  nb_engines aircraft_type  \n",
       "0            2J      F100           2             J  \n",
       "1            4J      B461           4             J  \n",
       "2            4J      B462           4             J  \n",
       "3            4J      B463           4             J  \n",
       "4           NaN       NaN         NaN           NaN  "
      ]
     },
     "execution_count": 5,
     "metadata": {},
     "output_type": "execute_result"
    }
   ],
   "source": [
    "aircraftdf = pd.read_csv(\"/home/dsc/Data/opentraveldata/optd_aircraft.csv\",sep=\"^\")\n",
    "aircraftdf.head()"
   ]
  },
  {
   "cell_type": "code",
   "execution_count": 6,
   "metadata": {
    "collapsed": false
   },
   "outputs": [
    {
     "data": {
      "text/plain": [
       "457"
      ]
     },
     "execution_count": 6,
     "metadata": {},
     "output_type": "execute_result"
    }
   ],
   "source": [
    "len(aircraftdf)"
   ]
  },
  {
   "cell_type": "code",
   "execution_count": 14,
   "metadata": {
    "collapsed": false
   },
   "outputs": [
    {
     "data": {
      "text/plain": [
       "61"
      ]
     },
     "execution_count": 14,
     "metadata": {},
     "output_type": "execute_result"
    }
   ],
   "source": [
    "# Aircrafts with 4 engines\n",
    "fourenginedf=aircraftdf[aircraftdf[\"nb_engines\"]==4]\n",
    "len(fourenginedf)"
   ]
  },
  {
   "cell_type": "code",
   "execution_count": 16,
   "metadata": {
    "collapsed": false
   },
   "outputs": [
    {
     "data": {
      "text/plain": [
       "iata_code        457\n",
       "manufacturer     453\n",
       "model            457\n",
       "iata_group       363\n",
       "iata_category    363\n",
       "icao_code        363\n",
       "nb_engines       343\n",
       "aircraft_type    362\n",
       "dtype: int64"
      ]
     },
     "execution_count": 16,
     "metadata": {},
     "output_type": "execute_result"
    }
   ],
   "source": [
    "# To count no null\n",
    "aircraftdf.count()"
   ]
  },
  {
   "cell_type": "code",
   "execution_count": 17,
   "metadata": {
    "collapsed": false
   },
   "outputs": [
    {
     "data": {
      "text/plain": [
       "231"
      ]
     },
     "execution_count": 17,
     "metadata": {},
     "output_type": "execute_result"
    }
   ],
   "source": [
    "jtypedf=aircraftdf[aircraftdf[\"aircraft_type\"]==\"J\"]\n",
    "len(jtypedf)"
   ]
  },
  {
   "cell_type": "code",
   "execution_count": 20,
   "metadata": {
    "collapsed": false
   },
   "outputs": [
    {
     "data": {
      "text/plain": [
       "231"
      ]
     },
     "execution_count": 20,
     "metadata": {},
     "output_type": "execute_result"
    }
   ],
   "source": [
    "len(aircraftdf[aircraftdf[\"aircraft_type\"]==\"J\"])"
   ]
  },
  {
   "cell_type": "code",
   "execution_count": 32,
   "metadata": {
    "collapsed": false
   },
   "outputs": [
    {
     "data": {
      "text/plain": [
       "231"
      ]
     },
     "execution_count": 32,
     "metadata": {},
     "output_type": "execute_result"
    }
   ],
   "source": [
    "sum(aircraftdf[\"aircraft_type\"]==\"J\")"
   ]
  },
  {
   "cell_type": "code",
   "execution_count": 35,
   "metadata": {
    "collapsed": false
   },
   "outputs": [
    {
     "data": {
      "text/html": [
       "<div>\n",
       "<table border=\"1\" class=\"dataframe\">\n",
       "  <thead>\n",
       "    <tr style=\"text-align: right;\">\n",
       "      <th></th>\n",
       "      <th>iata_code</th>\n",
       "      <th>manufacturer</th>\n",
       "      <th>model</th>\n",
       "      <th>iata_group</th>\n",
       "      <th>iata_category</th>\n",
       "      <th>icao_code</th>\n",
       "      <th>nb_engines</th>\n",
       "    </tr>\n",
       "    <tr>\n",
       "      <th>aircraft_type</th>\n",
       "      <th></th>\n",
       "      <th></th>\n",
       "      <th></th>\n",
       "      <th></th>\n",
       "      <th></th>\n",
       "      <th></th>\n",
       "      <th></th>\n",
       "    </tr>\n",
       "  </thead>\n",
       "  <tbody>\n",
       "    <tr>\n",
       "      <th>H</th>\n",
       "      <td>12</td>\n",
       "      <td>12</td>\n",
       "      <td>12</td>\n",
       "      <td>12</td>\n",
       "      <td>12</td>\n",
       "      <td>12</td>\n",
       "      <td>0</td>\n",
       "    </tr>\n",
       "    <tr>\n",
       "      <th>J</th>\n",
       "      <td>231</td>\n",
       "      <td>230</td>\n",
       "      <td>231</td>\n",
       "      <td>231</td>\n",
       "      <td>231</td>\n",
       "      <td>231</td>\n",
       "      <td>231</td>\n",
       "    </tr>\n",
       "    <tr>\n",
       "      <th>P</th>\n",
       "      <td>30</td>\n",
       "      <td>30</td>\n",
       "      <td>30</td>\n",
       "      <td>30</td>\n",
       "      <td>30</td>\n",
       "      <td>30</td>\n",
       "      <td>30</td>\n",
       "    </tr>\n",
       "    <tr>\n",
       "      <th>S</th>\n",
       "      <td>6</td>\n",
       "      <td>4</td>\n",
       "      <td>6</td>\n",
       "      <td>6</td>\n",
       "      <td>6</td>\n",
       "      <td>6</td>\n",
       "      <td>0</td>\n",
       "    </tr>\n",
       "    <tr>\n",
       "      <th>T</th>\n",
       "      <td>83</td>\n",
       "      <td>82</td>\n",
       "      <td>83</td>\n",
       "      <td>83</td>\n",
       "      <td>83</td>\n",
       "      <td>83</td>\n",
       "      <td>82</td>\n",
       "    </tr>\n",
       "  </tbody>\n",
       "</table>\n",
       "</div>"
      ],
      "text/plain": [
       "               iata_code  manufacturer  model  iata_group  iata_category  \\\n",
       "aircraft_type                                                              \n",
       "H                     12            12     12          12             12   \n",
       "J                    231           230    231         231            231   \n",
       "P                     30            30     30          30             30   \n",
       "S                      6             4      6           6              6   \n",
       "T                     83            82     83          83             83   \n",
       "\n",
       "               icao_code  nb_engines  \n",
       "aircraft_type                         \n",
       "H                     12           0  \n",
       "J                    231         231  \n",
       "P                     30          30  \n",
       "S                      6           0  \n",
       "T                     83          82  "
      ]
     },
     "execution_count": 35,
     "metadata": {},
     "output_type": "execute_result"
    }
   ],
   "source": [
    "aircraftdf.groupby(\"aircraft_type\").count()"
   ]
  },
  {
   "cell_type": "code",
   "execution_count": 40,
   "metadata": {
    "collapsed": false
   },
   "outputs": [
    {
     "data": {
      "text/plain": [
       "49"
      ]
     },
     "execution_count": 40,
     "metadata": {},
     "output_type": "execute_result"
    }
   ],
   "source": [
    "len(aircraftdf[(aircraftdf[\"nb_engines\"]==4) & (aircraftdf[\"aircraft_type\"]=='J')])\n"
   ]
  },
  {
   "cell_type": "code",
   "execution_count": 41,
   "metadata": {
    "collapsed": false
   },
   "outputs": [
    {
     "data": {
      "text/plain": [
       "iata_code        49\n",
       "manufacturer     49\n",
       "model            49\n",
       "iata_group       49\n",
       "iata_category    49\n",
       "icao_code        49\n",
       "nb_engines       49\n",
       "aircraft_type    49\n",
       "dtype: int64"
      ]
     },
     "execution_count": 41,
     "metadata": {},
     "output_type": "execute_result"
    }
   ],
   "source": [
    "aircraftdf[(aircraftdf[\"nb_engines\"]==4) & (aircraftdf[\"aircraft_type\"]=='J')].count()"
   ]
  },
  {
   "cell_type": "code",
   "execution_count": 43,
   "metadata": {
    "collapsed": true
   },
   "outputs": [],
   "source": [
    "# Creating list of countries - google \"country list text\"\n",
    "cadena = \"\"\"Abkhazia\n",
    "Afghanistan\n",
    "Akrotiri and Dhekelia\n",
    "Aland\n",
    "Albania\n",
    "Algeria\n",
    "American Samoa\n",
    "Andorra\n",
    "Angola\n",
    "Anguilla\n",
    "Antigua and Barbuda\n",
    "Argentina\n",
    "Armenia\n",
    "Aruba\n",
    "Ascension Island\n",
    "Australia\n",
    "Austria\n",
    "Azerbaijan\n",
    "Bahamas, The\n",
    "Bahrain\n",
    "Bangladesh\n",
    "Barbados\n",
    "Belarus\n",
    "Belgium\n",
    "Belize\n",
    "Benin\n",
    "Bermuda\n",
    "Bhutan\n",
    "Bolivia\n",
    "Bosnia and Herzegovina\n",
    "Botswana\n",
    "Brazil\n",
    "Brunei\n",
    "Bulgaria\n",
    "Burkina Faso\n",
    "Burundi\n",
    "Cambodia\n",
    "Cameroon\n",
    "Canada\n",
    "Cape Verde\n",
    "Cayman Islands\n",
    "Central Africa Republic\n",
    "Chad\n",
    "Chile\n",
    "China\n",
    "Christmas Island\n",
    "Cocos (Keeling) Islands\n",
    "Colombia\n",
    "Comoros\n",
    "Congo\n",
    "Cook Islands\n",
    "Costa Rica\n",
    "Cote d'lvoire\n",
    "Croatia\n",
    "Cuba\n",
    "Cyprus\n",
    "Czech Republic\n",
    "Denmark\n",
    "Djibouti\n",
    "Dominica\n",
    "Dominican Republic\n",
    "East Timor Ecuador\n",
    "Egypt\n",
    "El Salvador\n",
    "Equatorial Guinea\n",
    "Eritrea\n",
    "Estonia\n",
    "Ethiopia\n",
    "Falkland Islands\n",
    "Faroe Islands\n",
    "Fiji\n",
    "Finland\n",
    "France\n",
    "French Polynesia\n",
    "Gabon\n",
    "Cambia, The\n",
    "Georgia\n",
    "Germany\n",
    "Ghana\n",
    "Gibraltar\n",
    "Greece\n",
    "Greenland\n",
    "Grenada\n",
    "Guam\n",
    "Guatemala\n",
    "Guemsey\n",
    "Guinea\n",
    "Guinea-Bissau\n",
    "Guyana\n",
    "Haiti\n",
    "Honduras\n",
    "Hong Kong\n",
    "Hungary\n",
    "Iceland\n",
    "India\n",
    "Indonesia\n",
    "Iran\n",
    "Iraq\n",
    "Ireland\n",
    "Isle of Man\n",
    "Israel\n",
    "Italy\n",
    "Jamaica\n",
    "Japan\n",
    "Jersey\n",
    "Jordan\n",
    "Kazakhstan\n",
    "Kenya\n",
    "Kiribati\n",
    "Korea, N\n",
    "Korea, S\n",
    "Kosovo\n",
    "Kuwait\n",
    "Kyrgyzstan\n",
    "Laos\n",
    "Latvia\n",
    "Lebanon\n",
    "Lesotho\n",
    "Liberia\n",
    "Libya\n",
    "Liechtenstein\n",
    "Lithuania\n",
    "Luxembourg\n",
    "Macao\n",
    "Macedonia\n",
    "Madagascar\n",
    "Malawi\n",
    "Malaysia\n",
    "Maldives\n",
    "Mali\n",
    "Malta\n",
    "Marshall Islands\n",
    "Mauritania\n",
    "Mauritius\n",
    "Mayotte\n",
    "Mexico\n",
    "Micronesia\n",
    "Moldova\n",
    "Monaco\n",
    "Mongolia\n",
    "Montenegro\n",
    "Montserrat\n",
    "Morocco\n",
    "Mozambique\n",
    "Myanmar\n",
    "Nagorno-Karabakh\n",
    "Namibia\n",
    "Nauru\n",
    "Nepal\n",
    "Netherlands\n",
    "Netherlands Antilles\n",
    "New Caledonia\n",
    "New Zealand\n",
    "Nicaragua\n",
    "Niger\n",
    "Nigeria\n",
    "Niue\n",
    "Norfolk Island\n",
    "Northern Cyprus\n",
    "Northern Mariana Islands\n",
    "Norway\n",
    "Oman\n",
    "Pakistan\n",
    "Palau\n",
    "Palestine\n",
    "Panama\n",
    "Papua New Guinea\n",
    "Paraguay\n",
    "Peru\n",
    "Philippines\n",
    "Pitcaim Islands\n",
    "Poland\n",
    "Portugal\n",
    "Puerto Rico\n",
    "Qatar\n",
    "Romania\n",
    "Russia\n",
    "Rwanda\n",
    "Sahrawi Arab Democratic Republic\n",
    "Saint-Barthelemy\n",
    "Saint Helena\n",
    "Saint Kitts and Nevis\n",
    "Saint Lucia\n",
    "Saint Martin\n",
    "Saint Pierre and Miquelon\n",
    "Saint Vincent and Grenadines\n",
    "Samos\n",
    "San Marino\n",
    "Sao Tome and Principe\n",
    "Saudi Arabia\n",
    "Senegal\n",
    "Serbia\n",
    "Seychelles\n",
    "Sierra Leone\n",
    "Singapore\n",
    "Slovakia\n",
    "Slovenia\n",
    "Solomon Islands\n",
    "Somalia\n",
    "Somaliland\n",
    "South Africa\n",
    "South Ossetia\n",
    "Spain\n",
    "Sri Lanka\n",
    "Sudan\n",
    "Suriname\n",
    "Svalbard\n",
    "Swaziland\n",
    "Sweden\n",
    "Switzerland\n",
    "Syria\n",
    "Tajikistan\n",
    "Tanzania\n",
    "Thailand\n",
    "Togo\n",
    "Tokelau\n",
    "Tonga\n",
    "Transnistria\n",
    "Trinidad and Tobago\n",
    "Tristan da Cunha\n",
    "Tunisia\n",
    "Turkey\n",
    "Turkmenistan\n",
    "Turks and Caicos Islands\n",
    "Tuvalu\n",
    "Uganda\n",
    "Ukraine\n",
    "United Arab Emirates\n",
    "United Kingdom\n",
    "United States\n",
    "Uruguay\n",
    "Uzbekistan\n",
    "Vanuatu\n",
    "Vatican City\n",
    "Venezuela\n",
    "Vietnam\n",
    "Virgin Islands, British\n",
    "Virgin Islands, U.S.\n",
    "Wallis and Futuna\n",
    "Yemen\n",
    "Zambia\n",
    "Zimbabwe\"\"\""
   ]
  },
  {
   "cell_type": "code",
   "execution_count": 44,
   "metadata": {
    "collapsed": false
   },
   "outputs": [
    {
     "data": {
      "text/plain": [
       "\"Abkhazia\\nAfghanistan\\nAkrotiri and Dhekelia\\nAland\\nAlbania\\nAlgeria\\nAmerican Samoa\\nAndorra\\nAngola\\nAnguilla\\nAntigua and Barbuda\\nArgentina\\nArmenia\\nAruba\\nAscension Island\\nAustralia\\nAustria\\nAzerbaijan\\nBahamas, The\\nBahrain\\nBangladesh\\nBarbados\\nBelarus\\nBelgium\\nBelize\\nBenin\\nBermuda\\nBhutan\\nBolivia\\nBosnia and Herzegovina\\nBotswana\\nBrazil\\nBrunei\\nBulgaria\\nBurkina Faso\\nBurundi\\nCambodia\\nCameroon\\nCanada\\nCape Verde\\nCayman Islands\\nCentral Africa Republic\\nChad\\nChile\\nChina\\nChristmas Island\\nCocos (Keeling) Islands\\nColombia\\nComoros\\nCongo\\nCook Islands\\nCosta Rica\\nCote d'lvoire\\nCroatia\\nCuba\\nCyprus\\nCzech Republic\\nDenmark\\nDjibouti\\nDominica\\nDominican Republic\\nEast Timor Ecuador\\nEgypt\\nEl Salvador\\nEquatorial Guinea\\nEritrea\\nEstonia\\nEthiopia\\nFalkland Islands\\nFaroe Islands\\nFiji\\nFinland\\nFrance\\nFrench Polynesia\\nGabon\\nCambia, The\\nGeorgia\\nGermany\\nGhana\\nGibraltar\\nGreece\\nGreenland\\nGrenada\\nGuam\\nGuatemala\\nGuemsey\\nGuinea\\nGuinea-Bissau\\nGuyana\\nHaiti\\nHonduras\\nHong Kong\\nHungary\\nIceland\\nIndia\\nIndonesia\\nIran\\nIraq\\nIreland\\nIsle of Man\\nIsrael\\nItaly\\nJamaica\\nJapan\\nJersey\\nJordan\\nKazakhstan\\nKenya\\nKiribati\\nKorea, N\\nKorea, S\\nKosovo\\nKuwait\\nKyrgyzstan\\nLaos\\nLatvia\\nLebanon\\nLesotho\\nLiberia\\nLibya\\nLiechtenstein\\nLithuania\\nLuxembourg\\nMacao\\nMacedonia\\nMadagascar\\nMalawi\\nMalaysia\\nMaldives\\nMali\\nMalta\\nMarshall Islands\\nMauritania\\nMauritius\\nMayotte\\nMexico\\nMicronesia\\nMoldova\\nMonaco\\nMongolia\\nMontenegro\\nMontserrat\\nMorocco\\nMozambique\\nMyanmar\\nNagorno-Karabakh\\nNamibia\\nNauru\\nNepal\\nNetherlands\\nNetherlands Antilles\\nNew Caledonia\\nNew Zealand\\nNicaragua\\nNiger\\nNigeria\\nNiue\\nNorfolk Island\\nNorthern Cyprus\\nNorthern Mariana Islands\\nNorway\\nOman\\nPakistan\\nPalau\\nPalestine\\nPanama\\nPapua New Guinea\\nParaguay\\nPeru\\nPhilippines\\nPitcaim Islands\\nPoland\\nPortugal\\nPuerto Rico\\nQatar\\nRomania\\nRussia\\nRwanda\\nSahrawi Arab Democratic Republic\\nSaint-Barthelemy\\nSaint Helena\\nSaint Kitts and Nevis\\nSaint Lucia\\nSaint Martin\\nSaint Pierre and Miquelon\\nSaint Vincent and Grenadines\\nSamos\\nSan Marino\\nSao Tome and Principe\\nSaudi Arabia\\nSenegal\\nSerbia\\nSeychelles\\nSierra Leone\\nSingapore\\nSlovakia\\nSlovenia\\nSolomon Islands\\nSomalia\\nSomaliland\\nSouth Africa\\nSouth Ossetia\\nSpain\\nSri Lanka\\nSudan\\nSuriname\\nSvalbard\\nSwaziland\\nSweden\\nSwitzerland\\nSyria\\nTajikistan\\nTanzania\\nThailand\\nTogo\\nTokelau\\nTonga\\nTransnistria\\nTrinidad and Tobago\\nTristan da Cunha\\nTunisia\\nTurkey\\nTurkmenistan\\nTurks and Caicos Islands\\nTuvalu\\nUganda\\nUkraine\\nUnited Arab Emirates\\nUnited Kingdom\\nUnited States\\nUruguay\\nUzbekistan\\nVanuatu\\nVatican City\\nVenezuela\\nVietnam\\nVirgin Islands, British\\nVirgin Islands, U.S.\\nWallis and Futuna\\nYemen\\nZambia\\nZimbabwe\""
      ]
     },
     "execution_count": 44,
     "metadata": {},
     "output_type": "execute_result"
    }
   ],
   "source": [
    "cadena"
   ]
  },
  {
   "cell_type": "code",
   "execution_count": 48,
   "metadata": {
    "collapsed": false
   },
   "outputs": [
    {
     "data": {
      "text/plain": [
       "['Abkhazia',\n",
       " 'Afghanistan',\n",
       " 'Akrotiri and Dhekelia',\n",
       " 'Aland',\n",
       " 'Albania',\n",
       " 'Algeria',\n",
       " 'American Samoa',\n",
       " 'Andorra',\n",
       " 'Angola',\n",
       " 'Anguilla',\n",
       " 'Antigua and Barbuda',\n",
       " 'Argentina',\n",
       " 'Armenia',\n",
       " 'Aruba',\n",
       " 'Ascension Island',\n",
       " 'Australia',\n",
       " 'Austria',\n",
       " 'Azerbaijan',\n",
       " 'Bahamas, The',\n",
       " 'Bahrain',\n",
       " 'Bangladesh',\n",
       " 'Barbados',\n",
       " 'Belarus',\n",
       " 'Belgium',\n",
       " 'Belize',\n",
       " 'Benin',\n",
       " 'Bermuda',\n",
       " 'Bhutan',\n",
       " 'Bolivia',\n",
       " 'Bosnia and Herzegovina',\n",
       " 'Botswana',\n",
       " 'Brazil',\n",
       " 'Brunei',\n",
       " 'Bulgaria',\n",
       " 'Burkina Faso',\n",
       " 'Burundi',\n",
       " 'Cambodia',\n",
       " 'Cameroon',\n",
       " 'Canada',\n",
       " 'Cape Verde',\n",
       " 'Cayman Islands',\n",
       " 'Central Africa Republic',\n",
       " 'Chad',\n",
       " 'Chile',\n",
       " 'China',\n",
       " 'Christmas Island',\n",
       " 'Cocos (Keeling) Islands',\n",
       " 'Colombia',\n",
       " 'Comoros',\n",
       " 'Congo',\n",
       " 'Cook Islands',\n",
       " 'Costa Rica',\n",
       " \"Cote d'lvoire\",\n",
       " 'Croatia',\n",
       " 'Cuba',\n",
       " 'Cyprus',\n",
       " 'Czech Republic',\n",
       " 'Denmark',\n",
       " 'Djibouti',\n",
       " 'Dominica',\n",
       " 'Dominican Republic',\n",
       " 'East Timor Ecuador',\n",
       " 'Egypt',\n",
       " 'El Salvador',\n",
       " 'Equatorial Guinea',\n",
       " 'Eritrea',\n",
       " 'Estonia',\n",
       " 'Ethiopia',\n",
       " 'Falkland Islands',\n",
       " 'Faroe Islands',\n",
       " 'Fiji',\n",
       " 'Finland',\n",
       " 'France',\n",
       " 'French Polynesia',\n",
       " 'Gabon',\n",
       " 'Cambia, The',\n",
       " 'Georgia',\n",
       " 'Germany',\n",
       " 'Ghana',\n",
       " 'Gibraltar',\n",
       " 'Greece',\n",
       " 'Greenland',\n",
       " 'Grenada',\n",
       " 'Guam',\n",
       " 'Guatemala',\n",
       " 'Guemsey',\n",
       " 'Guinea',\n",
       " 'Guinea-Bissau',\n",
       " 'Guyana',\n",
       " 'Haiti',\n",
       " 'Honduras',\n",
       " 'Hong Kong',\n",
       " 'Hungary',\n",
       " 'Iceland',\n",
       " 'India',\n",
       " 'Indonesia',\n",
       " 'Iran',\n",
       " 'Iraq',\n",
       " 'Ireland',\n",
       " 'Isle of Man',\n",
       " 'Israel',\n",
       " 'Italy',\n",
       " 'Jamaica',\n",
       " 'Japan',\n",
       " 'Jersey',\n",
       " 'Jordan',\n",
       " 'Kazakhstan',\n",
       " 'Kenya',\n",
       " 'Kiribati',\n",
       " 'Korea, N',\n",
       " 'Korea, S',\n",
       " 'Kosovo',\n",
       " 'Kuwait',\n",
       " 'Kyrgyzstan',\n",
       " 'Laos',\n",
       " 'Latvia',\n",
       " 'Lebanon',\n",
       " 'Lesotho',\n",
       " 'Liberia',\n",
       " 'Libya',\n",
       " 'Liechtenstein',\n",
       " 'Lithuania',\n",
       " 'Luxembourg',\n",
       " 'Macao',\n",
       " 'Macedonia',\n",
       " 'Madagascar',\n",
       " 'Malawi',\n",
       " 'Malaysia',\n",
       " 'Maldives',\n",
       " 'Mali',\n",
       " 'Malta',\n",
       " 'Marshall Islands',\n",
       " 'Mauritania',\n",
       " 'Mauritius',\n",
       " 'Mayotte',\n",
       " 'Mexico',\n",
       " 'Micronesia',\n",
       " 'Moldova',\n",
       " 'Monaco',\n",
       " 'Mongolia',\n",
       " 'Montenegro',\n",
       " 'Montserrat',\n",
       " 'Morocco',\n",
       " 'Mozambique',\n",
       " 'Myanmar',\n",
       " 'Nagorno-Karabakh',\n",
       " 'Namibia',\n",
       " 'Nauru',\n",
       " 'Nepal',\n",
       " 'Netherlands',\n",
       " 'Netherlands Antilles',\n",
       " 'New Caledonia',\n",
       " 'New Zealand',\n",
       " 'Nicaragua',\n",
       " 'Niger',\n",
       " 'Nigeria',\n",
       " 'Niue',\n",
       " 'Norfolk Island',\n",
       " 'Northern Cyprus',\n",
       " 'Northern Mariana Islands',\n",
       " 'Norway',\n",
       " 'Oman',\n",
       " 'Pakistan',\n",
       " 'Palau',\n",
       " 'Palestine',\n",
       " 'Panama',\n",
       " 'Papua New Guinea',\n",
       " 'Paraguay',\n",
       " 'Peru',\n",
       " 'Philippines',\n",
       " 'Pitcaim Islands',\n",
       " 'Poland',\n",
       " 'Portugal',\n",
       " 'Puerto Rico',\n",
       " 'Qatar',\n",
       " 'Romania',\n",
       " 'Russia',\n",
       " 'Rwanda',\n",
       " 'Sahrawi Arab Democratic Republic',\n",
       " 'Saint-Barthelemy',\n",
       " 'Saint Helena',\n",
       " 'Saint Kitts and Nevis',\n",
       " 'Saint Lucia',\n",
       " 'Saint Martin',\n",
       " 'Saint Pierre and Miquelon',\n",
       " 'Saint Vincent and Grenadines',\n",
       " 'Samos',\n",
       " 'San Marino',\n",
       " 'Sao Tome and Principe',\n",
       " 'Saudi Arabia',\n",
       " 'Senegal',\n",
       " 'Serbia',\n",
       " 'Seychelles',\n",
       " 'Sierra Leone',\n",
       " 'Singapore',\n",
       " 'Slovakia',\n",
       " 'Slovenia',\n",
       " 'Solomon Islands',\n",
       " 'Somalia',\n",
       " 'Somaliland',\n",
       " 'South Africa',\n",
       " 'South Ossetia',\n",
       " 'Spain',\n",
       " 'Sri Lanka',\n",
       " 'Sudan',\n",
       " 'Suriname',\n",
       " 'Svalbard',\n",
       " 'Swaziland',\n",
       " 'Sweden',\n",
       " 'Switzerland',\n",
       " 'Syria',\n",
       " 'Tajikistan',\n",
       " 'Tanzania',\n",
       " 'Thailand',\n",
       " 'Togo',\n",
       " 'Tokelau',\n",
       " 'Tonga',\n",
       " 'Transnistria',\n",
       " 'Trinidad and Tobago',\n",
       " 'Tristan da Cunha',\n",
       " 'Tunisia',\n",
       " 'Turkey',\n",
       " 'Turkmenistan',\n",
       " 'Turks and Caicos Islands',\n",
       " 'Tuvalu',\n",
       " 'Uganda',\n",
       " 'Ukraine',\n",
       " 'United Arab Emirates',\n",
       " 'United Kingdom',\n",
       " 'United States',\n",
       " 'Uruguay',\n",
       " 'Uzbekistan',\n",
       " 'Vanuatu',\n",
       " 'Vatican City',\n",
       " 'Venezuela',\n",
       " 'Vietnam',\n",
       " 'Virgin Islands, British',\n",
       " 'Virgin Islands, U.S.',\n",
       " 'Wallis and Futuna',\n",
       " 'Yemen',\n",
       " 'Zambia',\n",
       " 'Zimbabwe']"
      ]
     },
     "execution_count": 48,
     "metadata": {},
     "output_type": "execute_result"
    }
   ],
   "source": [
    "paises = cadena.split(\"\\n\")\n",
    "paises"
   ]
  },
  {
   "cell_type": "code",
   "execution_count": 47,
   "metadata": {
    "collapsed": false
   },
   "outputs": [
    {
     "data": {
      "text/plain": [
       "'Abkhazia'"
      ]
     },
     "execution_count": 47,
     "metadata": {},
     "output_type": "execute_result"
    }
   ],
   "source": [
    "paises[0]"
   ]
  },
  {
   "cell_type": "code",
   "execution_count": 49,
   "metadata": {
    "collapsed": false
   },
   "outputs": [
    {
     "data": {
      "text/plain": [
       "['Abkhazia', 'Afghanistan', 'Akrotiri and Dhekelia', 'Aland', 'Albania']"
      ]
     },
     "execution_count": 49,
     "metadata": {},
     "output_type": "execute_result"
    }
   ],
   "source": [
    "paises[:5]"
   ]
  },
  {
   "cell_type": "code",
   "execution_count": 50,
   "metadata": {
    "collapsed": false
   },
   "outputs": [
    {
     "data": {
      "text/plain": [
       "['1', '2', '3', '4', '5', '6']"
      ]
     },
     "execution_count": 50,
     "metadata": {},
     "output_type": "execute_result"
    }
   ],
   "source": [
    "# converting strings into lists\n",
    "cadena2='1,2,3,4,5,6'\n",
    "cadena2.split(',')"
   ]
  },
  {
   "cell_type": "code",
   "execution_count": 75,
   "metadata": {
    "collapsed": false
   },
   "outputs": [
    {
     "data": {
      "text/plain": [
       "array([43, 39, 17, 20, 63, 43, 15, 78, 26, 78])"
      ]
     },
     "execution_count": 75,
     "metadata": {},
     "output_type": "execute_result"
    }
   ],
   "source": [
    "random=np.random.randint(0,100,10)\n",
    "random"
   ]
  },
  {
   "cell_type": "code",
   "execution_count": 76,
   "metadata": {
    "collapsed": false
   },
   "outputs": [
    {
     "data": {
      "text/plain": [
       "242"
      ]
     },
     "execution_count": 76,
     "metadata": {},
     "output_type": "execute_result"
    }
   ],
   "source": [
    "len(paises)"
   ]
  },
  {
   "cell_type": "code",
   "execution_count": 77,
   "metadata": {
    "collapsed": false
   },
   "outputs": [
    {
     "data": {
      "text/plain": [
       "array([ 67, 215, 116, 166, 129, 230, 193, 141, 164,  29])"
      ]
     },
     "execution_count": 77,
     "metadata": {},
     "output_type": "execute_result"
    }
   ],
   "source": [
    "random=np.random.randint(0,242,10)\n",
    "random"
   ]
  },
  {
   "cell_type": "code",
   "execution_count": 78,
   "metadata": {
    "collapsed": false
   },
   "outputs": [
    {
     "data": {
      "text/html": [
       "<div>\n",
       "<table border=\"1\" class=\"dataframe\">\n",
       "  <thead>\n",
       "    <tr style=\"text-align: right;\">\n",
       "      <th></th>\n",
       "      <th>position</th>\n",
       "    </tr>\n",
       "  </thead>\n",
       "  <tbody>\n",
       "    <tr>\n",
       "      <th>0</th>\n",
       "      <td>67</td>\n",
       "    </tr>\n",
       "    <tr>\n",
       "      <th>1</th>\n",
       "      <td>215</td>\n",
       "    </tr>\n",
       "    <tr>\n",
       "      <th>2</th>\n",
       "      <td>116</td>\n",
       "    </tr>\n",
       "    <tr>\n",
       "      <th>3</th>\n",
       "      <td>166</td>\n",
       "    </tr>\n",
       "    <tr>\n",
       "      <th>4</th>\n",
       "      <td>129</td>\n",
       "    </tr>\n",
       "    <tr>\n",
       "      <th>5</th>\n",
       "      <td>230</td>\n",
       "    </tr>\n",
       "    <tr>\n",
       "      <th>6</th>\n",
       "      <td>193</td>\n",
       "    </tr>\n",
       "    <tr>\n",
       "      <th>7</th>\n",
       "      <td>141</td>\n",
       "    </tr>\n",
       "    <tr>\n",
       "      <th>8</th>\n",
       "      <td>164</td>\n",
       "    </tr>\n",
       "    <tr>\n",
       "      <th>9</th>\n",
       "      <td>29</td>\n",
       "    </tr>\n",
       "  </tbody>\n",
       "</table>\n",
       "</div>"
      ],
      "text/plain": [
       "   position\n",
       "0        67\n",
       "1       215\n",
       "2       116\n",
       "3       166\n",
       "4       129\n",
       "5       230\n",
       "6       193\n",
       "7       141\n",
       "8       164\n",
       "9        29"
      ]
     },
     "execution_count": 78,
     "metadata": {},
     "output_type": "execute_result"
    }
   ],
   "source": [
    "data = DataFrame({\"position\":random})\n",
    "data"
   ]
  },
  {
   "cell_type": "code",
   "execution_count": 79,
   "metadata": {
    "collapsed": false
   },
   "outputs": [
    {
     "data": {
      "text/plain": [
       "'Algeria'"
      ]
     },
     "execution_count": 79,
     "metadata": {},
     "output_type": "execute_result"
    }
   ],
   "source": [
    "def quepais(pos):\n",
    "    return paises[pos]\n",
    "quepais(5)"
   ]
  },
  {
   "cell_type": "code",
   "execution_count": 80,
   "metadata": {
    "collapsed": false
   },
   "outputs": [
    {
     "data": {
      "text/html": [
       "<div>\n",
       "<table border=\"1\" class=\"dataframe\">\n",
       "  <thead>\n",
       "    <tr style=\"text-align: right;\">\n",
       "      <th></th>\n",
       "      <th>position</th>\n",
       "    </tr>\n",
       "  </thead>\n",
       "  <tbody>\n",
       "    <tr>\n",
       "      <th>0</th>\n",
       "      <td>Ethiopia</td>\n",
       "    </tr>\n",
       "    <tr>\n",
       "      <th>1</th>\n",
       "      <td>Tokelau</td>\n",
       "    </tr>\n",
       "    <tr>\n",
       "      <th>2</th>\n",
       "      <td>Lebanon</td>\n",
       "    </tr>\n",
       "    <tr>\n",
       "      <th>3</th>\n",
       "      <td>Papua New Guinea</td>\n",
       "    </tr>\n",
       "    <tr>\n",
       "      <th>4</th>\n",
       "      <td>Mali</td>\n",
       "    </tr>\n",
       "    <tr>\n",
       "      <th>5</th>\n",
       "      <td>Uruguay</td>\n",
       "    </tr>\n",
       "    <tr>\n",
       "      <th>6</th>\n",
       "      <td>Sierra Leone</td>\n",
       "    </tr>\n",
       "    <tr>\n",
       "      <th>7</th>\n",
       "      <td>Montserrat</td>\n",
       "    </tr>\n",
       "    <tr>\n",
       "      <th>8</th>\n",
       "      <td>Palestine</td>\n",
       "    </tr>\n",
       "    <tr>\n",
       "      <th>9</th>\n",
       "      <td>Bosnia and Herzegovina</td>\n",
       "    </tr>\n",
       "  </tbody>\n",
       "</table>\n",
       "</div>"
      ],
      "text/plain": [
       "                 position\n",
       "0                Ethiopia\n",
       "1                 Tokelau\n",
       "2                 Lebanon\n",
       "3        Papua New Guinea\n",
       "4                    Mali\n",
       "5                 Uruguay\n",
       "6            Sierra Leone\n",
       "7              Montserrat\n",
       "8               Palestine\n",
       "9  Bosnia and Herzegovina"
      ]
     },
     "execution_count": 80,
     "metadata": {},
     "output_type": "execute_result"
    }
   ],
   "source": [
    "data.applymap(quepais)"
   ]
  },
  {
   "cell_type": "code",
   "execution_count": 81,
   "metadata": {
    "collapsed": false
   },
   "outputs": [
    {
     "data": {
      "text/plain": [
       "0                  Ethiopia\n",
       "1                   Tokelau\n",
       "2                   Lebanon\n",
       "3          Papua New Guinea\n",
       "4                      Mali\n",
       "5                   Uruguay\n",
       "6              Sierra Leone\n",
       "7                Montserrat\n",
       "8                 Palestine\n",
       "9    Bosnia and Herzegovina\n",
       "Name: position, dtype: object"
      ]
     },
     "execution_count": 81,
     "metadata": {},
     "output_type": "execute_result"
    }
   ],
   "source": [
    "newdata = data.applymap(quepais)\n",
    "newdata['position']"
   ]
  },
  {
   "cell_type": "code",
   "execution_count": 82,
   "metadata": {
    "collapsed": false
   },
   "outputs": [
    {
     "data": {
      "text/html": [
       "<div>\n",
       "<table border=\"1\" class=\"dataframe\">\n",
       "  <thead>\n",
       "    <tr style=\"text-align: right;\">\n",
       "      <th></th>\n",
       "      <th>position</th>\n",
       "      <th>pais</th>\n",
       "    </tr>\n",
       "  </thead>\n",
       "  <tbody>\n",
       "    <tr>\n",
       "      <th>0</th>\n",
       "      <td>67</td>\n",
       "      <td>Ethiopia</td>\n",
       "    </tr>\n",
       "    <tr>\n",
       "      <th>1</th>\n",
       "      <td>215</td>\n",
       "      <td>Tokelau</td>\n",
       "    </tr>\n",
       "    <tr>\n",
       "      <th>2</th>\n",
       "      <td>116</td>\n",
       "      <td>Lebanon</td>\n",
       "    </tr>\n",
       "    <tr>\n",
       "      <th>3</th>\n",
       "      <td>166</td>\n",
       "      <td>Papua New Guinea</td>\n",
       "    </tr>\n",
       "    <tr>\n",
       "      <th>4</th>\n",
       "      <td>129</td>\n",
       "      <td>Mali</td>\n",
       "    </tr>\n",
       "    <tr>\n",
       "      <th>5</th>\n",
       "      <td>230</td>\n",
       "      <td>Uruguay</td>\n",
       "    </tr>\n",
       "    <tr>\n",
       "      <th>6</th>\n",
       "      <td>193</td>\n",
       "      <td>Sierra Leone</td>\n",
       "    </tr>\n",
       "    <tr>\n",
       "      <th>7</th>\n",
       "      <td>141</td>\n",
       "      <td>Montserrat</td>\n",
       "    </tr>\n",
       "    <tr>\n",
       "      <th>8</th>\n",
       "      <td>164</td>\n",
       "      <td>Palestine</td>\n",
       "    </tr>\n",
       "    <tr>\n",
       "      <th>9</th>\n",
       "      <td>29</td>\n",
       "      <td>Bosnia and Herzegovina</td>\n",
       "    </tr>\n",
       "  </tbody>\n",
       "</table>\n",
       "</div>"
      ],
      "text/plain": [
       "   position                    pais\n",
       "0        67                Ethiopia\n",
       "1       215                 Tokelau\n",
       "2       116                 Lebanon\n",
       "3       166        Papua New Guinea\n",
       "4       129                    Mali\n",
       "5       230                 Uruguay\n",
       "6       193            Sierra Leone\n",
       "7       141              Montserrat\n",
       "8       164               Palestine\n",
       "9        29  Bosnia and Herzegovina"
      ]
     },
     "execution_count": 82,
     "metadata": {},
     "output_type": "execute_result"
    }
   ],
   "source": [
    "data[\"pais\"]=newdata\n",
    "# or data[\"pais\"] = newdata[\"position\"]\n",
    "data"
   ]
  },
  {
   "cell_type": "markdown",
   "metadata": {},
   "source": [
    "### graphs"
   ]
  },
  {
   "cell_type": "code",
   "execution_count": 6,
   "metadata": {
    "collapsed": false
   },
   "outputs": [
    {
     "data": {
      "text/plain": [
       "[<matplotlib.lines.Line2D at 0x7f99856a3a10>]"
      ]
     },
     "execution_count": 6,
     "metadata": {},
     "output_type": "execute_result"
    },
    {
     "data": {
      "image/png": "[encoded data removed]",
      "text/plain": [
       "<matplotlib.figure.Figure at 0x7f9988279b90>"
      ]
     },
     "metadata": {},
     "output_type": "display_data"
    }
   ],
   "source": [
    "x=[1,2,3,4]\n",
    "y=[3.5,6.6,3.13415926,5]\n",
    "plt.plot(x,y,label=\"Lineal\")"
   ]
  },
  {
   "cell_type": "code",
   "execution_count": 5,
   "metadata": {
    "collapsed": false
   },
   "outputs": [],
   "source": [
    "# I want graphs inside notebook\n",
    "%matplotlib inline"
   ]
  },
  {
   "cell_type": "code",
   "execution_count": 87,
   "metadata": {
    "collapsed": false
   },
   "outputs": [
    {
     "data": {
      "text/plain": [
       "[<matplotlib.lines.Line2D at 0x7fe9b7a4d410>]"
      ]
     },
     "execution_count": 87,
     "metadata": {},
     "output_type": "execute_result"
    },
    {
     "data": {
      "image/png": "[encoded data removed]",
      "text/plain": [
       "<matplotlib.figure.Figure at 0x7fe9b84d8c90>"
      ]
     },
     "metadata": {},
     "output_type": "display_data"
    }
   ],
   "source": [
    "plt.plot(x,y,label=\"Lineal\")"
   ]
  },
  {
   "cell_type": "code",
   "execution_count": 7,
   "metadata": {
    "collapsed": false
   },
   "outputs": [
    {
     "data": {
      "text/plain": [
       "[<matplotlib.lines.Line2D at 0x7f99856e4050>]"
      ]
     },
     "execution_count": 7,
     "metadata": {},
     "output_type": "execute_result"
    },
    {
     "data": {
      "image/png": "[encoded data removed]",
      "text/plain": [
       "<matplotlib.figure.Figure at 0x7f99856e4290>"
      ]
     },
     "metadata": {},
     "output_type": "display_data"
    }
   ],
   "source": [
    "x2=[1,2,3,4]\n",
    "y2=[1,2,3,4]\n",
    "plt.plot(x ,y, label=\"Lineal\")\n",
    "plt.plot(x2,y2,label=\"Lineal\")"
   ]
  },
  {
   "cell_type": "code",
   "execution_count": 8,
   "metadata": {
    "collapsed": false
   },
   "outputs": [
    {
     "data": {
      "text/plain": [
       "<matplotlib.legend.Legend at 0x7f9984f3bc50>"
      ]
     },
     "execution_count": 8,
     "metadata": {},
     "output_type": "execute_result"
    },
    {
     "data": {
      "image/png": "[encoded data removed]",
      "text/plain": [
       "<matplotlib.figure.Figure at 0x7f9985638c50>"
      ]
     },
     "metadata": {},
     "output_type": "display_data"
    }
   ],
   "source": [
    "plt.title('Mi primera grafica')\n",
    "plt.xlabel('indice')\n",
    "plt.ylabel('valores')\n",
    "plt.plot(x ,y, label=\"Linea1\")\n",
    "plt.plot(x2,y2,label=\"Linea2\")\n",
    "plt.legend(loc='best',frameon=False)"
   ]
  },
  {
   "cell_type": "code",
   "execution_count": 103,
   "metadata": {
    "collapsed": false
   },
   "outputs": [
    {
     "data": {
      "text/plain": [
       "[<matplotlib.lines.Line2D at 0x7fe9b739e490>]"
      ]
     },
     "execution_count": 103,
     "metadata": {},
     "output_type": "execute_result"
    },
    {
     "data": {
      "image/png": "[encoded data removed]",
      "text/plain": [
       "<matplotlib.figure.Figure at 0x7fe9b72868d0>"
      ]
     },
     "metadata": {},
     "output_type": "display_data"
    }
   ],
   "source": [
    "plt.plot(x,y,\"r--\",label=\"Linea1\")"
   ]
  },
  {
   "cell_type": "code",
   "execution_count": 104,
   "metadata": {
    "collapsed": false
   },
   "outputs": [
    {
     "data": {
      "text/plain": [
       "([<matplotlib.patches.Wedge at 0x7fe9b76f0150>,\n",
       "  <matplotlib.patches.Wedge at 0x7fe9b78a16d0>,\n",
       "  <matplotlib.patches.Wedge at 0x7fe9b7f74990>],\n",
       " [<matplotlib.text.Text at 0x7fe9b76f0d10>,\n",
       "  <matplotlib.text.Text at 0x7fe9b77a2dd0>,\n",
       "  <matplotlib.text.Text at 0x7fe9b70f0cd0>])"
      ]
     },
     "execution_count": 104,
     "metadata": {},
     "output_type": "execute_result"
    },
    {
     "data": {
      "image/png": "[encoded data removed]",
      "text/plain": [
       "<matplotlib.figure.Figure at 0x7fe9b750b350>"
      ]
     },
     "metadata": {},
     "output_type": "display_data"
    }
   ],
   "source": [
    "labels = [\"field1\", \"field2\",\"field3\"]\n",
    "valores = [1,2,3]\n",
    "plt.pie(valores,labels=labels)"
   ]
  },
  {
   "cell_type": "code",
   "execution_count": 108,
   "metadata": {
    "collapsed": false
   },
   "outputs": [
    {
     "data": {
      "text/plain": [
       "<Container object of 3 artists>"
      ]
     },
     "execution_count": 108,
     "metadata": {},
     "output_type": "execute_result"
    },
    {
     "data": {
      "image/png": "[encoded data removed]",
      "text/plain": [
       "<matplotlib.figure.Figure at 0x7fe9b6ec6dd0>"
      ]
     },
     "metadata": {},
     "output_type": "display_data"
    }
   ],
   "source": [
    "plt.bar([0,1,2],valores)"
   ]
  },
  {
   "cell_type": "code",
   "execution_count": 110,
   "metadata": {
    "collapsed": false
   },
   "outputs": [
    {
     "data": {
      "text/plain": [
       "[<matplotlib.lines.Line2D at 0x7fe9b6ceaf50>]"
      ]
     },
     "execution_count": 110,
     "metadata": {},
     "output_type": "execute_result"
    },
    {
     "data": {
      "image/png": "[encoded data removed]",
      "text/plain": [
       "<matplotlib.figure.Figure at 0x7fe9b6f2e450>"
      ]
     },
     "metadata": {},
     "output_type": "display_data"
    }
   ],
   "source": [
    "seriex=Series(x)\n",
    "seriey=Series(y)\n",
    "plt.plot(seriex,seriex)"
   ]
  },
  {
   "cell_type": "code",
   "execution_count": 112,
   "metadata": {
    "collapsed": false
   },
   "outputs": [
    {
     "data": {
      "text/html": [
       "<div>\n",
       "<table border=\"1\" class=\"dataframe\">\n",
       "  <thead>\n",
       "    <tr style=\"text-align: right;\">\n",
       "      <th></th>\n",
       "      <th>posicion</th>\n",
       "      <th>valor</th>\n",
       "    </tr>\n",
       "  </thead>\n",
       "  <tbody>\n",
       "    <tr>\n",
       "      <th>0</th>\n",
       "      <td>1</td>\n",
       "      <td>3.500000</td>\n",
       "    </tr>\n",
       "    <tr>\n",
       "      <th>1</th>\n",
       "      <td>2</td>\n",
       "      <td>6.600000</td>\n",
       "    </tr>\n",
       "    <tr>\n",
       "      <th>2</th>\n",
       "      <td>3</td>\n",
       "      <td>3.134159</td>\n",
       "    </tr>\n",
       "    <tr>\n",
       "      <th>3</th>\n",
       "      <td>4</td>\n",
       "      <td>5.000000</td>\n",
       "    </tr>\n",
       "  </tbody>\n",
       "</table>\n",
       "</div>"
      ],
      "text/plain": [
       "   posicion     valor\n",
       "0         1  3.500000\n",
       "1         2  6.600000\n",
       "2         3  3.134159\n",
       "3         4  5.000000"
      ]
     },
     "execution_count": 112,
     "metadata": {},
     "output_type": "execute_result"
    }
   ],
   "source": [
    "data=DataFrame({\"posicion\":seriex,\"valor\":seriey})\n",
    "data"
   ]
  },
  {
   "cell_type": "code",
   "execution_count": 114,
   "metadata": {
    "collapsed": false
   },
   "outputs": [
    {
     "data": {
      "text/plain": [
       "[<matplotlib.lines.Line2D at 0x7fe9b6c7e9d0>]"
      ]
     },
     "execution_count": 114,
     "metadata": {},
     "output_type": "execute_result"
    },
    {
     "data": {
      "image/png": "[encoded data removed]",
      "text/plain": [
       "<matplotlib.figure.Figure at 0x7fe9b6f08e10>"
      ]
     },
     "metadata": {},
     "output_type": "display_data"
    }
   ],
   "source": [
    "plt.plot(data[\"posicion\"],data[\"valor\"])"
   ]
  },
  {
   "cell_type": "code",
   "execution_count": null,
   "metadata": {
    "collapsed": true
   },
   "outputs": [],
   "source": []
  }
 ],
 "metadata": {
  "kernelspec": {
   "display_name": "Python 2",
   "language": "python",
   "name": "python2"
  },
  "language_info": {
   "codemirror_mode": {
    "name": "ipython",
    "version": 2
   },
   "file_extension": ".py",
   "mimetype": "text/x-python",
   "name": "python",
   "nbconvert_exporter": "python",
   "pygments_lexer": "ipython2",
   "version": "2.7.10"
  }
 },
 "nbformat": 4,
 "nbformat_minor": 0
}
