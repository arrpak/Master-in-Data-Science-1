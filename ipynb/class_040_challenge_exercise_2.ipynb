{
 "cells": [
  {
   "cell_type": "code",
   "execution_count": 1,
   "metadata": {
    "collapsed": true
   },
   "outputs": [],
   "source": [
    "import numpy as np\n",
    "import pandas as pd\n",
    "from pandas import Series,DataFrame"
   ]
  },
  {
   "cell_type": "code",
   "execution_count": 2,
   "metadata": {
    "collapsed": false
   },
   "outputs": [
    {
     "name": "stdout",
     "output_type": "stream",
     "text": [
      "total 1013892\r\n",
      "-rwxr-xr-x. 1 dsc vboxsf 554970628 Dec 31  2015 bookings.csv.bz2\r\n",
      "-rw-r--r--. 1 dsc vboxsf     42505 Dec 30 01:34 mini_bookings.csv\r\n",
      "-rwxr-xr-x. 1 dsc vboxsf 483188920 Dec 31  2015 searches.csv.bz2\r\n",
      "-rw-r--r--. 1 dsc vboxsf        72 Dec 30 01:54 solution_challenge_exercise_02.ipynb\r\n",
      "-rw-r--r--. 1 dsc vboxsf      2367 Dec 30 01:32 Untitled.ipynb\r\n"
     ]
    }
   ],
   "source": [
    "!ls -l\n"
   ]
  },
  {
   "cell_type": "code",
   "execution_count": 3,
   "metadata": {
    "collapsed": true
   },
   "outputs": [],
   "source": [
    "import bz2"
   ]
  },
  {
   "cell_type": "code",
   "execution_count": 76,
   "metadata": {
    "collapsed": true
   },
   "outputs": [],
   "source": [
    "df1 = pd.read_csv('bookings.csv.bz2', sep='^', nrows=100000)"
   ]
  },
  {
   "cell_type": "code",
   "execution_count": 77,
   "metadata": {
    "collapsed": false
   },
   "outputs": [],
   "source": [
    "gb1 =df1.groupby('arr_port')"
   ]
  },
  {
   "cell_type": "code",
   "execution_count": 78,
   "metadata": {
    "collapsed": false
   },
   "outputs": [
    {
     "data": {
      "text/plain": [
       "arr_port\n",
       "AAE          2\n",
       "AAL         16\n",
       "AAQ          5\n",
       "AAR          4\n",
       "ABE         16\n",
       "Name: pax, dtype: int64"
      ]
     },
     "execution_count": 78,
     "metadata": {},
     "output_type": "execute_result"
    }
   ],
   "source": [
    "s1 = gb1['pax'].sum()\n",
    "s1.head()"
   ]
  },
  {
   "cell_type": "code",
   "execution_count": 90,
   "metadata": {
    "collapsed": false
   },
   "outputs": [
    {
     "data": {
      "text/html": [
       "<div>\n",
       "<table border=\"1\" class=\"dataframe\">\n",
       "  <thead>\n",
       "    <tr style=\"text-align: right;\">\n",
       "      <th></th>\n",
       "      <th>arr_port</th>\n",
       "      <th>pax</th>\n",
       "    </tr>\n",
       "  </thead>\n",
       "  <tbody>\n",
       "    <tr>\n",
       "      <th>733</th>\n",
       "      <td>LHR</td>\n",
       "      <td>1006</td>\n",
       "    </tr>\n",
       "    <tr>\n",
       "      <th>798</th>\n",
       "      <td>MCO</td>\n",
       "      <td>861</td>\n",
       "    </tr>\n",
       "    <tr>\n",
       "      <th>620</th>\n",
       "      <td>JFK</td>\n",
       "      <td>795</td>\n",
       "    </tr>\n",
       "    <tr>\n",
       "      <th>706</th>\n",
       "      <td>LAX</td>\n",
       "      <td>761</td>\n",
       "    </tr>\n",
       "    <tr>\n",
       "      <th>156</th>\n",
       "      <td>BKK</td>\n",
       "      <td>747</td>\n",
       "    </tr>\n",
       "    <tr>\n",
       "      <th>704</th>\n",
       "      <td>LAS</td>\n",
       "      <td>732</td>\n",
       "    </tr>\n",
       "    <tr>\n",
       "      <th>1159</th>\n",
       "      <td>SFO</td>\n",
       "      <td>705</td>\n",
       "    </tr>\n",
       "    <tr>\n",
       "      <th>957</th>\n",
       "      <td>ORD</td>\n",
       "      <td>686</td>\n",
       "    </tr>\n",
       "    <tr>\n",
       "      <th>232</th>\n",
       "      <td>CDG</td>\n",
       "      <td>676</td>\n",
       "    </tr>\n",
       "    <tr>\n",
       "      <th>366</th>\n",
       "      <td>DXB</td>\n",
       "      <td>587</td>\n",
       "    </tr>\n",
       "  </tbody>\n",
       "</table>\n",
       "</div>"
      ],
      "text/plain": [
       "      arr_port   pax\n",
       "733   LHR       1006\n",
       "798   MCO        861\n",
       "620   JFK        795\n",
       "706   LAX        761\n",
       "156   BKK        747\n",
       "704   LAS        732\n",
       "1159  SFO        705\n",
       "957   ORD        686\n",
       "232   CDG        676\n",
       "366   DXB        587"
      ]
     },
     "execution_count": 90,
     "metadata": {},
     "output_type": "execute_result"
    }
   ],
   "source": [
    "# I create a DataFreme\n",
    "sol1 = s1.reset_index()\n",
    "sol1.sort('pax', ascending=False).head(10)"
   ]
  },
  {
   "cell_type": "code",
   "execution_count": 80,
   "metadata": {
    "collapsed": true
   },
   "outputs": [],
   "source": [
    "df2 = pd.read_csv('bookings.csv.bz2', sep='^', usecols=['arr_port','pax'])"
   ]
  },
  {
   "cell_type": "code",
   "execution_count": 81,
   "metadata": {
    "collapsed": false
   },
   "outputs": [
    {
     "data": {
      "text/plain": [
       "10000010"
      ]
     },
     "execution_count": 81,
     "metadata": {},
     "output_type": "execute_result"
    }
   ],
   "source": [
    "len(df2)"
   ]
  },
  {
   "cell_type": "code",
   "execution_count": 83,
   "metadata": {
    "collapsed": false
   },
   "outputs": [],
   "source": [
    "gr2 = df2.groupby('arr_port')"
   ]
  },
  {
   "cell_type": "code",
   "execution_count": 167,
   "metadata": {
    "collapsed": false
   },
   "outputs": [
    {
     "data": {
      "text/html": [
       "<div>\n",
       "<table border=\"1\" class=\"dataframe\">\n",
       "  <thead>\n",
       "    <tr style=\"text-align: right;\">\n",
       "      <th></th>\n",
       "      <th>pax</th>\n",
       "    </tr>\n",
       "    <tr>\n",
       "      <th>arr_port</th>\n",
       "      <th></th>\n",
       "    </tr>\n",
       "  </thead>\n",
       "  <tbody>\n",
       "    <tr>\n",
       "      <th>LHR</th>\n",
       "      <td>88809</td>\n",
       "    </tr>\n",
       "    <tr>\n",
       "      <th>MCO</th>\n",
       "      <td>70930</td>\n",
       "    </tr>\n",
       "    <tr>\n",
       "      <th>LAX</th>\n",
       "      <td>70530</td>\n",
       "    </tr>\n",
       "    <tr>\n",
       "      <th>LAS</th>\n",
       "      <td>69630</td>\n",
       "    </tr>\n",
       "    <tr>\n",
       "      <th>JFK</th>\n",
       "      <td>66270</td>\n",
       "    </tr>\n",
       "    <tr>\n",
       "      <th>CDG</th>\n",
       "      <td>64490</td>\n",
       "    </tr>\n",
       "    <tr>\n",
       "      <th>BKK</th>\n",
       "      <td>59460</td>\n",
       "    </tr>\n",
       "    <tr>\n",
       "      <th>MIA</th>\n",
       "      <td>58150</td>\n",
       "    </tr>\n",
       "    <tr>\n",
       "      <th>SFO</th>\n",
       "      <td>58000</td>\n",
       "    </tr>\n",
       "    <tr>\n",
       "      <th>DXB</th>\n",
       "      <td>55590</td>\n",
       "    </tr>\n",
       "  </tbody>\n",
       "</table>\n",
       "</div>"
      ],
      "text/plain": [
       "            pax\n",
       "arr_port       \n",
       "LHR       88809\n",
       "MCO       70930\n",
       "LAX       70530\n",
       "LAS       69630\n",
       "JFK       66270\n",
       "CDG       64490\n",
       "BKK       59460\n",
       "MIA       58150\n",
       "SFO       58000\n",
       "DXB       55590"
      ]
     },
     "execution_count": 167,
     "metadata": {},
     "output_type": "execute_result"
    }
   ],
   "source": [
    "sol2 = gr2['pax'].sum()\n",
    "sol2 = DataFrame(sol2).sort('pax',ascending=False).head(10)\n",
    "# Mirar ignore_index\n",
    "sol2.head(10)"
   ]
  },
  {
   "cell_type": "code",
   "execution_count": 138,
   "metadata": {
    "collapsed": true
   },
   "outputs": [],
   "source": [
    "h"
   ]
  },
  {
   "cell_type": "code",
   "execution_count": 139,
   "metadata": {
    "collapsed": true
   },
   "outputs": [],
   "source": [
    "g = GeoBase(data='ori_por', verbose=False)"
   ]
  },
  {
   "cell_type": "code",
   "execution_count": 140,
   "metadata": {
    "collapsed": false
   },
   "outputs": [
    {
     "name": "stdout",
     "output_type": "stream",
     "text": [
      "Madrid\n",
      "Madrid\n",
      "Madrid / Barajas\n"
     ]
    }
   ],
   "source": [
    "print g.get('MAD')['city_name_ascii']\n",
    "print g.get('MAD')['city_name_utf']\n",
    "print g.get('MAD')['name']"
   ]
  },
  {
   "cell_type": "code",
   "execution_count": 147,
   "metadata": {
    "collapsed": false
   },
   "outputs": [
    {
     "data": {
      "text/plain": [
       "['London Heathrow Airport',\n",
       " 'Orlando International Airport',\n",
       " 'Los Angeles International Airport',\n",
       " 'Mc Carran International Airport',\n",
       " 'John F Kennedy International Airport',\n",
       " 'Paris - Charles-de-Gaulle',\n",
       " 'Suvarnabhumi',\n",
       " 'Miami International Airport',\n",
       " 'San Francisco International Airport',\n",
       " 'Dubai International Airport']"
      ]
     },
     "execution_count": 147,
     "metadata": {},
     "output_type": "execute_result"
    }
   ],
   "source": [
    "names = []\n",
    "for port in sol2['arr_port']:\n",
    "    names.append(g.get(port.strip())['name'])\n",
    "names"
   ]
  },
  {
   "cell_type": "code",
   "execution_count": 148,
   "metadata": {
    "collapsed": false
   },
   "outputs": [
    {
     "data": {
      "text/plain": [
       "1088           London\n",
       "1190          Orlando\n",
       "1050      Los Angeles\n",
       "1047        Las Vegas\n",
       "886     New York City\n",
       "315             Paris\n",
       "216           Bangkok\n",
       "1228            Miami\n",
       "1719    San Francisco\n",
       "517             Dubai\n",
       "Name: arr_port, dtype: object"
      ]
     },
     "execution_count": 148,
     "metadata": {},
     "output_type": "execute_result"
    }
   ],
   "source": [
    "sol2.arr_port.apply(lambda a: g.get(a.strip())['city_name_ascii'])"
   ]
  },
  {
   "cell_type": "code",
   "execution_count": 149,
   "metadata": {
    "collapsed": false
   },
   "outputs": [
    {
     "data": {
      "text/plain": [
       "1088          United Kingdom\n",
       "1190           United States\n",
       "1050           United States\n",
       "1047           United States\n",
       "886            United States\n",
       "315                   France\n",
       "216                 Thailand\n",
       "1228           United States\n",
       "1719           United States\n",
       "517     United Arab Emirates\n",
       "Name: arr_port, dtype: object"
      ]
     },
     "execution_count": 149,
     "metadata": {},
     "output_type": "execute_result"
    }
   ],
   "source": [
    "sol2.arr_port.map(lambda a: g.get(a.strip())['country_name'])"
   ]
  },
  {
   "cell_type": "code",
   "execution_count": 153,
   "metadata": {
    "collapsed": true
   },
   "outputs": [],
   "source": [
    "def getName(aeropuerto):\n",
    "    return g.get(aeropuerto.strip())['country_name']"
   ]
  },
  {
   "cell_type": "code",
   "execution_count": 156,
   "metadata": {
    "collapsed": false
   },
   "outputs": [
    {
     "data": {
      "text/plain": [
       "1088          United Kingdom\n",
       "1190           United States\n",
       "1050           United States\n",
       "1047           United States\n",
       "886            United States\n",
       "315                   France\n",
       "216                 Thailand\n",
       "1228           United States\n",
       "1719           United States\n",
       "517     United Arab Emirates\n",
       "Name: arr_port, dtype: object"
      ]
     },
     "execution_count": 156,
     "metadata": {},
     "output_type": "execute_result"
    }
   ],
   "source": [
    "sol2['arr_port'].apply(getName)"
   ]
  },
  {
   "cell_type": "code",
   "execution_count": 157,
   "metadata": {
    "collapsed": false
   },
   "outputs": [
    {
     "data": {
      "text/plain": [
       "1088          United Kingdom\n",
       "1190           United States\n",
       "1050           United States\n",
       "1047           United States\n",
       "886            United States\n",
       "315                   France\n",
       "216                 Thailand\n",
       "1228           United States\n",
       "1719           United States\n",
       "517     United Arab Emirates\n",
       "Name: arr_port, dtype: object"
      ]
     },
     "execution_count": 157,
     "metadata": {},
     "output_type": "execute_result"
    }
   ],
   "source": [
    "sol2.arr_port.apply(getName)"
   ]
  },
  {
   "cell_type": "code",
   "execution_count": 160,
   "metadata": {
    "collapsed": false
   },
   "outputs": [
    {
     "data": {
      "text/html": [
       "<div>\n",
       "<table border=\"1\" class=\"dataframe\">\n",
       "  <thead>\n",
       "    <tr style=\"text-align: right;\">\n",
       "      <th></th>\n",
       "      <th>arr_port</th>\n",
       "      <th>pax</th>\n",
       "      <th>name</th>\n",
       "    </tr>\n",
       "  </thead>\n",
       "  <tbody>\n",
       "    <tr>\n",
       "      <th>1088</th>\n",
       "      <td>LHR</td>\n",
       "      <td>88809</td>\n",
       "      <td>London Heathrow Airport</td>\n",
       "    </tr>\n",
       "    <tr>\n",
       "      <th>1190</th>\n",
       "      <td>MCO</td>\n",
       "      <td>70930</td>\n",
       "      <td>Orlando International Airport</td>\n",
       "    </tr>\n",
       "    <tr>\n",
       "      <th>1050</th>\n",
       "      <td>LAX</td>\n",
       "      <td>70530</td>\n",
       "      <td>Los Angeles International Airport</td>\n",
       "    </tr>\n",
       "    <tr>\n",
       "      <th>1047</th>\n",
       "      <td>LAS</td>\n",
       "      <td>69630</td>\n",
       "      <td>Mc Carran International Airport</td>\n",
       "    </tr>\n",
       "    <tr>\n",
       "      <th>886</th>\n",
       "      <td>JFK</td>\n",
       "      <td>66270</td>\n",
       "      <td>John F Kennedy International Airport</td>\n",
       "    </tr>\n",
       "    <tr>\n",
       "      <th>315</th>\n",
       "      <td>CDG</td>\n",
       "      <td>64490</td>\n",
       "      <td>Paris - Charles-de-Gaulle</td>\n",
       "    </tr>\n",
       "    <tr>\n",
       "      <th>216</th>\n",
       "      <td>BKK</td>\n",
       "      <td>59460</td>\n",
       "      <td>Suvarnabhumi</td>\n",
       "    </tr>\n",
       "    <tr>\n",
       "      <th>1228</th>\n",
       "      <td>MIA</td>\n",
       "      <td>58150</td>\n",
       "      <td>Miami International Airport</td>\n",
       "    </tr>\n",
       "    <tr>\n",
       "      <th>1719</th>\n",
       "      <td>SFO</td>\n",
       "      <td>58000</td>\n",
       "      <td>San Francisco International Airport</td>\n",
       "    </tr>\n",
       "    <tr>\n",
       "      <th>517</th>\n",
       "      <td>DXB</td>\n",
       "      <td>55590</td>\n",
       "      <td>Dubai International Airport</td>\n",
       "    </tr>\n",
       "  </tbody>\n",
       "</table>\n",
       "</div>"
      ],
      "text/plain": [
       "      arr_port    pax                                  name\n",
       "1088  LHR       88809               London Heathrow Airport\n",
       "1190  MCO       70930         Orlando International Airport\n",
       "1050  LAX       70530     Los Angeles International Airport\n",
       "1047  LAS       69630       Mc Carran International Airport\n",
       "886   JFK       66270  John F Kennedy International Airport\n",
       "315   CDG       64490             Paris - Charles-de-Gaulle\n",
       "216   BKK       59460                          Suvarnabhumi\n",
       "1228  MIA       58150           Miami International Airport\n",
       "1719  SFO       58000   San Francisco International Airport\n",
       "517   DXB       55590           Dubai International Airport"
      ]
     },
     "execution_count": 160,
     "metadata": {},
     "output_type": "execute_result"
    }
   ],
   "source": [
    "sol2['name']=names\n",
    "sol2"
   ]
  },
  {
   "cell_type": "code",
   "execution_count": null,
   "metadata": {
    "collapsed": true
   },
   "outputs": [],
   "source": []
  }
 ],
 "metadata": {
  "kernelspec": {
   "display_name": "Python 2",
   "language": "python",
   "name": "python2"
  },
  "language_info": {
   "codemirror_mode": {
    "name": "ipython",
    "version": 2
   },
   "file_extension": ".py",
   "mimetype": "text/x-python",
   "name": "python",
   "nbconvert_exporter": "python",
   "pygments_lexer": "ipython2",
   "version": "2.7.10"
  }
 },
 "nbformat": 4,
 "nbformat_minor": 0
}
