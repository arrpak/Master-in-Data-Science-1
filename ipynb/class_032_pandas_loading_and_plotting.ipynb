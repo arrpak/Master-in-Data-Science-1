{
 "cells": [
  {
   "cell_type": "code",
   "execution_count": 1,
   "metadata": {
    "collapsed": true
   },
   "outputs": [],
   "source": [
    "import numpy as np\n",
    "import pandas as pd\n",
    "from pandas import DataFrame,Series\n",
    "import matplotlib.pyplot as plt\n",
    "%matplotlib inline"
   ]
  },
  {
   "cell_type": "code",
   "execution_count": 2,
   "metadata": {
    "collapsed": false
   },
   "outputs": [
    {
     "name": "stderr",
     "output_type": "stream",
     "text": [
      "/usr/lib64/python2.7/site-packages/pandas/io/parsers.py:1170: DtypeWarning: Columns (77,84,85) have mixed types. Specify dtype option on import or set low_memory=False.\n",
      "  data = self._reader.read(nrows)\n"
     ]
    }
   ],
   "source": [
    "df = pd.read_csv(\"On_Time_On_Time_Performance_2015_1.csv\")"
   ]
  },
  {
   "cell_type": "code",
   "execution_count": 4,
   "metadata": {
    "collapsed": false
   },
   "outputs": [
    {
     "data": {
      "text/html": [
       "<div>\n",
       "<table border=\"1\" class=\"dataframe\">\n",
       "  <thead>\n",
       "    <tr style=\"text-align: right;\">\n",
       "      <th></th>\n",
       "      <th>Year</th>\n",
       "      <th>Quarter</th>\n",
       "      <th>Month</th>\n",
       "      <th>DayofMonth</th>\n",
       "      <th>DayOfWeek</th>\n",
       "      <th>FlightDate</th>\n",
       "      <th>UniqueCarrier</th>\n",
       "      <th>AirlineID</th>\n",
       "      <th>Carrier</th>\n",
       "      <th>TailNum</th>\n",
       "      <th>...</th>\n",
       "      <th>Div4TailNum</th>\n",
       "      <th>Div5Airport</th>\n",
       "      <th>Div5AirportID</th>\n",
       "      <th>Div5AirportSeqID</th>\n",
       "      <th>Div5WheelsOn</th>\n",
       "      <th>Div5TotalGTime</th>\n",
       "      <th>Div5LongestGTime</th>\n",
       "      <th>Div5WheelsOff</th>\n",
       "      <th>Div5TailNum</th>\n",
       "      <th>Unnamed: 109</th>\n",
       "    </tr>\n",
       "  </thead>\n",
       "  <tbody>\n",
       "    <tr>\n",
       "      <th>14743</th>\n",
       "      <td>2015</td>\n",
       "      <td>1</td>\n",
       "      <td>1</td>\n",
       "      <td>9</td>\n",
       "      <td>5</td>\n",
       "      <td>2015-01-09</td>\n",
       "      <td>AA</td>\n",
       "      <td>19805</td>\n",
       "      <td>AA</td>\n",
       "      <td>N850AA</td>\n",
       "      <td>...</td>\n",
       "      <td>NaN</td>\n",
       "      <td>NaN</td>\n",
       "      <td>NaN</td>\n",
       "      <td>NaN</td>\n",
       "      <td>NaN</td>\n",
       "      <td>NaN</td>\n",
       "      <td>NaN</td>\n",
       "      <td>NaN</td>\n",
       "      <td>NaN</td>\n",
       "      <td>NaN</td>\n",
       "    </tr>\n",
       "  </tbody>\n",
       "</table>\n",
       "<p>1 rows × 110 columns</p>\n",
       "</div>"
      ],
      "text/plain": [
       "       Year  Quarter  Month  DayofMonth  DayOfWeek  FlightDate UniqueCarrier  \\\n",
       "14743  2015        1      1           9          5  2015-01-09            AA   \n",
       "\n",
       "       AirlineID Carrier TailNum      ...       Div4TailNum  Div5Airport  \\\n",
       "14743      19805      AA  N850AA      ...               NaN          NaN   \n",
       "\n",
       "       Div5AirportID  Div5AirportSeqID Div5WheelsOn Div5TotalGTime  \\\n",
       "14743            NaN               NaN          NaN            NaN   \n",
       "\n",
       "      Div5LongestGTime  Div5WheelsOff Div5TailNum  Unnamed: 109  \n",
       "14743              NaN            NaN         NaN           NaN  \n",
       "\n",
       "[1 rows x 110 columns]"
      ]
     },
     "execution_count": 4,
     "metadata": {},
     "output_type": "execute_result"
    }
   ],
   "source": [
    "df.sample()"
   ]
  },
  {
   "cell_type": "code",
   "execution_count": 5,
   "metadata": {
    "collapsed": false
   },
   "outputs": [
    {
     "data": {
      "text/plain": [
       "Year                  469968\n",
       "Quarter               469968\n",
       "Month                 469968\n",
       "DayofMonth            469968\n",
       "DayOfWeek             469968\n",
       "FlightDate            469968\n",
       "UniqueCarrier         469968\n",
       "AirlineID             469968\n",
       "Carrier               469968\n",
       "TailNum               467186\n",
       "FlightNum             469968\n",
       "OriginAirportID       469968\n",
       "OriginAirportSeqID    469968\n",
       "OriginCityMarketID    469968\n",
       "Origin                469968\n",
       "OriginCityName        469968\n",
       "OriginState           469968\n",
       "OriginStateFips       469968\n",
       "OriginStateName       469968\n",
       "OriginWac             469968\n",
       "DestAirportID         469968\n",
       "DestAirportSeqID      469968\n",
       "DestCityMarketID      469968\n",
       "Dest                  469968\n",
       "DestCityName          469968\n",
       "DestState             469968\n",
       "DestStateFips         469968\n",
       "DestStateName         469968\n",
       "DestWac               469968\n",
       "CRSDepTime            469968\n",
       "                       ...  \n",
       "Div2WheelsOn              27\n",
       "Div2TotalGTime            27\n",
       "Div2LongestGTime          27\n",
       "Div2WheelsOff              9\n",
       "Div2TailNum                9\n",
       "Div3Airport                2\n",
       "Div3AirportID              2\n",
       "Div3AirportSeqID           2\n",
       "Div3WheelsOn               2\n",
       "Div3TotalGTime             2\n",
       "Div3LongestGTime           2\n",
       "Div3WheelsOff              0\n",
       "Div3TailNum                0\n",
       "Div4Airport                0\n",
       "Div4AirportID              0\n",
       "Div4AirportSeqID           0\n",
       "Div4WheelsOn               0\n",
       "Div4TotalGTime             0\n",
       "Div4LongestGTime           0\n",
       "Div4WheelsOff              0\n",
       "Div4TailNum                0\n",
       "Div5Airport                0\n",
       "Div5AirportID              0\n",
       "Div5AirportSeqID           0\n",
       "Div5WheelsOn               0\n",
       "Div5TotalGTime             0\n",
       "Div5LongestGTime           0\n",
       "Div5WheelsOff              0\n",
       "Div5TailNum                0\n",
       "Unnamed: 109               0\n",
       "dtype: int64"
      ]
     },
     "execution_count": 5,
     "metadata": {},
     "output_type": "execute_result"
    }
   ],
   "source": [
    "df.count()"
   ]
  },
  {
   "cell_type": "code",
   "execution_count": 6,
   "metadata": {
    "collapsed": false
   },
   "outputs": [
    {
     "data": {
      "image/png": "[encoded data removed]",
      "text/plain": [
       "<matplotlib.figure.Figure at 0x7f8bb1822f90>"
      ]
     },
     "metadata": {},
     "output_type": "display_data"
    }
   ],
   "source": [
    "locx=range(len(df.columns))\n",
    "plt.bar(locx,df.count())\n",
    "plt.show()"
   ]
  },
  {
   "cell_type": "code",
   "execution_count": 7,
   "metadata": {
    "collapsed": false
   },
   "outputs": [
    {
     "data": {
      "text/plain": [
       "3"
      ]
     },
     "execution_count": 7,
     "metadata": {},
     "output_type": "execute_result"
    }
   ],
   "source": [
    "#similar with Series to Dataframes\n",
    "s1= Series([1,2,3,4])\n",
    "s1[2]"
   ]
  },
  {
   "cell_type": "code",
   "execution_count": 8,
   "metadata": {
    "collapsed": false
   },
   "outputs": [
    {
     "data": {
      "text/plain": [
       "0    1\n",
       "2    3\n",
       "3    4\n",
       "dtype: int64"
      ]
     },
     "execution_count": 8,
     "metadata": {},
     "output_type": "execute_result"
    }
   ],
   "source": [
    "s1[[True,False,True,True]]"
   ]
  },
  {
   "cell_type": "code",
   "execution_count": 9,
   "metadata": {
    "collapsed": false
   },
   "outputs": [],
   "source": [
    "columncount = df.count()\n",
    "falselist = [False for x in range(len(columncount))]"
   ]
  },
  {
   "cell_type": "code",
   "execution_count": 10,
   "metadata": {
    "collapsed": false
   },
   "outputs": [
    {
     "data": {
      "text/plain": [
       "Year                   True\n",
       "Quarter                True\n",
       "Month                  True\n",
       "DayofMonth             True\n",
       "DayOfWeek              True\n",
       "FlightDate             True\n",
       "UniqueCarrier          True\n",
       "AirlineID              True\n",
       "Carrier                True\n",
       "TailNum                True\n",
       "FlightNum              True\n",
       "OriginAirportID        True\n",
       "OriginAirportSeqID     True\n",
       "OriginCityMarketID     True\n",
       "Origin                 True\n",
       "OriginCityName         True\n",
       "OriginState            True\n",
       "OriginStateFips        True\n",
       "OriginStateName        True\n",
       "OriginWac              True\n",
       "DestAirportID          True\n",
       "DestAirportSeqID       True\n",
       "DestCityMarketID       True\n",
       "Dest                   True\n",
       "DestCityName           True\n",
       "DestState              True\n",
       "DestStateFips          True\n",
       "DestStateName          True\n",
       "DestWac                True\n",
       "CRSDepTime             True\n",
       "                      ...  \n",
       "Div2WheelsOn          False\n",
       "Div2TotalGTime        False\n",
       "Div2LongestGTime      False\n",
       "Div2WheelsOff         False\n",
       "Div2TailNum           False\n",
       "Div3Airport           False\n",
       "Div3AirportID         False\n",
       "Div3AirportSeqID      False\n",
       "Div3WheelsOn          False\n",
       "Div3TotalGTime        False\n",
       "Div3LongestGTime      False\n",
       "Div3WheelsOff         False\n",
       "Div3TailNum           False\n",
       "Div4Airport           False\n",
       "Div4AirportID         False\n",
       "Div4AirportSeqID      False\n",
       "Div4WheelsOn          False\n",
       "Div4TotalGTime        False\n",
       "Div4LongestGTime      False\n",
       "Div4WheelsOff         False\n",
       "Div4TailNum           False\n",
       "Div5Airport           False\n",
       "Div5AirportID         False\n",
       "Div5AirportSeqID      False\n",
       "Div5WheelsOn          False\n",
       "Div5TotalGTime        False\n",
       "Div5LongestGTime      False\n",
       "Div5WheelsOff         False\n",
       "Div5TailNum           False\n",
       "Unnamed: 109          False\n",
       "dtype: bool"
      ]
     },
     "execution_count": 10,
     "metadata": {},
     "output_type": "execute_result"
    }
   ],
   "source": [
    "columncount > 1000"
   ]
  },
  {
   "cell_type": "code",
   "execution_count": 11,
   "metadata": {
    "collapsed": false
   },
   "outputs": [],
   "source": [
    "goodcolumncount = columncount[columncount >1000]"
   ]
  },
  {
   "cell_type": "code",
   "execution_count": 12,
   "metadata": {
    "collapsed": false
   },
   "outputs": [
    {
     "data": {
      "image/png": "[encoded data removed]",
      "text/plain": [
       "<matplotlib.figure.Figure at 0x7f8bb0e98550>"
      ]
     },
     "metadata": {},
     "output_type": "display_data"
    }
   ],
   "source": [
    "locx=range(len(goodcolumncount))\n",
    "plt.bar(locx,goodcolumncount)\n",
    "plt.show()"
   ]
  },
  {
   "cell_type": "code",
   "execution_count": 13,
   "metadata": {
    "collapsed": false
   },
   "outputs": [
    {
     "data": {
      "text/plain": [
       "71"
      ]
     },
     "execution_count": 13,
     "metadata": {},
     "output_type": "execute_result"
    }
   ],
   "source": [
    "# reducing columns of DataFrame\n",
    "df = df[goodcolumncount.index]\n",
    "len(df.columns)"
   ]
  },
  {
   "cell_type": "code",
   "execution_count": 14,
   "metadata": {
    "collapsed": false
   },
   "outputs": [
    {
     "data": {
      "text/plain": [
       "array([False, False, False, False, False, False, False, False, False,\n",
       "       False, False,  True,  True,  True,  True,  True,  True,  True,\n",
       "        True,  True, False, False, False, False, False, False, False,\n",
       "       False, False, False, False, False, False, False, False, False,\n",
       "       False, False, False, False, False, False, False, False, False,\n",
       "       False, False, False, False, False, False, False, False, False,\n",
       "       False, False, False, False, False, False, False, False, False,\n",
       "       False, False, False, False, False, False, False, False], dtype=bool)"
      ]
     },
     "execution_count": 14,
     "metadata": {},
     "output_type": "execute_result"
    }
   ],
   "source": [
    "# Output is a Seie\n",
    "df.columns.str.contains('Origin')"
   ]
  },
  {
   "cell_type": "code",
   "execution_count": 15,
   "metadata": {
    "collapsed": false
   },
   "outputs": [
    {
     "data": {
      "text/plain": [
       "Index([u'OriginAirportID', u'OriginAirportSeqID', u'OriginCityMarketID',\n",
       "       u'Origin', u'OriginCityName', u'OriginState', u'OriginStateFips',\n",
       "       u'OriginStateName', u'OriginWac'],\n",
       "      dtype='object')"
      ]
     },
     "execution_count": 15,
     "metadata": {},
     "output_type": "execute_result"
    }
   ],
   "source": [
    "# Deleting redundant columns\n",
    "df.columns[df.columns.str.contains('Origin')]"
   ]
  },
  {
   "cell_type": "code",
   "execution_count": 16,
   "metadata": {
    "collapsed": false
   },
   "outputs": [
    {
     "data": {
      "text/plain": [
       "271990         San Jose, CA\n",
       "158664          Houston, TX\n",
       "71523      White Plains, NY\n",
       "167513           Dallas, TX\n",
       "124871    San Francisco, CA\n",
       "Name: OriginCityName, dtype: object"
      ]
     },
     "execution_count": 16,
     "metadata": {},
     "output_type": "execute_result"
    }
   ],
   "source": [
    "df['OriginCityName'].sample(5)"
   ]
  },
  {
   "cell_type": "code",
   "execution_count": 17,
   "metadata": {
    "collapsed": false
   },
   "outputs": [
    {
     "data": {
      "text/plain": [
       "Index([u'DepDelay', u'DepDelayMinutes', u'DepartureDelayGroups', u'ArrDelay',\n",
       "       u'ArrDelayMinutes', u'ArrivalDelayGroups', u'CarrierDelay',\n",
       "       u'WeatherDelay', u'NASDelay', u'SecurityDelay', u'LateAircraftDelay'],\n",
       "      dtype='object')"
      ]
     },
     "execution_count": 17,
     "metadata": {},
     "output_type": "execute_result"
    }
   ],
   "source": [
    "df.columns[df.columns.str.contains('Delay')]"
   ]
  },
  {
   "cell_type": "code",
   "execution_count": 18,
   "metadata": {
    "collapsed": false
   },
   "outputs": [
    {
     "data": {
      "text/plain": [
       "Index([u'DestAirportID', u'DestAirportSeqID', u'DestCityMarketID', u'Dest',\n",
       "       u'DestCityName', u'DestState', u'DestStateFips', u'DestStateName',\n",
       "       u'DestWac'],\n",
       "      dtype='object')"
      ]
     },
     "execution_count": 18,
     "metadata": {},
     "output_type": "execute_result"
    }
   ],
   "source": [
    "df.columns[df.columns.str.contains('Dest')]"
   ]
  },
  {
   "cell_type": "code",
   "execution_count": 19,
   "metadata": {
    "collapsed": true
   },
   "outputs": [],
   "source": [
    "# creating indexes\n",
    "i1=pd.Index([0,1,2,])\n",
    "i2=pd.Index([1,2,3])"
   ]
  },
  {
   "cell_type": "code",
   "execution_count": 20,
   "metadata": {
    "collapsed": false
   },
   "outputs": [
    {
     "data": {
      "text/plain": [
       "Int64Index([1, 2], dtype='int64')"
      ]
     },
     "execution_count": 20,
     "metadata": {},
     "output_type": "execute_result"
    }
   ],
   "source": [
    "i1 & i2"
   ]
  },
  {
   "cell_type": "code",
   "execution_count": 21,
   "metadata": {
    "collapsed": false
   },
   "outputs": [
    {
     "data": {
      "text/plain": [
       "Int64Index([0, 1, 2, 3], dtype='int64')"
      ]
     },
     "execution_count": 21,
     "metadata": {},
     "output_type": "execute_result"
    }
   ],
   "source": [
    "i1 | i2"
   ]
  },
  {
   "cell_type": "code",
   "execution_count": 22,
   "metadata": {
    "collapsed": false
   },
   "outputs": [],
   "source": [
    "origincolumn = df.columns[df.columns.str.contains('Origin')]\n",
    "destcolumn = df.columns[df.columns.str.contains('Dest')]"
   ]
  },
  {
   "cell_type": "code",
   "execution_count": 23,
   "metadata": {
    "collapsed": false
   },
   "outputs": [
    {
     "data": {
      "text/plain": [
       "Index([u'Dest', u'DestAirportID', u'DestAirportSeqID', u'DestCityMarketID',\n",
       "       u'DestCityName', u'DestState', u'DestStateFips', u'DestStateName',\n",
       "       u'DestWac', u'Origin', u'OriginAirportID', u'OriginAirportSeqID',\n",
       "       u'OriginCityMarketID', u'OriginCityName', u'OriginState',\n",
       "       u'OriginStateFips', u'OriginStateName', u'OriginWac'],\n",
       "      dtype='object')"
      ]
     },
     "execution_count": 23,
     "metadata": {},
     "output_type": "execute_result"
    }
   ],
   "source": [
    "origincolumn | destcolumn"
   ]
  },
  {
   "cell_type": "code",
   "execution_count": 24,
   "metadata": {
    "collapsed": false
   },
   "outputs": [
    {
     "data": {
      "text/plain": [
       "Index([u'Diverted', u'DivAirportLandings', u'Div1Airport', u'Div1AirportID',\n",
       "       u'Div1AirportSeqID', u'Div1WheelsOn', u'Div1TotalGTime',\n",
       "       u'Div1LongestGTime'],\n",
       "      dtype='object')"
      ]
     },
     "execution_count": 24,
     "metadata": {},
     "output_type": "execute_result"
    }
   ],
   "source": [
    "# dropping columns\n",
    "df.columns[df.columns.str.contains('Div')]"
   ]
  },
  {
   "cell_type": "code",
   "execution_count": 25,
   "metadata": {
    "collapsed": false
   },
   "outputs": [
    {
     "data": {
      "text/plain": [
       "71"
      ]
     },
     "execution_count": 25,
     "metadata": {},
     "output_type": "execute_result"
    }
   ],
   "source": [
    "len(df.columns)"
   ]
  },
  {
   "cell_type": "code",
   "execution_count": 26,
   "metadata": {
    "collapsed": false
   },
   "outputs": [
    {
     "data": {
      "text/html": [
       "<div>\n",
       "<table border=\"1\" class=\"dataframe\">\n",
       "  <thead>\n",
       "    <tr style=\"text-align: right;\">\n",
       "      <th></th>\n",
       "      <th>Year</th>\n",
       "      <th>Quarter</th>\n",
       "      <th>Month</th>\n",
       "      <th>DayofMonth</th>\n",
       "      <th>DayOfWeek</th>\n",
       "      <th>FlightDate</th>\n",
       "      <th>UniqueCarrier</th>\n",
       "      <th>AirlineID</th>\n",
       "      <th>Carrier</th>\n",
       "      <th>TailNum</th>\n",
       "      <th>...</th>\n",
       "      <th>Distance</th>\n",
       "      <th>DistanceGroup</th>\n",
       "      <th>CarrierDelay</th>\n",
       "      <th>WeatherDelay</th>\n",
       "      <th>NASDelay</th>\n",
       "      <th>SecurityDelay</th>\n",
       "      <th>LateAircraftDelay</th>\n",
       "      <th>FirstDepTime</th>\n",
       "      <th>TotalAddGTime</th>\n",
       "      <th>LongestAddGTime</th>\n",
       "    </tr>\n",
       "  </thead>\n",
       "  <tbody>\n",
       "    <tr>\n",
       "      <th>106340</th>\n",
       "      <td>2015</td>\n",
       "      <td>1</td>\n",
       "      <td>1</td>\n",
       "      <td>16</td>\n",
       "      <td>5</td>\n",
       "      <td>2015-01-16</td>\n",
       "      <td>DL</td>\n",
       "      <td>19790</td>\n",
       "      <td>DL</td>\n",
       "      <td>N826DN</td>\n",
       "      <td>...</td>\n",
       "      <td>594</td>\n",
       "      <td>3</td>\n",
       "      <td>NaN</td>\n",
       "      <td>NaN</td>\n",
       "      <td>NaN</td>\n",
       "      <td>NaN</td>\n",
       "      <td>NaN</td>\n",
       "      <td>NaN</td>\n",
       "      <td>NaN</td>\n",
       "      <td>NaN</td>\n",
       "    </tr>\n",
       "    <tr>\n",
       "      <th>271781</th>\n",
       "      <td>2015</td>\n",
       "      <td>1</td>\n",
       "      <td>1</td>\n",
       "      <td>1</td>\n",
       "      <td>4</td>\n",
       "      <td>2015-01-01</td>\n",
       "      <td>OO</td>\n",
       "      <td>20304</td>\n",
       "      <td>OO</td>\n",
       "      <td>N813SK</td>\n",
       "      <td>...</td>\n",
       "      <td>697</td>\n",
       "      <td>3</td>\n",
       "      <td>NaN</td>\n",
       "      <td>NaN</td>\n",
       "      <td>NaN</td>\n",
       "      <td>NaN</td>\n",
       "      <td>NaN</td>\n",
       "      <td>NaN</td>\n",
       "      <td>NaN</td>\n",
       "      <td>NaN</td>\n",
       "    </tr>\n",
       "    <tr>\n",
       "      <th>260200</th>\n",
       "      <td>2015</td>\n",
       "      <td>1</td>\n",
       "      <td>1</td>\n",
       "      <td>8</td>\n",
       "      <td>4</td>\n",
       "      <td>2015-01-08</td>\n",
       "      <td>OO</td>\n",
       "      <td>20304</td>\n",
       "      <td>OO</td>\n",
       "      <td>N187PQ</td>\n",
       "      <td>...</td>\n",
       "      <td>236</td>\n",
       "      <td>1</td>\n",
       "      <td>NaN</td>\n",
       "      <td>NaN</td>\n",
       "      <td>NaN</td>\n",
       "      <td>NaN</td>\n",
       "      <td>NaN</td>\n",
       "      <td>NaN</td>\n",
       "      <td>NaN</td>\n",
       "      <td>NaN</td>\n",
       "    </tr>\n",
       "    <tr>\n",
       "      <th>333992</th>\n",
       "      <td>2015</td>\n",
       "      <td>1</td>\n",
       "      <td>1</td>\n",
       "      <td>5</td>\n",
       "      <td>1</td>\n",
       "      <td>2015-01-05</td>\n",
       "      <td>US</td>\n",
       "      <td>20355</td>\n",
       "      <td>US</td>\n",
       "      <td>N655AW</td>\n",
       "      <td>...</td>\n",
       "      <td>1671</td>\n",
       "      <td>7</td>\n",
       "      <td>NaN</td>\n",
       "      <td>NaN</td>\n",
       "      <td>NaN</td>\n",
       "      <td>NaN</td>\n",
       "      <td>NaN</td>\n",
       "      <td>NaN</td>\n",
       "      <td>NaN</td>\n",
       "      <td>NaN</td>\n",
       "    </tr>\n",
       "    <tr>\n",
       "      <th>376151</th>\n",
       "      <td>2015</td>\n",
       "      <td>1</td>\n",
       "      <td>1</td>\n",
       "      <td>2</td>\n",
       "      <td>5</td>\n",
       "      <td>2015-01-02</td>\n",
       "      <td>EV</td>\n",
       "      <td>20366</td>\n",
       "      <td>EV</td>\n",
       "      <td>N14977</td>\n",
       "      <td>...</td>\n",
       "      <td>295</td>\n",
       "      <td>2</td>\n",
       "      <td>NaN</td>\n",
       "      <td>NaN</td>\n",
       "      <td>NaN</td>\n",
       "      <td>NaN</td>\n",
       "      <td>NaN</td>\n",
       "      <td>NaN</td>\n",
       "      <td>NaN</td>\n",
       "      <td>NaN</td>\n",
       "    </tr>\n",
       "  </tbody>\n",
       "</table>\n",
       "<p>5 rows × 63 columns</p>\n",
       "</div>"
      ],
      "text/plain": [
       "        Year  Quarter  Month  DayofMonth  DayOfWeek  FlightDate UniqueCarrier  \\\n",
       "106340  2015        1      1          16          5  2015-01-16            DL   \n",
       "271781  2015        1      1           1          4  2015-01-01            OO   \n",
       "260200  2015        1      1           8          4  2015-01-08            OO   \n",
       "333992  2015        1      1           5          1  2015-01-05            US   \n",
       "376151  2015        1      1           2          5  2015-01-02            EV   \n",
       "\n",
       "        AirlineID Carrier TailNum       ...         Distance  DistanceGroup  \\\n",
       "106340      19790      DL  N826DN       ...              594              3   \n",
       "271781      20304      OO  N813SK       ...              697              3   \n",
       "260200      20304      OO  N187PQ       ...              236              1   \n",
       "333992      20355      US  N655AW       ...             1671              7   \n",
       "376151      20366      EV  N14977       ...              295              2   \n",
       "\n",
       "        CarrierDelay  WeatherDelay NASDelay SecurityDelay LateAircraftDelay  \\\n",
       "106340           NaN           NaN      NaN           NaN               NaN   \n",
       "271781           NaN           NaN      NaN           NaN               NaN   \n",
       "260200           NaN           NaN      NaN           NaN               NaN   \n",
       "333992           NaN           NaN      NaN           NaN               NaN   \n",
       "376151           NaN           NaN      NaN           NaN               NaN   \n",
       "\n",
       "        FirstDepTime TotalAddGTime  LongestAddGTime  \n",
       "106340           NaN           NaN              NaN  \n",
       "271781           NaN           NaN              NaN  \n",
       "260200           NaN           NaN              NaN  \n",
       "333992           NaN           NaN              NaN  \n",
       "376151           NaN           NaN              NaN  \n",
       "\n",
       "[5 rows x 63 columns]"
      ]
     },
     "execution_count": 26,
     "metadata": {},
     "output_type": "execute_result"
    }
   ],
   "source": [
    "# drop funtion dors not modify dataframe\n",
    "df = df.drop(df.columns[df.columns.str.contains('Div')],axis=1)\n",
    "df.sample(5)"
   ]
  },
  {
   "cell_type": "code",
   "execution_count": 27,
   "metadata": {
    "collapsed": false
   },
   "outputs": [
    {
     "data": {
      "text/html": [
       "<div>\n",
       "<table border=\"1\" class=\"dataframe\">\n",
       "  <thead>\n",
       "    <tr style=\"text-align: right;\">\n",
       "      <th></th>\n",
       "      <th>Year</th>\n",
       "      <th>Quarter</th>\n",
       "      <th>Month</th>\n",
       "      <th>DayofMonth</th>\n",
       "      <th>DayOfWeek</th>\n",
       "      <th>FlightDate</th>\n",
       "      <th>UniqueCarrier</th>\n",
       "      <th>AirlineID</th>\n",
       "      <th>Carrier</th>\n",
       "      <th>TailNum</th>\n",
       "      <th>...</th>\n",
       "      <th>Distance</th>\n",
       "      <th>DistanceGroup</th>\n",
       "      <th>CarrierDelay</th>\n",
       "      <th>WeatherDelay</th>\n",
       "      <th>NASDelay</th>\n",
       "      <th>SecurityDelay</th>\n",
       "      <th>LateAircraftDelay</th>\n",
       "      <th>FirstDepTime</th>\n",
       "      <th>TotalAddGTime</th>\n",
       "      <th>LongestAddGTime</th>\n",
       "    </tr>\n",
       "  </thead>\n",
       "  <tbody>\n",
       "    <tr>\n",
       "      <th>311831</th>\n",
       "      <td>2015</td>\n",
       "      <td>1</td>\n",
       "      <td>1</td>\n",
       "      <td>17</td>\n",
       "      <td>6</td>\n",
       "      <td>2015-01-17</td>\n",
       "      <td>UA</td>\n",
       "      <td>19977</td>\n",
       "      <td>UA</td>\n",
       "      <td>N464UA</td>\n",
       "      <td>...</td>\n",
       "      <td>2065</td>\n",
       "      <td>9</td>\n",
       "      <td>0</td>\n",
       "      <td>0</td>\n",
       "      <td>0</td>\n",
       "      <td>0</td>\n",
       "      <td>0</td>\n",
       "      <td>0</td>\n",
       "      <td>0</td>\n",
       "      <td>0</td>\n",
       "    </tr>\n",
       "    <tr>\n",
       "      <th>272417</th>\n",
       "      <td>2015</td>\n",
       "      <td>1</td>\n",
       "      <td>1</td>\n",
       "      <td>9</td>\n",
       "      <td>5</td>\n",
       "      <td>2015-01-09</td>\n",
       "      <td>OO</td>\n",
       "      <td>20304</td>\n",
       "      <td>OO</td>\n",
       "      <td>N794SK</td>\n",
       "      <td>...</td>\n",
       "      <td>912</td>\n",
       "      <td>4</td>\n",
       "      <td>0</td>\n",
       "      <td>0</td>\n",
       "      <td>0</td>\n",
       "      <td>0</td>\n",
       "      <td>0</td>\n",
       "      <td>0</td>\n",
       "      <td>0</td>\n",
       "      <td>0</td>\n",
       "    </tr>\n",
       "    <tr>\n",
       "      <th>388369</th>\n",
       "      <td>2015</td>\n",
       "      <td>1</td>\n",
       "      <td>1</td>\n",
       "      <td>30</td>\n",
       "      <td>5</td>\n",
       "      <td>2015-01-30</td>\n",
       "      <td>EV</td>\n",
       "      <td>20366</td>\n",
       "      <td>EV</td>\n",
       "      <td>N14568</td>\n",
       "      <td>...</td>\n",
       "      <td>489</td>\n",
       "      <td>2</td>\n",
       "      <td>0</td>\n",
       "      <td>0</td>\n",
       "      <td>0</td>\n",
       "      <td>0</td>\n",
       "      <td>0</td>\n",
       "      <td>0</td>\n",
       "      <td>0</td>\n",
       "      <td>0</td>\n",
       "    </tr>\n",
       "    <tr>\n",
       "      <th>329911</th>\n",
       "      <td>2015</td>\n",
       "      <td>1</td>\n",
       "      <td>1</td>\n",
       "      <td>2</td>\n",
       "      <td>5</td>\n",
       "      <td>2015-01-02</td>\n",
       "      <td>US</td>\n",
       "      <td>20355</td>\n",
       "      <td>US</td>\n",
       "      <td>N644AW</td>\n",
       "      <td>...</td>\n",
       "      <td>130</td>\n",
       "      <td>1</td>\n",
       "      <td>0</td>\n",
       "      <td>0</td>\n",
       "      <td>0</td>\n",
       "      <td>0</td>\n",
       "      <td>0</td>\n",
       "      <td>0</td>\n",
       "      <td>0</td>\n",
       "      <td>0</td>\n",
       "    </tr>\n",
       "    <tr>\n",
       "      <th>253534</th>\n",
       "      <td>2015</td>\n",
       "      <td>1</td>\n",
       "      <td>1</td>\n",
       "      <td>16</td>\n",
       "      <td>5</td>\n",
       "      <td>2015-01-16</td>\n",
       "      <td>OO</td>\n",
       "      <td>20304</td>\n",
       "      <td>OO</td>\n",
       "      <td>N564SW</td>\n",
       "      <td>...</td>\n",
       "      <td>132</td>\n",
       "      <td>1</td>\n",
       "      <td>0</td>\n",
       "      <td>0</td>\n",
       "      <td>0</td>\n",
       "      <td>0</td>\n",
       "      <td>0</td>\n",
       "      <td>0</td>\n",
       "      <td>0</td>\n",
       "      <td>0</td>\n",
       "    </tr>\n",
       "  </tbody>\n",
       "</table>\n",
       "<p>5 rows × 63 columns</p>\n",
       "</div>"
      ],
      "text/plain": [
       "        Year  Quarter  Month  DayofMonth  DayOfWeek  FlightDate UniqueCarrier  \\\n",
       "311831  2015        1      1          17          6  2015-01-17            UA   \n",
       "272417  2015        1      1           9          5  2015-01-09            OO   \n",
       "388369  2015        1      1          30          5  2015-01-30            EV   \n",
       "329911  2015        1      1           2          5  2015-01-02            US   \n",
       "253534  2015        1      1          16          5  2015-01-16            OO   \n",
       "\n",
       "        AirlineID Carrier TailNum       ...         Distance  DistanceGroup  \\\n",
       "311831      19977      UA  N464UA       ...             2065              9   \n",
       "272417      20304      OO  N794SK       ...              912              4   \n",
       "388369      20366      EV  N14568       ...              489              2   \n",
       "329911      20355      US  N644AW       ...              130              1   \n",
       "253534      20304      OO  N564SW       ...              132              1   \n",
       "\n",
       "        CarrierDelay  WeatherDelay NASDelay SecurityDelay LateAircraftDelay  \\\n",
       "311831             0             0        0             0                 0   \n",
       "272417             0             0        0             0                 0   \n",
       "388369             0             0        0             0                 0   \n",
       "329911             0             0        0             0                 0   \n",
       "253534             0             0        0             0                 0   \n",
       "\n",
       "        FirstDepTime TotalAddGTime  LongestAddGTime  \n",
       "311831             0             0                0  \n",
       "272417             0             0                0  \n",
       "388369             0             0                0  \n",
       "329911             0             0                0  \n",
       "253534             0             0                0  \n",
       "\n",
       "[5 rows x 63 columns]"
      ]
     },
     "execution_count": 27,
     "metadata": {},
     "output_type": "execute_result"
    }
   ],
   "source": [
    "df.fillna(0).sample(5)"
   ]
  },
  {
   "cell_type": "code",
   "execution_count": 28,
   "metadata": {
    "collapsed": false
   },
   "outputs": [
    {
     "data": {
      "text/html": [
       "<div>\n",
       "<table border=\"1\" class=\"dataframe\">\n",
       "  <thead>\n",
       "    <tr style=\"text-align: right;\">\n",
       "      <th></th>\n",
       "      <th>Year</th>\n",
       "      <th>Quarter</th>\n",
       "      <th>Month</th>\n",
       "      <th>DayofMonth</th>\n",
       "      <th>DayOfWeek</th>\n",
       "      <th>FlightDate</th>\n",
       "      <th>UniqueCarrier</th>\n",
       "      <th>AirlineID</th>\n",
       "      <th>Carrier</th>\n",
       "      <th>TailNum</th>\n",
       "      <th>...</th>\n",
       "      <th>DistanceGroup</th>\n",
       "      <th>CarrierDelay</th>\n",
       "      <th>WeatherDelay</th>\n",
       "      <th>NASDelay</th>\n",
       "      <th>SecurityDelay</th>\n",
       "      <th>LateAircraftDelay</th>\n",
       "      <th>FirstDepTime</th>\n",
       "      <th>TotalAddGTime</th>\n",
       "      <th>LongestAddGTime</th>\n",
       "      <th>NewDay</th>\n",
       "    </tr>\n",
       "  </thead>\n",
       "  <tbody>\n",
       "    <tr>\n",
       "      <th>15231</th>\n",
       "      <td>2015</td>\n",
       "      <td>1</td>\n",
       "      <td>1</td>\n",
       "      <td>28</td>\n",
       "      <td>3</td>\n",
       "      <td>2015-01-28</td>\n",
       "      <td>AA</td>\n",
       "      <td>19805</td>\n",
       "      <td>AA</td>\n",
       "      <td>N3ELAA</td>\n",
       "      <td>...</td>\n",
       "      <td>1</td>\n",
       "      <td>NaN</td>\n",
       "      <td>NaN</td>\n",
       "      <td>NaN</td>\n",
       "      <td>NaN</td>\n",
       "      <td>NaN</td>\n",
       "      <td>NaN</td>\n",
       "      <td>NaN</td>\n",
       "      <td>NaN</td>\n",
       "      <td>3</td>\n",
       "    </tr>\n",
       "    <tr>\n",
       "      <th>66529</th>\n",
       "      <td>2015</td>\n",
       "      <td>1</td>\n",
       "      <td>1</td>\n",
       "      <td>8</td>\n",
       "      <td>4</td>\n",
       "      <td>2015-01-08</td>\n",
       "      <td>B6</td>\n",
       "      <td>20409</td>\n",
       "      <td>B6</td>\n",
       "      <td>N206JB</td>\n",
       "      <td>...</td>\n",
       "      <td>5</td>\n",
       "      <td>NaN</td>\n",
       "      <td>NaN</td>\n",
       "      <td>NaN</td>\n",
       "      <td>NaN</td>\n",
       "      <td>NaN</td>\n",
       "      <td>NaN</td>\n",
       "      <td>NaN</td>\n",
       "      <td>NaN</td>\n",
       "      <td>4</td>\n",
       "    </tr>\n",
       "    <tr>\n",
       "      <th>232512</th>\n",
       "      <td>2015</td>\n",
       "      <td>1</td>\n",
       "      <td>1</td>\n",
       "      <td>30</td>\n",
       "      <td>5</td>\n",
       "      <td>2015-01-30</td>\n",
       "      <td>WN</td>\n",
       "      <td>19393</td>\n",
       "      <td>WN</td>\n",
       "      <td>N7707C</td>\n",
       "      <td>...</td>\n",
       "      <td>2</td>\n",
       "      <td>0</td>\n",
       "      <td>0</td>\n",
       "      <td>89</td>\n",
       "      <td>0</td>\n",
       "      <td>0</td>\n",
       "      <td>NaN</td>\n",
       "      <td>NaN</td>\n",
       "      <td>NaN</td>\n",
       "      <td>5</td>\n",
       "    </tr>\n",
       "    <tr>\n",
       "      <th>34373</th>\n",
       "      <td>2015</td>\n",
       "      <td>1</td>\n",
       "      <td>1</td>\n",
       "      <td>26</td>\n",
       "      <td>1</td>\n",
       "      <td>2015-01-26</td>\n",
       "      <td>AA</td>\n",
       "      <td>19805</td>\n",
       "      <td>AA</td>\n",
       "      <td>N466AA</td>\n",
       "      <td>...</td>\n",
       "      <td>4</td>\n",
       "      <td>NaN</td>\n",
       "      <td>NaN</td>\n",
       "      <td>NaN</td>\n",
       "      <td>NaN</td>\n",
       "      <td>NaN</td>\n",
       "      <td>NaN</td>\n",
       "      <td>NaN</td>\n",
       "      <td>NaN</td>\n",
       "      <td>1</td>\n",
       "    </tr>\n",
       "    <tr>\n",
       "      <th>252348</th>\n",
       "      <td>2015</td>\n",
       "      <td>1</td>\n",
       "      <td>1</td>\n",
       "      <td>30</td>\n",
       "      <td>5</td>\n",
       "      <td>2015-01-30</td>\n",
       "      <td>OO</td>\n",
       "      <td>20304</td>\n",
       "      <td>OO</td>\n",
       "      <td>N630SK</td>\n",
       "      <td>...</td>\n",
       "      <td>1</td>\n",
       "      <td>NaN</td>\n",
       "      <td>NaN</td>\n",
       "      <td>NaN</td>\n",
       "      <td>NaN</td>\n",
       "      <td>NaN</td>\n",
       "      <td>NaN</td>\n",
       "      <td>NaN</td>\n",
       "      <td>NaN</td>\n",
       "      <td>5</td>\n",
       "    </tr>\n",
       "    <tr>\n",
       "      <th>282339</th>\n",
       "      <td>2015</td>\n",
       "      <td>1</td>\n",
       "      <td>1</td>\n",
       "      <td>24</td>\n",
       "      <td>6</td>\n",
       "      <td>2015-01-24</td>\n",
       "      <td>OO</td>\n",
       "      <td>20304</td>\n",
       "      <td>OO</td>\n",
       "      <td>N568SW</td>\n",
       "      <td>...</td>\n",
       "      <td>1</td>\n",
       "      <td>NaN</td>\n",
       "      <td>NaN</td>\n",
       "      <td>NaN</td>\n",
       "      <td>NaN</td>\n",
       "      <td>NaN</td>\n",
       "      <td>NaN</td>\n",
       "      <td>NaN</td>\n",
       "      <td>NaN</td>\n",
       "      <td>6</td>\n",
       "    </tr>\n",
       "    <tr>\n",
       "      <th>99261</th>\n",
       "      <td>2015</td>\n",
       "      <td>1</td>\n",
       "      <td>1</td>\n",
       "      <td>13</td>\n",
       "      <td>2</td>\n",
       "      <td>2015-01-13</td>\n",
       "      <td>DL</td>\n",
       "      <td>19790</td>\n",
       "      <td>DL</td>\n",
       "      <td>N820DN</td>\n",
       "      <td>...</td>\n",
       "      <td>9</td>\n",
       "      <td>NaN</td>\n",
       "      <td>NaN</td>\n",
       "      <td>NaN</td>\n",
       "      <td>NaN</td>\n",
       "      <td>NaN</td>\n",
       "      <td>NaN</td>\n",
       "      <td>NaN</td>\n",
       "      <td>NaN</td>\n",
       "      <td>2</td>\n",
       "    </tr>\n",
       "    <tr>\n",
       "      <th>367344</th>\n",
       "      <td>2015</td>\n",
       "      <td>1</td>\n",
       "      <td>1</td>\n",
       "      <td>28</td>\n",
       "      <td>3</td>\n",
       "      <td>2015-01-28</td>\n",
       "      <td>DL</td>\n",
       "      <td>19790</td>\n",
       "      <td>DL</td>\n",
       "      <td>N325NB</td>\n",
       "      <td>...</td>\n",
       "      <td>2</td>\n",
       "      <td>NaN</td>\n",
       "      <td>NaN</td>\n",
       "      <td>NaN</td>\n",
       "      <td>NaN</td>\n",
       "      <td>NaN</td>\n",
       "      <td>NaN</td>\n",
       "      <td>NaN</td>\n",
       "      <td>NaN</td>\n",
       "      <td>3</td>\n",
       "    </tr>\n",
       "    <tr>\n",
       "      <th>172487</th>\n",
       "      <td>2015</td>\n",
       "      <td>1</td>\n",
       "      <td>1</td>\n",
       "      <td>15</td>\n",
       "      <td>4</td>\n",
       "      <td>2015-01-15</td>\n",
       "      <td>WN</td>\n",
       "      <td>19393</td>\n",
       "      <td>WN</td>\n",
       "      <td>N456WN</td>\n",
       "      <td>...</td>\n",
       "      <td>3</td>\n",
       "      <td>NaN</td>\n",
       "      <td>NaN</td>\n",
       "      <td>NaN</td>\n",
       "      <td>NaN</td>\n",
       "      <td>NaN</td>\n",
       "      <td>NaN</td>\n",
       "      <td>NaN</td>\n",
       "      <td>NaN</td>\n",
       "      <td>4</td>\n",
       "    </tr>\n",
       "    <tr>\n",
       "      <th>117880</th>\n",
       "      <td>2015</td>\n",
       "      <td>1</td>\n",
       "      <td>1</td>\n",
       "      <td>24</td>\n",
       "      <td>6</td>\n",
       "      <td>2015-01-24</td>\n",
       "      <td>US</td>\n",
       "      <td>20355</td>\n",
       "      <td>US</td>\n",
       "      <td>N196UW</td>\n",
       "      <td>...</td>\n",
       "      <td>6</td>\n",
       "      <td>NaN</td>\n",
       "      <td>NaN</td>\n",
       "      <td>NaN</td>\n",
       "      <td>NaN</td>\n",
       "      <td>NaN</td>\n",
       "      <td>NaN</td>\n",
       "      <td>NaN</td>\n",
       "      <td>NaN</td>\n",
       "      <td>6</td>\n",
       "    </tr>\n",
       "  </tbody>\n",
       "</table>\n",
       "<p>10 rows × 64 columns</p>\n",
       "</div>"
      ],
      "text/plain": [
       "        Year  Quarter  Month  DayofMonth  DayOfWeek  FlightDate UniqueCarrier  \\\n",
       "15231   2015        1      1          28          3  2015-01-28            AA   \n",
       "66529   2015        1      1           8          4  2015-01-08            B6   \n",
       "232512  2015        1      1          30          5  2015-01-30            WN   \n",
       "34373   2015        1      1          26          1  2015-01-26            AA   \n",
       "252348  2015        1      1          30          5  2015-01-30            OO   \n",
       "282339  2015        1      1          24          6  2015-01-24            OO   \n",
       "99261   2015        1      1          13          2  2015-01-13            DL   \n",
       "367344  2015        1      1          28          3  2015-01-28            DL   \n",
       "172487  2015        1      1          15          4  2015-01-15            WN   \n",
       "117880  2015        1      1          24          6  2015-01-24            US   \n",
       "\n",
       "        AirlineID Carrier TailNum   ...    DistanceGroup  CarrierDelay  \\\n",
       "15231       19805      AA  N3ELAA   ...                1           NaN   \n",
       "66529       20409      B6  N206JB   ...                5           NaN   \n",
       "232512      19393      WN  N7707C   ...                2             0   \n",
       "34373       19805      AA  N466AA   ...                4           NaN   \n",
       "252348      20304      OO  N630SK   ...                1           NaN   \n",
       "282339      20304      OO  N568SW   ...                1           NaN   \n",
       "99261       19790      DL  N820DN   ...                9           NaN   \n",
       "367344      19790      DL  N325NB   ...                2           NaN   \n",
       "172487      19393      WN  N456WN   ...                3           NaN   \n",
       "117880      20355      US  N196UW   ...                6           NaN   \n",
       "\n",
       "        WeatherDelay  NASDelay SecurityDelay LateAircraftDelay FirstDepTime  \\\n",
       "15231            NaN       NaN           NaN               NaN          NaN   \n",
       "66529            NaN       NaN           NaN               NaN          NaN   \n",
       "232512             0        89             0                 0          NaN   \n",
       "34373            NaN       NaN           NaN               NaN          NaN   \n",
       "252348           NaN       NaN           NaN               NaN          NaN   \n",
       "282339           NaN       NaN           NaN               NaN          NaN   \n",
       "99261            NaN       NaN           NaN               NaN          NaN   \n",
       "367344           NaN       NaN           NaN               NaN          NaN   \n",
       "172487           NaN       NaN           NaN               NaN          NaN   \n",
       "117880           NaN       NaN           NaN               NaN          NaN   \n",
       "\n",
       "        TotalAddGTime LongestAddGTime  NewDay  \n",
       "15231             NaN             NaN       3  \n",
       "66529             NaN             NaN       4  \n",
       "232512            NaN             NaN       5  \n",
       "34373             NaN             NaN       1  \n",
       "252348            NaN             NaN       5  \n",
       "282339            NaN             NaN       6  \n",
       "99261             NaN             NaN       2  \n",
       "367344            NaN             NaN       3  \n",
       "172487            NaN             NaN       4  \n",
       "117880            NaN             NaN       6  \n",
       "\n",
       "[10 rows x 64 columns]"
      ]
     },
     "execution_count": 28,
     "metadata": {},
     "output_type": "execute_result"
    }
   ],
   "source": [
    "# modifying values\n",
    "def replace(integer):\n",
    "    if integer ==7:\n",
    "        return np.nan\n",
    "    else:\n",
    "        return integer\n",
    "df[\"NewDay\"] = df[\"DayOfWeek\"].apply(replace)\n",
    "df.sample(10)"
   ]
  },
  {
   "cell_type": "code",
   "execution_count": 29,
   "metadata": {
    "collapsed": false
   },
   "outputs": [
    {
     "data": {
      "text/plain": [
       "Year                      int64\n",
       "Quarter                   int64\n",
       "Month                     int64\n",
       "DayofMonth                int64\n",
       "DayOfWeek                 int64\n",
       "FlightDate               object\n",
       "UniqueCarrier            object\n",
       "AirlineID                 int64\n",
       "Carrier                  object\n",
       "TailNum                  object\n",
       "FlightNum                 int64\n",
       "OriginAirportID           int64\n",
       "OriginAirportSeqID        int64\n",
       "OriginCityMarketID        int64\n",
       "Origin                   object\n",
       "OriginCityName           object\n",
       "OriginState              object\n",
       "OriginStateFips           int64\n",
       "OriginStateName          object\n",
       "OriginWac                 int64\n",
       "DestAirportID             int64\n",
       "DestAirportSeqID          int64\n",
       "DestCityMarketID          int64\n",
       "Dest                     object\n",
       "DestCityName             object\n",
       "DestState                object\n",
       "DestStateFips             int64\n",
       "DestStateName            object\n",
       "DestWac                   int64\n",
       "CRSDepTime                int64\n",
       "                         ...   \n",
       "DepartureDelayGroups    float64\n",
       "DepTimeBlk               object\n",
       "TaxiOut                 float64\n",
       "WheelsOff               float64\n",
       "WheelsOn                float64\n",
       "TaxiIn                  float64\n",
       "CRSArrTime                int64\n",
       "ArrTime                 float64\n",
       "ArrDelay                float64\n",
       "ArrDelayMinutes         float64\n",
       "ArrDel15                float64\n",
       "ArrivalDelayGroups      float64\n",
       "ArrTimeBlk               object\n",
       "Cancelled               float64\n",
       "CancellationCode         object\n",
       "CRSElapsedTime          float64\n",
       "ActualElapsedTime       float64\n",
       "AirTime                 float64\n",
       "Flights                 float64\n",
       "Distance                float64\n",
       "DistanceGroup             int64\n",
       "CarrierDelay            float64\n",
       "WeatherDelay            float64\n",
       "NASDelay                float64\n",
       "SecurityDelay           float64\n",
       "LateAircraftDelay       float64\n",
       "FirstDepTime            float64\n",
       "TotalAddGTime           float64\n",
       "LongestAddGTime         float64\n",
       "NewDay                  float64\n",
       "dtype: object"
      ]
     },
     "execution_count": 29,
     "metadata": {},
     "output_type": "execute_result"
    }
   ],
   "source": [
    "df.dtypes"
   ]
  },
  {
   "cell_type": "code",
   "execution_count": 30,
   "metadata": {
    "collapsed": true
   },
   "outputs": [],
   "source": [
    "# df.types\n",
    "import datetime"
   ]
  },
  {
   "cell_type": "code",
   "execution_count": 31,
   "metadata": {
    "collapsed": false
   },
   "outputs": [
    {
     "data": {
      "text/plain": [
       "datetime.datetime(2015, 12, 19, 11, 23, 59, 745475)"
      ]
     },
     "execution_count": 31,
     "metadata": {},
     "output_type": "execute_result"
    }
   ],
   "source": [
    "t = datetime.datetime.now()\n",
    "t"
   ]
  },
  {
   "cell_type": "code",
   "execution_count": 32,
   "metadata": {
    "collapsed": false
   },
   "outputs": [
    {
     "data": {
      "text/plain": [
       "11"
      ]
     },
     "execution_count": 32,
     "metadata": {},
     "output_type": "execute_result"
    }
   ],
   "source": [
    "t.hour"
   ]
  },
  {
   "cell_type": "code",
   "execution_count": 33,
   "metadata": {
    "collapsed": false
   },
   "outputs": [
    {
     "data": {
      "text/plain": [
       "23"
      ]
     },
     "execution_count": 33,
     "metadata": {},
     "output_type": "execute_result"
    }
   ],
   "source": [
    "t.minute"
   ]
  },
  {
   "cell_type": "code",
   "execution_count": 34,
   "metadata": {
    "collapsed": false
   },
   "outputs": [
    {
     "data": {
      "text/plain": [
       "datetime.datetime(2015, 1, 23, 0, 0)"
      ]
     },
     "execution_count": 34,
     "metadata": {},
     "output_type": "execute_result"
    }
   ],
   "source": [
    "# from string to datetime\n",
    "t2 = datetime.datetime.strptime('2015-01-23','%Y-%m-%d')\n",
    "t2"
   ]
  },
  {
   "cell_type": "code",
   "execution_count": 35,
   "metadata": {
    "collapsed": false
   },
   "outputs": [
    {
     "data": {
      "text/plain": [
       "'01-23-2015'"
      ]
     },
     "execution_count": 35,
     "metadata": {},
     "output_type": "execute_result"
    }
   ],
   "source": [
    "# from datetime to string\n",
    "t2.strftime(\"%m-%d-%Y\")"
   ]
  },
  {
   "cell_type": "code",
   "execution_count": 36,
   "metadata": {
    "collapsed": false
   },
   "outputs": [
    {
     "data": {
      "text/html": [
       "<div>\n",
       "<table border=\"1\" class=\"dataframe\">\n",
       "  <thead>\n",
       "    <tr style=\"text-align: right;\">\n",
       "      <th></th>\n",
       "      <th>Year</th>\n",
       "      <th>Quarter</th>\n",
       "      <th>Month</th>\n",
       "      <th>DayofMonth</th>\n",
       "      <th>DayOfWeek</th>\n",
       "      <th>FlightDate</th>\n",
       "      <th>UniqueCarrier</th>\n",
       "      <th>AirlineID</th>\n",
       "      <th>Carrier</th>\n",
       "      <th>TailNum</th>\n",
       "      <th>...</th>\n",
       "      <th>CarrierDelay</th>\n",
       "      <th>WeatherDelay</th>\n",
       "      <th>NASDelay</th>\n",
       "      <th>SecurityDelay</th>\n",
       "      <th>LateAircraftDelay</th>\n",
       "      <th>FirstDepTime</th>\n",
       "      <th>TotalAddGTime</th>\n",
       "      <th>LongestAddGTime</th>\n",
       "      <th>NewDay</th>\n",
       "      <th>FlifghtDateDt</th>\n",
       "    </tr>\n",
       "  </thead>\n",
       "  <tbody>\n",
       "    <tr>\n",
       "      <th>358847</th>\n",
       "      <td>2015</td>\n",
       "      <td>1</td>\n",
       "      <td>1</td>\n",
       "      <td>22</td>\n",
       "      <td>4</td>\n",
       "      <td>2015-01-22</td>\n",
       "      <td>B6</td>\n",
       "      <td>20409</td>\n",
       "      <td>B6</td>\n",
       "      <td>N239JB</td>\n",
       "      <td>...</td>\n",
       "      <td>NaN</td>\n",
       "      <td>NaN</td>\n",
       "      <td>NaN</td>\n",
       "      <td>NaN</td>\n",
       "      <td>NaN</td>\n",
       "      <td>NaN</td>\n",
       "      <td>NaN</td>\n",
       "      <td>NaN</td>\n",
       "      <td>4</td>\n",
       "      <td>2015-01-22</td>\n",
       "    </tr>\n",
       "    <tr>\n",
       "      <th>239901</th>\n",
       "      <td>2015</td>\n",
       "      <td>1</td>\n",
       "      <td>1</td>\n",
       "      <td>8</td>\n",
       "      <td>4</td>\n",
       "      <td>2015-01-08</td>\n",
       "      <td>NK</td>\n",
       "      <td>20416</td>\n",
       "      <td>NK</td>\n",
       "      <td>N634NK</td>\n",
       "      <td>...</td>\n",
       "      <td>0</td>\n",
       "      <td>0</td>\n",
       "      <td>30</td>\n",
       "      <td>0</td>\n",
       "      <td>0</td>\n",
       "      <td>NaN</td>\n",
       "      <td>NaN</td>\n",
       "      <td>NaN</td>\n",
       "      <td>4</td>\n",
       "      <td>2015-01-08</td>\n",
       "    </tr>\n",
       "    <tr>\n",
       "      <th>8643</th>\n",
       "      <td>2015</td>\n",
       "      <td>1</td>\n",
       "      <td>1</td>\n",
       "      <td>19</td>\n",
       "      <td>1</td>\n",
       "      <td>2015-01-19</td>\n",
       "      <td>AA</td>\n",
       "      <td>19805</td>\n",
       "      <td>AA</td>\n",
       "      <td>N3ABAA</td>\n",
       "      <td>...</td>\n",
       "      <td>NaN</td>\n",
       "      <td>NaN</td>\n",
       "      <td>NaN</td>\n",
       "      <td>NaN</td>\n",
       "      <td>NaN</td>\n",
       "      <td>NaN</td>\n",
       "      <td>NaN</td>\n",
       "      <td>NaN</td>\n",
       "      <td>1</td>\n",
       "      <td>2015-01-19</td>\n",
       "    </tr>\n",
       "    <tr>\n",
       "      <th>275580</th>\n",
       "      <td>2015</td>\n",
       "      <td>1</td>\n",
       "      <td>1</td>\n",
       "      <td>18</td>\n",
       "      <td>7</td>\n",
       "      <td>2015-01-18</td>\n",
       "      <td>OO</td>\n",
       "      <td>20304</td>\n",
       "      <td>OO</td>\n",
       "      <td>N938SW</td>\n",
       "      <td>...</td>\n",
       "      <td>NaN</td>\n",
       "      <td>NaN</td>\n",
       "      <td>NaN</td>\n",
       "      <td>NaN</td>\n",
       "      <td>NaN</td>\n",
       "      <td>NaN</td>\n",
       "      <td>NaN</td>\n",
       "      <td>NaN</td>\n",
       "      <td>NaN</td>\n",
       "      <td>2015-01-18</td>\n",
       "    </tr>\n",
       "    <tr>\n",
       "      <th>17244</th>\n",
       "      <td>2015</td>\n",
       "      <td>1</td>\n",
       "      <td>1</td>\n",
       "      <td>6</td>\n",
       "      <td>2</td>\n",
       "      <td>2015-01-06</td>\n",
       "      <td>AA</td>\n",
       "      <td>19805</td>\n",
       "      <td>AA</td>\n",
       "      <td>N5CRAA</td>\n",
       "      <td>...</td>\n",
       "      <td>NaN</td>\n",
       "      <td>NaN</td>\n",
       "      <td>NaN</td>\n",
       "      <td>NaN</td>\n",
       "      <td>NaN</td>\n",
       "      <td>NaN</td>\n",
       "      <td>NaN</td>\n",
       "      <td>NaN</td>\n",
       "      <td>2</td>\n",
       "      <td>2015-01-06</td>\n",
       "    </tr>\n",
       "  </tbody>\n",
       "</table>\n",
       "<p>5 rows × 65 columns</p>\n",
       "</div>"
      ],
      "text/plain": [
       "        Year  Quarter  Month  DayofMonth  DayOfWeek  FlightDate UniqueCarrier  \\\n",
       "358847  2015        1      1          22          4  2015-01-22            B6   \n",
       "239901  2015        1      1           8          4  2015-01-08            NK   \n",
       "8643    2015        1      1          19          1  2015-01-19            AA   \n",
       "275580  2015        1      1          18          7  2015-01-18            OO   \n",
       "17244   2015        1      1           6          2  2015-01-06            AA   \n",
       "\n",
       "        AirlineID Carrier TailNum      ...        CarrierDelay  WeatherDelay  \\\n",
       "358847      20409      B6  N239JB      ...                 NaN           NaN   \n",
       "239901      20416      NK  N634NK      ...                   0             0   \n",
       "8643        19805      AA  N3ABAA      ...                 NaN           NaN   \n",
       "275580      20304      OO  N938SW      ...                 NaN           NaN   \n",
       "17244       19805      AA  N5CRAA      ...                 NaN           NaN   \n",
       "\n",
       "        NASDelay  SecurityDelay LateAircraftDelay FirstDepTime TotalAddGTime  \\\n",
       "358847       NaN            NaN               NaN          NaN           NaN   \n",
       "239901        30              0                 0          NaN           NaN   \n",
       "8643         NaN            NaN               NaN          NaN           NaN   \n",
       "275580       NaN            NaN               NaN          NaN           NaN   \n",
       "17244        NaN            NaN               NaN          NaN           NaN   \n",
       "\n",
       "        LongestAddGTime NewDay  FlifghtDateDt  \n",
       "358847              NaN      4     2015-01-22  \n",
       "239901              NaN      4     2015-01-08  \n",
       "8643                NaN      1     2015-01-19  \n",
       "275580              NaN    NaN     2015-01-18  \n",
       "17244               NaN      2     2015-01-06  \n",
       "\n",
       "[5 rows x 65 columns]"
      ]
     },
     "execution_count": 36,
     "metadata": {},
     "output_type": "execute_result"
    }
   ],
   "source": [
    "# modifyinf dtype of series \n",
    "df[\"FlifghtDateDt\"] = pd.to_datetime(df['FlightDate'],format=\"%Y-%m-%d\")\n",
    "df.sample(5)"
   ]
  },
  {
   "cell_type": "code",
   "execution_count": 37,
   "metadata": {
    "collapsed": false
   },
   "outputs": [
    {
     "data": {
      "text/html": [
       "<div>\n",
       "<table border=\"1\" class=\"dataframe\">\n",
       "  <thead>\n",
       "    <tr style=\"text-align: right;\">\n",
       "      <th></th>\n",
       "      <th>Year</th>\n",
       "      <th>Quarter</th>\n",
       "      <th>Month</th>\n",
       "      <th>DayofMonth</th>\n",
       "      <th>DayOfWeek</th>\n",
       "      <th>FlightDate</th>\n",
       "      <th>UniqueCarrier</th>\n",
       "      <th>AirlineID</th>\n",
       "      <th>Carrier</th>\n",
       "      <th>TailNum</th>\n",
       "      <th>...</th>\n",
       "      <th>WeatherDelay</th>\n",
       "      <th>NASDelay</th>\n",
       "      <th>SecurityDelay</th>\n",
       "      <th>LateAircraftDelay</th>\n",
       "      <th>FirstDepTime</th>\n",
       "      <th>TotalAddGTime</th>\n",
       "      <th>LongestAddGTime</th>\n",
       "      <th>NewDay</th>\n",
       "      <th>FlifghtDateDt</th>\n",
       "      <th>FlighNumS</th>\n",
       "    </tr>\n",
       "  </thead>\n",
       "  <tbody>\n",
       "    <tr>\n",
       "      <th>258618</th>\n",
       "      <td>2015</td>\n",
       "      <td>1</td>\n",
       "      <td>1</td>\n",
       "      <td>28</td>\n",
       "      <td>3</td>\n",
       "      <td>2015-01-28</td>\n",
       "      <td>OO</td>\n",
       "      <td>20304</td>\n",
       "      <td>OO</td>\n",
       "      <td>N823SK</td>\n",
       "      <td>...</td>\n",
       "      <td>NaN</td>\n",
       "      <td>NaN</td>\n",
       "      <td>NaN</td>\n",
       "      <td>NaN</td>\n",
       "      <td>NaN</td>\n",
       "      <td>NaN</td>\n",
       "      <td>NaN</td>\n",
       "      <td>3</td>\n",
       "      <td>2015-01-28</td>\n",
       "      <td>4495</td>\n",
       "    </tr>\n",
       "    <tr>\n",
       "      <th>426866</th>\n",
       "      <td>2015</td>\n",
       "      <td>1</td>\n",
       "      <td>1</td>\n",
       "      <td>20</td>\n",
       "      <td>2</td>\n",
       "      <td>2015-01-20</td>\n",
       "      <td>EV</td>\n",
       "      <td>20366</td>\n",
       "      <td>EV</td>\n",
       "      <td>N14177</td>\n",
       "      <td>...</td>\n",
       "      <td>0</td>\n",
       "      <td>0</td>\n",
       "      <td>0</td>\n",
       "      <td>34</td>\n",
       "      <td>NaN</td>\n",
       "      <td>NaN</td>\n",
       "      <td>NaN</td>\n",
       "      <td>2</td>\n",
       "      <td>2015-01-20</td>\n",
       "      <td>6156</td>\n",
       "    </tr>\n",
       "    <tr>\n",
       "      <th>130181</th>\n",
       "      <td>2015</td>\n",
       "      <td>1</td>\n",
       "      <td>1</td>\n",
       "      <td>28</td>\n",
       "      <td>3</td>\n",
       "      <td>2015-01-28</td>\n",
       "      <td>VX</td>\n",
       "      <td>21171</td>\n",
       "      <td>VX</td>\n",
       "      <td>N636VA</td>\n",
       "      <td>...</td>\n",
       "      <td>NaN</td>\n",
       "      <td>NaN</td>\n",
       "      <td>NaN</td>\n",
       "      <td>NaN</td>\n",
       "      <td>NaN</td>\n",
       "      <td>NaN</td>\n",
       "      <td>NaN</td>\n",
       "      <td>3</td>\n",
       "      <td>2015-01-28</td>\n",
       "      <td>922</td>\n",
       "    </tr>\n",
       "    <tr>\n",
       "      <th>190991</th>\n",
       "      <td>2015</td>\n",
       "      <td>1</td>\n",
       "      <td>1</td>\n",
       "      <td>19</td>\n",
       "      <td>1</td>\n",
       "      <td>2015-01-19</td>\n",
       "      <td>WN</td>\n",
       "      <td>19393</td>\n",
       "      <td>WN</td>\n",
       "      <td>N691WN</td>\n",
       "      <td>...</td>\n",
       "      <td>NaN</td>\n",
       "      <td>NaN</td>\n",
       "      <td>NaN</td>\n",
       "      <td>NaN</td>\n",
       "      <td>NaN</td>\n",
       "      <td>NaN</td>\n",
       "      <td>NaN</td>\n",
       "      <td>1</td>\n",
       "      <td>2015-01-19</td>\n",
       "      <td>4995</td>\n",
       "    </tr>\n",
       "    <tr>\n",
       "      <th>320392</th>\n",
       "      <td>2015</td>\n",
       "      <td>1</td>\n",
       "      <td>1</td>\n",
       "      <td>6</td>\n",
       "      <td>2</td>\n",
       "      <td>2015-01-06</td>\n",
       "      <td>UA</td>\n",
       "      <td>19977</td>\n",
       "      <td>UA</td>\n",
       "      <td>N53442</td>\n",
       "      <td>...</td>\n",
       "      <td>0</td>\n",
       "      <td>0</td>\n",
       "      <td>0</td>\n",
       "      <td>15</td>\n",
       "      <td>NaN</td>\n",
       "      <td>NaN</td>\n",
       "      <td>NaN</td>\n",
       "      <td>2</td>\n",
       "      <td>2015-01-06</td>\n",
       "      <td>1145</td>\n",
       "    </tr>\n",
       "  </tbody>\n",
       "</table>\n",
       "<p>5 rows × 66 columns</p>\n",
       "</div>"
      ],
      "text/plain": [
       "        Year  Quarter  Month  DayofMonth  DayOfWeek  FlightDate UniqueCarrier  \\\n",
       "258618  2015        1      1          28          3  2015-01-28            OO   \n",
       "426866  2015        1      1          20          2  2015-01-20            EV   \n",
       "130181  2015        1      1          28          3  2015-01-28            VX   \n",
       "190991  2015        1      1          19          1  2015-01-19            WN   \n",
       "320392  2015        1      1           6          2  2015-01-06            UA   \n",
       "\n",
       "        AirlineID Carrier TailNum    ...      WeatherDelay  NASDelay  \\\n",
       "258618      20304      OO  N823SK    ...               NaN       NaN   \n",
       "426866      20366      EV  N14177    ...                 0         0   \n",
       "130181      21171      VX  N636VA    ...               NaN       NaN   \n",
       "190991      19393      WN  N691WN    ...               NaN       NaN   \n",
       "320392      19977      UA  N53442    ...                 0         0   \n",
       "\n",
       "        SecurityDelay  LateAircraftDelay FirstDepTime TotalAddGTime  \\\n",
       "258618            NaN                NaN          NaN           NaN   \n",
       "426866              0                 34          NaN           NaN   \n",
       "130181            NaN                NaN          NaN           NaN   \n",
       "190991            NaN                NaN          NaN           NaN   \n",
       "320392              0                 15          NaN           NaN   \n",
       "\n",
       "       LongestAddGTime  NewDay FlifghtDateDt  FlighNumS  \n",
       "258618             NaN       3    2015-01-28       4495  \n",
       "426866             NaN       2    2015-01-20       6156  \n",
       "130181             NaN       3    2015-01-28        922  \n",
       "190991             NaN       1    2015-01-19       4995  \n",
       "320392             NaN       2    2015-01-06       1145  \n",
       "\n",
       "[5 rows x 66 columns]"
      ]
     },
     "execution_count": 37,
     "metadata": {},
     "output_type": "execute_result"
    }
   ],
   "source": [
    "df['FlighNumS'] = df['FlightNum'].map(str)\n",
    "df.sample(5)"
   ]
  },
  {
   "cell_type": "code",
   "execution_count": 38,
   "metadata": {
    "collapsed": false
   },
   "outputs": [
    {
     "data": {
      "text/plain": [
       "Year                           int64\n",
       "Quarter                        int64\n",
       "Month                          int64\n",
       "DayofMonth                     int64\n",
       "DayOfWeek                      int64\n",
       "FlightDate                    object\n",
       "UniqueCarrier                 object\n",
       "AirlineID                      int64\n",
       "Carrier                       object\n",
       "TailNum                       object\n",
       "FlightNum                      int64\n",
       "OriginAirportID                int64\n",
       "OriginAirportSeqID             int64\n",
       "OriginCityMarketID             int64\n",
       "Origin                        object\n",
       "OriginCityName                object\n",
       "OriginState                   object\n",
       "OriginStateFips                int64\n",
       "OriginStateName               object\n",
       "OriginWac                      int64\n",
       "DestAirportID                  int64\n",
       "DestAirportSeqID               int64\n",
       "DestCityMarketID               int64\n",
       "Dest                          object\n",
       "DestCityName                  object\n",
       "DestState                     object\n",
       "DestStateFips                  int64\n",
       "DestStateName                 object\n",
       "DestWac                        int64\n",
       "CRSDepTime                     int64\n",
       "                           ...      \n",
       "TaxiOut                      float64\n",
       "WheelsOff                    float64\n",
       "WheelsOn                     float64\n",
       "TaxiIn                       float64\n",
       "CRSArrTime                     int64\n",
       "ArrTime                      float64\n",
       "ArrDelay                     float64\n",
       "ArrDelayMinutes              float64\n",
       "ArrDel15                     float64\n",
       "ArrivalDelayGroups           float64\n",
       "ArrTimeBlk                    object\n",
       "Cancelled                    float64\n",
       "CancellationCode              object\n",
       "CRSElapsedTime               float64\n",
       "ActualElapsedTime            float64\n",
       "AirTime                      float64\n",
       "Flights                      float64\n",
       "Distance                     float64\n",
       "DistanceGroup                  int64\n",
       "CarrierDelay                 float64\n",
       "WeatherDelay                 float64\n",
       "NASDelay                     float64\n",
       "SecurityDelay                float64\n",
       "LateAircraftDelay            float64\n",
       "FirstDepTime                 float64\n",
       "TotalAddGTime                float64\n",
       "LongestAddGTime              float64\n",
       "NewDay                       float64\n",
       "FlifghtDateDt         datetime64[ns]\n",
       "FlighNumS                     object\n",
       "dtype: object"
      ]
     },
     "execution_count": 38,
     "metadata": {},
     "output_type": "execute_result"
    }
   ],
   "source": [
    "df.dtypes"
   ]
  },
  {
   "cell_type": "code",
   "execution_count": 41,
   "metadata": {
    "collapsed": false
   },
   "outputs": [
    {
     "data": {
      "text/plain": [
       "Index([u'DepDelay', u'DepDelayMinutes', u'DepartureDelayGroups', u'ArrDelay',\n",
       "       u'ArrDelayMinutes', u'ArrivalDelayGroups', u'CarrierDelay',\n",
       "       u'WeatherDelay', u'NASDelay', u'SecurityDelay', u'LateAircraftDelay'],\n",
       "      dtype='object')"
      ]
     },
     "execution_count": 41,
     "metadata": {},
     "output_type": "execute_result"
    }
   ],
   "source": [
    "# Using copy and paste\n",
    "df.columns[df.columns.str.contains('Delay')]"
   ]
  },
  {
   "cell_type": "code",
   "execution_count": 49,
   "metadata": {
    "collapsed": false
   },
   "outputs": [
    {
     "data": {
      "text/plain": [
       "CarrierDelay         1708155\n",
       "WeatherDelay          263087\n",
       "NASDelay             1278055\n",
       "SecurityDelay           6700\n",
       "LateAircraftDelay    2183865\n",
       "dtype: float64"
      ]
     },
     "execution_count": 49,
     "metadata": {},
     "output_type": "execute_result"
    }
   ],
   "source": [
    "delayreasonsum = df[[u'CarrierDelay', u'WeatherDelay', u'NASDelay', u'SecurityDelay', u'LateAircraftDelay']].sum()\n",
    "delayreasonsum"
   ]
  },
  {
   "cell_type": "code",
   "execution_count": 52,
   "metadata": {
    "collapsed": false
   },
   "outputs": [
    {
     "data": {
      "image/png": "[encoded data removed]",
      "text/plain": [
       "<matplotlib.figure.Figure at 0x7f8baa6f4b50>"
      ]
     },
     "metadata": {},
     "output_type": "display_data"
    }
   ],
   "source": [
    "locx = range(len(delayreasonsum))\n",
    "plt.bar(locx,delayreasonsum)\n",
    "plt.xticks(locx,delayreasonsum.index,rotation=45)\n",
    "plt.show()"
   ]
  },
  {
   "cell_type": "code",
   "execution_count": 54,
   "metadata": {
    "collapsed": false
   },
   "outputs": [
    {
     "data": {
      "image/png": "[encoded data removed]",
      "text/plain": [
       "<matplotlib.figure.Figure at 0x7f8baa5543d0>"
      ]
     },
     "metadata": {},
     "output_type": "display_data"
    }
   ],
   "source": [
    "plt.pie(delayreasonsum,labels=delayreasonsum.index)\n",
    "plt.show()"
   ]
  },
  {
   "cell_type": "code",
   "execution_count": 63,
   "metadata": {
    "collapsed": false
   },
   "outputs": [
    {
     "data": {
      "image/png": "[encoded data removed]",
      "text/plain": [
       "<matplotlib.figure.Figure at 0x7f8baa5d1810>"
      ]
     },
     "metadata": {},
     "output_type": "display_data"
    }
   ],
   "source": [
    "dfAA = df[df['Carrier']==\"AA\"]\n",
    "delayreasonsumAA= dfAA[[u'CarrierDelay', u'WeatherDelay', u'NASDelay', u'SecurityDelay', u'LateAircraftDelay']].sum\n",
    "plt.pie(delayreasonsum,labels=delayreasonsum.index,shadow=True,startangle=90)\n",
    "plt.title(\"American Airlines Delays\")\n",
    "plt.show()"
   ]
  },
  {
   "cell_type": "code",
   "execution_count": 67,
   "metadata": {
    "collapsed": false
   },
   "outputs": [
    {
     "data": {
      "text/plain": [
       "<pandas.core.groupby.DataFrameGroupBy object at 0x7f8baa6fd750>"
      ]
     },
     "execution_count": 67,
     "metadata": {},
     "output_type": "execute_result"
    }
   ],
   "source": [
    "delaycol = [u'CarrierDelay', u'WeatherDelay', u'NASDelay', u'SecurityDelay', u'LateAircraftDelay']\n",
    "by_carrier = df.groupby(\"Carrier\")\n",
    "by_carrier"
   ]
  },
  {
   "cell_type": "code",
   "execution_count": 71,
   "metadata": {
    "collapsed": false
   },
   "outputs": [
    {
     "data": {
      "text/html": [
       "<div>\n",
       "<table border=\"1\" class=\"dataframe\">\n",
       "  <thead>\n",
       "    <tr style=\"text-align: right;\">\n",
       "      <th></th>\n",
       "      <th>CarrierDelay</th>\n",
       "      <th>WeatherDelay</th>\n",
       "      <th>NASDelay</th>\n",
       "      <th>SecurityDelay</th>\n",
       "      <th>LateAircraftDelay</th>\n",
       "    </tr>\n",
       "    <tr>\n",
       "      <th>Carrier</th>\n",
       "      <th></th>\n",
       "      <th></th>\n",
       "      <th></th>\n",
       "      <th></th>\n",
       "      <th></th>\n",
       "    </tr>\n",
       "  </thead>\n",
       "  <tbody>\n",
       "    <tr>\n",
       "      <th>AA</th>\n",
       "      <td>203731</td>\n",
       "      <td>24820</td>\n",
       "      <td>100460</td>\n",
       "      <td>636</td>\n",
       "      <td>225852</td>\n",
       "    </tr>\n",
       "    <tr>\n",
       "      <th>AS</th>\n",
       "      <td>28833</td>\n",
       "      <td>7333</td>\n",
       "      <td>23322</td>\n",
       "      <td>104</td>\n",
       "      <td>40466</td>\n",
       "    </tr>\n",
       "    <tr>\n",
       "      <th>B6</th>\n",
       "      <td>76452</td>\n",
       "      <td>9393</td>\n",
       "      <td>80780</td>\n",
       "      <td>1144</td>\n",
       "      <td>108437</td>\n",
       "    </tr>\n",
       "    <tr>\n",
       "      <th>DL</th>\n",
       "      <td>177509</td>\n",
       "      <td>41375</td>\n",
       "      <td>119586</td>\n",
       "      <td>582</td>\n",
       "      <td>120406</td>\n",
       "    </tr>\n",
       "    <tr>\n",
       "      <th>EV</th>\n",
       "      <td>225639</td>\n",
       "      <td>19179</td>\n",
       "      <td>164336</td>\n",
       "      <td>0</td>\n",
       "      <td>254080</td>\n",
       "    </tr>\n",
       "    <tr>\n",
       "      <th>F9</th>\n",
       "      <td>33264</td>\n",
       "      <td>1293</td>\n",
       "      <td>48440</td>\n",
       "      <td>0</td>\n",
       "      <td>66621</td>\n",
       "    </tr>\n",
       "    <tr>\n",
       "      <th>HA</th>\n",
       "      <td>17102</td>\n",
       "      <td>1415</td>\n",
       "      <td>1710</td>\n",
       "      <td>162</td>\n",
       "      <td>15175</td>\n",
       "    </tr>\n",
       "    <tr>\n",
       "      <th>MQ</th>\n",
       "      <td>147471</td>\n",
       "      <td>54185</td>\n",
       "      <td>152168</td>\n",
       "      <td>996</td>\n",
       "      <td>246744</td>\n",
       "    </tr>\n",
       "    <tr>\n",
       "      <th>NK</th>\n",
       "      <td>20312</td>\n",
       "      <td>607</td>\n",
       "      <td>93908</td>\n",
       "      <td>384</td>\n",
       "      <td>24678</td>\n",
       "    </tr>\n",
       "    <tr>\n",
       "      <th>OO</th>\n",
       "      <td>215580</td>\n",
       "      <td>30684</td>\n",
       "      <td>136501</td>\n",
       "      <td>671</td>\n",
       "      <td>348926</td>\n",
       "    </tr>\n",
       "    <tr>\n",
       "      <th>UA</th>\n",
       "      <td>173564</td>\n",
       "      <td>33093</td>\n",
       "      <td>114005</td>\n",
       "      <td>32</td>\n",
       "      <td>167279</td>\n",
       "    </tr>\n",
       "    <tr>\n",
       "      <th>US</th>\n",
       "      <td>100893</td>\n",
       "      <td>7694</td>\n",
       "      <td>97172</td>\n",
       "      <td>1011</td>\n",
       "      <td>81147</td>\n",
       "    </tr>\n",
       "    <tr>\n",
       "      <th>VX</th>\n",
       "      <td>10001</td>\n",
       "      <td>3951</td>\n",
       "      <td>14906</td>\n",
       "      <td>152</td>\n",
       "      <td>12141</td>\n",
       "    </tr>\n",
       "    <tr>\n",
       "      <th>WN</th>\n",
       "      <td>277804</td>\n",
       "      <td>28065</td>\n",
       "      <td>130761</td>\n",
       "      <td>826</td>\n",
       "      <td>471913</td>\n",
       "    </tr>\n",
       "  </tbody>\n",
       "</table>\n",
       "</div>"
      ],
      "text/plain": [
       "         CarrierDelay  WeatherDelay  NASDelay  SecurityDelay  \\\n",
       "Carrier                                                        \n",
       "AA             203731         24820    100460            636   \n",
       "AS              28833          7333     23322            104   \n",
       "B6              76452          9393     80780           1144   \n",
       "DL             177509         41375    119586            582   \n",
       "EV             225639         19179    164336              0   \n",
       "F9              33264          1293     48440              0   \n",
       "HA              17102          1415      1710            162   \n",
       "MQ             147471         54185    152168            996   \n",
       "NK              20312           607     93908            384   \n",
       "OO             215580         30684    136501            671   \n",
       "UA             173564         33093    114005             32   \n",
       "US             100893          7694     97172           1011   \n",
       "VX              10001          3951     14906            152   \n",
       "WN             277804         28065    130761            826   \n",
       "\n",
       "         LateAircraftDelay  \n",
       "Carrier                     \n",
       "AA                  225852  \n",
       "AS                   40466  \n",
       "B6                  108437  \n",
       "DL                  120406  \n",
       "EV                  254080  \n",
       "F9                   66621  \n",
       "HA                   15175  \n",
       "MQ                  246744  \n",
       "NK                   24678  \n",
       "OO                  348926  \n",
       "UA                  167279  \n",
       "US                   81147  \n",
       "VX                   12141  \n",
       "WN                  471913  "
      ]
     },
     "execution_count": 71,
     "metadata": {},
     "output_type": "execute_result"
    }
   ],
   "source": [
    "delaysumcarries = by_carrier[deldelaycol].sum()\n",
    "delaysumcarries"
   ]
  },
  {
   "cell_type": "code",
   "execution_count": 73,
   "metadata": {
    "collapsed": false
   },
   "outputs": [
    {
     "data": {
      "text/plain": [
       "['AA',\n",
       " 'OO',\n",
       " 'DL',\n",
       " 'NK',\n",
       " 'HA',\n",
       " 'WN',\n",
       " 'B6',\n",
       " 'US',\n",
       " 'AS',\n",
       " 'MQ',\n",
       " 'F9',\n",
       " 'VX',\n",
       " 'EV',\n",
       " 'UA']"
      ]
     },
     "execution_count": 73,
     "metadata": {},
     "output_type": "execute_result"
    }
   ],
   "source": [
    "by_carrier.groups.keys()"
   ]
  },
  {
   "cell_type": "code",
   "execution_count": 75,
   "metadata": {
    "collapsed": false
   },
   "outputs": [
    {
     "data": {
      "text/plain": [
       "CarrierDelay         203731\n",
       "WeatherDelay          24820\n",
       "NASDelay             100460\n",
       "SecurityDelay           636\n",
       "LateAircraftDelay    225852\n",
       "Name: AA, dtype: float64"
      ]
     },
     "execution_count": 75,
     "metadata": {},
     "output_type": "execute_result"
    }
   ],
   "source": [
    "delaysumcarriersAA2 = delaysumcarries.ix[\"AA\"]\n",
    "delaysumcarriersAA2"
   ]
  },
  {
   "cell_type": "code",
   "execution_count": 103,
   "metadata": {
    "collapsed": false
   },
   "outputs": [
    {
     "data": {
      "image/png": "[encoded data removed]",
      "text/plain": [
       "<matplotlib.figure.Figure at 0x7f8baa125090>"
      ]
     },
     "metadata": {},
     "output_type": "display_data"
    }
   ],
   "source": [
    "locx = np.arange(len(delaysumcarriersAA2))\n",
    "plt.bar(locx,delaysumcarriersAA2,0.5,color='r')\n",
    "locx2 = locx + 0.5\n",
    "plt.bar(locx2,delaysumcarries.ix[\"OO\"],0.5)\n",
    "plt.show()"
   ]
  },
  {
   "cell_type": "code",
   "execution_count": 92,
   "metadata": {
    "collapsed": false
   },
   "outputs": [
    {
     "data": {
      "image/png": "[encoded data removed]",
      "text/plain": [
       "<matplotlib.figure.Figure at 0x7f8baa5b7e10>"
      ]
     },
     "metadata": {},
     "output_type": "display_data"
    }
   ],
   "source": [
    "locx = np.arange(len(delaysumcarriersAA2))\n",
    "plt.bar(locx,delaysumcarriersAA2,0.5,color='r')\n",
    "locx2 = locx + len(delaysumcarriersAA2)\n",
    "plt.bar(locx2,delaysumcarries.ix[\"OO\"],0.5)\n",
    "plt.show()"
   ]
  },
  {
   "cell_type": "code",
   "execution_count": 106,
   "metadata": {
    "collapsed": false
   },
   "outputs": [
    {
     "data": {
      "image/png": "[encoded data removed]",
      "text/plain": [
       "<matplotlib.figure.Figure at 0x7f8ba9dd87d0>"
      ]
     },
     "metadata": {},
     "output_type": "display_data"
    }
   ],
   "source": [
    "locx1 = np.arange(len(delaysumcarries['SecurityDelay']))\n",
    "plt.bar(locx1,delaysumcarries['SecurityDelay'])\n",
    "plt.xticks(locx1,delaysumcarries['SecurityDelay'])\n",
    "\n",
    "locx2 = np.arange(len(delaysumcarries['WeatherDelay']))+50\n",
    "plt.bar(locx2,delaysumcarries['WeatherDelay'])\n",
    "plt.xticks(locx2,delaysumcarries['WeatherDelay'])\n",
    "\n",
    "plt.show()"
   ]
  },
  {
   "cell_type": "code",
   "execution_count": 116,
   "metadata": {
    "collapsed": false
   },
   "outputs": [
    {
     "data": {
      "text/plain": [
       "Carrier\n",
       "AA    457355\n",
       "AS     41946\n",
       "B6    206040\n",
       "DL    376407\n",
       "EV    470725\n",
       "F9    121305\n",
       "HA      8408\n",
       "MQ    444967\n",
       "NK    113676\n",
       "OO    570636\n",
       "UA    524744\n",
       "US    169183\n",
       "VX     32142\n",
       "WN    935339\n",
       "Name: DepDelay, dtype: float64"
      ]
     },
     "execution_count": 116,
     "metadata": {},
     "output_type": "execute_result"
    }
   ],
   "source": [
    "delaysum = by_carrier[\"DepDelay\"].sum()\n",
    "delaysum"
   ]
  },
  {
   "cell_type": "code",
   "execution_count": 118,
   "metadata": {
    "collapsed": false
   },
   "outputs": [
    {
     "data": {
      "text/plain": [
       "Carrier\n",
       "WN    935339\n",
       "OO    570636\n",
       "UA    524744\n",
       "EV    470725\n",
       "AA    457355\n",
       "MQ    444967\n",
       "DL    376407\n",
       "B6    206040\n",
       "US    169183\n",
       "F9    121305\n",
       "NK    113676\n",
       "AS     41946\n",
       "VX     32142\n",
       "HA      8408\n",
       "Name: DepDelay, dtype: float64"
      ]
     },
     "execution_count": 118,
     "metadata": {},
     "output_type": "execute_result"
    }
   ],
   "source": [
    "delaysum.sort(ascending=False)\n",
    "delaysum"
   ]
  },
  {
   "cell_type": "code",
   "execution_count": 154,
   "metadata": {
    "collapsed": false
   },
   "outputs": [
    {
     "data": {
      "text/plain": [
       "<pandas.core.groupby.DataFrameGroupBy object at 0x7f8baa391f90>"
      ]
     },
     "execution_count": 154,
     "metadata": {},
     "output_type": "execute_result"
    }
   ],
   "source": [
    "by_airport = df.groupby(\"OriginCityName\")\n",
    "by_airport"
   ]
  },
  {
   "cell_type": "code",
   "execution_count": 155,
   "metadata": {
    "collapsed": false
   },
   "outputs": [
    {
     "data": {
      "text/plain": [
       "OriginCityName\n",
       "Chicago, IL       93112\n",
       "New York, NY      18552\n",
       "Atlanta, GA       11978\n",
       "Washington, DC     9453\n",
       "Boston, MA         8133\n",
       "Name: WeatherDelay, dtype: float64"
      ]
     },
     "execution_count": 155,
     "metadata": {},
     "output_type": "execute_result"
    }
   ],
   "source": [
    "delaysumairport=by_airport['WeatherDelay'].sum()\n",
    "delaysumairport.sort(ascending=False)\n",
    "delaysumairport.head(5)"
   ]
  },
  {
   "cell_type": "code",
   "execution_count": 156,
   "metadata": {
    "collapsed": false
   },
   "outputs": [
    {
     "data": {
      "text/html": [
       "<div>\n",
       "<table border=\"1\" class=\"dataframe\">\n",
       "  <thead>\n",
       "    <tr style=\"text-align: right;\">\n",
       "      <th></th>\n",
       "      <th>mean</th>\n",
       "      <th>count</th>\n",
       "    </tr>\n",
       "    <tr>\n",
       "      <th>OriginCityName</th>\n",
       "      <th></th>\n",
       "      <th></th>\n",
       "    </tr>\n",
       "  </thead>\n",
       "  <tbody>\n",
       "    <tr>\n",
       "      <th>Chicago, IL</th>\n",
       "      <td>10.528268</td>\n",
       "      <td>8844</td>\n",
       "    </tr>\n",
       "    <tr>\n",
       "      <th>Washington, DC</th>\n",
       "      <td>4.505720</td>\n",
       "      <td>2098</td>\n",
       "    </tr>\n",
       "    <tr>\n",
       "      <th>New York, NY</th>\n",
       "      <td>4.388928</td>\n",
       "      <td>4227</td>\n",
       "    </tr>\n",
       "    <tr>\n",
       "      <th>Boston, MA</th>\n",
       "      <td>4.194430</td>\n",
       "      <td>1939</td>\n",
       "    </tr>\n",
       "    <tr>\n",
       "      <th>Salt Lake City, UT</th>\n",
       "      <td>3.363402</td>\n",
       "      <td>1164</td>\n",
       "    </tr>\n",
       "  </tbody>\n",
       "</table>\n",
       "</div>"
      ],
      "text/plain": [
       "                         mean  count\n",
       "OriginCityName                      \n",
       "Chicago, IL         10.528268   8844\n",
       "Washington, DC       4.505720   2098\n",
       "New York, NY         4.388928   4227\n",
       "Boston, MA           4.194430   1939\n",
       "Salt Lake City, UT   3.363402   1164"
      ]
     },
     "execution_count": 156,
     "metadata": {},
     "output_type": "execute_result"
    }
   ],
   "source": [
    "by_airport2 = df.groupby(\"OriginCityName\")['WeatherDelay'].agg(['mean','count'])\n",
    "by_airport3 = by_airport2[by_airport2['count'] >1000]\n",
    "by_airport3.sort('mean',ascending=False).head(5)"
   ]
  },
  {
   "cell_type": "code",
   "execution_count": 173,
   "metadata": {
    "collapsed": false
   },
   "outputs": [],
   "source": [
    "df['FlightDate2'] = pd.to_datetime(df['FlightDate'],format=\"%Y-%m-%d\")\n",
    "by_flightdate = df.groupby('FlightDate2')\n",
    "flightevo=by_flightdate['Year'].count()"
   ]
  },
  {
   "cell_type": "code",
   "execution_count": 176,
   "metadata": {
    "collapsed": false
   },
   "outputs": [
    {
     "data": {
      "text/plain": [
       "FlightDate2\n",
       "2015-01-01    13950\n",
       "2015-01-02    16741\n",
       "2015-01-03    15434\n",
       "2015-01-04    16352\n",
       "2015-01-05    16548\n",
       "2015-01-06    15315\n",
       "2015-01-07    15571\n",
       "2015-01-08    16009\n",
       "2015-01-09    16008\n",
       "2015-01-10    12344\n",
       "2015-01-11    14754\n",
       "2015-01-12    15888\n",
       "2015-01-13    15180\n",
       "2015-01-14    15520\n",
       "2015-01-15    16020\n",
       "2015-01-16    16070\n",
       "2015-01-17    12070\n",
       "2015-01-18    13855\n",
       "2015-01-19    15841\n",
       "2015-01-20    15187\n",
       "2015-01-21    15525\n",
       "2015-01-22    16013\n",
       "2015-01-23    16056\n",
       "2015-01-24    12280\n",
       "2015-01-25    14720\n",
       "2015-01-26    15890\n",
       "2015-01-27    15155\n",
       "2015-01-28    15525\n",
       "2015-01-29    16030\n",
       "2015-01-30    16080\n",
       "2015-01-31    12037\n",
       "Name: Year, dtype: int64"
      ]
     },
     "execution_count": 176,
     "metadata": {},
     "output_type": "execute_result"
    }
   ],
   "source": [
    "flightevo.sort_index()\n",
    "flightevo"
   ]
  },
  {
   "cell_type": "code",
   "execution_count": 177,
   "metadata": {
    "collapsed": false
   },
   "outputs": [
    {
     "data": {
      "text/plain": [
       "<function matplotlib.pyplot.show>"
      ]
     },
     "execution_count": 177,
     "metadata": {},
     "output_type": "execute_result"
    },
    {
     "data": {
      "image/png": "[encoded data removed]",
      "text/plain": [
       "<matplotlib.figure.Figure at 0x7f8ba9e8c3d0>"
      ]
     },
     "metadata": {},
     "output_type": "display_data"
    }
   ],
   "source": [
    "plt.plot(flightevo)\n",
    "plt.ylim(0,flightevo.max()+100)\n",
    "plt.show"
   ]
  },
  {
   "cell_type": "code",
   "execution_count": 178,
   "metadata": {
    "collapsed": false
   },
   "outputs": [
    {
     "data": {
      "text/plain": [
       "Index([u'Year', u'Quarter', u'Month', u'DayofMonth', u'DayOfWeek',\n",
       "       u'FlightDate', u'UniqueCarrier', u'AirlineID', u'Carrier', u'TailNum',\n",
       "       u'FlightNum', u'OriginAirportID', u'OriginAirportSeqID',\n",
       "       u'OriginCityMarketID', u'Origin', u'OriginCityName', u'OriginState',\n",
       "       u'OriginStateFips', u'OriginStateName', u'OriginWac', u'DestAirportID',\n",
       "       u'DestAirportSeqID', u'DestCityMarketID', u'Dest', u'DestCityName',\n",
       "       u'DestState', u'DestStateFips', u'DestStateName', u'DestWac',\n",
       "       u'CRSDepTime', u'DepTime', u'DepDelay', u'DepDelayMinutes', u'DepDel15',\n",
       "       u'DepartureDelayGroups', u'DepTimeBlk', u'TaxiOut', u'WheelsOff',\n",
       "       u'WheelsOn', u'TaxiIn', u'CRSArrTime', u'ArrTime', u'ArrDelay',\n",
       "       u'ArrDelayMinutes', u'ArrDel15', u'ArrivalDelayGroups', u'ArrTimeBlk',\n",
       "       u'Cancelled', u'CancellationCode', u'CRSElapsedTime',\n",
       "       u'ActualElapsedTime', u'AirTime', u'Flights', u'Distance',\n",
       "       u'DistanceGroup', u'CarrierDelay', u'WeatherDelay', u'NASDelay',\n",
       "       u'SecurityDelay', u'LateAircraftDelay', u'FirstDepTime',\n",
       "       u'TotalAddGTime', u'LongestAddGTime', u'NewDay', u'FlifghtDateDt',\n",
       "       u'FlighNumS', u'FlightDate2'],\n",
       "      dtype='object')"
      ]
     },
     "execution_count": 178,
     "metadata": {},
     "output_type": "execute_result"
    }
   ],
   "source": [
    "df.columns"
   ]
  },
  {
   "cell_type": "code",
   "execution_count": 182,
   "metadata": {
    "collapsed": false
   },
   "outputs": [
    {
     "data": {
      "text/html": [
       "<div>\n",
       "<table border=\"1\" class=\"dataframe\">\n",
       "  <thead>\n",
       "    <tr style=\"text-align: right;\">\n",
       "      <th></th>\n",
       "      <th>FlightNum</th>\n",
       "      <th>Distance</th>\n",
       "      <th>AirTime</th>\n",
       "    </tr>\n",
       "  </thead>\n",
       "  <tbody>\n",
       "    <tr>\n",
       "      <th>FlightNum</th>\n",
       "      <td>1.000000</td>\n",
       "      <td>-0.349912</td>\n",
       "      <td>-0.335150</td>\n",
       "    </tr>\n",
       "    <tr>\n",
       "      <th>Distance</th>\n",
       "      <td>-0.349912</td>\n",
       "      <td>1.000000</td>\n",
       "      <td>0.981376</td>\n",
       "    </tr>\n",
       "    <tr>\n",
       "      <th>AirTime</th>\n",
       "      <td>-0.335150</td>\n",
       "      <td>0.981376</td>\n",
       "      <td>1.000000</td>\n",
       "    </tr>\n",
       "  </tbody>\n",
       "</table>\n",
       "</div>"
      ],
      "text/plain": [
       "           FlightNum  Distance   AirTime\n",
       "FlightNum   1.000000 -0.349912 -0.335150\n",
       "Distance   -0.349912  1.000000  0.981376\n",
       "AirTime    -0.335150  0.981376  1.000000"
      ]
     },
     "execution_count": 182,
     "metadata": {},
     "output_type": "execute_result"
    }
   ],
   "source": [
    "# correlation\n",
    "df[['FlightNum','Distance','AirTime']].corr()"
   ]
  },
  {
   "cell_type": "code",
   "execution_count": 187,
   "metadata": {
    "collapsed": false
   },
   "outputs": [],
   "source": [
    "def extracthour(n):\n",
    "    return int(n/100)\n",
    "df['Hour'] = df['DepTime'].fillna(0).apply(extracthour)"
   ]
  },
  {
   "cell_type": "code",
   "execution_count": 189,
   "metadata": {
    "collapsed": false
   },
   "outputs": [
    {
     "data": {
      "image/png": "[encoded data removed]",
      "text/plain": [
       "<matplotlib.figure.Figure at 0x7f8ba99986d0>"
      ]
     },
     "metadata": {},
     "output_type": "display_data"
    }
   ],
   "source": [
    "plt.scatter(df['Hour'],df['LateAircraftDelay'])\n",
    "plt.show()"
   ]
  },
  {
   "cell_type": "code",
   "execution_count": 191,
   "metadata": {
    "collapsed": false
   },
   "outputs": [],
   "source": [
    "by_hour = df.groupby('Hour')"
   ]
  },
  {
   "cell_type": "code",
   "execution_count": 202,
   "metadata": {
    "collapsed": false
   },
   "outputs": [],
   "source": [
    "hours = []\n",
    "groups = []\n",
    "\n",
    "for h,g in by_hour:\n",
    "    hours.append(h)\n",
    "    groups.append(g['LateAircraftDelay'].dropna(0))"
   ]
  },
  {
   "cell_type": "code",
   "execution_count": 198,
   "metadata": {
    "collapsed": false
   },
   "outputs": [
    {
     "data": {
      "image/png": "[encoded data removed]",
      "text/plain": [
       "<matplotlib.figure.Figure at 0x7f8ba94dba90>"
      ]
     },
     "metadata": {},
     "output_type": "display_data"
    }
   ],
   "source": [
    "plt.boxplot(groups)\n",
    "plt.ylim(-10,100)\n",
    "plt.show()"
   ]
  },
  {
   "cell_type": "code",
   "execution_count": null,
   "metadata": {
    "collapsed": true
   },
   "outputs": [],
   "source": []
  }
 ],
 "metadata": {
  "kernelspec": {
   "display_name": "Python 2",
   "language": "python",
   "name": "python2"
  },
  "language_info": {
   "codemirror_mode": {
    "name": "ipython",
    "version": 2
   },
   "file_extension": ".py",
   "mimetype": "text/x-python",
   "name": "python",
   "nbconvert_exporter": "python",
   "pygments_lexer": "ipython2",
   "version": "2.7.10"
  }
 },
 "nbformat": 4,
 "nbformat_minor": 0
}
