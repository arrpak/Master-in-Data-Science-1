{
 "cells": [
  {
   "cell_type": "markdown",
   "metadata": {
    "collapsed": true
   },
   "source": [
    "# Data challenge:\n",
    "\n",
    "Posted by Israel Herraiz yesterday at 5:51pm\n",
    "Israel Herraiz\n",
    "\n",
    "· You should do all the work in a Python notebook.\n",
    "\n",
    "· Export the notebook to a public notebook viewer (e.g. http://nbviewer.ipython.org).\n",
    "\n",
    "· Required: include all your code in Github.\n",
    "\n",
    "· Please promptly update the repository with your ongoing work.\n",
    "\n",
    "· Do not upload the final result when you get it done. Instead, do your work in the public so we can follow your regular updates.\n",
    "\n",
    "### First exercise: \n",
    "\n",
    "To count the number of lines in Python for each file\n",
    "\n",
    "### Second exercise: \n",
    "\n",
    "To show top 10 arrival airports in the world in 2013 (using the bookings file)\n",
    "\n",
    "Arrival airport is the column arr_port. It is the IATA code for the airport\n",
    "\n",
    "To get the total number of passengers for an airport, you can sum the column pax, grouping by arr_port. Note that there is negative pax. That corresponds to cancelations. So to get the total number of passengers that have actually booked, you should sum including the negatives (that will remove the canceled bookings).\n",
    "\n",
    "Print the top 10 arrival airports in the standard output, including the number of passengers.\n",
    "\n",
    "Required: Get the name of the city or airport corresponding to that airport (programatically, we suggest to have a look at GeoBases in Github)\n",
    "\n",
    "Required: Solve this problem using pandas (instead of any other approach)\n",
    "\n",
    "### Third exercise: \n",
    "\n",
    "To plot the monthly number of searches for flights arriving at Málaga, Madrid or Barcelona\n",
    "\n",
    "For the arriving airport, you can use the Destination column in the searches file. Plot a curve for Málaga, another one for Madrid, and another one for Barcelona, in the same figure.\n",
    "\n",
    "Required: Solving this problem using pandas (instead of any other approach)\n",
    "\n",
    "### Fourth exercise: \n",
    "\n",
    "To match searches with bookings\n",
    "\n",
    "For every search in the searches file, find out whether the search ended up in a booking or not (using the info in the bookings file). For instance, search and booking origin and destination should match. For the bookings file, origin and destination are the columns dep_port and arr_port, respectively. Generate a CSV file with the search data, and an additional field, containing 1 if the search ended up in a booking, and 0 otherwise.\n",
    "\n",
    "Bonus point: Solving this problem using pandas (instead of any other approach)\n",
    "\n",
    "### Fifth (Bonus) exercise: \n",
    "\n",
    "To write a Web Service\n",
    "\n",
    "Wrap the output of the second exercise in a web service that returns the data in JSON format (instead of printing to the standard output). The web service should accept a parameter n>0. For the top 10 airports, n is 10. For the X top airports, n is X.\n"
   ]
  }
 ],
 "metadata": {
  "kernelspec": {
   "display_name": "Python 2",
   "language": "python",
   "name": "python2"
  },
  "language_info": {
   "codemirror_mode": {
    "name": "ipython",
    "version": 2
   },
   "file_extension": ".py",
   "mimetype": "text/x-python",
   "name": "python",
   "nbconvert_exporter": "python",
   "pygments_lexer": "ipython2",
   "version": "2.7.10"
  }
 },
 "nbformat": 4,
 "nbformat_minor": 0
}
