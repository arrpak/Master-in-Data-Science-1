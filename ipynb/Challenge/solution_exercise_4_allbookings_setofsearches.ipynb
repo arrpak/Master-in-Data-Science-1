{
 "cells": [
  {
   "cell_type": "markdown",
   "metadata": {},
   "source": [
    "## Challenge: Exercise 4"
   ]
  },
  {
   "cell_type": "code",
   "execution_count": 1,
   "metadata": {
    "collapsed": false
   },
   "outputs": [
    {
     "name": "stdout",
     "output_type": "stream",
     "text": [
      "Populating the interactive namespace from numpy and matplotlib\n"
     ]
    }
   ],
   "source": [
    "import numpy as np\n",
    "import pandas as pd\n",
    "from pandas import Series,DataFrame\n",
    "%pylab inline"
   ]
  },
  {
   "cell_type": "markdown",
   "metadata": {},
   "source": [
    "### To match searches with bookings"
   ]
  },
  {
   "cell_type": "code",
   "execution_count": 2,
   "metadata": {
    "collapsed": true
   },
   "outputs": [],
   "source": [
    "import bz2\n",
    "files_path = \"/home/dsc/Repositories/Master-in-Data-Science/Data/\""
   ]
  },
  {
   "cell_type": "markdown",
   "metadata": {},
   "source": [
    "##### Loading and formatting searches"
   ]
  },
  {
   "cell_type": "code",
   "execution_count": 3,
   "metadata": {
    "collapsed": false
   },
   "outputs": [],
   "source": [
    "# Loading a portionsearches file\n",
    "searches_file = bz2.BZ2File(files_path+\"searches.csv.bz2\")\n",
    "searches_df = pd.read_csv(searches_file, \n",
    "                          sep='^',\n",
    "                          nrows=1e5,\n",
    "                          parse_dates=['Seg1Date'])\n",
    "searches_df['Is_Booked'] = 0\n",
    "\n",
    "# Reseting index avoid errors deleting duplictes after merging dataframes\n",
    "searches_df.reset_index(inplace=True)\n",
    "\n",
    "# Loading bookings file using chunks due to limit of memory\n",
    "bookings_file = bz2.BZ2File(files_path+\"bookings.csv.bz2\")\n",
    "bookings_chk = pd.read_csv(bookings_file,\n",
    "                           sep='^',\n",
    "                           chunksize=1e5,\n",
    "                           usecols=['dep_port','arr_port','brd_time           ','pax'])"
   ]
  },
  {
   "cell_type": "markdown",
   "metadata": {},
   "source": [
    "##### Loading and formatting bookings"
   ]
  },
  {
   "cell_type": "code",
   "execution_count": 4,
   "metadata": {
    "collapsed": false
   },
   "outputs": [],
   "source": [
    "# for every bookings chunk check if seach -> booking\n",
    "for chunk in bookings_chk:\n",
    "        \n",
    "    # Discarding blanks, negatives bookings anf garbage rows\n",
    "    chunk.dropna(inplace=True)\n",
    "    chunk = chunk[chunk['pax'] >=1]\n",
    "    chunk.drop('pax', axis=1, inplace=True)\n",
    "    chunk = chunk[chunk['brd_time           '] != '3']\n",
    "\n",
    "    # Formatting columns of bookings dataframe to match columns of searches dataframe\n",
    "    chunk['Origin'] = chunk['dep_port'].apply(lambda s: s.strip())\n",
    "    chunk.drop('dep_port', axis=1, inplace=True)\n",
    "    chunk['Destination'] = chunk['arr_port'].apply(lambda s: s.strip())\n",
    "    chunk.drop('arr_port', axis=1, inplace=True)\n",
    "    chunk['Seg1Date'] = chunk['brd_time           '].apply(lambda d: pd.Timestamp(pd.to_datetime(d).date()))\n",
    "    chunk.drop('brd_time           ', axis=1, inplace=True)\n",
    "\n",
    "    # Adding requested column \"if search = booking\"\n",
    "    chunk['Is_Booked_Chunk'] = 1\n",
    "    \n",
    "    # Obtaining new searches with bookings\n",
    "    searches_df = pd.merge(searches_df,chunk,on=['Origin','Destination','Seg1Date'],how=\"left\").drop_duplicates()\n",
    "    searches_df['Is_Booked_Chunk'].fillna(0,inplace=True)\n",
    "    # Adding only new matches bookings vs searches\n",
    "    searches_df['Is_Booked'] = searches_df['Is_Booked_Chunk'].where(searches_df['Is_Booked_Chunk']==1,other=searches_df['Is_Booked'])\n",
    "    searches_df.drop('Is_Booked_Chunk', axis=1, inplace=True)        "
   ]
  },
  {
   "cell_type": "markdown",
   "metadata": {},
   "source": [
    "##### Writing new searches csv file"
   ]
  },
  {
   "cell_type": "code",
   "execution_count": 5,
   "metadata": {
    "collapsed": false
   },
   "outputs": [],
   "source": [
    "new_searches_file = files_path+\"new_searches.csv\"\n",
    "searches_df.drop('index', axis=1, inplace=True)\n",
    "searches_df.to_csv(new_searches_file,sep='^',mode='w')"
   ]
  },
  {
   "cell_type": "code",
   "execution_count": null,
   "metadata": {
    "collapsed": false
   },
   "outputs": [],
   "source": []
  }
 ],
 "metadata": {
  "kernelspec": {
   "display_name": "Python 2",
   "language": "python",
   "name": "python2"
  },
  "language_info": {
   "codemirror_mode": {
    "name": "ipython",
    "version": 2
   },
   "file_extension": ".py",
   "mimetype": "text/x-python",
   "name": "python",
   "nbconvert_exporter": "python",
   "pygments_lexer": "ipython2",
   "version": "2.7.10"
  }
 },
 "nbformat": 4,
 "nbformat_minor": 0
}
