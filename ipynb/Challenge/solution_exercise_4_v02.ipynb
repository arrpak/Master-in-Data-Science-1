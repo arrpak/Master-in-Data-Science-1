{
 "cells": [
  {
   "cell_type": "markdown",
   "metadata": {},
   "source": [
    "## Challenge: Exercise 4"
   ]
  },
  {
   "cell_type": "code",
   "execution_count": 2,
   "metadata": {
    "collapsed": false
   },
   "outputs": [
    {
     "name": "stdout",
     "output_type": "stream",
     "text": [
      "Populating the interactive namespace from numpy and matplotlib\n"
     ]
    }
   ],
   "source": [
    "import numpy as np\n",
    "import pandas as pd\n",
    "from pandas import Series,DataFrame\n",
    "%pylab inline"
   ]
  },
  {
   "cell_type": "markdown",
   "metadata": {},
   "source": [
    "### To match searches with bookings"
   ]
  },
  {
   "cell_type": "code",
   "execution_count": 3,
   "metadata": {
    "collapsed": true
   },
   "outputs": [],
   "source": [
    "import bz2\n",
    "files_path = \"/home/dsc/Repositories/Master-in-Data-Science/Data/\""
   ]
  },
  {
   "cell_type": "markdown",
   "metadata": {},
   "source": [
    "##### Loading and formatting searches"
   ]
  },
  {
   "cell_type": "code",
   "execution_count": 90,
   "metadata": {
    "collapsed": false
   },
   "outputs": [],
   "source": [
    "searches_file = bz2.BZ2File(files_path+\"searches.csv.bz2\")\n",
    "searches_df = pd.read_csv(searches_file, \n",
    "                          sep='^',\n",
    "                          nrows=1e5,\n",
    "                          usecols=['Origin','Destination','Seg1Date'],\n",
    "                          parse_dates=['Seg1Date'])\n",
    "searches_df['Is_Booked'] = 0\n",
    "searches_df.reset_index(inplace=True)\n",
    "bookings_file = bz2.BZ2File(files_path+\"bookings.csv.bz2\")\n",
    "bookings_chk = pd.read_csv(bookings_file, sep='^',chunksize=1e5,usecols=['dep_port','arr_port','brd_time           ','pax'],parse_dates=['brd_time           '])"
   ]
  },
  {
   "cell_type": "markdown",
   "metadata": {},
   "source": [
    "##### Loading and formatting bookings"
   ]
  },
  {
   "cell_type": "code",
   "execution_count": 91,
   "metadata": {
    "collapsed": false
   },
   "outputs": [
    {
     "name": "stdout",
     "output_type": "stream",
     "text": [
      "   index Origin Destination   Seg1Date  Is_Booked  Is_Booked_Chunk\n",
      "0      0    TXL         AUH 2013-01-26          0              NaN\n",
      "\n",
      "1364.0\n",
      "100000\n",
      "   index Origin Destination   Seg1Date  Is_Booked  Is_Booked_Chunk\n",
      "0      0    TXL         AUH 2013-01-26          0              NaN\n",
      "\n",
      "2621.0\n",
      "100000\n",
      "   index Origin Destination   Seg1Date  Is_Booked  Is_Booked_Chunk\n",
      "0      0    TXL         AUH 2013-01-26          0              NaN\n",
      "\n",
      "3723.0\n",
      "100000\n",
      "   index Origin Destination   Seg1Date  Is_Booked  Is_Booked_Chunk\n",
      "0      0    TXL         AUH 2013-01-26          0              NaN\n",
      "\n",
      "4708.0\n",
      "100000\n",
      "   index Origin Destination   Seg1Date  Is_Booked  Is_Booked_Chunk\n",
      "0      0    TXL         AUH 2013-01-26          0              NaN\n",
      "\n",
      "5291.0\n",
      "100000\n",
      "   index Origin Destination   Seg1Date  Is_Booked  Is_Booked_Chunk\n",
      "0      0    TXL         AUH 2013-01-26          0              NaN\n",
      "\n",
      "5729.0\n",
      "100000\n",
      "   index Origin Destination   Seg1Date  Is_Booked  Is_Booked_Chunk\n",
      "0      0    TXL         AUH 2013-01-26          0              NaN\n",
      "\n",
      "6312.0\n",
      "100000\n",
      "   index Origin Destination   Seg1Date  Is_Booked  Is_Booked_Chunk\n",
      "0      0    TXL         AUH 2013-01-26          0              NaN\n",
      "\n",
      "6680.0\n",
      "100000\n"
     ]
    },
    {
     "ename": "KeyboardInterrupt",
     "evalue": "",
     "output_type": "error",
     "traceback": [
      "\u001b[1;31m---------------------------------------------------------------------------\u001b[0m",
      "\u001b[1;31mKeyboardInterrupt\u001b[0m                         Traceback (most recent call last)",
      "\u001b[1;32m<ipython-input-91-5416c847842b>\u001b[0m in \u001b[0;36m<module>\u001b[1;34m()\u001b[0m\n\u001b[0;32m      1\u001b[0m \u001b[0mn\u001b[0m\u001b[1;33m=\u001b[0m\u001b[1;36m0\u001b[0m\u001b[1;33m\u001b[0m\u001b[0m\n\u001b[1;32m----> 2\u001b[1;33m \u001b[1;32mfor\u001b[0m \u001b[0mchunk\u001b[0m \u001b[1;32min\u001b[0m \u001b[0mbookings_chk\u001b[0m\u001b[1;33m:\u001b[0m\u001b[1;33m\u001b[0m\u001b[0m\n\u001b[0m\u001b[0;32m      3\u001b[0m     \u001b[0mn\u001b[0m \u001b[1;33m+=\u001b[0m \u001b[1;36m1\u001b[0m\u001b[1;33m\u001b[0m\u001b[0m\n\u001b[0;32m      4\u001b[0m     \u001b[1;32mif\u001b[0m \u001b[0mn\u001b[0m\u001b[1;33m>\u001b[0m\u001b[1;36m125\u001b[0m\u001b[1;33m:\u001b[0m\u001b[1;33m\u001b[0m\u001b[0m\n\u001b[0;32m      5\u001b[0m         \u001b[1;32mbreak\u001b[0m\u001b[1;33m\u001b[0m\u001b[0m\n",
      "\u001b[1;32m/usr/lib64/python2.7/site-packages/pandas/io/parsers.pyc\u001b[0m in \u001b[0;36m__iter__\u001b[1;34m(self)\u001b[0m\n\u001b[0;32m    695\u001b[0m             \u001b[1;32mif\u001b[0m \u001b[0mself\u001b[0m\u001b[1;33m.\u001b[0m\u001b[0mchunksize\u001b[0m\u001b[1;33m:\u001b[0m\u001b[1;33m\u001b[0m\u001b[0m\n\u001b[0;32m    696\u001b[0m                 \u001b[1;32mwhile\u001b[0m \u001b[0mTrue\u001b[0m\u001b[1;33m:\u001b[0m\u001b[1;33m\u001b[0m\u001b[0m\n\u001b[1;32m--> 697\u001b[1;33m                     \u001b[1;32myield\u001b[0m \u001b[0mself\u001b[0m\u001b[1;33m.\u001b[0m\u001b[0mread\u001b[0m\u001b[1;33m(\u001b[0m\u001b[0mself\u001b[0m\u001b[1;33m.\u001b[0m\u001b[0mchunksize\u001b[0m\u001b[1;33m)\u001b[0m\u001b[1;33m\u001b[0m\u001b[0m\n\u001b[0m\u001b[0;32m    698\u001b[0m             \u001b[1;32melse\u001b[0m\u001b[1;33m:\u001b[0m\u001b[1;33m\u001b[0m\u001b[0m\n\u001b[0;32m    699\u001b[0m                 \u001b[1;32myield\u001b[0m \u001b[0mself\u001b[0m\u001b[1;33m.\u001b[0m\u001b[0mread\u001b[0m\u001b[1;33m(\u001b[0m\u001b[1;33m)\u001b[0m\u001b[1;33m\u001b[0m\u001b[0m\n",
      "\u001b[1;32m/usr/lib64/python2.7/site-packages/pandas/io/parsers.pyc\u001b[0m in \u001b[0;36mread\u001b[1;34m(self, nrows)\u001b[0m\n\u001b[0;32m    719\u001b[0m                 \u001b[1;32mraise\u001b[0m \u001b[0mValueError\u001b[0m\u001b[1;33m(\u001b[0m\u001b[1;34m'skip_footer not supported for iteration'\u001b[0m\u001b[1;33m)\u001b[0m\u001b[1;33m\u001b[0m\u001b[0m\n\u001b[0;32m    720\u001b[0m \u001b[1;33m\u001b[0m\u001b[0m\n\u001b[1;32m--> 721\u001b[1;33m         \u001b[0mret\u001b[0m \u001b[1;33m=\u001b[0m \u001b[0mself\u001b[0m\u001b[1;33m.\u001b[0m\u001b[0m_engine\u001b[0m\u001b[1;33m.\u001b[0m\u001b[0mread\u001b[0m\u001b[1;33m(\u001b[0m\u001b[0mnrows\u001b[0m\u001b[1;33m)\u001b[0m\u001b[1;33m\u001b[0m\u001b[0m\n\u001b[0m\u001b[0;32m    722\u001b[0m \u001b[1;33m\u001b[0m\u001b[0m\n\u001b[0;32m    723\u001b[0m         \u001b[1;32mif\u001b[0m \u001b[0mself\u001b[0m\u001b[1;33m.\u001b[0m\u001b[0moptions\u001b[0m\u001b[1;33m.\u001b[0m\u001b[0mget\u001b[0m\u001b[1;33m(\u001b[0m\u001b[1;34m'as_recarray'\u001b[0m\u001b[1;33m)\u001b[0m\u001b[1;33m:\u001b[0m\u001b[1;33m\u001b[0m\u001b[0m\n",
      "\u001b[1;32m/usr/lib64/python2.7/site-packages/pandas/io/parsers.pyc\u001b[0m in \u001b[0;36mread\u001b[1;34m(self, nrows)\u001b[0m\n\u001b[0;32m   1168\u001b[0m \u001b[1;33m\u001b[0m\u001b[0m\n\u001b[0;32m   1169\u001b[0m         \u001b[1;32mtry\u001b[0m\u001b[1;33m:\u001b[0m\u001b[1;33m\u001b[0m\u001b[0m\n\u001b[1;32m-> 1170\u001b[1;33m             \u001b[0mdata\u001b[0m \u001b[1;33m=\u001b[0m \u001b[0mself\u001b[0m\u001b[1;33m.\u001b[0m\u001b[0m_reader\u001b[0m\u001b[1;33m.\u001b[0m\u001b[0mread\u001b[0m\u001b[1;33m(\u001b[0m\u001b[0mnrows\u001b[0m\u001b[1;33m)\u001b[0m\u001b[1;33m\u001b[0m\u001b[0m\n\u001b[0m\u001b[0;32m   1171\u001b[0m         \u001b[1;32mexcept\u001b[0m \u001b[0mStopIteration\u001b[0m\u001b[1;33m:\u001b[0m\u001b[1;33m\u001b[0m\u001b[0m\n\u001b[0;32m   1172\u001b[0m             \u001b[1;32mif\u001b[0m \u001b[0mnrows\u001b[0m \u001b[1;32mis\u001b[0m \u001b[0mNone\u001b[0m\u001b[1;33m:\u001b[0m\u001b[1;33m\u001b[0m\u001b[0m\n",
      "\u001b[1;31mKeyboardInterrupt\u001b[0m: "
     ]
    }
   ],
   "source": [
    "n=0\n",
    "for chunk in bookings_chk:\n",
    "    n += 1\n",
    "    if n>125:\n",
    "        break\n",
    "        \n",
    "    # Discarding blanks\n",
    "    chunk.dropna(inplace=True)\n",
    "\n",
    "    # Discarding \"negative\" bookings\n",
    "    chunk = chunk[chunk['pax'] >=1]\n",
    "    chunk.drop('pax', axis=1, inplace=True)\n",
    "\n",
    "    # Formatting bookings dataframe to match searches dataframe\n",
    "    chunk['Origin'] = chunk['dep_port'].apply(lambda s: s.strip())\n",
    "    chunk.drop('dep_port', axis=1, inplace=True)\n",
    "\n",
    "    chunk['Destination'] = chunk['arr_port'].apply(lambda s: s.strip())\n",
    "    chunk.drop('arr_port', axis=1, inplace=True)\n",
    "\n",
    "    chunk['Seg1Date'] = chunk['brd_time           '].apply(lambda d: pd.Timestamp(d.date()))\n",
    "    chunk.drop('brd_time           ', axis=1, inplace=True)\n",
    "\n",
    "    # Adding requested column \"if search = booking\"\n",
    "    chunk['Is_Booked_Chunk'] = 1\n",
    "    \n",
    "    # Obtaining searches with bookings\n",
    "    searches_df = pd.merge(searches_df,chunk,on=['Origin','Destination','Seg1Date'],how=\"left\").drop_duplicates()\n",
    "    print searches_df.head(1)\n",
    "    searches_df['Is_Booked_Chunk'].fillna(0,inplace=True)\n",
    "    #print searches_df['Is_Booked_Chunk'].sum()\n",
    "    searches_df['Is_Booked'] = searches_df['Is_Booked_Chunk'].where(searches_df['Is_Booked_Chunk']==1,other=searches_df['Is_Booked'])\n",
    "    searches_df.drop('Is_Booked_Chunk', axis=1, inplace=True)\n",
    "    print \n",
    "    print searches_df['Is_Booked'].sum()\n",
    "    print len(searches_df)\n",
    "\n",
    "        "
   ]
  },
  {
   "cell_type": "markdown",
   "metadata": {},
   "source": [
    "##### Merging both dataframes"
   ]
  },
  {
   "cell_type": "code",
   "execution_count": null,
   "metadata": {
    "collapsed": false
   },
   "outputs": [],
   "source": [
    "# Obtaining searches with bookings\n",
    "searches_df = pd.merge(searches_df,bookings_df,how=\"left\").drop_duplicates()\n",
    "searches_df['Is_Booked_'+str(n)].fillna(0,inplace=True)\n",
    "searches_df.groupby('Is_Booked_'+str(n)).count()\n",
    "# merged_df.head()"
   ]
  },
  {
   "cell_type": "code",
   "execution_count": null,
   "metadata": {
    "collapsed": false
   },
   "outputs": [],
   "source": [
    "merged_df.head(1)"
   ]
  },
  {
   "cell_type": "code",
   "execution_count": null,
   "metadata": {
    "collapsed": true
   },
   "outputs": [],
   "source": []
  }
 ],
 "metadata": {
  "kernelspec": {
   "display_name": "Python 2",
   "language": "python",
   "name": "python2"
  },
  "language_info": {
   "codemirror_mode": {
    "name": "ipython",
    "version": 2
   },
   "file_extension": ".py",
   "mimetype": "text/x-python",
   "name": "python",
   "nbconvert_exporter": "python",
   "pygments_lexer": "ipython2",
   "version": "2.7.10"
  }
 },
 "nbformat": 4,
 "nbformat_minor": 0
}
