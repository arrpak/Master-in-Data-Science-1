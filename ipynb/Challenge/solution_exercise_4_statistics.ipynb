{
 "cells": [
  {
   "cell_type": "markdown",
   "metadata": {},
   "source": [
    "## Challenge: Exercise 4"
   ]
  },
  {
   "cell_type": "code",
   "execution_count": 1,
   "metadata": {
    "collapsed": false
   },
   "outputs": [
    {
     "name": "stdout",
     "output_type": "stream",
     "text": [
      "Populating the interactive namespace from numpy and matplotlib\n"
     ]
    }
   ],
   "source": [
    "import numpy as np\n",
    "import pandas as pd\n",
    "from pandas import Series,DataFrame\n",
    "%pylab inline"
   ]
  },
  {
   "cell_type": "markdown",
   "metadata": {},
   "source": [
    "### Statistics about searches with bookings"
   ]
  },
  {
   "cell_type": "code",
   "execution_count": 2,
   "metadata": {
    "collapsed": true
   },
   "outputs": [],
   "source": [
    "import bz2\n",
    "files_path = \"/home/dsc/Repositories/Master-in-Data-Science/Data/\""
   ]
  },
  {
   "cell_type": "markdown",
   "metadata": {},
   "source": [
    "##### Loading and formatting searches file"
   ]
  },
  {
   "cell_type": "code",
   "execution_count": 4,
   "metadata": {
    "collapsed": false
   },
   "outputs": [],
   "source": [
    "# Loading searches file\n",
    "searches_file = bz2.BZ2File(files_path+\"new_searches.csv.bz2\")\n",
    "searches_df = pd.read_csv(searches_file,sep='^',nrows=2e6, usecols=['Country','Date','Seg1Date','Is_Booked'])\n",
    "searches_df = searches_df.dropna(subset=['Seg1Date'])\n",
    "\n",
    "# Adding column with days between search and departure\n",
    "searches_df['BookDate'] = pd.to_datetime(searches_df['Date'])\n",
    "searches_df['DepDate'] = pd.to_datetime(searches_df['Seg1Date'])\n",
    "searches_df['DiffDates'] = searches_df.DepDate-searches_df.BookDate\n",
    "searches_df['DaysToDep'] = (pd.to_timedelta(searches_df['DiffDates'])/np.timedelta64(1, 'D')).astype(int)"
   ]
  },
  {
   "cell_type": "markdown",
   "metadata": {},
   "source": [
    "##### Grouping by period search/departure"
   ]
  },
  {
   "cell_type": "code",
   "execution_count": 5,
   "metadata": {
    "collapsed": false
   },
   "outputs": [],
   "source": [
    "result_df = DataFrame(searches_df.groupby('DaysToDep')['Is_Booked'].sum())\n",
    "result_df['TotSearched'] = searches_df.groupby('DaysToDep')['Is_Booked'].count()\n",
    "\n",
    "# Adding column with rate_conversion\n",
    "result_df['Rate_Conversion'] = result_df.Is_Booked/result_df.TotSearched*100\n",
    "result_df.reset_index(inplace=True)\n",
    "result_df.sort('DaysToDep',ascending=False,inplace=True)"
   ]
  },
  {
   "cell_type": "markdown",
   "metadata": {},
   "source": [
    "#### Top searching days"
   ]
  },
  {
   "cell_type": "code",
   "execution_count": 6,
   "metadata": {
    "collapsed": false
   },
   "outputs": [
    {
     "data": {
      "text/html": [
       "<div>\n",
       "<table border=\"1\" class=\"dataframe\">\n",
       "  <thead>\n",
       "    <tr style=\"text-align: right;\">\n",
       "      <th></th>\n",
       "      <th>DaysToDep</th>\n",
       "      <th>Is_Booked</th>\n",
       "      <th>TotSearched</th>\n",
       "      <th>Rate_Conversion</th>\n",
       "    </tr>\n",
       "  </thead>\n",
       "  <tbody>\n",
       "    <tr>\n",
       "      <th>3</th>\n",
       "      <td>3</td>\n",
       "      <td>4385</td>\n",
       "      <td>45927</td>\n",
       "      <td>9.547761</td>\n",
       "    </tr>\n",
       "    <tr>\n",
       "      <th>1</th>\n",
       "      <td>1</td>\n",
       "      <td>3364</td>\n",
       "      <td>42990</td>\n",
       "      <td>7.825076</td>\n",
       "    </tr>\n",
       "    <tr>\n",
       "      <th>2</th>\n",
       "      <td>2</td>\n",
       "      <td>2848</td>\n",
       "      <td>40241</td>\n",
       "      <td>7.077359</td>\n",
       "    </tr>\n",
       "    <tr>\n",
       "      <th>7</th>\n",
       "      <td>7</td>\n",
       "      <td>2592</td>\n",
       "      <td>39825</td>\n",
       "      <td>6.508475</td>\n",
       "    </tr>\n",
       "    <tr>\n",
       "      <th>4</th>\n",
       "      <td>4</td>\n",
       "      <td>2974</td>\n",
       "      <td>36876</td>\n",
       "      <td>8.064866</td>\n",
       "    </tr>\n",
       "    <tr>\n",
       "      <th>14</th>\n",
       "      <td>14</td>\n",
       "      <td>1962</td>\n",
       "      <td>35645</td>\n",
       "      <td>5.504278</td>\n",
       "    </tr>\n",
       "    <tr>\n",
       "      <th>5</th>\n",
       "      <td>5</td>\n",
       "      <td>2648</td>\n",
       "      <td>33690</td>\n",
       "      <td>7.859899</td>\n",
       "    </tr>\n",
       "    <tr>\n",
       "      <th>6</th>\n",
       "      <td>6</td>\n",
       "      <td>2344</td>\n",
       "      <td>33680</td>\n",
       "      <td>6.959620</td>\n",
       "    </tr>\n",
       "    <tr>\n",
       "      <th>8</th>\n",
       "      <td>8</td>\n",
       "      <td>2004</td>\n",
       "      <td>28509</td>\n",
       "      <td>7.029359</td>\n",
       "    </tr>\n",
       "    <tr>\n",
       "      <th>10</th>\n",
       "      <td>10</td>\n",
       "      <td>1636</td>\n",
       "      <td>28053</td>\n",
       "      <td>5.831818</td>\n",
       "    </tr>\n",
       "  </tbody>\n",
       "</table>\n",
       "</div>"
      ],
      "text/plain": [
       "    DaysToDep  Is_Booked  TotSearched  Rate_Conversion\n",
       "3           3       4385        45927         9.547761\n",
       "1           1       3364        42990         7.825076\n",
       "2           2       2848        40241         7.077359\n",
       "7           7       2592        39825         6.508475\n",
       "4           4       2974        36876         8.064866\n",
       "14         14       1962        35645         5.504278\n",
       "5           5       2648        33690         7.859899\n",
       "6           6       2344        33680         6.959620\n",
       "8           8       2004        28509         7.029359\n",
       "10         10       1636        28053         5.831818"
      ]
     },
     "execution_count": 6,
     "metadata": {},
     "output_type": "execute_result"
    }
   ],
   "source": [
    "result_df.sort('TotSearched',ascending=False).head(10)"
   ]
  },
  {
   "cell_type": "code",
   "execution_count": 8,
   "metadata": {
    "collapsed": false,
    "scrolled": true
   },
   "outputs": [
    {
     "data": {
      "image/png": "[encoded data removed]",
      "text/plain": [
       "<matplotlib.figure.Figure at 0x7f48d5162850>"
      ]
     },
     "metadata": {},
     "output_type": "display_data"
    }
   ],
   "source": [
    "result_df[result_df['TotSearched'] > 5000 ]['TotSearched'].plot()\n",
    "plt.legend(bbox_to_anchor=(1.05,1), loc=2, borderaxespad=0.)\n",
    "plt.title(\"\\nSearches by Days to Departure\\n\")\n",
    "plt.xlabel(\"\\nDays to Departure\")\n",
    "plt.ylabel(\"Number of searches\\n\")\n",
    "plt.show()"
   ]
  },
  {
   "cell_type": "markdown",
   "metadata": {},
   "source": [
    "#### Top searching days with booking"
   ]
  },
  {
   "cell_type": "code",
   "execution_count": 9,
   "metadata": {
    "collapsed": false
   },
   "outputs": [
    {
     "data": {
      "text/html": [
       "<div>\n",
       "<table border=\"1\" class=\"dataframe\">\n",
       "  <thead>\n",
       "    <tr style=\"text-align: right;\">\n",
       "      <th></th>\n",
       "      <th>DaysToDep</th>\n",
       "      <th>Is_Booked</th>\n",
       "      <th>TotSearched</th>\n",
       "      <th>Rate_Conversion</th>\n",
       "    </tr>\n",
       "  </thead>\n",
       "  <tbody>\n",
       "    <tr>\n",
       "      <th>3</th>\n",
       "      <td>3</td>\n",
       "      <td>4385</td>\n",
       "      <td>45927</td>\n",
       "      <td>9.547761</td>\n",
       "    </tr>\n",
       "    <tr>\n",
       "      <th>1</th>\n",
       "      <td>1</td>\n",
       "      <td>3364</td>\n",
       "      <td>42990</td>\n",
       "      <td>7.825076</td>\n",
       "    </tr>\n",
       "    <tr>\n",
       "      <th>4</th>\n",
       "      <td>4</td>\n",
       "      <td>2974</td>\n",
       "      <td>36876</td>\n",
       "      <td>8.064866</td>\n",
       "    </tr>\n",
       "    <tr>\n",
       "      <th>2</th>\n",
       "      <td>2</td>\n",
       "      <td>2848</td>\n",
       "      <td>40241</td>\n",
       "      <td>7.077359</td>\n",
       "    </tr>\n",
       "    <tr>\n",
       "      <th>5</th>\n",
       "      <td>5</td>\n",
       "      <td>2648</td>\n",
       "      <td>33690</td>\n",
       "      <td>7.859899</td>\n",
       "    </tr>\n",
       "    <tr>\n",
       "      <th>7</th>\n",
       "      <td>7</td>\n",
       "      <td>2592</td>\n",
       "      <td>39825</td>\n",
       "      <td>6.508475</td>\n",
       "    </tr>\n",
       "    <tr>\n",
       "      <th>6</th>\n",
       "      <td>6</td>\n",
       "      <td>2344</td>\n",
       "      <td>33680</td>\n",
       "      <td>6.959620</td>\n",
       "    </tr>\n",
       "    <tr>\n",
       "      <th>8</th>\n",
       "      <td>8</td>\n",
       "      <td>2004</td>\n",
       "      <td>28509</td>\n",
       "      <td>7.029359</td>\n",
       "    </tr>\n",
       "    <tr>\n",
       "      <th>14</th>\n",
       "      <td>14</td>\n",
       "      <td>1962</td>\n",
       "      <td>35645</td>\n",
       "      <td>5.504278</td>\n",
       "    </tr>\n",
       "    <tr>\n",
       "      <th>0</th>\n",
       "      <td>0</td>\n",
       "      <td>1873</td>\n",
       "      <td>26808</td>\n",
       "      <td>6.986720</td>\n",
       "    </tr>\n",
       "  </tbody>\n",
       "</table>\n",
       "</div>"
      ],
      "text/plain": [
       "    DaysToDep  Is_Booked  TotSearched  Rate_Conversion\n",
       "3           3       4385        45927         9.547761\n",
       "1           1       3364        42990         7.825076\n",
       "4           4       2974        36876         8.064866\n",
       "2           2       2848        40241         7.077359\n",
       "5           5       2648        33690         7.859899\n",
       "7           7       2592        39825         6.508475\n",
       "6           6       2344        33680         6.959620\n",
       "8           8       2004        28509         7.029359\n",
       "14         14       1962        35645         5.504278\n",
       "0           0       1873        26808         6.986720"
      ]
     },
     "execution_count": 9,
     "metadata": {},
     "output_type": "execute_result"
    }
   ],
   "source": [
    "result_df.sort('Is_Booked',ascending=False).head(10)"
   ]
  },
  {
   "cell_type": "code",
   "execution_count": 10,
   "metadata": {
    "collapsed": false
   },
   "outputs": [
    {
     "data": {
      "image/png": "[encoded data removed]",
      "text/plain": [
       "<matplotlib.figure.Figure at 0x7f48d50f64d0>"
      ]
     },
     "metadata": {},
     "output_type": "display_data"
    }
   ],
   "source": [
    "result_df[result_df['TotSearched'] > 5000]['Is_Booked'].plot()\n",
    "plt.legend(bbox_to_anchor=(1.05,1), loc=2, borderaxespad=0.)\n",
    "plt.title(\"\\nBoookings by Days to Departure\\n\")\n",
    "plt.xlabel(\"\\nDays to Departure\")\n",
    "plt.ylabel(\"Number of searches\\n\")\n",
    "plt.show()"
   ]
  },
  {
   "cell_type": "markdown",
   "metadata": {},
   "source": [
    "#### Top by rate_conversion searching days  "
   ]
  },
  {
   "cell_type": "code",
   "execution_count": 11,
   "metadata": {
    "collapsed": false
   },
   "outputs": [
    {
     "data": {
      "text/html": [
       "<div>\n",
       "<table border=\"1\" class=\"dataframe\">\n",
       "  <thead>\n",
       "    <tr style=\"text-align: right;\">\n",
       "      <th></th>\n",
       "      <th>DaysToDep</th>\n",
       "      <th>Is_Booked</th>\n",
       "      <th>TotSearched</th>\n",
       "      <th>Rate_Conversion</th>\n",
       "    </tr>\n",
       "  </thead>\n",
       "  <tbody>\n",
       "    <tr>\n",
       "      <th>3</th>\n",
       "      <td>3</td>\n",
       "      <td>4385</td>\n",
       "      <td>45927</td>\n",
       "      <td>9.547761</td>\n",
       "    </tr>\n",
       "    <tr>\n",
       "      <th>4</th>\n",
       "      <td>4</td>\n",
       "      <td>2974</td>\n",
       "      <td>36876</td>\n",
       "      <td>8.064866</td>\n",
       "    </tr>\n",
       "    <tr>\n",
       "      <th>5</th>\n",
       "      <td>5</td>\n",
       "      <td>2648</td>\n",
       "      <td>33690</td>\n",
       "      <td>7.859899</td>\n",
       "    </tr>\n",
       "    <tr>\n",
       "      <th>1</th>\n",
       "      <td>1</td>\n",
       "      <td>3364</td>\n",
       "      <td>42990</td>\n",
       "      <td>7.825076</td>\n",
       "    </tr>\n",
       "    <tr>\n",
       "      <th>2</th>\n",
       "      <td>2</td>\n",
       "      <td>2848</td>\n",
       "      <td>40241</td>\n",
       "      <td>7.077359</td>\n",
       "    </tr>\n",
       "    <tr>\n",
       "      <th>19</th>\n",
       "      <td>19</td>\n",
       "      <td>1466</td>\n",
       "      <td>20736</td>\n",
       "      <td>7.069830</td>\n",
       "    </tr>\n",
       "    <tr>\n",
       "      <th>8</th>\n",
       "      <td>8</td>\n",
       "      <td>2004</td>\n",
       "      <td>28509</td>\n",
       "      <td>7.029359</td>\n",
       "    </tr>\n",
       "    <tr>\n",
       "      <th>0</th>\n",
       "      <td>0</td>\n",
       "      <td>1873</td>\n",
       "      <td>26808</td>\n",
       "      <td>6.986720</td>\n",
       "    </tr>\n",
       "    <tr>\n",
       "      <th>6</th>\n",
       "      <td>6</td>\n",
       "      <td>2344</td>\n",
       "      <td>33680</td>\n",
       "      <td>6.959620</td>\n",
       "    </tr>\n",
       "    <tr>\n",
       "      <th>9</th>\n",
       "      <td>9</td>\n",
       "      <td>1845</td>\n",
       "      <td>27531</td>\n",
       "      <td>6.701536</td>\n",
       "    </tr>\n",
       "  </tbody>\n",
       "</table>\n",
       "</div>"
      ],
      "text/plain": [
       "    DaysToDep  Is_Booked  TotSearched  Rate_Conversion\n",
       "3           3       4385        45927         9.547761\n",
       "4           4       2974        36876         8.064866\n",
       "5           5       2648        33690         7.859899\n",
       "1           1       3364        42990         7.825076\n",
       "2           2       2848        40241         7.077359\n",
       "19         19       1466        20736         7.069830\n",
       "8           8       2004        28509         7.029359\n",
       "0           0       1873        26808         6.986720\n",
       "6           6       2344        33680         6.959620\n",
       "9           9       1845        27531         6.701536"
      ]
     },
     "execution_count": 11,
     "metadata": {},
     "output_type": "execute_result"
    }
   ],
   "source": [
    "result_df[result_df.TotSearched > 5000].sort('Rate_Conversion',ascending=False).head(10)"
   ]
  },
  {
   "cell_type": "code",
   "execution_count": 12,
   "metadata": {
    "collapsed": false
   },
   "outputs": [
    {
     "data": {
      "image/png": "[encoded data removed]",
      "text/plain": [
       "<matplotlib.figure.Figure at 0x7f48d4fd1350>"
      ]
     },
     "metadata": {},
     "output_type": "display_data"
    }
   ],
   "source": [
    "result_df[result_df['TotSearched'] > 5000 ]['Rate_Conversion'].plot()\n",
    "plt.legend(bbox_to_anchor=(1.05,1), loc=2, borderaxespad=0.)\n",
    "plt.title(\"\\nRate_conversion by Time to Departure\\n\")\n",
    "plt.xlabel(\"\\nDays to Departure\")\n",
    "plt.ylabel(\"Rate_Conversion\\n\")\n",
    "plt.show()"
   ]
  },
  {
   "cell_type": "markdown",
   "metadata": {},
   "source": [
    "### Statistics by Country"
   ]
  },
  {
   "cell_type": "code",
   "execution_count": 13,
   "metadata": {
    "collapsed": false
   },
   "outputs": [],
   "source": [
    "result_df = DataFrame(searches_df.groupby('Country')['Is_Booked'].sum())\n",
    "result_df['TotSearched'] = searches_df.groupby('Country')['Is_Booked'].count()\n",
    "# Adding column with rate_conversion\n",
    "result_df['Rate_Conversion'] = result_df.Is_Booked/result_df.TotSearched*100\n",
    "# Adding column with average DaysToDep\n",
    "result_df['DaysToDep'] = searches_df.groupby('Country')['DaysToDep'].mean()\n",
    "\n",
    "result_df.reset_index(inplace=True)"
   ]
  },
  {
   "cell_type": "markdown",
   "metadata": {},
   "source": [
    "#### Top searching countries"
   ]
  },
  {
   "cell_type": "code",
   "execution_count": 14,
   "metadata": {
    "collapsed": false
   },
   "outputs": [
    {
     "data": {
      "text/html": [
       "<div>\n",
       "<table border=\"1\" class=\"dataframe\">\n",
       "  <thead>\n",
       "    <tr style=\"text-align: right;\">\n",
       "      <th></th>\n",
       "      <th>Country</th>\n",
       "      <th>Is_Booked</th>\n",
       "      <th>TotSearched</th>\n",
       "      <th>Rate_Conversion</th>\n",
       "      <th>DaysToDep</th>\n",
       "    </tr>\n",
       "  </thead>\n",
       "  <tbody>\n",
       "    <tr>\n",
       "      <th>169</th>\n",
       "      <td>US</td>\n",
       "      <td>26878</td>\n",
       "      <td>555563</td>\n",
       "      <td>4.837975</td>\n",
       "      <td>71.643918</td>\n",
       "    </tr>\n",
       "    <tr>\n",
       "      <th>41</th>\n",
       "      <td>DE</td>\n",
       "      <td>14797</td>\n",
       "      <td>263888</td>\n",
       "      <td>5.607303</td>\n",
       "      <td>76.694848</td>\n",
       "    </tr>\n",
       "    <tr>\n",
       "      <th>56</th>\n",
       "      <td>GB</td>\n",
       "      <td>7364</td>\n",
       "      <td>139827</td>\n",
       "      <td>5.266508</td>\n",
       "      <td>83.050434</td>\n",
       "    </tr>\n",
       "    <tr>\n",
       "      <th>54</th>\n",
       "      <td>FR</td>\n",
       "      <td>4447</td>\n",
       "      <td>110860</td>\n",
       "      <td>4.011366</td>\n",
       "      <td>61.348638</td>\n",
       "    </tr>\n",
       "    <tr>\n",
       "      <th>48</th>\n",
       "      <td>ES</td>\n",
       "      <td>5455</td>\n",
       "      <td>103628</td>\n",
       "      <td>5.264021</td>\n",
       "      <td>61.840477</td>\n",
       "    </tr>\n",
       "    <tr>\n",
       "      <th>140</th>\n",
       "      <td>RU</td>\n",
       "      <td>1359</td>\n",
       "      <td>83828</td>\n",
       "      <td>1.621177</td>\n",
       "      <td>51.452438</td>\n",
       "    </tr>\n",
       "    <tr>\n",
       "      <th>25</th>\n",
       "      <td>CA</td>\n",
       "      <td>3627</td>\n",
       "      <td>82106</td>\n",
       "      <td>4.417460</td>\n",
       "      <td>65.764609</td>\n",
       "    </tr>\n",
       "    <tr>\n",
       "      <th>81</th>\n",
       "      <td>IT</td>\n",
       "      <td>1883</td>\n",
       "      <td>78607</td>\n",
       "      <td>2.395461</td>\n",
       "      <td>63.129594</td>\n",
       "    </tr>\n",
       "    <tr>\n",
       "      <th>21</th>\n",
       "      <td>BR</td>\n",
       "      <td>1519</td>\n",
       "      <td>70609</td>\n",
       "      <td>2.151284</td>\n",
       "      <td>66.558484</td>\n",
       "    </tr>\n",
       "    <tr>\n",
       "      <th>121</th>\n",
       "      <td>NL</td>\n",
       "      <td>1891</td>\n",
       "      <td>45951</td>\n",
       "      <td>4.115253</td>\n",
       "      <td>69.464952</td>\n",
       "    </tr>\n",
       "  </tbody>\n",
       "</table>\n",
       "</div>"
      ],
      "text/plain": [
       "    Country  Is_Booked  TotSearched  Rate_Conversion  DaysToDep\n",
       "169      US      26878       555563         4.837975  71.643918\n",
       "41       DE      14797       263888         5.607303  76.694848\n",
       "56       GB       7364       139827         5.266508  83.050434\n",
       "54       FR       4447       110860         4.011366  61.348638\n",
       "48       ES       5455       103628         5.264021  61.840477\n",
       "140      RU       1359        83828         1.621177  51.452438\n",
       "25       CA       3627        82106         4.417460  65.764609\n",
       "81       IT       1883        78607         2.395461  63.129594\n",
       "21       BR       1519        70609         2.151284  66.558484\n",
       "121      NL       1891        45951         4.115253  69.464952"
      ]
     },
     "execution_count": 14,
     "metadata": {},
     "output_type": "execute_result"
    }
   ],
   "source": [
    "result_df.sort('TotSearched',ascending=False).head(10)"
   ]
  },
  {
   "cell_type": "markdown",
   "metadata": {},
   "source": [
    "#### Top travelling countries"
   ]
  },
  {
   "cell_type": "code",
   "execution_count": 15,
   "metadata": {
    "collapsed": false,
    "scrolled": true
   },
   "outputs": [
    {
     "data": {
      "text/html": [
       "<div>\n",
       "<table border=\"1\" class=\"dataframe\">\n",
       "  <thead>\n",
       "    <tr style=\"text-align: right;\">\n",
       "      <th></th>\n",
       "      <th>Country</th>\n",
       "      <th>Is_Booked</th>\n",
       "      <th>TotSearched</th>\n",
       "      <th>Rate_Conversion</th>\n",
       "      <th>DaysToDep</th>\n",
       "    </tr>\n",
       "  </thead>\n",
       "  <tbody>\n",
       "    <tr>\n",
       "      <th>169</th>\n",
       "      <td>US</td>\n",
       "      <td>26878</td>\n",
       "      <td>555563</td>\n",
       "      <td>4.837975</td>\n",
       "      <td>71.643918</td>\n",
       "    </tr>\n",
       "    <tr>\n",
       "      <th>41</th>\n",
       "      <td>DE</td>\n",
       "      <td>14797</td>\n",
       "      <td>263888</td>\n",
       "      <td>5.607303</td>\n",
       "      <td>76.694848</td>\n",
       "    </tr>\n",
       "    <tr>\n",
       "      <th>142</th>\n",
       "      <td>SA</td>\n",
       "      <td>7722</td>\n",
       "      <td>34742</td>\n",
       "      <td>22.226700</td>\n",
       "      <td>14.585689</td>\n",
       "    </tr>\n",
       "    <tr>\n",
       "      <th>56</th>\n",
       "      <td>GB</td>\n",
       "      <td>7364</td>\n",
       "      <td>139827</td>\n",
       "      <td>5.266508</td>\n",
       "      <td>83.050434</td>\n",
       "    </tr>\n",
       "    <tr>\n",
       "      <th>48</th>\n",
       "      <td>ES</td>\n",
       "      <td>5455</td>\n",
       "      <td>103628</td>\n",
       "      <td>5.264021</td>\n",
       "      <td>61.840477</td>\n",
       "    </tr>\n",
       "    <tr>\n",
       "      <th>54</th>\n",
       "      <td>FR</td>\n",
       "      <td>4447</td>\n",
       "      <td>110860</td>\n",
       "      <td>4.011366</td>\n",
       "      <td>61.348638</td>\n",
       "    </tr>\n",
       "    <tr>\n",
       "      <th>6</th>\n",
       "      <td>AU</td>\n",
       "      <td>3933</td>\n",
       "      <td>27666</td>\n",
       "      <td>14.216005</td>\n",
       "      <td>80.563435</td>\n",
       "    </tr>\n",
       "    <tr>\n",
       "      <th>25</th>\n",
       "      <td>CA</td>\n",
       "      <td>3627</td>\n",
       "      <td>82106</td>\n",
       "      <td>4.417460</td>\n",
       "      <td>65.764609</td>\n",
       "    </tr>\n",
       "    <tr>\n",
       "      <th>77</th>\n",
       "      <td>IN</td>\n",
       "      <td>3196</td>\n",
       "      <td>39763</td>\n",
       "      <td>8.037623</td>\n",
       "      <td>52.116591</td>\n",
       "    </tr>\n",
       "    <tr>\n",
       "      <th>121</th>\n",
       "      <td>NL</td>\n",
       "      <td>1891</td>\n",
       "      <td>45951</td>\n",
       "      <td>4.115253</td>\n",
       "      <td>69.464952</td>\n",
       "    </tr>\n",
       "  </tbody>\n",
       "</table>\n",
       "</div>"
      ],
      "text/plain": [
       "    Country  Is_Booked  TotSearched  Rate_Conversion  DaysToDep\n",
       "169      US      26878       555563         4.837975  71.643918\n",
       "41       DE      14797       263888         5.607303  76.694848\n",
       "142      SA       7722        34742        22.226700  14.585689\n",
       "56       GB       7364       139827         5.266508  83.050434\n",
       "48       ES       5455       103628         5.264021  61.840477\n",
       "54       FR       4447       110860         4.011366  61.348638\n",
       "6        AU       3933        27666        14.216005  80.563435\n",
       "25       CA       3627        82106         4.417460  65.764609\n",
       "77       IN       3196        39763         8.037623  52.116591\n",
       "121      NL       1891        45951         4.115253  69.464952"
      ]
     },
     "execution_count": 15,
     "metadata": {},
     "output_type": "execute_result"
    }
   ],
   "source": [
    "result_df.sort('Is_Booked',ascending=False).head(10)"
   ]
  },
  {
   "cell_type": "markdown",
   "metadata": {},
   "source": [
    "#### Top (and no) confident countries"
   ]
  },
  {
   "cell_type": "code",
   "execution_count": 18,
   "metadata": {
    "collapsed": false
   },
   "outputs": [
    {
     "data": {
      "text/html": [
       "<div>\n",
       "<table border=\"1\" class=\"dataframe\">\n",
       "  <thead>\n",
       "    <tr style=\"text-align: right;\">\n",
       "      <th></th>\n",
       "      <th>Country</th>\n",
       "      <th>Is_Booked</th>\n",
       "      <th>TotSearched</th>\n",
       "      <th>Rate_Conversion</th>\n",
       "      <th>DaysToDep</th>\n",
       "    </tr>\n",
       "  </thead>\n",
       "  <tbody>\n",
       "    <tr>\n",
       "      <th>142</th>\n",
       "      <td>SA</td>\n",
       "      <td>7722</td>\n",
       "      <td>34742</td>\n",
       "      <td>22.226700</td>\n",
       "      <td>14.585689</td>\n",
       "    </tr>\n",
       "    <tr>\n",
       "      <th>6</th>\n",
       "      <td>AU</td>\n",
       "      <td>3933</td>\n",
       "      <td>27666</td>\n",
       "      <td>14.216005</td>\n",
       "      <td>80.563435</td>\n",
       "    </tr>\n",
       "    <tr>\n",
       "      <th>158</th>\n",
       "      <td>TH</td>\n",
       "      <td>1537</td>\n",
       "      <td>14149</td>\n",
       "      <td>10.862959</td>\n",
       "      <td>64.516432</td>\n",
       "    </tr>\n",
       "    <tr>\n",
       "      <th>70</th>\n",
       "      <td>HK</td>\n",
       "      <td>960</td>\n",
       "      <td>10555</td>\n",
       "      <td>9.095216</td>\n",
       "      <td>62.797252</td>\n",
       "    </tr>\n",
       "    <tr>\n",
       "      <th>77</th>\n",
       "      <td>IN</td>\n",
       "      <td>3196</td>\n",
       "      <td>39763</td>\n",
       "      <td>8.037623</td>\n",
       "      <td>52.116591</td>\n",
       "    </tr>\n",
       "  </tbody>\n",
       "</table>\n",
       "</div>"
      ],
      "text/plain": [
       "    Country  Is_Booked  TotSearched  Rate_Conversion  DaysToDep\n",
       "142      SA       7722        34742        22.226700  14.585689\n",
       "6        AU       3933        27666        14.216005  80.563435\n",
       "158      TH       1537        14149        10.862959  64.516432\n",
       "70       HK        960        10555         9.095216  62.797252\n",
       "77       IN       3196        39763         8.037623  52.116591"
      ]
     },
     "execution_count": 18,
     "metadata": {},
     "output_type": "execute_result"
    }
   ],
   "source": [
    "result_df[result_df['TotSearched'] > 10000].sort('Rate_Conversion',ascending=False).head(5)"
   ]
  },
  {
   "cell_type": "code",
   "execution_count": 19,
   "metadata": {
    "collapsed": false
   },
   "outputs": [
    {
     "data": {
      "text/html": [
       "<div>\n",
       "<table border=\"1\" class=\"dataframe\">\n",
       "  <thead>\n",
       "    <tr style=\"text-align: right;\">\n",
       "      <th></th>\n",
       "      <th>Country</th>\n",
       "      <th>Is_Booked</th>\n",
       "      <th>TotSearched</th>\n",
       "      <th>Rate_Conversion</th>\n",
       "      <th>DaysToDep</th>\n",
       "    </tr>\n",
       "  </thead>\n",
       "  <tbody>\n",
       "    <tr>\n",
       "      <th>166</th>\n",
       "      <td>UA</td>\n",
       "      <td>200</td>\n",
       "      <td>17385</td>\n",
       "      <td>1.150417</td>\n",
       "      <td>48.488927</td>\n",
       "    </tr>\n",
       "    <tr>\n",
       "      <th>140</th>\n",
       "      <td>RU</td>\n",
       "      <td>1359</td>\n",
       "      <td>83828</td>\n",
       "      <td>1.621177</td>\n",
       "      <td>51.452438</td>\n",
       "    </tr>\n",
       "    <tr>\n",
       "      <th>33</th>\n",
       "      <td>CN</td>\n",
       "      <td>191</td>\n",
       "      <td>10536</td>\n",
       "      <td>1.812832</td>\n",
       "      <td>60.173026</td>\n",
       "    </tr>\n",
       "    <tr>\n",
       "      <th>21</th>\n",
       "      <td>BR</td>\n",
       "      <td>1519</td>\n",
       "      <td>70609</td>\n",
       "      <td>2.151284</td>\n",
       "      <td>66.558484</td>\n",
       "    </tr>\n",
       "    <tr>\n",
       "      <th>81</th>\n",
       "      <td>IT</td>\n",
       "      <td>1883</td>\n",
       "      <td>78607</td>\n",
       "      <td>2.395461</td>\n",
       "      <td>63.129594</td>\n",
       "    </tr>\n",
       "  </tbody>\n",
       "</table>\n",
       "</div>"
      ],
      "text/plain": [
       "    Country  Is_Booked  TotSearched  Rate_Conversion  DaysToDep\n",
       "166      UA        200        17385         1.150417  48.488927\n",
       "140      RU       1359        83828         1.621177  51.452438\n",
       "33       CN        191        10536         1.812832  60.173026\n",
       "21       BR       1519        70609         2.151284  66.558484\n",
       "81       IT       1883        78607         2.395461  63.129594"
      ]
     },
     "execution_count": 19,
     "metadata": {},
     "output_type": "execute_result"
    }
   ],
   "source": [
    "result_df[result_df['TotSearched'] > 10000].sort('Rate_Conversion').head(5)"
   ]
  },
  {
   "cell_type": "markdown",
   "metadata": {},
   "source": [
    "#### Top (and no) farsighted countries"
   ]
  },
  {
   "cell_type": "code",
   "execution_count": 20,
   "metadata": {
    "collapsed": false
   },
   "outputs": [
    {
     "data": {
      "text/html": [
       "<div>\n",
       "<table border=\"1\" class=\"dataframe\">\n",
       "  <thead>\n",
       "    <tr style=\"text-align: right;\">\n",
       "      <th></th>\n",
       "      <th>Country</th>\n",
       "      <th>Is_Booked</th>\n",
       "      <th>TotSearched</th>\n",
       "      <th>Rate_Conversion</th>\n",
       "      <th>DaysToDep</th>\n",
       "    </tr>\n",
       "  </thead>\n",
       "  <tbody>\n",
       "    <tr>\n",
       "      <th>56</th>\n",
       "      <td>GB</td>\n",
       "      <td>7364</td>\n",
       "      <td>139827</td>\n",
       "      <td>5.266508</td>\n",
       "      <td>83.050434</td>\n",
       "    </tr>\n",
       "    <tr>\n",
       "      <th>6</th>\n",
       "      <td>AU</td>\n",
       "      <td>3933</td>\n",
       "      <td>27666</td>\n",
       "      <td>14.216005</td>\n",
       "      <td>80.563435</td>\n",
       "    </tr>\n",
       "    <tr>\n",
       "      <th>41</th>\n",
       "      <td>DE</td>\n",
       "      <td>14797</td>\n",
       "      <td>263888</td>\n",
       "      <td>5.607303</td>\n",
       "      <td>76.694848</td>\n",
       "    </tr>\n",
       "    <tr>\n",
       "      <th>42</th>\n",
       "      <td>DK</td>\n",
       "      <td>811</td>\n",
       "      <td>16672</td>\n",
       "      <td>4.864443</td>\n",
       "      <td>72.047205</td>\n",
       "    </tr>\n",
       "    <tr>\n",
       "      <th>169</th>\n",
       "      <td>US</td>\n",
       "      <td>26878</td>\n",
       "      <td>555563</td>\n",
       "      <td>4.837975</td>\n",
       "      <td>71.643918</td>\n",
       "    </tr>\n",
       "  </tbody>\n",
       "</table>\n",
       "</div>"
      ],
      "text/plain": [
       "    Country  Is_Booked  TotSearched  Rate_Conversion  DaysToDep\n",
       "56       GB       7364       139827         5.266508  83.050434\n",
       "6        AU       3933        27666        14.216005  80.563435\n",
       "41       DE      14797       263888         5.607303  76.694848\n",
       "42       DK        811        16672         4.864443  72.047205\n",
       "169      US      26878       555563         4.837975  71.643918"
      ]
     },
     "execution_count": 20,
     "metadata": {},
     "output_type": "execute_result"
    }
   ],
   "source": [
    "result_df[result_df['TotSearched'] > 10000].sort('DaysToDep',ascending=False).head(5)"
   ]
  },
  {
   "cell_type": "code",
   "execution_count": 21,
   "metadata": {
    "collapsed": false
   },
   "outputs": [
    {
     "data": {
      "text/html": [
       "<div>\n",
       "<table border=\"1\" class=\"dataframe\">\n",
       "  <thead>\n",
       "    <tr style=\"text-align: right;\">\n",
       "      <th></th>\n",
       "      <th>Country</th>\n",
       "      <th>Is_Booked</th>\n",
       "      <th>TotSearched</th>\n",
       "      <th>Rate_Conversion</th>\n",
       "      <th>DaysToDep</th>\n",
       "    </tr>\n",
       "  </thead>\n",
       "  <tbody>\n",
       "    <tr>\n",
       "      <th>142</th>\n",
       "      <td>SA</td>\n",
       "      <td>7722</td>\n",
       "      <td>34742</td>\n",
       "      <td>22.226700</td>\n",
       "      <td>14.585689</td>\n",
       "    </tr>\n",
       "    <tr>\n",
       "      <th>166</th>\n",
       "      <td>UA</td>\n",
       "      <td>200</td>\n",
       "      <td>17385</td>\n",
       "      <td>1.150417</td>\n",
       "      <td>48.488927</td>\n",
       "    </tr>\n",
       "    <tr>\n",
       "      <th>140</th>\n",
       "      <td>RU</td>\n",
       "      <td>1359</td>\n",
       "      <td>83828</td>\n",
       "      <td>1.621177</td>\n",
       "      <td>51.452438</td>\n",
       "    </tr>\n",
       "    <tr>\n",
       "      <th>77</th>\n",
       "      <td>IN</td>\n",
       "      <td>3196</td>\n",
       "      <td>39763</td>\n",
       "      <td>8.037623</td>\n",
       "      <td>52.116591</td>\n",
       "    </tr>\n",
       "    <tr>\n",
       "      <th>162</th>\n",
       "      <td>TR</td>\n",
       "      <td>623</td>\n",
       "      <td>13422</td>\n",
       "      <td>4.641633</td>\n",
       "      <td>57.074952</td>\n",
       "    </tr>\n",
       "  </tbody>\n",
       "</table>\n",
       "</div>"
      ],
      "text/plain": [
       "    Country  Is_Booked  TotSearched  Rate_Conversion  DaysToDep\n",
       "142      SA       7722        34742        22.226700  14.585689\n",
       "166      UA        200        17385         1.150417  48.488927\n",
       "140      RU       1359        83828         1.621177  51.452438\n",
       "77       IN       3196        39763         8.037623  52.116591\n",
       "162      TR        623        13422         4.641633  57.074952"
      ]
     },
     "execution_count": 21,
     "metadata": {},
     "output_type": "execute_result"
    }
   ],
   "source": [
    "result_df[result_df['TotSearched'] > 10000].sort('DaysToDep').head(5)"
   ]
  }
 ],
 "metadata": {
  "kernelspec": {
   "display_name": "Python 2",
   "language": "python",
   "name": "python2"
  },
  "language_info": {
   "codemirror_mode": {
    "name": "ipython",
    "version": 2
   },
   "file_extension": ".py",
   "mimetype": "text/x-python",
   "name": "python",
   "nbconvert_exporter": "python",
   "pygments_lexer": "ipython2",
   "version": "2.7.10"
  }
 },
 "nbformat": 4,
 "nbformat_minor": 0
}
