{
 "cells": [
  {
   "cell_type": "markdown",
   "metadata": {},
   "source": [
    "## Challenge: Exercise 4"
   ]
  },
  {
   "cell_type": "code",
   "execution_count": 1,
   "metadata": {
    "collapsed": false
   },
   "outputs": [
    {
     "name": "stdout",
     "output_type": "stream",
     "text": [
      "Populating the interactive namespace from numpy and matplotlib\n"
     ]
    }
   ],
   "source": [
    "import numpy as np\n",
    "import pandas as pd\n",
    "from pandas import Series,DataFrame\n",
    "%pylab inline"
   ]
  },
  {
   "cell_type": "markdown",
   "metadata": {},
   "source": [
    "### Statistics about searches with bookings"
   ]
  },
  {
   "cell_type": "code",
   "execution_count": 2,
   "metadata": {
    "collapsed": true
   },
   "outputs": [],
   "source": [
    "import bz2\n",
    "files_path = \"/home/dsc/Repositories/Master-in-Data-Science/Data/\""
   ]
  },
  {
   "cell_type": "markdown",
   "metadata": {},
   "source": [
    "##### Loading and formatting searches file"
   ]
  },
  {
   "cell_type": "code",
   "execution_count": 3,
   "metadata": {
    "collapsed": false
   },
   "outputs": [],
   "source": [
    "# Loading searches file\n",
    "searches_df = pd.read_csv(files_path+\"new_searches.csv\",sep='^')\n",
    "searches_df = searches_df.dropna(subset=['Seg1Date'])\n",
    "\n",
    "# Adding column with days between search and departure\n",
    "searches_df['BookDate'] = searches_df['Date'].apply(lambda d: pd.Timestamp(pd.to_datetime(d).date()))\n",
    "searches_df['DepDate'] = searches_df['Seg1Date'].apply(lambda d: pd.Timestamp(pd.to_datetime(d).date()))\n",
    "searches_df['DiffDates'] = searches_df.DepDate-searches_df.BookDate\n",
    "searches_df['DaysToDep'] = searches_df['DiffDates'].apply(lambda d: (d/np.timedelta64(1, 'D')).astype(int))"
   ]
  },
  {
   "cell_type": "markdown",
   "metadata": {},
   "source": [
    "##### Grouping by period search/departure"
   ]
  },
  {
   "cell_type": "code",
   "execution_count": 4,
   "metadata": {
    "collapsed": false
   },
   "outputs": [],
   "source": [
    "result_df = DataFrame(searches_df.groupby('DaysToDep')['Is_Booked'].sum())\n",
    "result_df['TotSearched'] = searches_df.groupby('DaysToDep')['Is_Booked'].count()\n",
    "\n",
    "# Adding column with rate_conversion\n",
    "result_df['Rate_Conversion'] = result_df.Is_Booked/result_df.TotSearched*100\n",
    "result_df.reset_index(inplace=True)\n",
    "result_df.sort('DaysToDep',ascending=False,inplace=True)"
   ]
  },
  {
   "cell_type": "markdown",
   "metadata": {},
   "source": [
    "#### Top searching days"
   ]
  },
  {
   "cell_type": "code",
   "execution_count": 5,
   "metadata": {
    "collapsed": false
   },
   "outputs": [
    {
     "data": {
      "text/html": [
       "<div>\n",
       "<table border=\"1\" class=\"dataframe\">\n",
       "  <thead>\n",
       "    <tr style=\"text-align: right;\">\n",
       "      <th></th>\n",
       "      <th>DaysToDep</th>\n",
       "      <th>Is_Booked</th>\n",
       "      <th>TotSearched</th>\n",
       "      <th>Rate_Conversion</th>\n",
       "    </tr>\n",
       "  </thead>\n",
       "  <tbody>\n",
       "    <tr>\n",
       "      <th>3</th>\n",
       "      <td>3</td>\n",
       "      <td>313</td>\n",
       "      <td>2037</td>\n",
       "      <td>15.365734</td>\n",
       "    </tr>\n",
       "    <tr>\n",
       "      <th>7</th>\n",
       "      <td>7</td>\n",
       "      <td>184</td>\n",
       "      <td>1871</td>\n",
       "      <td>9.834313</td>\n",
       "    </tr>\n",
       "    <tr>\n",
       "      <th>14</th>\n",
       "      <td>14</td>\n",
       "      <td>155</td>\n",
       "      <td>1841</td>\n",
       "      <td>8.419337</td>\n",
       "    </tr>\n",
       "  </tbody>\n",
       "</table>\n",
       "</div>"
      ],
      "text/plain": [
       "    DaysToDep  Is_Booked  TotSearched  Rate_Conversion\n",
       "3           3        313         2037        15.365734\n",
       "7           7        184         1871         9.834313\n",
       "14         14        155         1841         8.419337"
      ]
     },
     "execution_count": 5,
     "metadata": {},
     "output_type": "execute_result"
    }
   ],
   "source": [
    "result_df.sort('TotSearched',ascending=False).head(3)"
   ]
  },
  {
   "cell_type": "code",
   "execution_count": 6,
   "metadata": {
    "collapsed": false,
    "scrolled": true
   },
   "outputs": [
    {
     "data": {
      "image/png": "[encoded data removed]",
      "text/plain": [
       "<matplotlib.figure.Figure at 0x7fceced81310>"
      ]
     },
     "metadata": {},
     "output_type": "display_data"
    }
   ],
   "source": [
    "result_df[result_df['TotSearched'] > 154 ]['TotSearched'].plot()\n",
    "plt.legend(bbox_to_anchor=(1.05,1), loc=2, borderaxespad=0.)\n",
    "plt.title(\"\\nSearches by Days to Departure\\n\")\n",
    "plt.xlabel(\"\\nDays to Departure\")\n",
    "plt.ylabel(\"Number of searches\\n\")\n",
    "plt.show()"
   ]
  },
  {
   "cell_type": "markdown",
   "metadata": {},
   "source": [
    "#### Top searching days with booking"
   ]
  },
  {
   "cell_type": "code",
   "execution_count": 7,
   "metadata": {
    "collapsed": false
   },
   "outputs": [
    {
     "data": {
      "text/html": [
       "<div>\n",
       "<table border=\"1\" class=\"dataframe\">\n",
       "  <thead>\n",
       "    <tr style=\"text-align: right;\">\n",
       "      <th></th>\n",
       "      <th>DaysToDep</th>\n",
       "      <th>Is_Booked</th>\n",
       "      <th>TotSearched</th>\n",
       "      <th>Rate_Conversion</th>\n",
       "    </tr>\n",
       "  </thead>\n",
       "  <tbody>\n",
       "    <tr>\n",
       "      <th>3</th>\n",
       "      <td>3</td>\n",
       "      <td>313</td>\n",
       "      <td>2037</td>\n",
       "      <td>15.365734</td>\n",
       "    </tr>\n",
       "    <tr>\n",
       "      <th>1</th>\n",
       "      <td>1</td>\n",
       "      <td>223</td>\n",
       "      <td>1836</td>\n",
       "      <td>12.145969</td>\n",
       "    </tr>\n",
       "    <tr>\n",
       "      <th>4</th>\n",
       "      <td>4</td>\n",
       "      <td>221</td>\n",
       "      <td>1699</td>\n",
       "      <td>13.007652</td>\n",
       "    </tr>\n",
       "  </tbody>\n",
       "</table>\n",
       "</div>"
      ],
      "text/plain": [
       "   DaysToDep  Is_Booked  TotSearched  Rate_Conversion\n",
       "3          3        313         2037        15.365734\n",
       "1          1        223         1836        12.145969\n",
       "4          4        221         1699        13.007652"
      ]
     },
     "execution_count": 7,
     "metadata": {},
     "output_type": "execute_result"
    }
   ],
   "source": [
    "result_df.sort('Is_Booked',ascending=False).head(3)"
   ]
  },
  {
   "cell_type": "code",
   "execution_count": 8,
   "metadata": {
    "collapsed": false
   },
   "outputs": [
    {
     "data": {
      "image/png": "[encoded data removed]",
      "text/plain": [
       "<matplotlib.figure.Figure at 0x7fcea48630d0>"
      ]
     },
     "metadata": {},
     "output_type": "display_data"
    }
   ],
   "source": [
    "result_df[result_df['TotSearched'] > 154 ]['Is_Booked'].plot()\n",
    "plt.legend(bbox_to_anchor=(1.05,1), loc=2, borderaxespad=0.)\n",
    "plt.title(\"\\nBoookings by Days to Departure\\n\")\n",
    "plt.xlabel(\"\\nDays to Departure\")\n",
    "plt.ylabel(\"Number of searches\\n\")\n",
    "plt.show()"
   ]
  },
  {
   "cell_type": "markdown",
   "metadata": {},
   "source": [
    "#### Top by rate_conversion searching days  "
   ]
  },
  {
   "cell_type": "code",
   "execution_count": 9,
   "metadata": {
    "collapsed": false
   },
   "outputs": [
    {
     "data": {
      "text/html": [
       "<div>\n",
       "<table border=\"1\" class=\"dataframe\">\n",
       "  <thead>\n",
       "    <tr style=\"text-align: right;\">\n",
       "      <th></th>\n",
       "      <th>DaysToDep</th>\n",
       "      <th>Is_Booked</th>\n",
       "      <th>TotSearched</th>\n",
       "      <th>Rate_Conversion</th>\n",
       "    </tr>\n",
       "  </thead>\n",
       "  <tbody>\n",
       "    <tr>\n",
       "      <th>3</th>\n",
       "      <td>3</td>\n",
       "      <td>313</td>\n",
       "      <td>2037</td>\n",
       "      <td>15.365734</td>\n",
       "    </tr>\n",
       "    <tr>\n",
       "      <th>4</th>\n",
       "      <td>4</td>\n",
       "      <td>221</td>\n",
       "      <td>1699</td>\n",
       "      <td>13.007652</td>\n",
       "    </tr>\n",
       "    <tr>\n",
       "      <th>8</th>\n",
       "      <td>8</td>\n",
       "      <td>157</td>\n",
       "      <td>1275</td>\n",
       "      <td>12.313725</td>\n",
       "    </tr>\n",
       "  </tbody>\n",
       "</table>\n",
       "</div>"
      ],
      "text/plain": [
       "   DaysToDep  Is_Booked  TotSearched  Rate_Conversion\n",
       "3          3        313         2037        15.365734\n",
       "4          4        221         1699        13.007652\n",
       "8          8        157         1275        12.313725"
      ]
     },
     "execution_count": 9,
     "metadata": {},
     "output_type": "execute_result"
    }
   ],
   "source": [
    "result_df[result_df.TotSearched > 154].sort('Rate_Conversion',ascending=False).head(3)"
   ]
  },
  {
   "cell_type": "code",
   "execution_count": 10,
   "metadata": {
    "collapsed": false
   },
   "outputs": [
    {
     "data": {
      "image/png": "[encoded data removed]",
      "text/plain": [
       "<matplotlib.figure.Figure at 0x7fcea3ec2110>"
      ]
     },
     "metadata": {},
     "output_type": "display_data"
    }
   ],
   "source": [
    "result_df[result_df['TotSearched'] > 154 ]['Rate_Conversion'].plot()\n",
    "plt.legend(bbox_to_anchor=(1.05,1), loc=2, borderaxespad=0.)\n",
    "plt.title(\"\\nRate_conversion by Time to Departure\\n\")\n",
    "plt.xlabel(\"\\nDays to Departure\")\n",
    "plt.ylabel(\"Rate_Conversion\\n\")\n",
    "plt.show()"
   ]
  },
  {
   "cell_type": "markdown",
   "metadata": {},
   "source": [
    "### Statistics by Country"
   ]
  },
  {
   "cell_type": "code",
   "execution_count": 11,
   "metadata": {
    "collapsed": false
   },
   "outputs": [],
   "source": [
    "result_df = DataFrame(searches_df.groupby('Country')['Is_Booked'].sum())\n",
    "result_df['TotSearched'] = searches_df.groupby('Country')['Is_Booked'].count()\n",
    "# Adding column with rate_conversion\n",
    "result_df['Rate_Conversion'] = result_df.Is_Booked/result_df.TotSearched*100\n",
    "# Adding column with average DaysToDep\n",
    "result_df['DaysToDep'] = searches_df.groupby('Country')['DaysToDep'].mean()\n",
    "\n",
    "result_df.reset_index(inplace=True)"
   ]
  },
  {
   "cell_type": "markdown",
   "metadata": {},
   "source": [
    "#### Top searching countries"
   ]
  },
  {
   "cell_type": "code",
   "execution_count": 12,
   "metadata": {
    "collapsed": false
   },
   "outputs": [
    {
     "data": {
      "text/html": [
       "<div>\n",
       "<table border=\"1\" class=\"dataframe\">\n",
       "  <thead>\n",
       "    <tr style=\"text-align: right;\">\n",
       "      <th></th>\n",
       "      <th>Country</th>\n",
       "      <th>Is_Booked</th>\n",
       "      <th>TotSearched</th>\n",
       "      <th>Rate_Conversion</th>\n",
       "      <th>DaysToDep</th>\n",
       "    </tr>\n",
       "  </thead>\n",
       "  <tbody>\n",
       "    <tr>\n",
       "      <th>151</th>\n",
       "      <td>US</td>\n",
       "      <td>1887</td>\n",
       "      <td>27059</td>\n",
       "      <td>6.973650</td>\n",
       "      <td>80.104549</td>\n",
       "    </tr>\n",
       "    <tr>\n",
       "      <th>37</th>\n",
       "      <td>DE</td>\n",
       "      <td>1099</td>\n",
       "      <td>13808</td>\n",
       "      <td>7.959154</td>\n",
       "      <td>87.790918</td>\n",
       "    </tr>\n",
       "    <tr>\n",
       "      <th>51</th>\n",
       "      <td>GB</td>\n",
       "      <td>536</td>\n",
       "      <td>7370</td>\n",
       "      <td>7.272727</td>\n",
       "      <td>90.759837</td>\n",
       "    </tr>\n",
       "  </tbody>\n",
       "</table>\n",
       "</div>"
      ],
      "text/plain": [
       "    Country  Is_Booked  TotSearched  Rate_Conversion  DaysToDep\n",
       "151      US       1887        27059         6.973650  80.104549\n",
       "37       DE       1099        13808         7.959154  87.790918\n",
       "51       GB        536         7370         7.272727  90.759837"
      ]
     },
     "execution_count": 12,
     "metadata": {},
     "output_type": "execute_result"
    }
   ],
   "source": [
    "result_df.sort('TotSearched',ascending=False).head(3)"
   ]
  },
  {
   "cell_type": "markdown",
   "metadata": {},
   "source": [
    "#### Top travelling countries"
   ]
  },
  {
   "cell_type": "code",
   "execution_count": 13,
   "metadata": {
    "collapsed": false,
    "scrolled": true
   },
   "outputs": [
    {
     "data": {
      "text/html": [
       "<div>\n",
       "<table border=\"1\" class=\"dataframe\">\n",
       "  <thead>\n",
       "    <tr style=\"text-align: right;\">\n",
       "      <th></th>\n",
       "      <th>Country</th>\n",
       "      <th>Is_Booked</th>\n",
       "      <th>TotSearched</th>\n",
       "      <th>Rate_Conversion</th>\n",
       "      <th>DaysToDep</th>\n",
       "    </tr>\n",
       "  </thead>\n",
       "  <tbody>\n",
       "    <tr>\n",
       "      <th>151</th>\n",
       "      <td>US</td>\n",
       "      <td>1887</td>\n",
       "      <td>27059</td>\n",
       "      <td>6.973650</td>\n",
       "      <td>80.104549</td>\n",
       "    </tr>\n",
       "    <tr>\n",
       "      <th>37</th>\n",
       "      <td>DE</td>\n",
       "      <td>1099</td>\n",
       "      <td>13808</td>\n",
       "      <td>7.959154</td>\n",
       "      <td>87.790918</td>\n",
       "    </tr>\n",
       "    <tr>\n",
       "      <th>130</th>\n",
       "      <td>SA</td>\n",
       "      <td>578</td>\n",
       "      <td>1700</td>\n",
       "      <td>34.000000</td>\n",
       "      <td>16.623529</td>\n",
       "    </tr>\n",
       "  </tbody>\n",
       "</table>\n",
       "</div>"
      ],
      "text/plain": [
       "    Country  Is_Booked  TotSearched  Rate_Conversion  DaysToDep\n",
       "151      US       1887        27059         6.973650  80.104549\n",
       "37       DE       1099        13808         7.959154  87.790918\n",
       "130      SA        578         1700        34.000000  16.623529"
      ]
     },
     "execution_count": 13,
     "metadata": {},
     "output_type": "execute_result"
    }
   ],
   "source": [
    "result_df.sort('Is_Booked',ascending=False).head(3)"
   ]
  },
  {
   "cell_type": "markdown",
   "metadata": {},
   "source": [
    "#### Top (and no) confident countries"
   ]
  },
  {
   "cell_type": "code",
   "execution_count": 14,
   "metadata": {
    "collapsed": false
   },
   "outputs": [
    {
     "data": {
      "text/html": [
       "<div>\n",
       "<table border=\"1\" class=\"dataframe\">\n",
       "  <thead>\n",
       "    <tr style=\"text-align: right;\">\n",
       "      <th></th>\n",
       "      <th>Country</th>\n",
       "      <th>Is_Booked</th>\n",
       "      <th>TotSearched</th>\n",
       "      <th>Rate_Conversion</th>\n",
       "      <th>DaysToDep</th>\n",
       "    </tr>\n",
       "  </thead>\n",
       "  <tbody>\n",
       "    <tr>\n",
       "      <th>130</th>\n",
       "      <td>SA</td>\n",
       "      <td>578</td>\n",
       "      <td>1700</td>\n",
       "      <td>34.000000</td>\n",
       "      <td>16.623529</td>\n",
       "    </tr>\n",
       "    <tr>\n",
       "      <th>6</th>\n",
       "      <td>AU</td>\n",
       "      <td>320</td>\n",
       "      <td>1471</td>\n",
       "      <td>21.753909</td>\n",
       "      <td>85.040109</td>\n",
       "    </tr>\n",
       "    <tr>\n",
       "      <th>142</th>\n",
       "      <td>TH</td>\n",
       "      <td>125</td>\n",
       "      <td>720</td>\n",
       "      <td>17.361111</td>\n",
       "      <td>67.472222</td>\n",
       "    </tr>\n",
       "  </tbody>\n",
       "</table>\n",
       "</div>"
      ],
      "text/plain": [
       "    Country  Is_Booked  TotSearched  Rate_Conversion  DaysToDep\n",
       "130      SA        578         1700        34.000000  16.623529\n",
       "6        AU        320         1471        21.753909  85.040109\n",
       "142      TH        125          720        17.361111  67.472222"
      ]
     },
     "execution_count": 14,
     "metadata": {},
     "output_type": "execute_result"
    }
   ],
   "source": [
    "result_df[result_df['TotSearched'] > 500].sort('Rate_Conversion',ascending=False).head(3)"
   ]
  },
  {
   "cell_type": "code",
   "execution_count": 15,
   "metadata": {
    "collapsed": false
   },
   "outputs": [
    {
     "data": {
      "text/html": [
       "<div>\n",
       "<table border=\"1\" class=\"dataframe\">\n",
       "  <thead>\n",
       "    <tr style=\"text-align: right;\">\n",
       "      <th></th>\n",
       "      <th>Country</th>\n",
       "      <th>Is_Booked</th>\n",
       "      <th>TotSearched</th>\n",
       "      <th>Rate_Conversion</th>\n",
       "      <th>DaysToDep</th>\n",
       "    </tr>\n",
       "  </thead>\n",
       "  <tbody>\n",
       "    <tr>\n",
       "      <th>149</th>\n",
       "      <td>UA</td>\n",
       "      <td>12</td>\n",
       "      <td>506</td>\n",
       "      <td>2.371542</td>\n",
       "      <td>55.494071</td>\n",
       "    </tr>\n",
       "    <tr>\n",
       "      <th>128</th>\n",
       "      <td>RU</td>\n",
       "      <td>81</td>\n",
       "      <td>3378</td>\n",
       "      <td>2.397869</td>\n",
       "      <td>59.555358</td>\n",
       "    </tr>\n",
       "    <tr>\n",
       "      <th>19</th>\n",
       "      <td>BR</td>\n",
       "      <td>95</td>\n",
       "      <td>3557</td>\n",
       "      <td>2.670790</td>\n",
       "      <td>62.178240</td>\n",
       "    </tr>\n",
       "  </tbody>\n",
       "</table>\n",
       "</div>"
      ],
      "text/plain": [
       "    Country  Is_Booked  TotSearched  Rate_Conversion  DaysToDep\n",
       "149      UA         12          506         2.371542  55.494071\n",
       "128      RU         81         3378         2.397869  59.555358\n",
       "19       BR         95         3557         2.670790  62.178240"
      ]
     },
     "execution_count": 15,
     "metadata": {},
     "output_type": "execute_result"
    }
   ],
   "source": [
    "result_df[result_df['TotSearched'] > 500].sort('Rate_Conversion').head(3)"
   ]
  },
  {
   "cell_type": "markdown",
   "metadata": {},
   "source": [
    "#### Top (and no) farsighted countries"
   ]
  },
  {
   "cell_type": "code",
   "execution_count": 16,
   "metadata": {
    "collapsed": false
   },
   "outputs": [
    {
     "data": {
      "text/html": [
       "<div>\n",
       "<table border=\"1\" class=\"dataframe\">\n",
       "  <thead>\n",
       "    <tr style=\"text-align: right;\">\n",
       "      <th></th>\n",
       "      <th>Country</th>\n",
       "      <th>Is_Booked</th>\n",
       "      <th>TotSearched</th>\n",
       "      <th>Rate_Conversion</th>\n",
       "      <th>DaysToDep</th>\n",
       "    </tr>\n",
       "  </thead>\n",
       "  <tbody>\n",
       "    <tr>\n",
       "      <th>51</th>\n",
       "      <td>GB</td>\n",
       "      <td>536</td>\n",
       "      <td>7370</td>\n",
       "      <td>7.272727</td>\n",
       "      <td>90.759837</td>\n",
       "    </tr>\n",
       "    <tr>\n",
       "      <th>37</th>\n",
       "      <td>DE</td>\n",
       "      <td>1099</td>\n",
       "      <td>13808</td>\n",
       "      <td>7.959154</td>\n",
       "      <td>87.790918</td>\n",
       "    </tr>\n",
       "    <tr>\n",
       "      <th>6</th>\n",
       "      <td>AU</td>\n",
       "      <td>320</td>\n",
       "      <td>1471</td>\n",
       "      <td>21.753909</td>\n",
       "      <td>85.040109</td>\n",
       "    </tr>\n",
       "  </tbody>\n",
       "</table>\n",
       "</div>"
      ],
      "text/plain": [
       "   Country  Is_Booked  TotSearched  Rate_Conversion  DaysToDep\n",
       "51      GB        536         7370         7.272727  90.759837\n",
       "37      DE       1099        13808         7.959154  87.790918\n",
       "6       AU        320         1471        21.753909  85.040109"
      ]
     },
     "execution_count": 16,
     "metadata": {},
     "output_type": "execute_result"
    }
   ],
   "source": [
    "result_df[result_df['TotSearched'] > 500].sort('DaysToDep',ascending=False).head(3)"
   ]
  },
  {
   "cell_type": "code",
   "execution_count": 17,
   "metadata": {
    "collapsed": false
   },
   "outputs": [
    {
     "data": {
      "text/html": [
       "<div>\n",
       "<table border=\"1\" class=\"dataframe\">\n",
       "  <thead>\n",
       "    <tr style=\"text-align: right;\">\n",
       "      <th></th>\n",
       "      <th>Country</th>\n",
       "      <th>Is_Booked</th>\n",
       "      <th>TotSearched</th>\n",
       "      <th>Rate_Conversion</th>\n",
       "      <th>DaysToDep</th>\n",
       "    </tr>\n",
       "  </thead>\n",
       "  <tbody>\n",
       "    <tr>\n",
       "      <th>130</th>\n",
       "      <td>SA</td>\n",
       "      <td>578</td>\n",
       "      <td>1700</td>\n",
       "      <td>34.000000</td>\n",
       "      <td>16.623529</td>\n",
       "    </tr>\n",
       "    <tr>\n",
       "      <th>69</th>\n",
       "      <td>IN</td>\n",
       "      <td>242</td>\n",
       "      <td>2116</td>\n",
       "      <td>11.436673</td>\n",
       "      <td>51.250945</td>\n",
       "    </tr>\n",
       "    <tr>\n",
       "      <th>149</th>\n",
       "      <td>UA</td>\n",
       "      <td>12</td>\n",
       "      <td>506</td>\n",
       "      <td>2.371542</td>\n",
       "      <td>55.494071</td>\n",
       "    </tr>\n",
       "  </tbody>\n",
       "</table>\n",
       "</div>"
      ],
      "text/plain": [
       "    Country  Is_Booked  TotSearched  Rate_Conversion  DaysToDep\n",
       "130      SA        578         1700        34.000000  16.623529\n",
       "69       IN        242         2116        11.436673  51.250945\n",
       "149      UA         12          506         2.371542  55.494071"
      ]
     },
     "execution_count": 17,
     "metadata": {},
     "output_type": "execute_result"
    }
   ],
   "source": [
    "result_df[result_df['TotSearched'] > 500].sort('DaysToDep').head(3)"
   ]
  },
  {
   "cell_type": "code",
   "execution_count": null,
   "metadata": {
    "collapsed": true
   },
   "outputs": [],
   "source": []
  },
  {
   "cell_type": "code",
   "execution_count": null,
   "metadata": {
    "collapsed": true
   },
   "outputs": [],
   "source": []
  },
  {
   "cell_type": "code",
   "execution_count": null,
   "metadata": {
    "collapsed": true
   },
   "outputs": [],
   "source": []
  },
  {
   "cell_type": "code",
   "execution_count": null,
   "metadata": {
    "collapsed": true
   },
   "outputs": [],
   "source": []
  }
 ],
 "metadata": {
  "kernelspec": {
   "display_name": "Python 2",
   "language": "python",
   "name": "python2"
  },
  "language_info": {
   "codemirror_mode": {
    "name": "ipython",
    "version": 2
   },
   "file_extension": ".py",
   "mimetype": "text/x-python",
   "name": "python",
   "nbconvert_exporter": "python",
   "pygments_lexer": "ipython2",
   "version": "2.7.10"
  }
 },
 "nbformat": 4,
 "nbformat_minor": 0
}
