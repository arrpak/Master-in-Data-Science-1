{
 "cells": [
  {
   "cell_type": "markdown",
   "metadata": {},
   "source": [
    "## Challenge: Exercise 2"
   ]
  },
  {
   "cell_type": "code",
   "execution_count": 131,
   "metadata": {
    "collapsed": true
   },
   "outputs": [],
   "source": [
    "import pandas as pd\n",
    "from pandas import DataFrame,Series\n",
    "import bz2"
   ]
  },
  {
   "cell_type": "code",
   "execution_count": 132,
   "metadata": {
    "collapsed": true
   },
   "outputs": [],
   "source": [
    "files_path=\"/home/dsc/Repositories/Master-in-Data-Science/Data/\"\n",
    "bookings_file = bz2.BZ2File(files_path+\"bookings.csv.bz2\")"
   ]
  },
  {
   "cell_type": "markdown",
   "metadata": {},
   "source": [
    "#### Top 10 arrival airports by number of passangers"
   ]
  },
  {
   "cell_type": "code",
   "execution_count": 133,
   "metadata": {
    "collapsed": false
   },
   "outputs": [
    {
     "name": "stdout",
     "output_type": "stream",
     "text": [
      "\n"
     ]
    },
    {
     "data": {
      "text/html": [
       "<div>\n",
       "<table border=\"1\" class=\"dataframe\">\n",
       "  <thead>\n",
       "    <tr style=\"text-align: right;\">\n",
       "      <th></th>\n",
       "      <th>arr_port</th>\n",
       "      <th>pax</th>\n",
       "    </tr>\n",
       "  </thead>\n",
       "  <tbody>\n",
       "    <tr>\n",
       "      <th>1088</th>\n",
       "      <td>LHR</td>\n",
       "      <td>88809</td>\n",
       "    </tr>\n",
       "    <tr>\n",
       "      <th>1190</th>\n",
       "      <td>MCO</td>\n",
       "      <td>70930</td>\n",
       "    </tr>\n",
       "    <tr>\n",
       "      <th>1050</th>\n",
       "      <td>LAX</td>\n",
       "      <td>70530</td>\n",
       "    </tr>\n",
       "    <tr>\n",
       "      <th>1047</th>\n",
       "      <td>LAS</td>\n",
       "      <td>69630</td>\n",
       "    </tr>\n",
       "    <tr>\n",
       "      <th>886</th>\n",
       "      <td>JFK</td>\n",
       "      <td>66270</td>\n",
       "    </tr>\n",
       "    <tr>\n",
       "      <th>315</th>\n",
       "      <td>CDG</td>\n",
       "      <td>64490</td>\n",
       "    </tr>\n",
       "    <tr>\n",
       "      <th>216</th>\n",
       "      <td>BKK</td>\n",
       "      <td>59460</td>\n",
       "    </tr>\n",
       "    <tr>\n",
       "      <th>1228</th>\n",
       "      <td>MIA</td>\n",
       "      <td>58150</td>\n",
       "    </tr>\n",
       "    <tr>\n",
       "      <th>1719</th>\n",
       "      <td>SFO</td>\n",
       "      <td>58000</td>\n",
       "    </tr>\n",
       "    <tr>\n",
       "      <th>517</th>\n",
       "      <td>DXB</td>\n",
       "      <td>55590</td>\n",
       "    </tr>\n",
       "  </tbody>\n",
       "</table>\n",
       "</div>"
      ],
      "text/plain": [
       "      arr_port    pax\n",
       "1088  LHR       88809\n",
       "1190  MCO       70930\n",
       "1050  LAX       70530\n",
       "1047  LAS       69630\n",
       "886   JFK       66270\n",
       "315   CDG       64490\n",
       "216   BKK       59460\n",
       "1228  MIA       58150\n",
       "1719  SFO       58000\n",
       "517   DXB       55590"
      ]
     },
     "execution_count": 133,
     "metadata": {},
     "output_type": "execute_result"
    }
   ],
   "source": [
    "# Optimization of memory usage including chunksize parameter\n",
    "\n",
    "book_chunks = pd.read_csv(bookings_file, sep='^', chunksize=1e5, usecols=['arr_port','pax'])\n",
    "for chunk in book_chunks:\n",
    "    print (len(chunk))\n",
    "\n",
    "final_df = DataFrame(columns=['arr_port','pax'])\n",
    "for chunk in bookings_df:\n",
    "    int_df = chunk.groupby('arr_port').sum().reset_index()\n",
    "    final_df = final_df.append(int_df,ignore_index=True)\n",
    "    final_df = final_df.groupby('arr_port').sum().reset_index()\n",
    "\n",
    "final_df = final_df.sort('pax',ascending=False).head(10)\n",
    "print\n",
    "final_df"
   ]
  },
  {
   "cell_type": "markdown",
   "metadata": {},
   "source": [
    "#### To add name of the airport using GeoBases"
   ]
  },
  {
   "cell_type": "code",
   "execution_count": 134,
   "metadata": {
    "collapsed": false
   },
   "outputs": [],
   "source": [
    "from GeoBases import GeoBase\n",
    "geo_a = GeoBase(data='airports',verbose=False)"
   ]
  },
  {
   "cell_type": "code",
   "execution_count": 136,
   "metadata": {
    "collapsed": false
   },
   "outputs": [
    {
     "name": "stdout",
     "output_type": "stream",
     "text": [
      "\n"
     ]
    },
    {
     "data": {
      "text/html": [
       "<div>\n",
       "<table border=\"1\" class=\"dataframe\">\n",
       "  <thead>\n",
       "    <tr style=\"text-align: right;\">\n",
       "      <th></th>\n",
       "      <th>arr_port</th>\n",
       "      <th>pax</th>\n",
       "      <th>name</th>\n",
       "    </tr>\n",
       "  </thead>\n",
       "  <tbody>\n",
       "    <tr>\n",
       "      <th>1088</th>\n",
       "      <td>LHR</td>\n",
       "      <td>88809</td>\n",
       "      <td>London Heathrow Airport</td>\n",
       "    </tr>\n",
       "    <tr>\n",
       "      <th>1190</th>\n",
       "      <td>MCO</td>\n",
       "      <td>70930</td>\n",
       "      <td>Orlando International Airport</td>\n",
       "    </tr>\n",
       "    <tr>\n",
       "      <th>1050</th>\n",
       "      <td>LAX</td>\n",
       "      <td>70530</td>\n",
       "      <td>Los Angeles International Airport</td>\n",
       "    </tr>\n",
       "    <tr>\n",
       "      <th>1047</th>\n",
       "      <td>LAS</td>\n",
       "      <td>69630</td>\n",
       "      <td>McCarran International Airport</td>\n",
       "    </tr>\n",
       "    <tr>\n",
       "      <th>886</th>\n",
       "      <td>JFK</td>\n",
       "      <td>66270</td>\n",
       "      <td>John F Kennedy International Airport</td>\n",
       "    </tr>\n",
       "    <tr>\n",
       "      <th>315</th>\n",
       "      <td>CDG</td>\n",
       "      <td>64490</td>\n",
       "      <td>Paris - Charles-de-Gaulle</td>\n",
       "    </tr>\n",
       "    <tr>\n",
       "      <th>216</th>\n",
       "      <td>BKK</td>\n",
       "      <td>59460</td>\n",
       "      <td>Suvarnabhumi</td>\n",
       "    </tr>\n",
       "    <tr>\n",
       "      <th>1228</th>\n",
       "      <td>MIA</td>\n",
       "      <td>58150</td>\n",
       "      <td>Miami International Airport</td>\n",
       "    </tr>\n",
       "    <tr>\n",
       "      <th>1719</th>\n",
       "      <td>SFO</td>\n",
       "      <td>58000</td>\n",
       "      <td>San Francisco International Airport</td>\n",
       "    </tr>\n",
       "    <tr>\n",
       "      <th>517</th>\n",
       "      <td>DXB</td>\n",
       "      <td>55590</td>\n",
       "      <td>Dubai International Airport</td>\n",
       "    </tr>\n",
       "  </tbody>\n",
       "</table>\n",
       "</div>"
      ],
      "text/plain": [
       "      arr_port    pax                                  name\n",
       "1088  LHR       88809               London Heathrow Airport\n",
       "1190  MCO       70930         Orlando International Airport\n",
       "1050  LAX       70530     Los Angeles International Airport\n",
       "1047  LAS       69630        McCarran International Airport\n",
       "886   JFK       66270  John F Kennedy International Airport\n",
       "315   CDG       64490             Paris - Charles-de-Gaulle\n",
       "216   BKK       59460                          Suvarnabhumi\n",
       "1228  MIA       58150           Miami International Airport\n",
       "1719  SFO       58000   San Francisco International Airport\n",
       "517   DXB       55590           Dubai International Airport"
      ]
     },
     "execution_count": 136,
     "metadata": {},
     "output_type": "execute_result"
    }
   ],
   "source": [
    "# It is necessary the usage of strip function because arr_port elements contain blanks\n",
    "\n",
    "final_df['name'] = final_df['arr_port'].apply(lambda s: geo_a.get(s.strip(),'name'))\n",
    "print\n",
    "final_df"
   ]
  }
 ],
 "metadata": {
  "kernelspec": {
   "display_name": "Python 2",
   "language": "python",
   "name": "python2"
  },
  "language_info": {
   "codemirror_mode": {
    "name": "ipython",
    "version": 2
   },
   "file_extension": ".py",
   "mimetype": "text/x-python",
   "name": "python",
   "nbconvert_exporter": "python",
   "pygments_lexer": "ipython2",
   "version": "2.7.10"
  }
 },
 "nbformat": 4,
 "nbformat_minor": 0
}
