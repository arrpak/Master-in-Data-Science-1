{
 "cells": [
  {
   "cell_type": "markdown",
   "metadata": {},
   "source": [
    "## Challenge: Exercise 5\n",
    "#### To write  web Service\n",
    "\n",
    "Wrap the output of the second exercise in a web service that returns the data in JSON format (instead of printing to the standard output). The web service should accept a parameter n>0. For the top 10 airports, n is 10. For the X top airports, n is X"
   ]
  },
  {
   "cell_type": "code",
   "execution_count": 7,
   "metadata": {
    "collapsed": true
   },
   "outputs": [],
   "source": [
    "import pandas as pd\n",
    "from pandas import DataFrame,Series"
   ]
  },
  {
   "cell_type": "markdown",
   "metadata": {},
   "source": [
    "##### Loading bookings file"
   ]
  },
  {
   "cell_type": "code",
   "execution_count": 8,
   "metadata": {
    "collapsed": false
   },
   "outputs": [],
   "source": [
    "import bz2\n",
    "files_path=\"/home/dsc/Repositories/Master-in-Data-Science/Data/\"\n",
    "bookings_file = bz2.BZ2File(files_path+\"bookings.csv.bz2\")\n",
    "\n",
    "# Optimization of memory usage including chunksize parameter\n",
    "bookings_df = pd.read_csv(bookings_file, sep='^', chunksize=1e5, usecols=['arr_port','pax'])\n",
    "final_df = DataFrame(columns=['arr_port','pax'])\n",
    "for chunk in bookings_df:\n",
    "    int_df = chunk.groupby('arr_port').sum().reset_index()\n",
    "    final_df = final_df.append(int_df,ignore_index=True)\n",
    "    final_df = final_df.groupby('arr_port').sum().reset_index()\n",
    "final_df = final_df.sort('pax',ascending=False)\n"
   ]
  },
  {
   "cell_type": "code",
   "execution_count": 64,
   "metadata": {
    "collapsed": true
   },
   "outputs": [],
   "source": [
    "from flask import Flask"
   ]
  },
  {
   "cell_type": "code",
   "execution_count": 72,
   "metadata": {
    "collapsed": false
   },
   "outputs": [],
   "source": [
    "# Defining WebService\n",
    "app = Flask(\"Top Airports by passengers\")\n",
    "\n",
    "@app.route('/top/<int:i>')\n",
    "def get_top(i):\n",
    "    return final_df.head(i).to_json(orient='values')"
   ]
  },
  {
   "cell_type": "code",
   "execution_count": 75,
   "metadata": {
    "collapsed": false
   },
   "outputs": [],
   "source": [
    "# Using default port 5000\n",
    "app.run()"
   ]
  }
 ],
 "metadata": {
  "kernelspec": {
   "display_name": "Python 2",
   "language": "python",
   "name": "python2"
  },
  "language_info": {
   "codemirror_mode": {
    "name": "ipython",
    "version": 2
   },
   "file_extension": ".py",
   "mimetype": "text/x-python",
   "name": "python",
   "nbconvert_exporter": "python",
   "pygments_lexer": "ipython2",
   "version": "2.7.10"
  }
 },
 "nbformat": 4,
 "nbformat_minor": 0
}
