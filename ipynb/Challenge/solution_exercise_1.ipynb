{
 "cells": [
  {
   "cell_type": "markdown",
   "metadata": {},
   "source": [
    "## Challenge: Exercise 1\n",
    "#### To count the number of lines in Python for each file"
   ]
  },
  {
   "cell_type": "code",
   "execution_count": 1,
   "metadata": {
    "collapsed": true
   },
   "outputs": [],
   "source": [
    "import bz2"
   ]
  },
  {
   "cell_type": "code",
   "execution_count": 50,
   "metadata": {
    "collapsed": false
   },
   "outputs": [
    {
     "name": "stdout",
     "output_type": "stream",
     "text": [
      "-rwxr-xr-x. 1 dsc vboxsf 554970628 Dec 31 17:49 /home/dsc/Repositories/Master-in-Data-Science/Data/bookings.csv.bz2\r\n",
      "-rwxr-xr-x. 1 dsc vboxsf 483188920 Dec 31 17:55 /home/dsc/Repositories/Master-in-Data-Science/Data/searches.csv.bz2\r\n"
     ]
    }
   ],
   "source": [
    "files_path=\"/home/dsc/Repositories/Master-in-Data-Science/Data/\"\n",
    "!ls -l {files_path}*bz2"
   ]
  },
  {
   "cell_type": "markdown",
   "metadata": {},
   "source": [
    "##### Number of lines of bookings.csv.bz2 file"
   ]
  },
  {
   "cell_type": "code",
   "execution_count": 46,
   "metadata": {
    "collapsed": false
   },
   "outputs": [],
   "source": [
    "bookings_file = bz2.BZ2File(files_path+\"bookings.csv.bz2\")"
   ]
  },
  {
   "cell_type": "code",
   "execution_count": 47,
   "metadata": {
    "collapsed": false
   },
   "outputs": [
    {
     "name": "stdout",
     "output_type": "stream",
     "text": [
      "\n",
      "Number of lines of bookings file:  10000011\n"
     ]
    }
   ],
   "source": [
    "num_lines=0\n",
    "for i in bookings_file:\n",
    "    num_lines += 1\n",
    "print\n",
    "print \"Number of lines of bookings file: \", num_lines    "
   ]
  },
  {
   "cell_type": "markdown",
   "metadata": {},
   "source": [
    "##### Number of lines of searches.csv.bz2 file"
   ]
  },
  {
   "cell_type": "code",
   "execution_count": 48,
   "metadata": {
    "collapsed": true
   },
   "outputs": [],
   "source": [
    "searches_file = bz2.BZ2File(files_path+\"searches.csv.bz2\")"
   ]
  },
  {
   "cell_type": "code",
   "execution_count": 49,
   "metadata": {
    "collapsed": false
   },
   "outputs": [
    {
     "name": "stdout",
     "output_type": "stream",
     "text": [
      "\n",
      "Number of lines of searches file:  20390199\n"
     ]
    }
   ],
   "source": [
    "num_lines=0\n",
    "for i in searches_file:\n",
    "    num_lines += 1\n",
    "print\n",
    "print \"Number of lines of searches file: \", num_lines    "
   ]
  }
 ],
 "metadata": {
  "kernelspec": {
   "display_name": "Python 2",
   "language": "python",
   "name": "python2"
  },
  "language_info": {
   "codemirror_mode": {
    "name": "ipython",
    "version": 2
   },
   "file_extension": ".py",
   "mimetype": "text/x-python",
   "name": "python",
   "nbconvert_exporter": "python",
   "pygments_lexer": "ipython2",
   "version": "2.7.10"
  }
 },
 "nbformat": 4,
 "nbformat_minor": 0
}
