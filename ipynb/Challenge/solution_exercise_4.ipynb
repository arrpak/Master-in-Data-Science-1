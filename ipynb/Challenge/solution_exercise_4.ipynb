{
 "cells": [
  {
   "cell_type": "markdown",
   "metadata": {},
   "source": [
    "## Challenge: Exercise 4"
   ]
  },
  {
   "cell_type": "code",
   "execution_count": null,
   "metadata": {
    "collapsed": false
   },
   "outputs": [],
   "source": [
    "import numpy as np\n",
    "import pandas as pd\n",
    "from pandas import Series,DataFrame\n",
    "%pylab inline"
   ]
  },
  {
   "cell_type": "markdown",
   "metadata": {},
   "source": [
    "### To match searches with bookings"
   ]
  },
  {
   "cell_type": "code",
   "execution_count": null,
   "metadata": {
    "collapsed": true
   },
   "outputs": [],
   "source": [
    "import bz2\n",
    "files_path = \"/home/dsc/Repositories/Master-in-Data-Science/Data/\""
   ]
  },
  {
   "cell_type": "markdown",
   "metadata": {},
   "source": [
    "##### Loading and formatting bookings"
   ]
  },
  {
   "cell_type": "code",
   "execution_count": null,
   "metadata": {
    "collapsed": false
   },
   "outputs": [],
   "source": [
    "bookings_file = bz2.BZ2File(files_path+\"bookings.csv.bz2\")\n",
    "bookings_df = pd.read_csv(bookings_file, \n",
    "                          sep='^',\n",
    "                          usecols=['dep_port','arr_port','brd_time           ','pax'], \n",
    "                          parse_dates=['brd_time           '])"
   ]
  },
  {
   "cell_type": "code",
   "execution_count": null,
   "metadata": {
    "collapsed": false
   },
   "outputs": [],
   "source": [
    "# Discarding blanks\n",
    "bookings_df.dropna(inplace=True)\n",
    "\n",
    "# Discarding \"negative\" bookings\n",
    "bookings_df = bookings_df[bookings_df['pax'] >=1]\n",
    "bookings_df.drop('pax', axis=1, inplace=True)\n",
    "\n",
    "# Formatting bookings dataframe to match searches dataframe\n",
    "bookings_df['Origin'] = bookings_df['dep_port'].apply(lambda s: s.strip())\n",
    "bookings_df.drop('dep_port', axis=1, inplace=True)\n",
    "\n",
    "bookings_df['Destination'] = bookings_df['arr_port'].apply(lambda s: s.strip())\n",
    "bookings_df.drop('arr_port', axis=1, inplace=True)\n",
    "\n",
    "bookings_df['Seg1Date'] = bookings_df['brd_time           '].apply(lambda d: pd.to_datetime(d.date()))\n",
    "bookings_df.drop('brd_time           ', axis=1, inplace=True)\n",
    "\n",
    "# Adding requested column \"if search = booking\"\n",
    "bookings_df['Is_Booked'] = 1\n"
   ]
  },
  {
   "cell_type": "markdown",
   "metadata": {},
   "source": [
    "##### Loading and formatting searches"
   ]
  },
  {
   "cell_type": "code",
   "execution_count": null,
   "metadata": {
    "collapsed": false
   },
   "outputs": [],
   "source": [
    "searches_file = bz2.BZ2File(files_path+\"searches.csv.bz2\")\n",
    "searches_df = pd.read_csv(searches_file, \n",
    "                          sep='^',\n",
    "                          nrows=1e5,\n",
    "                          usecols=['Origin','Destination','Seg1Date'],\n",
    "                          parse_dates=['Seg1Date'])\n",
    "searches_df.reset_index(inplace=True)"
   ]
  },
  {
   "cell_type": "markdown",
   "metadata": {},
   "source": [
    "##### Merging both dataframes"
   ]
  },
  {
   "cell_type": "code",
   "execution_count": null,
   "metadata": {
    "collapsed": false
   },
   "outputs": [],
   "source": [
    "# Obtaining searches with bookings\n",
    "merged_df = pd.merge(searches_df,bookings_df,how=\"left\").drop_duplicates()\n",
    "merged_df['Is_Booked'].fillna(0,inplace=True)\n",
    "merged_df.groupby('Is_Booked').count()\n",
    "# merged_df.head()"
   ]
  },
  {
   "cell_type": "code",
   "execution_count": null,
   "metadata": {
    "collapsed": true
   },
   "outputs": [],
   "source": [
    "# Obtaining searches without bookings\n",
    "merged0_df = pd.merge(searches_df,bookings_df,how=\"outer\")\n",
    "merged0_df['Is_Searched'].fillna(0, inplace=True)\n",
    "merged0_df = merged0_df[merged0_df['Is_Searched'] == 0]"
   ]
  },
  {
   "cell_type": "code",
   "execution_count": null,
   "metadata": {
    "collapsed": false
   },
   "outputs": [],
   "source": [
    "# Appending and sorting final result\n",
    "sol_df = merged1_df.append(merged0_df,ignore_index=True)\n",
    "sol_df = sol_df.sort('index')\n",
    "sol_df.head(10)"
   ]
  },
  {
   "cell_type": "code",
   "execution_count": null,
   "metadata": {
    "collapsed": false
   },
   "outputs": [],
   "source": [
    "sol_df.groupby('Is_Searched').count()"
   ]
  },
  {
   "cell_type": "code",
   "execution_count": null,
   "metadata": {
    "collapsed": true
   },
   "outputs": [],
   "source": []
  }
 ],
 "metadata": {
  "kernelspec": {
   "display_name": "Python 2",
   "language": "python",
   "name": "python2"
  },
  "language_info": {
   "codemirror_mode": {
    "name": "ipython",
    "version": 2
   },
   "file_extension": ".py",
   "mimetype": "text/x-python",
   "name": "python",
   "nbconvert_exporter": "python",
   "pygments_lexer": "ipython2",
   "version": "2.7.10"
  }
 },
 "nbformat": 4,
 "nbformat_minor": 0
}
