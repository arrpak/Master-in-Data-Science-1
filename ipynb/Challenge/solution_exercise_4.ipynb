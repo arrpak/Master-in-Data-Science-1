{
 "cells": [
  {
   "cell_type": "markdown",
   "metadata": {},
   "source": [
    "## Challenge: Exercise 4"
   ]
  },
  {
   "cell_type": "code",
   "execution_count": 1,
   "metadata": {
    "collapsed": false
   },
   "outputs": [
    {
     "name": "stdout",
     "output_type": "stream",
     "text": [
      "Populating the interactive namespace from numpy and matplotlib\n"
     ]
    }
   ],
   "source": [
    "import numpy as np\n",
    "import pandas as pd\n",
    "from pandas import Series,DataFrame\n",
    "%pylab inline"
   ]
  },
  {
   "cell_type": "markdown",
   "metadata": {},
   "source": [
    "### To match searches with bookings"
   ]
  },
  {
   "cell_type": "code",
   "execution_count": 2,
   "metadata": {
    "collapsed": true
   },
   "outputs": [],
   "source": [
    "import bz2\n",
    "files_path = \"/home/dsc/Repositories/Master-in-Data-Science/Data/\""
   ]
  },
  {
   "cell_type": "markdown",
   "metadata": {},
   "source": [
    "##### Loading and formatting searches"
   ]
  },
  {
   "cell_type": "code",
   "execution_count": 119,
   "metadata": {
    "collapsed": false
   },
   "outputs": [
    {
     "name": "stdout",
     "output_type": "stream",
     "text": [
      "1 105409\n",
      "2 167848\n",
      "3 167848\n",
      "4 167848\n",
      "5 167848\n",
      "6 167848\n",
      "7 167848\n",
      "8 167848\n",
      "9 167848\n",
      "10 167848\n",
      "11 167849\n",
      "12 167849\n",
      "13 167849\n",
      "14 167849\n",
      "15 167849\n",
      "16 167849\n",
      "17 167849\n",
      "18 167849\n",
      "19 167849\n",
      "20 167849\n",
      "21 167849\n"
     ]
    }
   ],
   "source": [
    "bookings_file = bz2.BZ2File(files_path+\"bookings.csv.bz2\")\n",
    "bookings_chk= pd.read_csv(bookings_file, sep='^',chunksize=5e5,usecols=['brd_time           '])\n",
    "\n",
    "bookings_df= DataFrame([])\n",
    "n=0\n",
    "for chunk in bookings_chk:\n",
    "    if n>-1:\n",
    "        bookings_df = pd.concat([bookings_df,chunk],ignore_index=True)\n",
    "        bookings_df = bookings_df.drop_duplicates()\n",
    "    n += 1\n",
    "    print n, len(bookings_df)\n",
    "    if n > 200:\n",
    "        break\n"
   ]
  },
  {
   "cell_type": "code",
   "execution_count": 120,
   "metadata": {
    "collapsed": false
   },
   "outputs": [],
   "source": [
    "sorted = bookings_df['brd_time           '].copy()"
   ]
  },
  {
   "cell_type": "code",
   "execution_count": 121,
   "metadata": {
    "collapsed": false
   },
   "outputs": [
    {
     "data": {
      "text/plain": [
       "43417     2012-03-02 12:15:00\n",
       "166504    2012-07-28 17:10:00\n",
       "133394    2012-09-01 12:15:00\n",
       "101661    2012-09-04 01:00:00\n",
       "73628     2012-10-01 19:20:00\n",
       "117185    2012-10-03 12:45:00\n",
       "126384    2012-10-04 02:10:00\n",
       "58212     2012-10-09 19:30:00\n",
       "79517     2012-10-21 12:00:00\n",
       "93733     2012-11-19 19:40:00\n",
       "74235     2012-11-27 12:45:00\n",
       "10036     2012-12-04 02:35:00\n",
       "150967    2012-12-04 18:35:00\n",
       "129341    2012-12-06 13:10:00\n",
       "129342    2012-12-07 15:05:00\n",
       "76395     2012-12-09 01:50:00\n",
       "17424     2012-12-10 19:05:00\n",
       "33922     2012-12-11 21:50:00\n",
       "26514     2012-12-12 16:20:00\n",
       "26515     2012-12-13 14:35:00\n",
       "33232     2012-12-16 05:50:00\n",
       "77305     2012-12-18 07:20:00\n",
       "67280     2012-12-18 17:45:00\n",
       "167596    2012-12-19 01:50:00\n",
       "42992     2012-12-21 19:55:00\n",
       "73879     2012-12-22 06:42:00\n",
       "26362     2012-12-22 12:30:00\n",
       "64135     2012-12-23 15:00:00\n",
       "17723     2012-12-27 15:10:00\n",
       "69747     2012-12-27 18:05:00\n",
       "                 ...         \n",
       "140483    2014-11-18 15:30:00\n",
       "138394    2014-11-20 05:15:00\n",
       "103465    2014-11-21 17:00:00\n",
       "159194    2014-11-22 16:00:00\n",
       "114310    2014-11-22 23:20:00\n",
       "119488    2014-11-23 21:00:00\n",
       "111121    2014-11-23 23:45:00\n",
       "139345    2014-11-25 09:30:00\n",
       "114106    2014-11-26 06:40:00\n",
       "160292    2014-11-27 08:25:00\n",
       "159062    2014-11-27 09:30:00\n",
       "114400    2014-11-30 13:30:00\n",
       "160293    2014-12-01 20:55:00\n",
       "157598    2014-12-03 10:35:00\n",
       "157599    2014-12-04 10:55:00\n",
       "98912     2014-12-05 11:55:00\n",
       "138570    2014-12-08 09:30:00\n",
       "160922    2014-12-08 11:25:00\n",
       "113143    2014-12-09 20:05:00\n",
       "141788    2014-12-10 11:00:00\n",
       "164082    2014-12-10 19:20:00\n",
       "140496    2014-12-12 18:05:00\n",
       "141789    2014-12-12 20:10:00\n",
       "140497    2014-12-12 20:40:00\n",
       "133636    2014-12-15 09:25:00\n",
       "141790    2014-12-17 17:25:00\n",
       "103755    2014-12-18 02:50:00\n",
       "113310    2014-12-20 09:15:00\n",
       "114685    2014-12-20 13:35:00\n",
       "167848                      3\n",
       "Name: brd_time           , dtype: object"
      ]
     },
     "execution_count": 121,
     "metadata": {},
     "output_type": "execute_result"
    }
   ],
   "source": [
    "sorted.sort()\n",
    "sorted"
   ]
  },
  {
   "cell_type": "code",
   "execution_count": 51,
   "metadata": {
    "collapsed": false
   },
   "outputs": [],
   "source": [
    "searches_file = bz2.BZ2File(files_path+\"searches.csv.bz2\")\n",
    "searches_df = pd.read_csv(searches_file, \n",
    "                          sep='^',\n",
    "                          nrows=1e5,\n",
    "                          usecols=['Origin','Destination','Seg1Date'],\n",
    "                          parse_dates=['Seg1Date'])\n",
    "searches_df.reset_index(inplace=True)"
   ]
  },
  {
   "cell_type": "markdown",
   "metadata": {},
   "source": [
    "##### Loading and formatting bookings"
   ]
  },
  {
   "cell_type": "code",
   "execution_count": 62,
   "metadata": {
    "collapsed": false
   },
   "outputs": [
    {
     "name": "stdout",
     "output_type": "stream",
     "text": [
      "1100000\n"
     ]
    }
   ],
   "source": [
    "bookings_file = bz2.BZ2File(files_path+\"bookings.csv.bz2\")\n",
    "bookings_df = pd.read_csv(bookings_file, sep='^',nrows=11e5,usecols=['dep_port','arr_port','brd_time           ','pax'],parse_dates=['brd_time           '])\n",
    "#bookings_df = bookings_df[100000:]\n",
    "print len(bookings_df)\n",
    "\n",
    "# Discarding blanks\n",
    "bookings_df.dropna(inplace=True)\n",
    "\n",
    "# Discarding \"negative\" bookings\n",
    "bookings_df = bookings_df[bookings_df['pax'] >=1]\n",
    "bookings_df.drop('pax', axis=1, inplace=True)\n",
    "\n",
    "# Formatting bookings dataframe to match searches dataframe\n",
    "bookings_df['Origin'] = bookings_df['dep_port'].apply(lambda s: s.strip())\n",
    "bookings_df.drop('dep_port', axis=1, inplace=True)\n",
    "\n",
    "bookings_df['Destination'] = bookings_df['arr_port'].apply(lambda s: s.strip())\n",
    "bookings_df.drop('arr_port', axis=1, inplace=True)\n",
    "\n",
    "bookings_df['Seg1Date'] = bookings_df['brd_time           '].apply(lambda d: pd.to_datetime(d.date()))\n",
    "bookings_df.drop('brd_time           ', axis=1, inplace=True)\n",
    "\n",
    "# Adding requested column \"if search = booking\"\n",
    "bookings_df['Is_Booked'] = 1"
   ]
  },
  {
   "cell_type": "markdown",
   "metadata": {},
   "source": [
    "##### Merging both dataframes"
   ]
  },
  {
   "cell_type": "code",
   "execution_count": 63,
   "metadata": {
    "collapsed": false
   },
   "outputs": [
    {
     "data": {
      "text/html": [
       "<div>\n",
       "<table border=\"1\" class=\"dataframe\">\n",
       "  <thead>\n",
       "    <tr style=\"text-align: right;\">\n",
       "      <th></th>\n",
       "      <th>index</th>\n",
       "      <th>Origin</th>\n",
       "      <th>Destination</th>\n",
       "      <th>Seg1Date</th>\n",
       "    </tr>\n",
       "    <tr>\n",
       "      <th>Is_Booked</th>\n",
       "      <th></th>\n",
       "      <th></th>\n",
       "      <th></th>\n",
       "      <th></th>\n",
       "    </tr>\n",
       "  </thead>\n",
       "  <tbody>\n",
       "    <tr>\n",
       "      <th>0</th>\n",
       "      <td>92400</td>\n",
       "      <td>92400</td>\n",
       "      <td>92400</td>\n",
       "      <td>92005</td>\n",
       "    </tr>\n",
       "    <tr>\n",
       "      <th>1</th>\n",
       "      <td>7600</td>\n",
       "      <td>7600</td>\n",
       "      <td>7600</td>\n",
       "      <td>7600</td>\n",
       "    </tr>\n",
       "  </tbody>\n",
       "</table>\n",
       "</div>"
      ],
      "text/plain": [
       "           index  Origin  Destination  Seg1Date\n",
       "Is_Booked                                      \n",
       "0          92400   92400        92400     92005\n",
       "1           7600    7600         7600      7600"
      ]
     },
     "execution_count": 63,
     "metadata": {},
     "output_type": "execute_result"
    }
   ],
   "source": [
    "# Obtaining searches with bookings\n",
    "merged_df = pd.merge(searches_df,bookings_df,how=\"left\",on=['Origin','Destination','Seg1Date']).drop_duplicates()\n",
    "merged_df['Is_Booked'].fillna(0,inplace=True)\n",
    "merged_df.groupby('Is_Booked').count()\n",
    "# merged_df.head()"
   ]
  },
  {
   "cell_type": "code",
   "execution_count": null,
   "metadata": {
    "collapsed": true
   },
   "outputs": [],
   "source": []
  }
 ],
 "metadata": {
  "kernelspec": {
   "display_name": "Python 2",
   "language": "python",
   "name": "python2"
  },
  "language_info": {
   "codemirror_mode": {
    "name": "ipython",
    "version": 2
   },
   "file_extension": ".py",
   "mimetype": "text/x-python",
   "name": "python",
   "nbconvert_exporter": "python",
   "pygments_lexer": "ipython2",
   "version": "2.7.10"
  }
 },
 "nbformat": 4,
 "nbformat_minor": 0
}
