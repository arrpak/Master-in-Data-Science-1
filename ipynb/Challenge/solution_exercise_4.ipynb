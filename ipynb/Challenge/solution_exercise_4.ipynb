{
 "cells": [
  {
   "cell_type": "markdown",
   "metadata": {},
   "source": [
    "## Challenge: Exercise 4\n",
    "#### To match searches with bookings\n",
    "\n",
    "For every search in the searches file, find out whether the search ended up in a booking or not (using the info in the bookings file). For instance, search and booking origin and destination should match. For the bookings file, origin and destination are the columns dep_port and arr_port, respectively. Generate a CSV file with the search data, and an additional field, containing 1 if the search ended up in a booking, and 0 otherwise."
   ]
  },
  {
   "cell_type": "code",
   "execution_count": 1,
   "metadata": {
    "collapsed": false
   },
   "outputs": [
    {
     "name": "stdout",
     "output_type": "stream",
     "text": [
      "Populating the interactive namespace from numpy and matplotlib\n"
     ]
    }
   ],
   "source": [
    "import numpy as np\n",
    "import pandas as pd\n",
    "from pandas import Series,DataFrame\n",
    "import datetime as dt\n",
    "%pylab inline"
   ]
  },
  {
   "cell_type": "code",
   "execution_count": 2,
   "metadata": {
    "collapsed": true
   },
   "outputs": [],
   "source": [
    "import bz2\n",
    "files_path = \"/home/dsc/Repositories/Master-in-Data-Science/Data/\""
   ]
  },
  {
   "cell_type": "markdown",
   "metadata": {},
   "source": [
    "##### Loading and formatting bookings"
   ]
  },
  {
   "cell_type": "code",
   "execution_count": null,
   "metadata": {
    "collapsed": false
   },
   "outputs": [],
   "source": [
    "# Defining new searches file\n",
    "new_searches_file = files_path+\"new_searches.csv\"\n",
    "new_searches_df = pd.DataFrame([])\n",
    "\n",
    "searches_file = bz2.BZ2File(files_path+\"searches.csv.bz2\")\n",
    "\n",
    "n=0\n",
    "start = dt.datetime.now()\n",
    "\n",
    "# Loading searches file using chunks due to limit of memory \n",
    "for searches_df in pd.read_csv(searches_file, sep='^', chunksize=1e6,iterator=True):\n",
    "    searches_df['Seg1Date'] = pd.to_datetime(searches_df['Seg1Date'])\n",
    "    searches_df['Is_Booked'] = 0\n",
    "\n",
    "    # Reseting index avoids errors deleting duplicates after merging dataframes\n",
    "    searches_df.reset_index(inplace=True)\n",
    "    \n",
    "    bookings_file = bz2.BZ2File(files_path+\"bookings.csv.bz2\")\n",
    "\n",
    "    # Loading bookings file using chunks due to limit of memory\n",
    "    for booking_df in pd.read_csv(bookings_file,sep='^',chunksize=1e6,iterator=True,\n",
    "                                  usecols=['dep_port','arr_port','brd_time           ','pax']):\n",
    "        \n",
    "        # Discarding blanks, negatives bookings anf garbage rows\n",
    "        booking_df.dropna(inplace=True)\n",
    "        booking_df = booking_df[booking_df['pax'] >=1]\n",
    "        booking_df.drop('pax', axis=1, inplace=True)\n",
    "        booking_df = booking_df[booking_df['brd_time           '] != '3']\n",
    "\n",
    "        # Formatting columns of bookings dataframe to match columns of searches dataframe\n",
    "        booking_df.columns={'Origin','Destination','Seg1Date'}\n",
    "        booking_df['Origin'] = booking_df['Origin'].str.strip()\n",
    "        booking_df['Destination'] = booking_df['Destination'].str.strip()\n",
    "        booking_df['Seg1Date'] = pd.to_datetime(booking_df['Seg1Date'])\n",
    "        booking_df['Seg1Date'] = booking_df['Seg1Date'].dt.date\n",
    "        booking_df['Seg1Date'] = pd.to_datetime(booking_df['Seg1Date'])\n",
    "\n",
    "        # Adding requested column \"if search = booking\"\n",
    "        booking_df['Is_Booked_Chunk'] = 1\n",
    "        \n",
    "        # Obtaining new searches with bookings\n",
    "        searches_df = pd.merge(searches_df,booking_df,on=['Origin','Destination','Seg1Date'],how=\"left\").drop_duplicates()\n",
    "        searches_df['Is_Booked_Chunk'].fillna(0,inplace=True)\n",
    "        # Adding only new matches bookings vs searches\n",
    "        searches_df['Is_Booked'] = searches_df['Is_Booked_Chunk'].where(searches_df['Is_Booked_Chunk']==1,other=searches_df['Is_Booked'])\n",
    "        searches_df.drop('Is_Booked_Chunk', axis=1, inplace=True)\n",
    "        \n",
    "        print 'booking {} seconds: completed'.format((dt.datetime.now() - start).seconds)\n",
    "\n",
    "    # Writing new searches csv file\n",
    "    searches_df.drop('index', axis=1, inplace=True)\n",
    "    if n == 0:\n",
    "        searches_df.to_csv(new_searches_file,sep='^',mode='w')\n",
    "    else:\n",
    "        searches_df.to_csv(new_searches_file,sep='^',mode='a',header=False)\n",
    "    \n",
    "    print '{} search {} seconds: completed'.format(n,(dt.datetime.now() - start).seconds)\n",
    "    n += 1\n",
    "    "
   ]
  },
  {
   "cell_type": "code",
   "execution_count": null,
   "metadata": {
    "collapsed": false
   },
   "outputs": [],
   "source": [
    "!bzip2 {files_path+\"new_searches.csv\"}"
   ]
  }
 ],
 "metadata": {
  "kernelspec": {
   "display_name": "Python 2",
   "language": "python",
   "name": "python2"
  },
  "language_info": {
   "codemirror_mode": {
    "name": "ipython",
    "version": 2
   },
   "file_extension": ".py",
   "mimetype": "text/x-python",
   "name": "python",
   "nbconvert_exporter": "python",
   "pygments_lexer": "ipython2",
   "version": "2.7.10"
  }
 },
 "nbformat": 4,
 "nbformat_minor": 0
}
