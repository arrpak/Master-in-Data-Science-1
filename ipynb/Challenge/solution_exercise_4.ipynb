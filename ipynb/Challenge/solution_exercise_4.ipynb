{
 "cells": [
  {
   "cell_type": "markdown",
   "metadata": {},
   "source": [
    "## Challenge: Exercise 4"
   ]
  },
  {
   "cell_type": "code",
   "execution_count": 1,
   "metadata": {
    "collapsed": false
   },
   "outputs": [
    {
     "name": "stdout",
     "output_type": "stream",
     "text": [
      "Populating the interactive namespace from numpy and matplotlib\n"
     ]
    }
   ],
   "source": [
    "import numpy as np\n",
    "import pandas as pd\n",
    "from pandas import Series,DataFrame\n",
    "%pylab inline"
   ]
  },
  {
   "cell_type": "markdown",
   "metadata": {},
   "source": [
    "### To match searches with bookings"
   ]
  },
  {
   "cell_type": "code",
   "execution_count": 2,
   "metadata": {
    "collapsed": true
   },
   "outputs": [],
   "source": [
    "import bz2\n",
    "files_path = \"/home/dsc/Repositories/Master-in-Data-Science/Data/\""
   ]
  },
  {
   "cell_type": "markdown",
   "metadata": {},
   "source": [
    "##### Loading and formatting bookings"
   ]
  },
  {
   "cell_type": "code",
   "execution_count": 5,
   "metadata": {
    "collapsed": false
   },
   "outputs": [],
   "source": [
    "bookings_file = bz2.BZ2File(files_path+\"bookings.csv.bz2\")\n",
    "bookings_df = pd.read_csv(bookings_file, \n",
    "                          sep='^',\n",
    "                          nrows=1e5,\n",
    "                          usecols=['dep_port','arr_port','brd_time           ','pax'], \n",
    "                          parse_dates=['brd_time           '])"
   ]
  },
  {
   "cell_type": "code",
   "execution_count": 6,
   "metadata": {
    "collapsed": true
   },
   "outputs": [],
   "source": [
    "# Discarding \"negative\" bookings\n",
    "bookings_df = bookings_df[bookings_df['pax'] >=1]\n",
    "bookings_df.drop('pax', axis=1, inplace=True)\n",
    "\n",
    "# Formatting bookings dataframe to match searches dataframe\n",
    "bookings_df['Origin'] = bookings_df['dep_port'].apply(lambda s: s.strip())\n",
    "bookings_df.drop('dep_port', axis=1, inplace=True)\n",
    "\n",
    "bookings_df['Destination'] = bookings_df['arr_port'].apply(lambda s: s.strip())\n",
    "bookings_df.drop('arr_port', axis=1, inplace=True)\n",
    "\n",
    "bookings_df['Seg1Date'] = bookings_df['brd_time           '].apply(lambda d: pd.to_datetime(d.date()))\n",
    "bookings_df.drop('brd_time           ', axis=1, inplace=True)\n",
    "\n",
    "# Adding requested column \"if search = booking\"\n",
    "bookings_df['Is_Searched'] = 1\n",
    "\n"
   ]
  },
  {
   "cell_type": "markdown",
   "metadata": {},
   "source": [
    "##### Loading and formatting searches"
   ]
  },
  {
   "cell_type": "code",
   "execution_count": 7,
   "metadata": {
    "collapsed": false
   },
   "outputs": [],
   "source": [
    "searches_file = bz2.BZ2File(files_path+\"searches.csv.bz2\")\n",
    "searches_df = pd.read_csv(searches_file, \n",
    "                          sep='^',\n",
    "                          nrows=1e5,\n",
    "                          usecols=['Origin','Destination','Seg1Date'],\n",
    "                          parse_dates=['Seg1Date'])\n",
    "searches_df.reset_index(inplace=True)"
   ]
  },
  {
   "cell_type": "markdown",
   "metadata": {},
   "source": [
    "##### Merging both dataframes"
   ]
  },
  {
   "cell_type": "code",
   "execution_count": 8,
   "metadata": {
    "collapsed": false
   },
   "outputs": [],
   "source": [
    "# Obtaining searches with bookings\n",
    "merged1_df = pd.merge(searches_df,bookings_df,how=\"inner\").drop_duplicates()"
   ]
  },
  {
   "cell_type": "code",
   "execution_count": 9,
   "metadata": {
    "collapsed": true
   },
   "outputs": [],
   "source": [
    "# Obtaining searches without bookings\n",
    "merged0_df = pd.merge(searches_df,bookings_df,how=\"outer\")\n",
    "merged0_df['Is_Searched'].fillna(0, inplace=True)\n",
    "merged0_df = merged0_df[merged0_df['Is_Searched'] == 0]"
   ]
  },
  {
   "cell_type": "code",
   "execution_count": 15,
   "metadata": {
    "collapsed": false
   },
   "outputs": [
    {
     "data": {
      "text/html": [
       "<div>\n",
       "<table border=\"1\" class=\"dataframe\">\n",
       "  <thead>\n",
       "    <tr style=\"text-align: right;\">\n",
       "      <th></th>\n",
       "      <th>index</th>\n",
       "      <th>Origin</th>\n",
       "      <th>Destination</th>\n",
       "      <th>Seg1Date</th>\n",
       "      <th>Is_Searched</th>\n",
       "    </tr>\n",
       "  </thead>\n",
       "  <tbody>\n",
       "    <tr>\n",
       "      <th>1364</th>\n",
       "      <td>0</td>\n",
       "      <td>TXL</td>\n",
       "      <td>AUH</td>\n",
       "      <td>2013-01-26</td>\n",
       "      <td>0</td>\n",
       "    </tr>\n",
       "    <tr>\n",
       "      <th>1365</th>\n",
       "      <td>1</td>\n",
       "      <td>ATH</td>\n",
       "      <td>MIL</td>\n",
       "      <td>2013-01-04</td>\n",
       "      <td>0</td>\n",
       "    </tr>\n",
       "    <tr>\n",
       "      <th>1366</th>\n",
       "      <td>2</td>\n",
       "      <td>ICT</td>\n",
       "      <td>SFO</td>\n",
       "      <td>2013-08-02</td>\n",
       "      <td>0</td>\n",
       "    </tr>\n",
       "    <tr>\n",
       "      <th>1367</th>\n",
       "      <td>3</td>\n",
       "      <td>RNB</td>\n",
       "      <td>ARN</td>\n",
       "      <td>2013-01-02</td>\n",
       "      <td>0</td>\n",
       "    </tr>\n",
       "    <tr>\n",
       "      <th>1368</th>\n",
       "      <td>4</td>\n",
       "      <td>OSL</td>\n",
       "      <td>MAD</td>\n",
       "      <td>2013-03-22</td>\n",
       "      <td>0</td>\n",
       "    </tr>\n",
       "    <tr>\n",
       "      <th>1369</th>\n",
       "      <td>5</td>\n",
       "      <td>IAH</td>\n",
       "      <td>BLR</td>\n",
       "      <td>2013-02-14</td>\n",
       "      <td>0</td>\n",
       "    </tr>\n",
       "    <tr>\n",
       "      <th>1370</th>\n",
       "      <td>6</td>\n",
       "      <td>CPH</td>\n",
       "      <td>PAR</td>\n",
       "      <td>2013-03-02</td>\n",
       "      <td>0</td>\n",
       "    </tr>\n",
       "    <tr>\n",
       "      <th>1371</th>\n",
       "      <td>7</td>\n",
       "      <td>PAR</td>\n",
       "      <td>DUB</td>\n",
       "      <td>2013-02-12</td>\n",
       "      <td>0</td>\n",
       "    </tr>\n",
       "    <tr>\n",
       "      <th>1372</th>\n",
       "      <td>8</td>\n",
       "      <td>DUS</td>\n",
       "      <td>ACE</td>\n",
       "      <td>2013-03-30</td>\n",
       "      <td>0</td>\n",
       "    </tr>\n",
       "    <tr>\n",
       "      <th>1373</th>\n",
       "      <td>9</td>\n",
       "      <td>FRA</td>\n",
       "      <td>BGW</td>\n",
       "      <td>2013-02-26</td>\n",
       "      <td>0</td>\n",
       "    </tr>\n",
       "  </tbody>\n",
       "</table>\n",
       "</div>"
      ],
      "text/plain": [
       "      index Origin Destination   Seg1Date  Is_Searched\n",
       "1364      0    TXL         AUH 2013-01-26            0\n",
       "1365      1    ATH         MIL 2013-01-04            0\n",
       "1366      2    ICT         SFO 2013-08-02            0\n",
       "1367      3    RNB         ARN 2013-01-02            0\n",
       "1368      4    OSL         MAD 2013-03-22            0\n",
       "1369      5    IAH         BLR 2013-02-14            0\n",
       "1370      6    CPH         PAR 2013-03-02            0\n",
       "1371      7    PAR         DUB 2013-02-12            0\n",
       "1372      8    DUS         ACE 2013-03-30            0\n",
       "1373      9    FRA         BGW 2013-02-26            0"
      ]
     },
     "execution_count": 15,
     "metadata": {},
     "output_type": "execute_result"
    }
   ],
   "source": [
    "# Appending and sorting final result\n",
    "sol_df = merged1_df.append(merged0_df,ignore_index=True)\n",
    "sol_df = sol_df.sort('index')\n",
    "sol_df.head(10)"
   ]
  },
  {
   "cell_type": "code",
   "execution_count": 14,
   "metadata": {
    "collapsed": false
   },
   "outputs": [
    {
     "data": {
      "text/html": [
       "<div>\n",
       "<table border=\"1\" class=\"dataframe\">\n",
       "  <thead>\n",
       "    <tr style=\"text-align: right;\">\n",
       "      <th></th>\n",
       "      <th>index</th>\n",
       "      <th>Origin</th>\n",
       "      <th>Destination</th>\n",
       "      <th>Seg1Date</th>\n",
       "    </tr>\n",
       "    <tr>\n",
       "      <th>Is_Searched</th>\n",
       "      <th></th>\n",
       "      <th></th>\n",
       "      <th></th>\n",
       "      <th></th>\n",
       "    </tr>\n",
       "  </thead>\n",
       "  <tbody>\n",
       "    <tr>\n",
       "      <th>0</th>\n",
       "      <td>98636</td>\n",
       "      <td>98636</td>\n",
       "      <td>98636</td>\n",
       "      <td>98241</td>\n",
       "    </tr>\n",
       "    <tr>\n",
       "      <th>1</th>\n",
       "      <td>1364</td>\n",
       "      <td>1364</td>\n",
       "      <td>1364</td>\n",
       "      <td>1364</td>\n",
       "    </tr>\n",
       "  </tbody>\n",
       "</table>\n",
       "</div>"
      ],
      "text/plain": [
       "             index  Origin  Destination  Seg1Date\n",
       "Is_Searched                                      \n",
       "0            98636   98636        98636     98241\n",
       "1             1364    1364         1364      1364"
      ]
     },
     "execution_count": 14,
     "metadata": {},
     "output_type": "execute_result"
    }
   ],
   "source": [
    "sol_df.groupby('Is_Searched').count()"
   ]
  },
  {
   "cell_type": "code",
   "execution_count": null,
   "metadata": {
    "collapsed": true
   },
   "outputs": [],
   "source": []
  }
 ],
 "metadata": {
  "kernelspec": {
   "display_name": "Python 2",
   "language": "python",
   "name": "python2"
  },
  "language_info": {
   "codemirror_mode": {
    "name": "ipython",
    "version": 2
   },
   "file_extension": ".py",
   "mimetype": "text/x-python",
   "name": "python",
   "nbconvert_exporter": "python",
   "pygments_lexer": "ipython2",
   "version": "2.7.10"
  }
 },
 "nbformat": 4,
 "nbformat_minor": 0
}
