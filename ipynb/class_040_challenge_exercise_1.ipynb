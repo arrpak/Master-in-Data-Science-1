{
 "cells": [
  {
   "cell_type": "code",
   "execution_count": 4,
   "metadata": {
    "collapsed": true
   },
   "outputs": [],
   "source": [
    "import numpy as np\n",
    "import pandas as pd\n",
    "from pandas import Series,DataFrame"
   ]
  },
  {
   "cell_type": "code",
   "execution_count": 7,
   "metadata": {
    "collapsed": false
   },
   "outputs": [
    {
     "name": "stdout",
     "output_type": "stream",
     "text": [
      "total 1228416\r\n",
      "-rwxr-xr-x. 1 dsc vboxsf 554970628 Dec 31 17:49 bookings.csv.bz2\r\n",
      "-rw-r--r--. 1 dsc vboxsf     42505 Dec 30 01:34 mini_bookings.csv\r\n",
      "-rw-r--r--. 1 dsc vboxsf 211633432 Apr 16  2015 On_Time_On_Time_Performance_2015_1.csv\r\n",
      "-rw-rw-r--. 1 dsc vboxsf     18612 Nov 22 10:41 optd_aircraft.csv\r\n",
      "-rw-rw-r--. 1 dsc vboxsf    107306 Nov 22 19:41 optd_airlines.csv\r\n",
      "-rw-rw-r--. 1 dsc vboxsf   7889316 Nov 22 19:41 optd_por_public.csv\r\n",
      "-rw-r--r--. 1 dsc vboxsf     12054 Apr 16  2015 readme.html\r\n",
      "-rw-rw-r--. 1 dsc vboxsf      5816 Nov 22 19:41 ref_airline_nb_of_flights.csv\r\n",
      "-rwxr-xr-x. 1 dsc vboxsf 483188920 Dec 31 17:55 searches.csv.bz2\r\n"
     ]
    }
   ],
   "source": [
    "files_path=\"/home/dsc/Repositories/Master-in-Data-Science/Data/\"\n",
    "!ls -l {files_path}"
   ]
  },
  {
   "cell_type": "code",
   "execution_count": 6,
   "metadata": {
    "collapsed": true
   },
   "outputs": [
    {
     "name": "stdout",
     "output_type": "stream",
     "text": [
      "bzcat: Can't open input file bookings.csv.bz2: No such file or directory.\r\n",
      "0\r\n"
     ]
    }
   ],
   "source": [
    "!bzcat bookings.csv.bz2 | wc -l"
   ]
  },
  {
   "cell_type": "code",
   "execution_count": 2,
   "metadata": {
    "collapsed": true
   },
   "outputs": [],
   "source": [
    "import bz2"
   ]
  },
  {
   "cell_type": "code",
   "execution_count": 11,
   "metadata": {
    "collapsed": false
   },
   "outputs": [],
   "source": [
    "bz2_file = bz2.BZ2File(files_path+\"bookings.csv.bz2\")"
   ]
  },
  {
   "cell_type": "code",
   "execution_count": 7,
   "metadata": {
    "collapsed": false
   },
   "outputs": [
    {
     "data": {
      "text/plain": [
       "9684411"
      ]
     },
     "execution_count": 7,
     "metadata": {},
     "output_type": "execute_result"
    }
   ],
   "source": [
    "nf = 0\n",
    "for n in bz2_file:\n",
    "    nf += 1\n",
    "nf"
   ]
  },
  {
   "cell_type": "code",
   "execution_count": null,
   "metadata": {
    "collapsed": true
   },
   "outputs": [],
   "source": []
  }
 ],
 "metadata": {
  "kernelspec": {
   "display_name": "Python 2",
   "language": "python",
   "name": "python2"
  },
  "language_info": {
   "codemirror_mode": {
    "name": "ipython",
    "version": 2
   },
   "file_extension": ".py",
   "mimetype": "text/x-python",
   "name": "python",
   "nbconvert_exporter": "python",
   "pygments_lexer": "ipython2",
   "version": "2.7.10"
  }
 },
 "nbformat": 4,
 "nbformat_minor": 0
}
