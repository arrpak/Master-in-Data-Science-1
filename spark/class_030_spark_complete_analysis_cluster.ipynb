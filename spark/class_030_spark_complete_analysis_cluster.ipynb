{
 "cells": [
  {
   "cell_type": "markdown",
   "metadata": {},
   "source": [
    "# Igual que ayer (kmeans) pero sin smaller, con todo el fichero en spark"
   ]
  },
  {
   "cell_type": "code",
   "execution_count": 1,
   "metadata": {
    "collapsed": true
   },
   "outputs": [],
   "source": [
    "data = sc.textFile('data/sales_segments.csv.gz')"
   ]
  },
  {
   "cell_type": "code",
   "execution_count": 2,
   "metadata": {
    "collapsed": false
   },
   "outputs": [
    {
     "data": {
      "text/plain": [
       "[u'revenue_amount_seg', u'33.56', u'306.00']"
      ]
     },
     "execution_count": 2,
     "metadata": {},
     "output_type": "execute_result"
    }
   ],
   "source": [
    "data.map(lambda l: l.split('^')[51]).take(3)"
   ]
  },
  {
   "cell_type": "code",
   "execution_count": 3,
   "metadata": {
    "collapsed": false
   },
   "outputs": [
    {
     "data": {
      "text/plain": [
       "u'rloc^departure_date_seg^booking_date^freq_flyer_flag^creator_office_id^creator_iata_number^creator_gds_code^creator_city_code^creator_lat^creator_lon^creator_country_code^creator_continent_code^creator_channel_code^booking_status_code^cabin_code^booking_class_code^pos_office_id^pos_iata_number^pos_gds_code^pos_city_code^pos_lat^pos_lon^pos_country_code^pos_continent_code^pos_channel_code^board_point_seg^board_lat^board_lon^board_country_code^board_continent_code^off_point_seg^off_lat^off_lon^off_country_code^off_continent_code^num_legs^distance_seg^route^network^airline_code^flight_number^flight_type^revenue_source^estimated_flag^usage_board_point_seg^usage_off_point_seg^usage_flight_number^usage_date^non_currency_type^bookings_seg^rpk_seg^revenue_amount_seg^currency_code^fuel_surcharge_amount_seg^fuel_surcharge_currency_code^emd_count^emd_amount^emd_currency_code^total_outliers'"
      ]
     },
     "execution_count": 3,
     "metadata": {},
     "output_type": "execute_result"
    }
   ],
   "source": [
    "header = data.first()\n",
    "header"
   ]
  },
  {
   "cell_type": "code",
   "execution_count": 4,
   "metadata": {
    "collapsed": false
   },
   "outputs": [],
   "source": [
    "# Necesito quitar la primera fila del header con filter\n",
    "# estoy en big data no vale quitar la primera línea pues no sé en que trozo funciono)\n",
    "\n",
    "lines = data.filter(lambda line: line != header)"
   ]
  },
  {
   "cell_type": "code",
   "execution_count": 5,
   "metadata": {
    "collapsed": false
   },
   "outputs": [
    {
     "data": {
      "text/plain": [
       "[49, 51, 53]"
      ]
     },
     "execution_count": 5,
     "metadata": {},
     "output_type": "execute_result"
    }
   ],
   "source": [
    "fields = ['bookings_seg','revenue_amount_seg','fuel_surcharge_amount_seg']\n",
    "[header.split('^').index(field) for field in fields]"
   ]
  },
  {
   "cell_type": "code",
   "execution_count": 6,
   "metadata": {
    "collapsed": false
   },
   "outputs": [
    {
     "data": {
      "text/plain": [
       "(33.56, 7.3)"
      ]
     },
     "execution_count": 6,
     "metadata": {},
     "output_type": "execute_result"
    }
   ],
   "source": [
    "def average_fare_tax(line):\n",
    "    elems = line.split('^')\n",
    "    bookings = float(elems[49])\n",
    "    rev = float(elems[51])\n",
    "    tax = float(elems[53])\n",
    "    av_rev = rev / bookings\n",
    "    av_tax = tax / bookings\n",
    "    return (av_rev,av_tax)\n",
    "average_fare_tax(lines.first())"
   ]
  },
  {
   "cell_type": "code",
   "execution_count": 7,
   "metadata": {
    "collapsed": false
   },
   "outputs": [
    {
     "data": {
      "text/plain": [
       "[(33.56, 7.3), (61.2, 25.5), (71.86842105263158, 12.31578947368421)]"
      ]
     },
     "execution_count": 7,
     "metadata": {},
     "output_type": "execute_result"
    }
   ],
   "source": [
    "simple = lines.map(average_fare_tax)\n",
    "simple.take(3)"
   ]
  },
  {
   "cell_type": "code",
   "execution_count": 8,
   "metadata": {
    "collapsed": true
   },
   "outputs": [],
   "source": [
    "# Ahora importamos kmeans pero en Spark (mirar spark.apache.org)\n",
    "# http://spark.apache.org/docs/latest/api/python/pyspark.ml.html?highlight=kmeans#pyspark.ml.clustering.KMeans\n",
    "\n",
    "from pyspark.mllib.clustering import KMeans, KMeansModel"
   ]
  },
  {
   "cell_type": "code",
   "execution_count": 9,
   "metadata": {
    "collapsed": true
   },
   "outputs": [],
   "source": [
    "clusters = KMeans.train(simple,10)"
   ]
  },
  {
   "cell_type": "code",
   "execution_count": 10,
   "metadata": {
    "collapsed": true
   },
   "outputs": [],
   "source": [
    "clusters.save(sc,'clusters')"
   ]
  },
  {
   "cell_type": "code",
   "execution_count": 11,
   "metadata": {
    "collapsed": false
   },
   "outputs": [
    {
     "data": {
      "text/plain": [
       "[array([ 118.67860863,   69.76914167]),\n",
       " array([  8.77500428e+05,   3.03020000e+01]),\n",
       " array([  4.50012295e+05,   1.28675000e+02]),\n",
       " array([  1.06350097e+05,   2.19353061e+01]),\n",
       " array([  3.39158820e+05,   8.87454545e+01]),\n",
       " array([  1.39215574e+06,   3.27400000e+01]),\n",
       " array([  6.29082976e+05,   2.97314286e+01]),\n",
       " array([  2.35943244e+05,   5.44940000e+01]),\n",
       " array([ 480.45523153,  190.18995911]),\n",
       " array([ 1845.75904504,   207.21854771])]"
      ]
     },
     "execution_count": 11,
     "metadata": {},
     "output_type": "execute_result"
    }
   ],
   "source": [
    "clusters.centers"
   ]
  },
  {
   "cell_type": "code",
   "execution_count": 13,
   "metadata": {
    "collapsed": false
   },
   "outputs": [
    {
     "data": {
      "text/plain": [
       "0"
      ]
     },
     "execution_count": 13,
     "metadata": {},
     "output_type": "execute_result"
    }
   ],
   "source": [
    "clusters.predict((33.56,7.3))"
   ]
  },
  {
   "cell_type": "code",
   "execution_count": 16,
   "metadata": {
    "collapsed": false
   },
   "outputs": [
    {
     "data": {
      "text/plain": [
       "[(0, (33.56, 7.3)),\n",
       " (0, (61.2, 25.5)),\n",
       " (0, (71.86842105263158, 12.31578947368421))]"
      ]
     },
     "execution_count": 16,
     "metadata": {},
     "output_type": "execute_result"
    }
   ],
   "source": [
    "# IMPOSIBLE HACERLO CON GROUPBYKEY\n",
    "bycluster = simple.map(lambda point: (clusters.predict(point), point)).cache()\n",
    "bycluster.take(3)"
   ]
  },
  {
   "cell_type": "code",
   "execution_count": 21,
   "metadata": {
    "collapsed": false
   },
   "outputs": [
    {
     "data": {
      "text/plain": [
       "[(0, (33.56, 7.3, 1)),\n",
       " (0, (61.2, 25.5, 1)),\n",
       " (0, (71.86842105263158, 12.31578947368421, 1))]"
      ]
     },
     "execution_count": 21,
     "metadata": {},
     "output_type": "execute_result"
    }
   ],
   "source": [
    "bycluster_withones = simple.map(lambda (x,y): (clusters.predict((x,y)),(x,y,1)))\n",
    "bycluster_withones.take(3)"
   ]
  },
  {
   "cell_type": "code",
   "execution_count": 25,
   "metadata": {
    "collapsed": true
   },
   "outputs": [],
   "source": [
    "def calc_avg_reduce(acc,p):\n",
    "    (rev_p,tax_p,c) = p\n",
    "    (rev_ac, tax_ac, c_acc) = acc\n",
    "    result = (rev_p + rev_ac, tax_p + tax_ac,  c +  c_acc)\n",
    "    return result"
   ]
  },
  {
   "cell_type": "code",
   "execution_count": 26,
   "metadata": {
    "collapsed": false
   },
   "outputs": [
    {
     "data": {
      "text/plain": [
       "[(0, (136860764.86963308, 80458123.02322179, 1153205)),\n",
       " (1, (8775004.28, 303.02, 10)),\n",
       " (2, (1800049.18, 514.7, 4))]"
      ]
     },
     "execution_count": 26,
     "metadata": {},
     "output_type": "execute_result"
    }
   ],
   "source": [
    "avs = bycluster_withones.reduceByKey(calc_avg_reduce)\n",
    "avs.take(3)"
   ]
  },
  {
   "cell_type": "code",
   "execution_count": 32,
   "metadata": {
    "collapsed": false
   },
   "outputs": [
    {
     "data": {
      "text/plain": [
       "[(0, (118.67860863387956, 69.76914167318195, 1153205)),\n",
       " (1, (877500.428, 30.302, 10)),\n",
       " (2, (450012.295, 128.675, 4)),\n",
       " (3, (106350.09734693861, 21.93530612244898, 98)),\n",
       " (4, (339158.82, 88.74545454545454, 11)),\n",
       " (5, (1392155.74, 32.74, 1)),\n",
       " (6, (629082.9757142857, 29.73142857142857, 7)),\n",
       " (7, (235943.244, 54.49400000000001, 5)),\n",
       " (8, (480.4552315300932, 190.18995910799475, 290796)),\n",
       " (9, (1845.75904503611, 207.21854771412237, 14984))]"
      ]
     },
     "execution_count": 32,
     "metadata": {},
     "output_type": "execute_result"
    }
   ],
   "source": [
    "def medias(clust):\n",
    "    rev_t, tax_t, count = clust\n",
    "    return (rev_t / count, tax_t / count, count)\n",
    "\n",
    "averages = avs.mapValues(medias)\n",
    "averages.take(10)"
   ]
  },
  {
   "cell_type": "code",
   "execution_count": 33,
   "metadata": {
    "collapsed": false
   },
   "outputs": [
    {
     "data": {
      "text/plain": [
       "[(0.0, (15.91, (118.67860863387956, 69.76914167318195, 1153205))),\n",
       " (0.0, (15.76, (118.67860863387956, 69.76914167318195, 1153205))),\n",
       " (0.0, (7.41, (118.67860863387956, 69.76914167318195, 1153205)))]"
      ]
     },
     "execution_count": 33,
     "metadata": {},
     "output_type": "execute_result"
    }
   ],
   "source": [
    "# Lo siguiente está mal, identifica revenue = 0 con cluster = 0\n",
    "simple.join(averages).take(3)\n"
   ]
  },
  {
   "cell_type": "code",
   "execution_count": 34,
   "metadata": {
    "collapsed": false
   },
   "outputs": [
    {
     "data": {
      "text/plain": [
       "[(0, ((33.56, 7.3, 1), (118.67860863387956, 69.76914167318195, 1153205))),\n",
       " (0, ((61.2, 25.5, 1), (118.67860863387956, 69.76914167318195, 1153205))),\n",
       " (0,\n",
       "  ((71.86842105263158, 12.31578947368421, 1),\n",
       "   (118.67860863387956, 69.76914167318195, 1153205)))]"
      ]
     },
     "execution_count": 34,
     "metadata": {},
     "output_type": "execute_result"
    }
   ],
   "source": [
    "bycluster_withones.join(averages).take(3)"
   ]
  },
  {
   "cell_type": "code",
   "execution_count": 38,
   "metadata": {
    "collapsed": false
   },
   "outputs": [],
   "source": [
    "def sq_diffs(p_with_cluster_mean):\n",
    "    ((rev,tax,n),(av_rev,av_tax,n_cl)) = p_with_cluster_mean\n",
    "    rev_sqdiff = (rev-av_rev) ** 2\n",
    "    tax_sqdiff = (tax-av_tax) ** 2\n",
    "    return (rev_sqdiff, tax_sqdiff,1)"
   ]
  },
  {
   "cell_type": "code",
   "execution_count": 39,
   "metadata": {
    "collapsed": false
   },
   "outputs": [
    {
     "data": {
      "text/plain": [
       "[(0, (7245.177535767556, 3902.393661384078, 1)),\n",
       " (0, (3303.7904504866938, 1959.7569044802547, 1)),\n",
       " (0, (2191.193661391623, 3300.8876789595315, 1))]"
      ]
     },
     "execution_count": 39,
     "metadata": {},
     "output_type": "execute_result"
    }
   ],
   "source": [
    "points_w_means_sqdiffs  = bycluster_withones.join(averages).mapValues(sq_diffs)\n",
    "points_w_means_sqdiffs.take(3)"
   ]
  },
  {
   "cell_type": "code",
   "execution_count": 41,
   "metadata": {
    "collapsed": false
   },
   "outputs": [
    {
     "data": {
      "text/plain": [
       "[(0, (7591139774.465887, 6412116670.814349, 1153205)),\n",
       " (8, (8884941916.585518, 927167489.812048, 290796)),\n",
       " (2, (8746772217.281904, 117267.7809, 4))]"
      ]
     },
     "execution_count": 41,
     "metadata": {},
     "output_type": "execute_result"
    }
   ],
   "source": [
    "total_sqdiffs = points_w_means_sqdiffs.reduceByKey(calc_avg_reduce)\n",
    "total_sqdiffs.take(3)"
   ]
  },
  {
   "cell_type": "code",
   "execution_count": 47,
   "metadata": {
    "collapsed": false
   },
   "outputs": [
    {
     "data": {
      "text/plain": [
       "[(0, (81.13350455424671, 74.56713371911901)),\n",
       " (8, (174.7966408531226, 56.46572170857911)),\n",
       " (2, (46762.08992678231, 171.22191806249572)),\n",
       " (4, (23365.27515505823, 77.68410395062537)),\n",
       " (6, (35870.99622630394, 1.542099020087588)),\n",
       " (1, (47658.199670890375, 1.7160000000000006)),\n",
       " (3, (15537.311648079669, 64.2896395500684)),\n",
       " (9, (2263.534061018395, 63.655635286580804)),\n",
       " (5, (0.0, 0.0)),\n",
       " (7, (25966.61177423162, 49.39311069369898))]"
      ]
     },
     "execution_count": 47,
     "metadata": {},
     "output_type": "execute_result"
    }
   ],
   "source": [
    "from math import sqrt\n",
    "def stdevs(sqdiffs_percluster):\n",
    "    (sqd_rev_total, sqd_tax_total, n_cl) = sqdiffs_percluster   \n",
    "    std_rev = sqrt(sqd_rev_total / n_cl)\n",
    "    std_tax = sqrt(sqd_tax_total / n_cl)\n",
    "    return(std_rev,std_tax)\n",
    "\n",
    "stds_clusters = total_sqdiffs.mapValues(stdevs)\n",
    "stds_clusters.take(12)"
   ]
  },
  {
   "cell_type": "code",
   "execution_count": 49,
   "metadata": {
    "collapsed": false
   },
   "outputs": [
    {
     "data": {
      "text/plain": [
       "[(0,\n",
       "  ((118.67860863387956, 69.76914167318195, 1153205),\n",
       "   (81.13350455424671, 74.56713371911901))),\n",
       " (9,\n",
       "  ((1845.75904503611, 207.21854771412237, 14984),\n",
       "   (2263.534061018395, 63.655635286580804))),\n",
       " (3,\n",
       "  ((106350.09734693861, 21.93530612244898, 98),\n",
       "   (15537.311648079669, 64.2896395500684))),\n",
       " (6,\n",
       "  ((629082.9757142857, 29.73142857142857, 7),\n",
       "   (35870.99622630394, 1.542099020087588))),\n",
       " (1, ((877500.428, 30.302, 10), (47658.199670890375, 1.7160000000000006))),\n",
       " (4,\n",
       "  ((339158.82, 88.74545454545454, 11),\n",
       "   (23365.27515505823, 77.68410395062537))),\n",
       " (7,\n",
       "  ((235943.244, 54.49400000000001, 5),\n",
       "   (25966.61177423162, 49.39311069369898))),\n",
       " (8,\n",
       "  ((480.4552315300932, 190.18995910799475, 290796),\n",
       "   (174.7966408531226, 56.46572170857911))),\n",
       " (2, ((450012.295, 128.675, 4), (46762.08992678231, 171.22191806249572))),\n",
       " (5, ((1392155.74, 32.74, 1), (0.0, 0.0)))]"
      ]
     },
     "execution_count": 49,
     "metadata": {},
     "output_type": "execute_result"
    }
   ],
   "source": [
    "cluster_stats = averages.join(stds_clusters)\n",
    "cluster_stats.collect()"
   ]
  },
  {
   "cell_type": "code",
   "execution_count": 51,
   "metadata": {
    "collapsed": false
   },
   "outputs": [
    {
     "data": {
      "text/plain": [
       "[(0,\n",
       "  ((33.56, 7.3),\n",
       "   ((118.67860863387956, 69.76914167318195, 1153205),\n",
       "    (81.13350455424671, 74.56713371911901)))),\n",
       " (0,\n",
       "  ((61.2, 25.5),\n",
       "   ((118.67860863387956, 69.76914167318195, 1153205),\n",
       "    (81.13350455424671, 74.56713371911901)))),\n",
       " (0,\n",
       "  ((71.86842105263158, 12.31578947368421),\n",
       "   ((118.67860863387956, 69.76914167318195, 1153205),\n",
       "    (81.13350455424671, 74.56713371911901))))]"
      ]
     },
     "execution_count": 51,
     "metadata": {},
     "output_type": "execute_result"
    }
   ],
   "source": [
    "full = bycluster.join(cluster_stats)\n",
    "full.take(3)"
   ]
  },
  {
   "cell_type": "code",
   "execution_count": 66,
   "metadata": {
    "collapsed": false
   },
   "outputs": [
    {
     "data": {
      "text/plain": [
       "(33.56, 7.3, 1.3425666282536965, False)"
      ]
     },
     "execution_count": 66,
     "metadata": {},
     "output_type": "execute_result"
    }
   ],
   "source": [
    "def zscore(p_w_stats):\n",
    "    \n",
    "    p, stats = p_w_stats\n",
    "    \n",
    "    rev,tax = p\n",
    "    means, stdevs = stats\n",
    "    rev_m, tax_m, _ = means     # por convención _ indica que no se utilizará ese tercer elemento\n",
    "    rev_std, tax_std = stdevs\n",
    "    \n",
    "    if rev_std == 0:\n",
    "        return rev, tax, 3000, True  # Es un poco guarrería, pero evita un error posterior cuando hay un solo nodo en un cluster\n",
    "    if tax_std == 0:\n",
    "        return rev, tax, 3000, True  # Es un poco guarrería, pero evita un error posterior cuando hay un solo nodo en un cluster\n",
    "     \n",
    "    zscore_rev = (rev-rev_m) / rev_std\n",
    "    zscore_tax = (tax-tax_m) / tax_std\n",
    "    \n",
    "    zscore = sqrt(zscore_rev ** 2 + zscore_tax ** 2)\n",
    "    outlier = zscore > 3\n",
    "    \n",
    "    return rev, tax, zscore, outlier\n",
    "\n",
    "zscore(full.first()[1])"
   ]
  },
  {
   "cell_type": "code",
   "execution_count": 67,
   "metadata": {
    "collapsed": false
   },
   "outputs": [
    {
     "data": {
      "text/plain": [
       "[(0, (33.56, 7.3, 1.3425666282536965, False)),\n",
       " (0, (61.2, 25.5, 0.9243116171177309, False)),\n",
       " (0, (71.86842105263158, 12.31578947368421, 0.9625651495519475, False))]"
      ]
     },
     "execution_count": 67,
     "metadata": {},
     "output_type": "execute_result"
    }
   ],
   "source": [
    "outliers = full.mapValues(zscore)\n",
    "outliers.take(3)"
   ]
  },
  {
   "cell_type": "code",
   "execution_count": 69,
   "metadata": {
    "collapsed": false
   },
   "outputs": [],
   "source": [
    "# Hasta aqui no se ha ejecutado nada (SE DEFINE UNA DESCRIPCIÓN DE UNA EJECUCIÓN). Concepto outlier es un RDD.\n",
    "outliers.saveAsTextFile('outliers')"
   ]
  },
  {
   "cell_type": "code",
   "execution_count": null,
   "metadata": {
    "collapsed": true
   },
   "outputs": [],
   "source": []
  }
 ],
 "metadata": {
  "kernelspec": {
   "display_name": "PySpark",
   "language": "python",
   "name": "pyspark"
  },
  "language_info": {
   "codemirror_mode": {
    "name": "ipython",
    "version": 2
   },
   "file_extension": ".py",
   "mimetype": "text/x-python",
   "name": "python",
   "nbconvert_exporter": "python",
   "pygments_lexer": "ipython2",
   "version": "2.7.10"
  }
 },
 "nbformat": 4,
 "nbformat_minor": 0
}
