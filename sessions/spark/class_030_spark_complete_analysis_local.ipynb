{
 "cells": [
  {
   "cell_type": "code",
   "execution_count": 23,
   "metadata": {
    "collapsed": false
   },
   "outputs": [
    {
     "name": "stdout",
     "output_type": "stream",
     "text": [
      "coupon150720.csv  \u001b[0m\u001b[01;31msales_segments.csv.gz\u001b[0m  transm150720.csv\r\n"
     ]
    }
   ],
   "source": [
    "%ls data"
   ]
  },
  {
   "cell_type": "code",
   "execution_count": 24,
   "metadata": {
    "collapsed": true
   },
   "outputs": [],
   "source": [
    "import gzip"
   ]
  },
  {
   "cell_type": "code",
   "execution_count": 25,
   "metadata": {
    "collapsed": true
   },
   "outputs": [],
   "source": [
    "fich = gzip.GzipFile('data/sales_segments.csv.gz')"
   ]
  },
  {
   "cell_type": "code",
   "execution_count": 26,
   "metadata": {
    "collapsed": false
   },
   "outputs": [],
   "source": [
    "import pandas as pd"
   ]
  },
  {
   "cell_type": "code",
   "execution_count": 27,
   "metadata": {
    "collapsed": false
   },
   "outputs": [],
   "source": [
    "df = pd.read_csv(fich, sep='^')"
   ]
  },
  {
   "cell_type": "code",
   "execution_count": 28,
   "metadata": {
    "collapsed": false
   },
   "outputs": [
    {
     "data": {
      "text/html": [
       "<div>\n",
       "<table border=\"1\" class=\"dataframe\">\n",
       "  <thead>\n",
       "    <tr style=\"text-align: right;\">\n",
       "      <th></th>\n",
       "      <th>rloc</th>\n",
       "      <th>departure_date_seg</th>\n",
       "      <th>booking_date</th>\n",
       "      <th>freq_flyer_flag</th>\n",
       "      <th>creator_office_id</th>\n",
       "      <th>creator_iata_number</th>\n",
       "      <th>creator_gds_code</th>\n",
       "      <th>creator_city_code</th>\n",
       "      <th>creator_lat</th>\n",
       "      <th>creator_lon</th>\n",
       "      <th>...</th>\n",
       "      <th>bookings_seg</th>\n",
       "      <th>rpk_seg</th>\n",
       "      <th>revenue_amount_seg</th>\n",
       "      <th>currency_code</th>\n",
       "      <th>fuel_surcharge_amount_seg</th>\n",
       "      <th>fuel_surcharge_currency_code</th>\n",
       "      <th>emd_count</th>\n",
       "      <th>emd_amount</th>\n",
       "      <th>emd_currency_code</th>\n",
       "      <th>total_outliers</th>\n",
       "    </tr>\n",
       "  </thead>\n",
       "  <tbody>\n",
       "    <tr>\n",
       "      <th>0</th>\n",
       "      <td>59GS9Y</td>\n",
       "      <td>2013-12-21</td>\n",
       "      <td>2013-09-05</td>\n",
       "      <td>False</td>\n",
       "      <td>RUNHS3103</td>\n",
       "      <td>66200201</td>\n",
       "      <td>1A</td>\n",
       "      <td>RUN</td>\n",
       "      <td>-20.90083</td>\n",
       "      <td>55.53715</td>\n",
       "      <td>...</td>\n",
       "      <td>1</td>\n",
       "      <td>239</td>\n",
       "      <td>33.56</td>\n",
       "      <td>EUR</td>\n",
       "      <td>7.30</td>\n",
       "      <td>EUR</td>\n",
       "      <td>0</td>\n",
       "      <td>0</td>\n",
       "      <td>NaN</td>\n",
       "      <td>7.300000</td>\n",
       "    </tr>\n",
       "    <tr>\n",
       "      <th>1</th>\n",
       "      <td>4D87YU</td>\n",
       "      <td>2013-12-29</td>\n",
       "      <td>2013-01-29</td>\n",
       "      <td>False</td>\n",
       "      <td>RUNUU000B</td>\n",
       "      <td>66490104</td>\n",
       "      <td>UU</td>\n",
       "      <td>RUN</td>\n",
       "      <td>-20.90083</td>\n",
       "      <td>55.53715</td>\n",
       "      <td>...</td>\n",
       "      <td>5</td>\n",
       "      <td>1116</td>\n",
       "      <td>306.00</td>\n",
       "      <td>EUR</td>\n",
       "      <td>127.50</td>\n",
       "      <td>EUR</td>\n",
       "      <td>0</td>\n",
       "      <td>0</td>\n",
       "      <td>NaN</td>\n",
       "      <td>77.271017</td>\n",
       "    </tr>\n",
       "    <tr>\n",
       "      <th>2</th>\n",
       "      <td>7W67K8</td>\n",
       "      <td>2013-12-29</td>\n",
       "      <td>2013-02-05</td>\n",
       "      <td>False</td>\n",
       "      <td>RUNUU01A3</td>\n",
       "      <td>66490830</td>\n",
       "      <td>UU</td>\n",
       "      <td>RUN</td>\n",
       "      <td>-20.90083</td>\n",
       "      <td>55.53715</td>\n",
       "      <td>...</td>\n",
       "      <td>19</td>\n",
       "      <td>4240</td>\n",
       "      <td>1365.50</td>\n",
       "      <td>EUR</td>\n",
       "      <td>234.00</td>\n",
       "      <td>EUR</td>\n",
       "      <td>0</td>\n",
       "      <td>0</td>\n",
       "      <td>NaN</td>\n",
       "      <td>278.175661</td>\n",
       "    </tr>\n",
       "    <tr>\n",
       "      <th>3</th>\n",
       "      <td>3ESPWM</td>\n",
       "      <td>2013-12-29</td>\n",
       "      <td>2013-03-19</td>\n",
       "      <td>False</td>\n",
       "      <td>RUNUU010C</td>\n",
       "      <td>66490771</td>\n",
       "      <td>UU</td>\n",
       "      <td>RUN</td>\n",
       "      <td>-20.90083</td>\n",
       "      <td>55.53715</td>\n",
       "      <td>...</td>\n",
       "      <td>3</td>\n",
       "      <td>1220</td>\n",
       "      <td>81.35</td>\n",
       "      <td>EUR</td>\n",
       "      <td>39.93</td>\n",
       "      <td>EUR</td>\n",
       "      <td>0</td>\n",
       "      <td>0</td>\n",
       "      <td>NaN</td>\n",
       "      <td>32.458243</td>\n",
       "    </tr>\n",
       "    <tr>\n",
       "      <th>4</th>\n",
       "      <td>6ITPJM</td>\n",
       "      <td>2013-12-29</td>\n",
       "      <td>2013-05-11</td>\n",
       "      <td>False</td>\n",
       "      <td>MRSA12108</td>\n",
       "      <td>20261721</td>\n",
       "      <td>1A</td>\n",
       "      <td>MRS</td>\n",
       "      <td>43.29695</td>\n",
       "      <td>5.38107</td>\n",
       "      <td>...</td>\n",
       "      <td>2</td>\n",
       "      <td>1342</td>\n",
       "      <td>0.00</td>\n",
       "      <td>EUR</td>\n",
       "      <td>31.82</td>\n",
       "      <td>EUR</td>\n",
       "      <td>0</td>\n",
       "      <td>0</td>\n",
       "      <td>NaN</td>\n",
       "      <td>32.496507</td>\n",
       "    </tr>\n",
       "  </tbody>\n",
       "</table>\n",
       "<p>5 rows × 59 columns</p>\n",
       "</div>"
      ],
      "text/plain": [
       "     rloc departure_date_seg booking_date freq_flyer_flag creator_office_id  \\\n",
       "0  59GS9Y         2013-12-21   2013-09-05           False         RUNHS3103   \n",
       "1  4D87YU         2013-12-29   2013-01-29           False         RUNUU000B   \n",
       "2  7W67K8         2013-12-29   2013-02-05           False         RUNUU01A3   \n",
       "3  3ESPWM         2013-12-29   2013-03-19           False         RUNUU010C   \n",
       "4  6ITPJM         2013-12-29   2013-05-11           False         MRSA12108   \n",
       "\n",
       "   creator_iata_number creator_gds_code creator_city_code  creator_lat  \\\n",
       "0             66200201               1A               RUN    -20.90083   \n",
       "1             66490104               UU               RUN    -20.90083   \n",
       "2             66490830               UU               RUN    -20.90083   \n",
       "3             66490771               UU               RUN    -20.90083   \n",
       "4             20261721               1A               MRS     43.29695   \n",
       "\n",
       "   creator_lon      ...       bookings_seg rpk_seg revenue_amount_seg  \\\n",
       "0     55.53715      ...                  1     239              33.56   \n",
       "1     55.53715      ...                  5    1116             306.00   \n",
       "2     55.53715      ...                 19    4240            1365.50   \n",
       "3     55.53715      ...                  3    1220              81.35   \n",
       "4      5.38107      ...                  2    1342               0.00   \n",
       "\n",
       "  currency_code fuel_surcharge_amount_seg fuel_surcharge_currency_code  \\\n",
       "0           EUR                      7.30                          EUR   \n",
       "1           EUR                    127.50                          EUR   \n",
       "2           EUR                    234.00                          EUR   \n",
       "3           EUR                     39.93                          EUR   \n",
       "4           EUR                     31.82                          EUR   \n",
       "\n",
       "  emd_count  emd_amount emd_currency_code total_outliers  \n",
       "0         0           0               NaN       7.300000  \n",
       "1         0           0               NaN      77.271017  \n",
       "2         0           0               NaN     278.175661  \n",
       "3         0           0               NaN      32.458243  \n",
       "4         0           0               NaN      32.496507  \n",
       "\n",
       "[5 rows x 59 columns]"
      ]
     },
     "execution_count": 28,
     "metadata": {},
     "output_type": "execute_result"
    }
   ],
   "source": [
    "df.head()"
   ]
  },
  {
   "cell_type": "code",
   "execution_count": 29,
   "metadata": {
    "collapsed": false
   },
   "outputs": [
    {
     "data": {
      "text/plain": [
       "rloc                            1459121\n",
       "departure_date_seg              1459121\n",
       "booking_date                    1459121\n",
       "freq_flyer_flag                 1459121\n",
       "creator_office_id               1459121\n",
       "creator_iata_number             1414716\n",
       "creator_gds_code                1459121\n",
       "creator_city_code               1459121\n",
       "creator_lat                     1459121\n",
       "creator_lon                     1459121\n",
       "creator_country_code            1459103\n",
       "creator_continent_code          1459121\n",
       "creator_channel_code            1454248\n",
       "booking_status_code             1458491\n",
       "cabin_code                      1459121\n",
       "booking_class_code              1459121\n",
       "pos_office_id                   1455702\n",
       "pos_iata_number                 1455702\n",
       "pos_gds_code                    1455702\n",
       "pos_city_code                   1448816\n",
       "pos_lat                         1448816\n",
       "pos_lon                         1448816\n",
       "pos_country_code                1448798\n",
       "pos_continent_code              1448816\n",
       "pos_channel_code                1455216\n",
       "board_point_seg                 1459121\n",
       "board_lat                       1459120\n",
       "board_lon                       1459120\n",
       "board_country_code              1459079\n",
       "board_continent_code            1459120\n",
       "off_point_seg                   1459121\n",
       "off_lat                         1459120\n",
       "off_lon                         1459120\n",
       "off_country_code                1459073\n",
       "off_continent_code              1459120\n",
       "num_legs                        1459121\n",
       "distance_seg                    1459121\n",
       "route                           1459120\n",
       "network                         1459120\n",
       "airline_code                    1459121\n",
       "flight_number                   1459121\n",
       "flight_type                     1459120\n",
       "revenue_source                  1459121\n",
       "estimated_flag                  1459121\n",
       "usage_board_point_seg           1294884\n",
       "usage_off_point_seg             1294884\n",
       "usage_flight_number             1294228\n",
       "usage_date                      1294884\n",
       "non_currency_type                171602\n",
       "bookings_seg                    1459121\n",
       "rpk_seg                         1459121\n",
       "revenue_amount_seg              1459121\n",
       "currency_code                   1459121\n",
       "fuel_surcharge_amount_seg       1459121\n",
       "fuel_surcharge_currency_code    1459121\n",
       "emd_count                       1459121\n",
       "emd_amount                      1459121\n",
       "emd_currency_code                 33768\n",
       "total_outliers                  1459121\n",
       "dtype: int64"
      ]
     },
     "execution_count": 29,
     "metadata": {},
     "output_type": "execute_result"
    }
   ],
   "source": [
    "df.count()"
   ]
  },
  {
   "cell_type": "code",
   "execution_count": 30,
   "metadata": {
    "collapsed": false
   },
   "outputs": [
    {
     "data": {
      "text/plain": [
       "Index([u'rloc', u'departure_date_seg', u'booking_date', u'freq_flyer_flag',\n",
       "       u'creator_office_id', u'creator_iata_number', u'creator_gds_code',\n",
       "       u'creator_city_code', u'creator_lat', u'creator_lon',\n",
       "       u'creator_country_code', u'creator_continent_code',\n",
       "       u'creator_channel_code', u'booking_status_code', u'cabin_code',\n",
       "       u'booking_class_code', u'pos_office_id', u'pos_iata_number',\n",
       "       u'pos_gds_code', u'pos_city_code', u'pos_lat', u'pos_lon',\n",
       "       u'pos_country_code', u'pos_continent_code', u'pos_channel_code',\n",
       "       u'board_point_seg', u'board_lat', u'board_lon', u'board_country_code',\n",
       "       u'board_continent_code', u'off_point_seg', u'off_lat', u'off_lon',\n",
       "       u'off_country_code', u'off_continent_code', u'num_legs',\n",
       "       u'distance_seg', u'route', u'network', u'airline_code',\n",
       "       u'flight_number', u'flight_type', u'revenue_source', u'estimated_flag',\n",
       "       u'usage_board_point_seg', u'usage_off_point_seg',\n",
       "       u'usage_flight_number', u'usage_date', u'non_currency_type',\n",
       "       u'bookings_seg', u'rpk_seg', u'revenue_amount_seg', u'currency_code',\n",
       "       u'fuel_surcharge_amount_seg', u'fuel_surcharge_currency_code',\n",
       "       u'emd_count', u'emd_amount', u'emd_currency_code', u'total_outliers'],\n",
       "      dtype='object')"
      ]
     },
     "execution_count": 30,
     "metadata": {},
     "output_type": "execute_result"
    }
   ],
   "source": [
    "df.columns"
   ]
  },
  {
   "cell_type": "markdown",
   "metadata": {},
   "source": [
    "### Lo primero buscaremos anomalías o outliers en los campos:\n",
    "\n",
    "bookings_seg revenue_amount_seg y fuel_surcharge_amount_seg"
   ]
  },
  {
   "cell_type": "code",
   "execution_count": 31,
   "metadata": {
    "collapsed": false
   },
   "outputs": [
    {
     "data": {
      "text/html": [
       "<div>\n",
       "<table border=\"1\" class=\"dataframe\">\n",
       "  <thead>\n",
       "    <tr style=\"text-align: right;\">\n",
       "      <th></th>\n",
       "      <th>bookings_seg</th>\n",
       "      <th>revenue_amount_seg</th>\n",
       "      <th>fuel_surcharge_amount_seg</th>\n",
       "    </tr>\n",
       "  </thead>\n",
       "  <tbody>\n",
       "    <tr>\n",
       "      <th>0</th>\n",
       "      <td>1</td>\n",
       "      <td>33.56</td>\n",
       "      <td>7.30</td>\n",
       "    </tr>\n",
       "    <tr>\n",
       "      <th>1</th>\n",
       "      <td>5</td>\n",
       "      <td>306.00</td>\n",
       "      <td>127.50</td>\n",
       "    </tr>\n",
       "    <tr>\n",
       "      <th>2</th>\n",
       "      <td>19</td>\n",
       "      <td>1365.50</td>\n",
       "      <td>234.00</td>\n",
       "    </tr>\n",
       "    <tr>\n",
       "      <th>3</th>\n",
       "      <td>3</td>\n",
       "      <td>81.35</td>\n",
       "      <td>39.93</td>\n",
       "    </tr>\n",
       "    <tr>\n",
       "      <th>4</th>\n",
       "      <td>2</td>\n",
       "      <td>0.00</td>\n",
       "      <td>31.82</td>\n",
       "    </tr>\n",
       "  </tbody>\n",
       "</table>\n",
       "</div>"
      ],
      "text/plain": [
       "   bookings_seg  revenue_amount_seg  fuel_surcharge_amount_seg\n",
       "0             1               33.56                       7.30\n",
       "1             5              306.00                     127.50\n",
       "2            19             1365.50                     234.00\n",
       "3             3               81.35                      39.93\n",
       "4             2                0.00                      31.82"
      ]
     },
     "execution_count": 31,
     "metadata": {},
     "output_type": "execute_result"
    }
   ],
   "source": [
    "df = df[['bookings_seg','revenue_amount_seg','fuel_surcharge_amount_seg']]\n",
    "df.head()"
   ]
  },
  {
   "cell_type": "code",
   "execution_count": 32,
   "metadata": {
    "collapsed": false
   },
   "outputs": [
    {
     "data": {
      "text/html": [
       "<div>\n",
       "<table border=\"1\" class=\"dataframe\">\n",
       "  <thead>\n",
       "    <tr style=\"text-align: right;\">\n",
       "      <th></th>\n",
       "      <th>bookings_seg</th>\n",
       "      <th>revenue_amount_seg</th>\n",
       "      <th>fuel_surcharge_amount_seg</th>\n",
       "      <th>revenue</th>\n",
       "      <th>tax</th>\n",
       "    </tr>\n",
       "  </thead>\n",
       "  <tbody>\n",
       "    <tr>\n",
       "      <th>0</th>\n",
       "      <td>1</td>\n",
       "      <td>33.56</td>\n",
       "      <td>7.30</td>\n",
       "      <td>33.560000</td>\n",
       "      <td>7.300000</td>\n",
       "    </tr>\n",
       "    <tr>\n",
       "      <th>1</th>\n",
       "      <td>5</td>\n",
       "      <td>306.00</td>\n",
       "      <td>127.50</td>\n",
       "      <td>61.200000</td>\n",
       "      <td>25.500000</td>\n",
       "    </tr>\n",
       "    <tr>\n",
       "      <th>2</th>\n",
       "      <td>19</td>\n",
       "      <td>1365.50</td>\n",
       "      <td>234.00</td>\n",
       "      <td>71.868421</td>\n",
       "      <td>12.315789</td>\n",
       "    </tr>\n",
       "    <tr>\n",
       "      <th>3</th>\n",
       "      <td>3</td>\n",
       "      <td>81.35</td>\n",
       "      <td>39.93</td>\n",
       "      <td>27.116667</td>\n",
       "      <td>13.310000</td>\n",
       "    </tr>\n",
       "    <tr>\n",
       "      <th>4</th>\n",
       "      <td>2</td>\n",
       "      <td>0.00</td>\n",
       "      <td>31.82</td>\n",
       "      <td>0.000000</td>\n",
       "      <td>15.910000</td>\n",
       "    </tr>\n",
       "  </tbody>\n",
       "</table>\n",
       "</div>"
      ],
      "text/plain": [
       "   bookings_seg  revenue_amount_seg  fuel_surcharge_amount_seg    revenue  \\\n",
       "0             1               33.56                       7.30  33.560000   \n",
       "1             5              306.00                     127.50  61.200000   \n",
       "2            19             1365.50                     234.00  71.868421   \n",
       "3             3               81.35                      39.93  27.116667   \n",
       "4             2                0.00                      31.82   0.000000   \n",
       "\n",
       "         tax  \n",
       "0   7.300000  \n",
       "1  25.500000  \n",
       "2  12.315789  \n",
       "3  13.310000  \n",
       "4  15.910000  "
      ]
     },
     "execution_count": 32,
     "metadata": {},
     "output_type": "execute_result"
    }
   ],
   "source": [
    "# Buscaremos clusters con kmeans\n",
    "df['revenue'] = df['revenue_amount_seg'] / df['bookings_seg']\n",
    "df['tax'] = df['fuel_surcharge_amount_seg'] / df['bookings_seg']\n",
    "df.head()"
   ]
  },
  {
   "cell_type": "code",
   "execution_count": 33,
   "metadata": {
    "collapsed": false
   },
   "outputs": [
    {
     "name": "stdout",
     "output_type": "stream",
     "text": [
      "Populating the interactive namespace from numpy and matplotlib\n"
     ]
    }
   ],
   "source": [
    "%pylab inline"
   ]
  },
  {
   "cell_type": "code",
   "execution_count": 34,
   "metadata": {
    "collapsed": false
   },
   "outputs": [
    {
     "data": {
      "text/html": [
       "<div>\n",
       "<table border=\"1\" class=\"dataframe\">\n",
       "  <thead>\n",
       "    <tr style=\"text-align: right;\">\n",
       "      <th></th>\n",
       "      <th>revenue</th>\n",
       "      <th>tax</th>\n",
       "    </tr>\n",
       "  </thead>\n",
       "  <tbody>\n",
       "    <tr>\n",
       "      <th>0</th>\n",
       "      <td>33.560000</td>\n",
       "      <td>7.300000</td>\n",
       "    </tr>\n",
       "    <tr>\n",
       "      <th>1</th>\n",
       "      <td>61.200000</td>\n",
       "      <td>25.500000</td>\n",
       "    </tr>\n",
       "    <tr>\n",
       "      <th>2</th>\n",
       "      <td>71.868421</td>\n",
       "      <td>12.315789</td>\n",
       "    </tr>\n",
       "    <tr>\n",
       "      <th>3</th>\n",
       "      <td>27.116667</td>\n",
       "      <td>13.310000</td>\n",
       "    </tr>\n",
       "    <tr>\n",
       "      <th>4</th>\n",
       "      <td>0.000000</td>\n",
       "      <td>15.910000</td>\n",
       "    </tr>\n",
       "  </tbody>\n",
       "</table>\n",
       "</div>"
      ],
      "text/plain": [
       "     revenue        tax\n",
       "0  33.560000   7.300000\n",
       "1  61.200000  25.500000\n",
       "2  71.868421  12.315789\n",
       "3  27.116667  13.310000\n",
       "4   0.000000  15.910000"
      ]
     },
     "execution_count": 34,
     "metadata": {},
     "output_type": "execute_result"
    }
   ],
   "source": [
    "simple = df[['revenue','tax']]\n",
    "simple.head()"
   ]
  },
  {
   "cell_type": "code",
   "execution_count": 38,
   "metadata": {
    "collapsed": false
   },
   "outputs": [
    {
     "data": {
      "image/png": "[encoded data removed]",
      "text/plain": [
       "<matplotlib.figure.Figure at 0x7f4c2ff7bdd0>"
      ]
     },
     "metadata": {},
     "output_type": "display_data"
    }
   ],
   "source": [
    "plt.scatter(simple['revenue'], simple['tax'],alpha=0.1)\n",
    "plt.show()"
   ]
  },
  {
   "cell_type": "code",
   "execution_count": 40,
   "metadata": {
    "collapsed": false
   },
   "outputs": [
    {
     "data": {
      "image/png": "[encoded data removed]",
      "text/plain": [
       "<matplotlib.figure.Figure at 0x7f4c2fbc01d0>"
      ]
     },
     "metadata": {},
     "output_type": "display_data"
    }
   ],
   "source": [
    "plt.scatter(simple['revenue'], simple['tax'], alpha=0.1)\n",
    "plt.xlim(-50,2000)\n",
    "plt.ylim(-5,60)\n",
    "plt.show()"
   ]
  },
  {
   "cell_type": "code",
   "execution_count": 42,
   "metadata": {
    "collapsed": false
   },
   "outputs": [
    {
     "data": {
      "image/png": "[encoded data removed]",
      "text/plain": [
       "<matplotlib.figure.Figure at 0x7f4c2fa8b990>"
      ]
     },
     "metadata": {},
     "output_type": "display_data"
    }
   ],
   "source": [
    "# quiero los gráficos menos opacos\n",
    "smaller = simple.sample(10000) \n",
    "plt.scatter(smaller['revenue'], smaller['tax'], alpha=0.1)\n",
    "plt.xlim(-50,2000)\n",
    "plt.ylim(-5,600)\n",
    "plt.show()\n",
    "\n",
    "# Ya se ve estructura de cluster !!!!!!!!!!!!"
   ]
  },
  {
   "cell_type": "markdown",
   "metadata": {},
   "source": [
    "# DECIDIRÉ SI UN VALOR ES OUTLIER SI Z-SCORE > 3\n",
    "\n",
    "donde z es la distancia a la media en número de desviaciones estándar"
   ]
  },
  {
   "cell_type": "code",
   "execution_count": 46,
   "metadata": {
    "collapsed": false
   },
   "outputs": [],
   "source": [
    "# con kmeans es mucho más rápido que graficar\n",
    "\n",
    "from sklearn.cluster import KMeans\n",
    "import numpy as np"
   ]
  },
  {
   "cell_type": "code",
   "execution_count": 163,
   "metadata": {
    "collapsed": false
   },
   "outputs": [
    {
     "name": "stdout",
     "output_type": "stream",
     "text": [
      "[0 0 0 ..., 1 0 0]\n"
     ]
    },
    {
     "data": {
      "text/html": [
       "<div>\n",
       "<table border=\"1\" class=\"dataframe\">\n",
       "  <thead>\n",
       "    <tr style=\"text-align: right;\">\n",
       "      <th></th>\n",
       "      <th>revenue</th>\n",
       "      <th>tax</th>\n",
       "      <th>cluster</th>\n",
       "    </tr>\n",
       "  </thead>\n",
       "  <tbody>\n",
       "    <tr>\n",
       "      <th>1177486</th>\n",
       "      <td>221.85</td>\n",
       "      <td>194.90</td>\n",
       "      <td>6</td>\n",
       "    </tr>\n",
       "    <tr>\n",
       "      <th>1159231</th>\n",
       "      <td>264.96</td>\n",
       "      <td>38.49</td>\n",
       "      <td>5</td>\n",
       "    </tr>\n",
       "    <tr>\n",
       "      <th>1244124</th>\n",
       "      <td>204.20</td>\n",
       "      <td>204.10</td>\n",
       "      <td>6</td>\n",
       "    </tr>\n",
       "    <tr>\n",
       "      <th>1412390</th>\n",
       "      <td>161.49</td>\n",
       "      <td>176.83</td>\n",
       "      <td>6</td>\n",
       "    </tr>\n",
       "    <tr>\n",
       "      <th>872226</th>\n",
       "      <td>46.40</td>\n",
       "      <td>16.49</td>\n",
       "      <td>7</td>\n",
       "    </tr>\n",
       "  </tbody>\n",
       "</table>\n",
       "</div>"
      ],
      "text/plain": [
       "         revenue     tax  cluster\n",
       "1177486   221.85  194.90        6\n",
       "1159231   264.96   38.49        5\n",
       "1244124   204.20  204.10        6\n",
       "1412390   161.49  176.83        6\n",
       "872226     46.40   16.49        7"
      ]
     },
     "execution_count": 163,
     "metadata": {},
     "output_type": "execute_result"
    }
   ],
   "source": [
    "kmeans = KMeans(n_clusters=2)\n",
    "clusters = kmeans.fit_predict(smaller)\n",
    "print(clusters)\n",
    "smaller.head()"
   ]
  },
  {
   "cell_type": "code",
   "execution_count": 164,
   "metadata": {
    "collapsed": false
   },
   "outputs": [
    {
     "name": "stderr",
     "output_type": "stream",
     "text": [
      "/usr/lib/python2.7/site-packages/ipykernel/__main__.py:3: SettingWithCopyWarning: \n",
      "A value is trying to be set on a copy of a slice from a DataFrame.\n",
      "Try using .loc[row_indexer,col_indexer] = value instead\n",
      "\n",
      "See the the caveats in the documentation: http://pandas.pydata.org/pandas-docs/stable/indexing.html#indexing-view-versus-copy\n",
      "  app.launch_new_instance()\n"
     ]
    }
   ],
   "source": [
    "# Calculamos el z-score\n",
    "\n",
    "smaller['cluster'] = clusters"
   ]
  },
  {
   "cell_type": "code",
   "execution_count": 165,
   "metadata": {
    "collapsed": false
   },
   "outputs": [
    {
     "name": "stdout",
     "output_type": "stream",
     "text": [
      "            revenue         tax\n",
      "cluster                        \n",
      "0        133.498989   76.330249\n",
      "1        634.123063  196.752188\n",
      "            revenue        tax\n",
      "cluster                       \n",
      "0         94.436272  77.967428\n",
      "1        334.572889  55.022156\n"
     ]
    }
   ],
   "source": [
    "groups = smaller.groupby(['cluster'])\n",
    "means = groups.mean()\n",
    "stdevs = groups.std()\n",
    "print (means)\n",
    "print (stdevs)"
   ]
  },
  {
   "cell_type": "code",
   "execution_count": 166,
   "metadata": {
    "collapsed": false
   },
   "outputs": [
    {
     "name": "stdout",
     "output_type": "stream",
     "text": [
      "         revenue-mean    tax-mean\n",
      "cluster                          \n",
      "0          133.498989   76.330249\n",
      "1          634.123063  196.752188\n",
      "         revenue-stdev  tax-stdev\n",
      "cluster                          \n",
      "0            94.436272  77.967428\n",
      "1           334.572889  55.022156\n"
     ]
    }
   ],
   "source": [
    "# Voy a hacer un merge, pero tienen el mismo nombre de coliumnas\n",
    "# means.columns = means.columns.map(lambda s: s + \"-mean\")\n",
    "# stdevs.columns = stdevs.columns.map(lambda s: s + \"-stdevs\")\n",
    "means.columns =['revenue-mean','tax-mean']\n",
    "stdevs.columns =['revenue-stdev','tax-stdev']\n",
    "print (means)\n",
    "print (stdevs)"
   ]
  },
  {
   "cell_type": "code",
   "execution_count": 167,
   "metadata": {
    "collapsed": false
   },
   "outputs": [
    {
     "data": {
      "text/html": [
       "<div>\n",
       "<table border=\"1\" class=\"dataframe\">\n",
       "  <thead>\n",
       "    <tr style=\"text-align: right;\">\n",
       "      <th></th>\n",
       "      <th>revenue-mean</th>\n",
       "      <th>tax-mean</th>\n",
       "      <th>revenue-stdev</th>\n",
       "      <th>tax-stdev</th>\n",
       "    </tr>\n",
       "    <tr>\n",
       "      <th>cluster</th>\n",
       "      <th></th>\n",
       "      <th></th>\n",
       "      <th></th>\n",
       "      <th></th>\n",
       "    </tr>\n",
       "  </thead>\n",
       "  <tbody>\n",
       "    <tr>\n",
       "      <th>0</th>\n",
       "      <td>133.498989</td>\n",
       "      <td>76.330249</td>\n",
       "      <td>94.436272</td>\n",
       "      <td>77.967428</td>\n",
       "    </tr>\n",
       "    <tr>\n",
       "      <th>1</th>\n",
       "      <td>634.123063</td>\n",
       "      <td>196.752188</td>\n",
       "      <td>334.572889</td>\n",
       "      <td>55.022156</td>\n",
       "    </tr>\n",
       "  </tbody>\n",
       "</table>\n",
       "</div>"
      ],
      "text/plain": [
       "         revenue-mean    tax-mean  revenue-stdev  tax-stdev\n",
       "cluster                                                    \n",
       "0          133.498989   76.330249      94.436272  77.967428\n",
       "1          634.123063  196.752188     334.572889  55.022156"
      ]
     },
     "execution_count": 167,
     "metadata": {},
     "output_type": "execute_result"
    }
   ],
   "source": [
    "cluster_stats = pd.merge(means, stdevs, left_index=True, right_index=True)\n",
    "cluster_stats"
   ]
  },
  {
   "cell_type": "code",
   "execution_count": 168,
   "metadata": {
    "collapsed": false
   },
   "outputs": [
    {
     "data": {
      "text/html": [
       "<div>\n",
       "<table border=\"1\" class=\"dataframe\">\n",
       "  <thead>\n",
       "    <tr style=\"text-align: right;\">\n",
       "      <th></th>\n",
       "      <th>cluster</th>\n",
       "      <th>revenue-mean</th>\n",
       "      <th>tax-mean</th>\n",
       "      <th>revenue-stdev</th>\n",
       "      <th>tax-stdev</th>\n",
       "    </tr>\n",
       "  </thead>\n",
       "  <tbody>\n",
       "    <tr>\n",
       "      <th>0</th>\n",
       "      <td>0</td>\n",
       "      <td>133.498989</td>\n",
       "      <td>76.330249</td>\n",
       "      <td>94.436272</td>\n",
       "      <td>77.967428</td>\n",
       "    </tr>\n",
       "    <tr>\n",
       "      <th>1</th>\n",
       "      <td>1</td>\n",
       "      <td>634.123063</td>\n",
       "      <td>196.752188</td>\n",
       "      <td>334.572889</td>\n",
       "      <td>55.022156</td>\n",
       "    </tr>\n",
       "  </tbody>\n",
       "</table>\n",
       "</div>"
      ],
      "text/plain": [
       "   cluster  revenue-mean    tax-mean  revenue-stdev  tax-stdev\n",
       "0        0    133.498989   76.330249      94.436272  77.967428\n",
       "1        1    634.123063  196.752188     334.572889  55.022156"
      ]
     },
     "execution_count": 168,
     "metadata": {},
     "output_type": "execute_result"
    }
   ],
   "source": [
    "# Calculo de z-score para cada punto (Será con un join, hago index = column)\n",
    "cluster_stats = cluster_stats.reset_index()\n",
    "cluster_stats"
   ]
  },
  {
   "cell_type": "code",
   "execution_count": 169,
   "metadata": {
    "collapsed": false
   },
   "outputs": [
    {
     "data": {
      "text/html": [
       "<div>\n",
       "<table border=\"1\" class=\"dataframe\">\n",
       "  <thead>\n",
       "    <tr style=\"text-align: right;\">\n",
       "      <th></th>\n",
       "      <th>revenue</th>\n",
       "      <th>tax</th>\n",
       "      <th>cluster</th>\n",
       "      <th>revenue-mean</th>\n",
       "      <th>tax-mean</th>\n",
       "      <th>revenue-stdev</th>\n",
       "      <th>tax-stdev</th>\n",
       "    </tr>\n",
       "  </thead>\n",
       "  <tbody>\n",
       "    <tr>\n",
       "      <th>5427</th>\n",
       "      <td>22.99</td>\n",
       "      <td>4.05</td>\n",
       "      <td>0</td>\n",
       "      <td>133.498989</td>\n",
       "      <td>76.330249</td>\n",
       "      <td>94.436272</td>\n",
       "      <td>77.967428</td>\n",
       "    </tr>\n",
       "    <tr>\n",
       "      <th>1616</th>\n",
       "      <td>118.90</td>\n",
       "      <td>34.17</td>\n",
       "      <td>0</td>\n",
       "      <td>133.498989</td>\n",
       "      <td>76.330249</td>\n",
       "      <td>94.436272</td>\n",
       "      <td>77.967428</td>\n",
       "    </tr>\n",
       "    <tr>\n",
       "      <th>8172</th>\n",
       "      <td>99.00</td>\n",
       "      <td>19.89</td>\n",
       "      <td>0</td>\n",
       "      <td>133.498989</td>\n",
       "      <td>76.330249</td>\n",
       "      <td>94.436272</td>\n",
       "      <td>77.967428</td>\n",
       "    </tr>\n",
       "    <tr>\n",
       "      <th>7098</th>\n",
       "      <td>305.99</td>\n",
       "      <td>56.75</td>\n",
       "      <td>0</td>\n",
       "      <td>133.498989</td>\n",
       "      <td>76.330249</td>\n",
       "      <td>94.436272</td>\n",
       "      <td>77.967428</td>\n",
       "    </tr>\n",
       "    <tr>\n",
       "      <th>5818</th>\n",
       "      <td>251.99</td>\n",
       "      <td>195.67</td>\n",
       "      <td>0</td>\n",
       "      <td>133.498989</td>\n",
       "      <td>76.330249</td>\n",
       "      <td>94.436272</td>\n",
       "      <td>77.967428</td>\n",
       "    </tr>\n",
       "    <tr>\n",
       "      <th>5769</th>\n",
       "      <td>219.50</td>\n",
       "      <td>166.72</td>\n",
       "      <td>0</td>\n",
       "      <td>133.498989</td>\n",
       "      <td>76.330249</td>\n",
       "      <td>94.436272</td>\n",
       "      <td>77.967428</td>\n",
       "    </tr>\n",
       "    <tr>\n",
       "      <th>7828</th>\n",
       "      <td>145.87</td>\n",
       "      <td>221.08</td>\n",
       "      <td>0</td>\n",
       "      <td>133.498989</td>\n",
       "      <td>76.330249</td>\n",
       "      <td>94.436272</td>\n",
       "      <td>77.967428</td>\n",
       "    </tr>\n",
       "    <tr>\n",
       "      <th>2066</th>\n",
       "      <td>369.50</td>\n",
       "      <td>162.82</td>\n",
       "      <td>0</td>\n",
       "      <td>133.498989</td>\n",
       "      <td>76.330249</td>\n",
       "      <td>94.436272</td>\n",
       "      <td>77.967428</td>\n",
       "    </tr>\n",
       "    <tr>\n",
       "      <th>8463</th>\n",
       "      <td>112.37</td>\n",
       "      <td>24.49</td>\n",
       "      <td>0</td>\n",
       "      <td>133.498989</td>\n",
       "      <td>76.330249</td>\n",
       "      <td>94.436272</td>\n",
       "      <td>77.967428</td>\n",
       "    </tr>\n",
       "    <tr>\n",
       "      <th>9032</th>\n",
       "      <td>446.47</td>\n",
       "      <td>144.48</td>\n",
       "      <td>1</td>\n",
       "      <td>634.123063</td>\n",
       "      <td>196.752188</td>\n",
       "      <td>334.572889</td>\n",
       "      <td>55.022156</td>\n",
       "    </tr>\n",
       "  </tbody>\n",
       "</table>\n",
       "</div>"
      ],
      "text/plain": [
       "      revenue     tax  cluster  revenue-mean    tax-mean  revenue-stdev  \\\n",
       "5427    22.99    4.05        0    133.498989   76.330249      94.436272   \n",
       "1616   118.90   34.17        0    133.498989   76.330249      94.436272   \n",
       "8172    99.00   19.89        0    133.498989   76.330249      94.436272   \n",
       "7098   305.99   56.75        0    133.498989   76.330249      94.436272   \n",
       "5818   251.99  195.67        0    133.498989   76.330249      94.436272   \n",
       "5769   219.50  166.72        0    133.498989   76.330249      94.436272   \n",
       "7828   145.87  221.08        0    133.498989   76.330249      94.436272   \n",
       "2066   369.50  162.82        0    133.498989   76.330249      94.436272   \n",
       "8463   112.37   24.49        0    133.498989   76.330249      94.436272   \n",
       "9032   446.47  144.48        1    634.123063  196.752188     334.572889   \n",
       "\n",
       "      tax-stdev  \n",
       "5427  77.967428  \n",
       "1616  77.967428  \n",
       "8172  77.967428  \n",
       "7098  77.967428  \n",
       "5818  77.967428  \n",
       "5769  77.967428  \n",
       "7828  77.967428  \n",
       "2066  77.967428  \n",
       "8463  77.967428  \n",
       "9032  55.022156  "
      ]
     },
     "execution_count": 169,
     "metadata": {},
     "output_type": "execute_result"
    }
   ],
   "source": [
    "merged = pd.merge(smaller,cluster_stats,left_on='cluster',right_on='cluster')\n",
    "merged.sample(10)"
   ]
  },
  {
   "cell_type": "code",
   "execution_count": 170,
   "metadata": {
    "collapsed": false
   },
   "outputs": [
    {
     "data": {
      "text/plain": [
       "166"
      ]
     },
     "execution_count": 170,
     "metadata": {},
     "output_type": "execute_result"
    }
   ],
   "source": [
    "def is_outlier(row):\n",
    "    z_rev = (row['revenue'] - row['revenue-mean']) / row['revenue-stdev']\n",
    "    z_tax = (row['tax'] - row['tax-mean']) / row['tax-stdev']\n",
    "    z = sqrt(z_rev**2 + z_tax**2)\n",
    "    return z > 3\n",
    "outlier = merged.apply(is_outlier, axis=1)\n",
    "outlier.sum()  # CANTIDAD DE OULIERS"
   ]
  },
  {
   "cell_type": "code",
   "execution_count": 171,
   "metadata": {
    "collapsed": false
   },
   "outputs": [
    {
     "data": {
      "text/html": [
       "<div>\n",
       "<table border=\"1\" class=\"dataframe\">\n",
       "  <thead>\n",
       "    <tr style=\"text-align: right;\">\n",
       "      <th></th>\n",
       "      <th>revenue</th>\n",
       "      <th>tax</th>\n",
       "      <th>cluster</th>\n",
       "      <th>revenue-mean</th>\n",
       "      <th>tax-mean</th>\n",
       "      <th>revenue-stdev</th>\n",
       "      <th>tax-stdev</th>\n",
       "      <th>outlier</th>\n",
       "    </tr>\n",
       "  </thead>\n",
       "  <tbody>\n",
       "    <tr>\n",
       "      <th>6643</th>\n",
       "      <td>34.583333</td>\n",
       "      <td>27.43</td>\n",
       "      <td>0</td>\n",
       "      <td>133.498989</td>\n",
       "      <td>76.330249</td>\n",
       "      <td>94.436272</td>\n",
       "      <td>77.967428</td>\n",
       "      <td>False</td>\n",
       "    </tr>\n",
       "    <tr>\n",
       "      <th>5997</th>\n",
       "      <td>305.940000</td>\n",
       "      <td>145.30</td>\n",
       "      <td>0</td>\n",
       "      <td>133.498989</td>\n",
       "      <td>76.330249</td>\n",
       "      <td>94.436272</td>\n",
       "      <td>77.967428</td>\n",
       "      <td>False</td>\n",
       "    </tr>\n",
       "    <tr>\n",
       "      <th>6619</th>\n",
       "      <td>308.500000</td>\n",
       "      <td>161.37</td>\n",
       "      <td>0</td>\n",
       "      <td>133.498989</td>\n",
       "      <td>76.330249</td>\n",
       "      <td>94.436272</td>\n",
       "      <td>77.967428</td>\n",
       "      <td>False</td>\n",
       "    </tr>\n",
       "    <tr>\n",
       "      <th>4242</th>\n",
       "      <td>0.000000</td>\n",
       "      <td>43.78</td>\n",
       "      <td>0</td>\n",
       "      <td>133.498989</td>\n",
       "      <td>76.330249</td>\n",
       "      <td>94.436272</td>\n",
       "      <td>77.967428</td>\n",
       "      <td>False</td>\n",
       "    </tr>\n",
       "    <tr>\n",
       "      <th>9705</th>\n",
       "      <td>950.000000</td>\n",
       "      <td>179.55</td>\n",
       "      <td>1</td>\n",
       "      <td>634.123063</td>\n",
       "      <td>196.752188</td>\n",
       "      <td>334.572889</td>\n",
       "      <td>55.022156</td>\n",
       "      <td>False</td>\n",
       "    </tr>\n",
       "    <tr>\n",
       "      <th>6591</th>\n",
       "      <td>179.580000</td>\n",
       "      <td>118.83</td>\n",
       "      <td>0</td>\n",
       "      <td>133.498989</td>\n",
       "      <td>76.330249</td>\n",
       "      <td>94.436272</td>\n",
       "      <td>77.967428</td>\n",
       "      <td>False</td>\n",
       "    </tr>\n",
       "    <tr>\n",
       "      <th>8011</th>\n",
       "      <td>272.997500</td>\n",
       "      <td>159.21</td>\n",
       "      <td>0</td>\n",
       "      <td>133.498989</td>\n",
       "      <td>76.330249</td>\n",
       "      <td>94.436272</td>\n",
       "      <td>77.967428</td>\n",
       "      <td>False</td>\n",
       "    </tr>\n",
       "    <tr>\n",
       "      <th>3076</th>\n",
       "      <td>99.000000</td>\n",
       "      <td>13.85</td>\n",
       "      <td>0</td>\n",
       "      <td>133.498989</td>\n",
       "      <td>76.330249</td>\n",
       "      <td>94.436272</td>\n",
       "      <td>77.967428</td>\n",
       "      <td>False</td>\n",
       "    </tr>\n",
       "    <tr>\n",
       "      <th>3878</th>\n",
       "      <td>155.000000</td>\n",
       "      <td>16.62</td>\n",
       "      <td>0</td>\n",
       "      <td>133.498989</td>\n",
       "      <td>76.330249</td>\n",
       "      <td>94.436272</td>\n",
       "      <td>77.967428</td>\n",
       "      <td>False</td>\n",
       "    </tr>\n",
       "    <tr>\n",
       "      <th>8469</th>\n",
       "      <td>352.000000</td>\n",
       "      <td>53.10</td>\n",
       "      <td>0</td>\n",
       "      <td>133.498989</td>\n",
       "      <td>76.330249</td>\n",
       "      <td>94.436272</td>\n",
       "      <td>77.967428</td>\n",
       "      <td>False</td>\n",
       "    </tr>\n",
       "  </tbody>\n",
       "</table>\n",
       "</div>"
      ],
      "text/plain": [
       "         revenue     tax  cluster  revenue-mean    tax-mean  revenue-stdev  \\\n",
       "6643   34.583333   27.43        0    133.498989   76.330249      94.436272   \n",
       "5997  305.940000  145.30        0    133.498989   76.330249      94.436272   \n",
       "6619  308.500000  161.37        0    133.498989   76.330249      94.436272   \n",
       "4242    0.000000   43.78        0    133.498989   76.330249      94.436272   \n",
       "9705  950.000000  179.55        1    634.123063  196.752188     334.572889   \n",
       "6591  179.580000  118.83        0    133.498989   76.330249      94.436272   \n",
       "8011  272.997500  159.21        0    133.498989   76.330249      94.436272   \n",
       "3076   99.000000   13.85        0    133.498989   76.330249      94.436272   \n",
       "3878  155.000000   16.62        0    133.498989   76.330249      94.436272   \n",
       "8469  352.000000   53.10        0    133.498989   76.330249      94.436272   \n",
       "\n",
       "      tax-stdev outlier  \n",
       "6643  77.967428   False  \n",
       "5997  77.967428   False  \n",
       "6619  77.967428   False  \n",
       "4242  77.967428   False  \n",
       "9705  55.022156   False  \n",
       "6591  77.967428   False  \n",
       "8011  77.967428   False  \n",
       "3076  77.967428   False  \n",
       "3878  77.967428   False  \n",
       "8469  77.967428   False  "
      ]
     },
     "execution_count": 171,
     "metadata": {},
     "output_type": "execute_result"
    }
   ],
   "source": [
    "merged['outlier'] = outlier\n",
    "merged.sample(10)"
   ]
  },
  {
   "cell_type": "code",
   "execution_count": 182,
   "metadata": {
    "collapsed": false
   },
   "outputs": [
    {
     "data": {
      "image/png": "[encoded data removed]",
      "text/plain": [
       "<matplotlib.figure.Figure at 0x7f4c2e1bb110>"
      ]
     },
     "metadata": {},
     "output_type": "display_data"
    }
   ],
   "source": [
    "# Voy a pintar\n",
    "\n",
    "merged['coloutlier'] = 'green'\n",
    "merged.ix[merged.cluster == 1, ['coloutlier']] = 'blue'\n",
    "merged.ix[merged.outlier == True, ['coloutlier']] = 'red'\n",
    "\n",
    "fig = plt.figure()\n",
    "ax = fig.add_subplot(111)\n",
    "ax.set_title(\"Standard Pack tax and revenue outliers\")\n",
    "ax.set_xlabel(\"Revenue\")\n",
    "ax.set_ylabel(\"Tax\")\n",
    "xval = 2000\n",
    "yval = 500\n",
    "lineheight = 50\n",
    "ax.text(xval, yval, 'White: Normal', fontsize=12)\n",
    "ax.text(xval, yval - lineheight, 'Red: Outlier', fontsize=12)\n",
    "\n",
    "#plt.x_title = \"Revenue\"\n",
    "plt.scatter(merged.revenue, merged.tax, c=merged.coloutlier, alpha=0.3)\n",
    "\n",
    "plt.show()"
   ]
  },
  {
   "cell_type": "code",
   "execution_count": null,
   "metadata": {
    "collapsed": true
   },
   "outputs": [],
   "source": []
  },
  {
   "cell_type": "code",
   "execution_count": null,
   "metadata": {
    "collapsed": true
   },
   "outputs": [],
   "source": []
  },
  {
   "cell_type": "markdown",
   "metadata": {},
   "source": [
    "### PASADO A LIMPIO  y con 10 grupos "
   ]
  },
  {
   "cell_type": "code",
   "execution_count": 99,
   "metadata": {
    "collapsed": true
   },
   "outputs": [],
   "source": [
    "x = smaller['revenue'].values\n",
    "y = smaller['tax'].values"
   ]
  },
  {
   "cell_type": "code",
   "execution_count": 62,
   "metadata": {
    "collapsed": false
   },
   "outputs": [
    {
     "data": {
      "text/plain": [
       "array([[ 221.85,  194.9 ],\n",
       "       [ 264.96,   38.49],\n",
       "       [ 204.2 ,  204.1 ],\n",
       "       ..., \n",
       "       [ 376.77,  183.64],\n",
       "       [ 243.99,   40.69],\n",
       "       [ 133.85,   29.76]])"
      ]
     },
     "execution_count": 62,
     "metadata": {},
     "output_type": "execute_result"
    }
   ],
   "source": [
    "xydata = np.asarray(zip(x, y))\n",
    "xydata"
   ]
  },
  {
   "cell_type": "code",
   "execution_count": 51,
   "metadata": {
    "collapsed": true
   },
   "outputs": [],
   "source": [
    "kmeans = KMeans(n_clusters=10)\n",
    "clusters = kmeans.fit_predict(xydata)"
   ]
  },
  {
   "cell_type": "code",
   "execution_count": 52,
   "metadata": {
    "collapsed": false
   },
   "outputs": [
    {
     "data": {
      "image/png": "[encoded data removed]",
      "text/plain": [
       "<matplotlib.figure.Figure at 0x7f4c2fb5d550>"
      ]
     },
     "metadata": {},
     "output_type": "display_data"
    }
   ],
   "source": [
    "# Plotting from http://scikit-learn.org/stable/auto_examples/cluster/plot_kmeans_digits.html\n",
    "\n",
    "# Plot the decision boundary. For that, we will assign a color to each\n",
    "x_min, x_max = np.asarray(x).min() - 1, np.asarray(x).max() + 1\n",
    "y_min, y_max = np.asarray(y).min() - 1, np.asarray(y).max() + 1\n",
    "h = np.asarray([x_max-x_min, y_max-y_min]).max()/1000\n",
    "xx, yy = np.meshgrid(np.arange(x_min, x_max, h), np.arange(y_min, y_max, h))\n",
    "\n",
    "# Obtain labels for each point in mesh. Use last trained model.\n",
    "Z = kmeans.predict(np.c_[xx.ravel(), yy.ravel()])\n",
    "\n",
    "# Put the result into a color plot\n",
    "Z = Z.reshape(xx.shape)\n",
    "plt.figure(1)\n",
    "plt.clf()\n",
    "plt.imshow(Z, interpolation='nearest',\n",
    "           extent=(xx.min(), xx.max(), yy.min(), yy.max()),\n",
    "           cmap=plt.cm.Paired,\n",
    "           aspect='auto', origin='lower')\n",
    "\n",
    "plt.xlim(x_min, x_max)\n",
    "plt.ylim(y_min, y_max)\n",
    "plt.plot(x, y, 'k.', markersize=2)\n",
    "plt.show()\n"
   ]
  },
  {
   "cell_type": "code",
   "execution_count": 53,
   "metadata": {
    "collapsed": false
   },
   "outputs": [
    {
     "data": {
      "image/png": "[encoded data removed]",
      "text/plain": [
       "<matplotlib.figure.Figure at 0x7f4c2fb3cb10>"
      ]
     },
     "metadata": {},
     "output_type": "display_data"
    }
   ],
   "source": [
    "_ = plt.scatter(x, y, c=clusters, alpha=0.2)"
   ]
  },
  {
   "cell_type": "code",
   "execution_count": 54,
   "metadata": {
    "collapsed": false
   },
   "outputs": [
    {
     "data": {
      "text/html": [
       "<div>\n",
       "<table border=\"1\" class=\"dataframe\">\n",
       "  <thead>\n",
       "    <tr style=\"text-align: right;\">\n",
       "      <th></th>\n",
       "      <th>cluster</th>\n",
       "      <th>revenue</th>\n",
       "      <th>tax</th>\n",
       "    </tr>\n",
       "  </thead>\n",
       "  <tbody>\n",
       "    <tr>\n",
       "      <th>0</th>\n",
       "      <td>5</td>\n",
       "      <td>221.85</td>\n",
       "      <td>194.90</td>\n",
       "    </tr>\n",
       "    <tr>\n",
       "      <th>1</th>\n",
       "      <td>8</td>\n",
       "      <td>264.96</td>\n",
       "      <td>38.49</td>\n",
       "    </tr>\n",
       "    <tr>\n",
       "      <th>2</th>\n",
       "      <td>5</td>\n",
       "      <td>204.20</td>\n",
       "      <td>204.10</td>\n",
       "    </tr>\n",
       "    <tr>\n",
       "      <th>3</th>\n",
       "      <td>5</td>\n",
       "      <td>161.49</td>\n",
       "      <td>176.83</td>\n",
       "    </tr>\n",
       "    <tr>\n",
       "      <th>4</th>\n",
       "      <td>1</td>\n",
       "      <td>46.40</td>\n",
       "      <td>16.49</td>\n",
       "    </tr>\n",
       "  </tbody>\n",
       "</table>\n",
       "</div>"
      ],
      "text/plain": [
       "   cluster  revenue     tax\n",
       "0        5   221.85  194.90\n",
       "1        8   264.96   38.49\n",
       "2        5   204.20  204.10\n",
       "3        5   161.49  176.83\n",
       "4        1    46.40   16.49"
      ]
     },
     "execution_count": 54,
     "metadata": {},
     "output_type": "execute_result"
    }
   ],
   "source": [
    "df = pd.DataFrame({\"revenue\": x, \"tax\": y, \"cluster\": clusters})\n",
    "df.head()"
   ]
  },
  {
   "cell_type": "code",
   "execution_count": 55,
   "metadata": {
    "collapsed": false
   },
   "outputs": [
    {
     "data": {
      "text/html": [
       "<div>\n",
       "<table border=\"1\" class=\"dataframe\">\n",
       "  <thead>\n",
       "    <tr style=\"text-align: right;\">\n",
       "      <th></th>\n",
       "      <th>cluster_rev_mean</th>\n",
       "      <th>cluster_tax_mean</th>\n",
       "      <th>cluster_rev_std</th>\n",
       "      <th>cluster_tax_std</th>\n",
       "    </tr>\n",
       "    <tr>\n",
       "      <th>cluster</th>\n",
       "      <th></th>\n",
       "      <th></th>\n",
       "      <th></th>\n",
       "      <th></th>\n",
       "    </tr>\n",
       "  </thead>\n",
       "  <tbody>\n",
       "    <tr>\n",
       "      <th>0</th>\n",
       "      <td>306.941194</td>\n",
       "      <td>188.642017</td>\n",
       "      <td>47.348480</td>\n",
       "      <td>42.869441</td>\n",
       "    </tr>\n",
       "    <tr>\n",
       "      <th>1</th>\n",
       "      <td>41.725793</td>\n",
       "      <td>22.774534</td>\n",
       "      <td>25.098744</td>\n",
       "      <td>28.136451</td>\n",
       "    </tr>\n",
       "    <tr>\n",
       "      <th>2</th>\n",
       "      <td>1244.275000</td>\n",
       "      <td>216.194353</td>\n",
       "      <td>165.783295</td>\n",
       "      <td>73.699587</td>\n",
       "    </tr>\n",
       "    <tr>\n",
       "      <th>3</th>\n",
       "      <td>495.055193</td>\n",
       "      <td>188.148282</td>\n",
       "      <td>60.405034</td>\n",
       "      <td>50.695093</td>\n",
       "    </tr>\n",
       "    <tr>\n",
       "      <th>4</th>\n",
       "      <td>119.453682</td>\n",
       "      <td>34.236886</td>\n",
       "      <td>28.292073</td>\n",
       "      <td>17.979604</td>\n",
       "    </tr>\n",
       "    <tr>\n",
       "      <th>5</th>\n",
       "      <td>173.909004</td>\n",
       "      <td>186.361177</td>\n",
       "      <td>46.027353</td>\n",
       "      <td>39.751931</td>\n",
       "    </tr>\n",
       "    <tr>\n",
       "      <th>6</th>\n",
       "      <td>764.061503</td>\n",
       "      <td>208.134117</td>\n",
       "      <td>94.550538</td>\n",
       "      <td>57.252650</td>\n",
       "    </tr>\n",
       "    <tr>\n",
       "      <th>7</th>\n",
       "      <td>3072.125000</td>\n",
       "      <td>258.357500</td>\n",
       "      <td>427.213525</td>\n",
       "      <td>48.088465</td>\n",
       "    </tr>\n",
       "    <tr>\n",
       "      <th>8</th>\n",
       "      <td>254.308786</td>\n",
       "      <td>43.871234</td>\n",
       "      <td>45.288514</td>\n",
       "      <td>20.665622</td>\n",
       "    </tr>\n",
       "    <tr>\n",
       "      <th>9</th>\n",
       "      <td>1868.356341</td>\n",
       "      <td>207.693171</td>\n",
       "      <td>182.786126</td>\n",
       "      <td>55.648651</td>\n",
       "    </tr>\n",
       "  </tbody>\n",
       "</table>\n",
       "</div>"
      ],
      "text/plain": [
       "         cluster_rev_mean  cluster_tax_mean  cluster_rev_std  cluster_tax_std\n",
       "cluster                                                                      \n",
       "0              306.941194        188.642017        47.348480        42.869441\n",
       "1               41.725793         22.774534        25.098744        28.136451\n",
       "2             1244.275000        216.194353       165.783295        73.699587\n",
       "3              495.055193        188.148282        60.405034        50.695093\n",
       "4              119.453682         34.236886        28.292073        17.979604\n",
       "5              173.909004        186.361177        46.027353        39.751931\n",
       "6              764.061503        208.134117        94.550538        57.252650\n",
       "7             3072.125000        258.357500       427.213525        48.088465\n",
       "8              254.308786         43.871234        45.288514        20.665622\n",
       "9             1868.356341        207.693171       182.786126        55.648651"
      ]
     },
     "execution_count": 55,
     "metadata": {},
     "output_type": "execute_result"
    }
   ],
   "source": [
    "means = df.groupby('cluster').mean()\n",
    "# Relabel columns\n",
    "means = pd.DataFrame({'cluster_rev_mean': means['revenue'], 'cluster_tax_mean': means['tax']})\n",
    "# And add the cluster as a column, not the index\n",
    "#stds['Cluster'] = stds.index\n",
    "\n",
    "stds = df.groupby('cluster').std()\n",
    "# Relabel columns\n",
    "stds = pd.DataFrame({'cluster_rev_std': stds['revenue'], 'cluster_tax_std': stds['tax']})\n",
    "#stds['Cluster'] = stds.index\n",
    "\n",
    "stats = means.join(stds)\n",
    "stats"
   ]
  },
  {
   "cell_type": "code",
   "execution_count": 56,
   "metadata": {
    "collapsed": false
   },
   "outputs": [
    {
     "data": {
      "text/html": [
       "<div>\n",
       "<table border=\"1\" class=\"dataframe\">\n",
       "  <thead>\n",
       "    <tr style=\"text-align: right;\">\n",
       "      <th></th>\n",
       "      <th>cluster</th>\n",
       "      <th>revenue</th>\n",
       "      <th>tax</th>\n",
       "      <th>cluster_rev_mean</th>\n",
       "      <th>cluster_tax_mean</th>\n",
       "      <th>cluster_rev_std</th>\n",
       "      <th>cluster_tax_std</th>\n",
       "    </tr>\n",
       "  </thead>\n",
       "  <tbody>\n",
       "    <tr>\n",
       "      <th>9315</th>\n",
       "      <td>9</td>\n",
       "      <td>1856.41</td>\n",
       "      <td>260.03</td>\n",
       "      <td>1868.356341</td>\n",
       "      <td>207.693171</td>\n",
       "      <td>182.786126</td>\n",
       "      <td>55.648651</td>\n",
       "    </tr>\n",
       "    <tr>\n",
       "      <th>9400</th>\n",
       "      <td>9</td>\n",
       "      <td>1936.00</td>\n",
       "      <td>199.09</td>\n",
       "      <td>1868.356341</td>\n",
       "      <td>207.693171</td>\n",
       "      <td>182.786126</td>\n",
       "      <td>55.648651</td>\n",
       "    </tr>\n",
       "    <tr>\n",
       "      <th>9799</th>\n",
       "      <td>9</td>\n",
       "      <td>2069.50</td>\n",
       "      <td>150.00</td>\n",
       "      <td>1868.356341</td>\n",
       "      <td>207.693171</td>\n",
       "      <td>182.786126</td>\n",
       "      <td>55.648651</td>\n",
       "    </tr>\n",
       "    <tr>\n",
       "      <th>9886</th>\n",
       "      <td>9</td>\n",
       "      <td>1936.00</td>\n",
       "      <td>161.37</td>\n",
       "      <td>1868.356341</td>\n",
       "      <td>207.693171</td>\n",
       "      <td>182.786126</td>\n",
       "      <td>55.648651</td>\n",
       "    </tr>\n",
       "    <tr>\n",
       "      <th>9908</th>\n",
       "      <td>9</td>\n",
       "      <td>1936.00</td>\n",
       "      <td>162.82</td>\n",
       "      <td>1868.356341</td>\n",
       "      <td>207.693171</td>\n",
       "      <td>182.786126</td>\n",
       "      <td>55.648651</td>\n",
       "    </tr>\n",
       "  </tbody>\n",
       "</table>\n",
       "</div>"
      ],
      "text/plain": [
       "      cluster  revenue     tax  cluster_rev_mean  cluster_tax_mean  \\\n",
       "9315        9  1856.41  260.03       1868.356341        207.693171   \n",
       "9400        9  1936.00  199.09       1868.356341        207.693171   \n",
       "9799        9  2069.50  150.00       1868.356341        207.693171   \n",
       "9886        9  1936.00  161.37       1868.356341        207.693171   \n",
       "9908        9  1936.00  162.82       1868.356341        207.693171   \n",
       "\n",
       "      cluster_rev_std  cluster_tax_std  \n",
       "9315       182.786126        55.648651  \n",
       "9400       182.786126        55.648651  \n",
       "9799       182.786126        55.648651  \n",
       "9886       182.786126        55.648651  \n",
       "9908       182.786126        55.648651  "
      ]
     },
     "execution_count": 56,
     "metadata": {},
     "output_type": "execute_result"
    }
   ],
   "source": [
    "df_wstats = pd.merge(df, stats, left_on='cluster', right_index=True)\n",
    "df_wstats.tail(5)"
   ]
  },
  {
   "cell_type": "code",
   "execution_count": 57,
   "metadata": {
    "collapsed": false
   },
   "outputs": [
    {
     "data": {
      "text/html": [
       "<div>\n",
       "<table border=\"1\" class=\"dataframe\">\n",
       "  <thead>\n",
       "    <tr style=\"text-align: right;\">\n",
       "      <th></th>\n",
       "      <th>cluster</th>\n",
       "      <th>revenue</th>\n",
       "      <th>tax</th>\n",
       "      <th>cluster_rev_mean</th>\n",
       "      <th>cluster_tax_mean</th>\n",
       "      <th>cluster_rev_std</th>\n",
       "      <th>cluster_tax_std</th>\n",
       "      <th>z_rev</th>\n",
       "      <th>z_tax</th>\n",
       "      <th>z</th>\n",
       "    </tr>\n",
       "  </thead>\n",
       "  <tbody>\n",
       "    <tr>\n",
       "      <th>0</th>\n",
       "      <td>5</td>\n",
       "      <td>221.85</td>\n",
       "      <td>194.90</td>\n",
       "      <td>173.909004</td>\n",
       "      <td>186.361177</td>\n",
       "      <td>46.027353</td>\n",
       "      <td>39.751931</td>\n",
       "      <td>1.041576</td>\n",
       "      <td>0.214803</td>\n",
       "      <td>1.063495</td>\n",
       "    </tr>\n",
       "    <tr>\n",
       "      <th>2</th>\n",
       "      <td>5</td>\n",
       "      <td>204.20</td>\n",
       "      <td>204.10</td>\n",
       "      <td>173.909004</td>\n",
       "      <td>186.361177</td>\n",
       "      <td>46.027353</td>\n",
       "      <td>39.751931</td>\n",
       "      <td>0.658109</td>\n",
       "      <td>0.446238</td>\n",
       "      <td>0.795132</td>\n",
       "    </tr>\n",
       "    <tr>\n",
       "      <th>3</th>\n",
       "      <td>5</td>\n",
       "      <td>161.49</td>\n",
       "      <td>176.83</td>\n",
       "      <td>173.909004</td>\n",
       "      <td>186.361177</td>\n",
       "      <td>46.027353</td>\n",
       "      <td>39.751931</td>\n",
       "      <td>-0.269818</td>\n",
       "      <td>-0.239766</td>\n",
       "      <td>0.360957</td>\n",
       "    </tr>\n",
       "    <tr>\n",
       "      <th>12</th>\n",
       "      <td>5</td>\n",
       "      <td>231.81</td>\n",
       "      <td>187.00</td>\n",
       "      <td>173.909004</td>\n",
       "      <td>186.361177</td>\n",
       "      <td>46.027353</td>\n",
       "      <td>39.751931</td>\n",
       "      <td>1.257969</td>\n",
       "      <td>0.016070</td>\n",
       "      <td>1.258072</td>\n",
       "    </tr>\n",
       "    <tr>\n",
       "      <th>40</th>\n",
       "      <td>5</td>\n",
       "      <td>188.92</td>\n",
       "      <td>200.38</td>\n",
       "      <td>173.909004</td>\n",
       "      <td>186.361177</td>\n",
       "      <td>46.027353</td>\n",
       "      <td>39.751931</td>\n",
       "      <td>0.326132</td>\n",
       "      <td>0.352658</td>\n",
       "      <td>0.480343</td>\n",
       "    </tr>\n",
       "  </tbody>\n",
       "</table>\n",
       "</div>"
      ],
      "text/plain": [
       "    cluster  revenue     tax  cluster_rev_mean  cluster_tax_mean  \\\n",
       "0         5   221.85  194.90        173.909004        186.361177   \n",
       "2         5   204.20  204.10        173.909004        186.361177   \n",
       "3         5   161.49  176.83        173.909004        186.361177   \n",
       "12        5   231.81  187.00        173.909004        186.361177   \n",
       "40        5   188.92  200.38        173.909004        186.361177   \n",
       "\n",
       "    cluster_rev_std  cluster_tax_std     z_rev     z_tax         z  \n",
       "0         46.027353        39.751931  1.041576  0.214803  1.063495  \n",
       "2         46.027353        39.751931  0.658109  0.446238  0.795132  \n",
       "3         46.027353        39.751931 -0.269818 -0.239766  0.360957  \n",
       "12        46.027353        39.751931  1.257969  0.016070  1.258072  \n",
       "40        46.027353        39.751931  0.326132  0.352658  0.480343  "
      ]
     },
     "execution_count": 57,
     "metadata": {},
     "output_type": "execute_result"
    }
   ],
   "source": [
    "df_wstats['z_rev'] = (df_wstats.revenue - df_wstats.cluster_rev_mean)/df_wstats.cluster_rev_std\n",
    "df_wstats['z_tax'] = (df_wstats.tax - df_wstats.cluster_tax_mean)/df_wstats.cluster_tax_std\n",
    "df_wstats['z'] = np.sqrt(df_wstats.z_rev*df_wstats.z_rev + df_wstats.z_tax*df_wstats.z_tax)\n",
    "df_wstats.head()"
   ]
  },
  {
   "cell_type": "code",
   "execution_count": 143,
   "metadata": {
    "collapsed": false
   },
   "outputs": [
    {
     "data": {
      "image/png": "[encoded data removed]",
      "text/plain": [
       "<matplotlib.figure.Figure at 0x7f4c1e00b790>"
      ]
     },
     "metadata": {},
     "output_type": "display_data"
    }
   ],
   "source": [
    "# Create a \"boolean\" outlier column\n",
    "df_wstats['outlier'] = 'white'\n",
    "df_wstats.ix[df_wstats.z > 3, ['outlier']] = 'red'\n",
    "\n",
    "fig = plt.figure()\n",
    "ax = fig.add_subplot(111)\n",
    "ax.set_title(\"Standard Pack tax and revenue outliers\")\n",
    "ax.set_xlabel(\"Revenue\")\n",
    "ax.set_ylabel(\"Tax\")\n",
    "xval = 2000\n",
    "yval = 500\n",
    "lineheight = 50\n",
    "ax.text(xval, yval, 'White: Normal', fontsize=12)\n",
    "ax.text(xval, yval - lineheight, 'Red: Outlier', fontsize=12)\n",
    "\n",
    "#plt.x_title = \"Revenue\"\n",
    "plt.scatter(df_wstats.revenue, df_wstats.tax, c=df_wstats.outlier, alpha=0.3)\n",
    "\n",
    "plt.show()"
   ]
  },
  {
   "cell_type": "code",
   "execution_count": null,
   "metadata": {
    "collapsed": true
   },
   "outputs": [],
   "source": []
  }
 ],
 "metadata": {
  "kernelspec": {
   "display_name": "Python 2",
   "language": "python",
   "name": "python2"
  },
  "language_info": {
   "codemirror_mode": {
    "name": "ipython",
    "version": 2
   },
   "file_extension": ".py",
   "mimetype": "text/x-python",
   "name": "python",
   "nbconvert_exporter": "python",
   "pygments_lexer": "ipython2",
   "version": "2.7.10"
  }
 },
 "nbformat": 4,
 "nbformat_minor": 0
}
