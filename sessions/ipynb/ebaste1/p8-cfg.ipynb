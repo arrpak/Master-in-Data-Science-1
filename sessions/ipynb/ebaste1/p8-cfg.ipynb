{
 "cells": [
  {
   "cell_type": "markdown",
   "metadata": {},
   "source": [
    "# Práctica 8\n",
    "\n",
    "En esta octava práctica vamos a intentar definir una gramática independiente del contexto (*Context-Free Grammar* en inglés) para analizar sintácticamente un conjunto de oraciones en inglés.\n",
    "\n",
    "Las oraciones son las siguientes:"
   ]
  },
  {
   "cell_type": "code",
   "execution_count": null,
   "metadata": {
    "collapsed": true
   },
   "outputs": [],
   "source": [
    "# definimos una lista de oraciones en inglés\n",
    "\n",
    "oraciones = '''the boy sleeps.\n",
    "this girl ate the green apple.\n",
    "my dog is barking all day.\n",
    "yesterday I went to the movies.\n",
    "John left the house before I got there.\n",
    "I think my dog is barking now.\n",
    "I know the girl ate the apple.\n",
    "I love when the boy sleeps.\n",
    "the boy sleeps even though my dog is barking.\n",
    "yesterday I went to the movies and John left the house before I got there.'''.split('.\\n')"
   ]
  },
  {
   "cell_type": "markdown",
   "metadata": {},
   "source": [
    "Define a continuación una gramática independiente del contexto llamada `cfg` que sea capaz de reconocer la estructura y analizar correctamente las oraciones anteriores."
   ]
  },
  {
   "cell_type": "code",
   "execution_count": null,
   "metadata": {
    "collapsed": false
   },
   "outputs": [],
   "source": [
    "import nltk\n",
    "\n",
    "# añade tu código aquí\n",
    "\n",
    "\n",
    "\n",
    "# creamos el analizador, tras parsear cfg\n",
    "analizador = nltk.ChartParser(nltk.CFG.fromstring(cfg))"
   ]
  },
  {
   "cell_type": "code",
   "execution_count": null,
   "metadata": {
    "collapsed": false,
    "scrolled": true
   },
   "outputs": [],
   "source": [
    "# veamos qué tal funciona\n",
    "\n",
    "for oracion in oraciones:\n",
    "    # primero imprimimos la oración\n",
    "    print('==>', oracion)\n",
    "    for tree in analizador.parse(oracion.split()):\n",
    "        # y después el arból sintático\n",
    "        print(tree, '\\n')\n",
    "    print('-------------------------------', '\\n') # separador de oraciones\n"
   ]
  },
  {
   "cell_type": "markdown",
   "metadata": {},
   "source": [
    "Como siempre, no existe una solución única. Y cada una de las posibilidades tiene sus ventajas e inconvenientes. En la celda inferior, comenta brevemente:\n",
    "\n",
    "- las decisiones de diseño que has tenido que tomar.\n",
    "- los pros y contras de estas decisiones\n",
    "- otras dificultades que hayas podido encontrar\n",
    "\n",
    "Por último, enumera otras oraciones sintácticamente correctas (aunque sean semánticamente anómalas) que son reconocidas por tu gramática."
   ]
  },
  {
   "cell_type": "markdown",
   "metadata": {},
   "source": [
    "**Respuesta**\n",
    "\n"
   ]
  }
 ],
 "metadata": {
  "kernelspec": {
   "display_name": "Python 3",
   "language": "python",
   "name": "python3"
  },
  "language_info": {
   "codemirror_mode": {
    "name": "ipython",
    "version": 3
   },
   "file_extension": ".py",
   "mimetype": "text/x-python",
   "name": "python",
   "nbconvert_exporter": "python",
   "pygments_lexer": "ipython3",
   "version": "3.4.3+"
  }
 },
 "nbformat": 4,
 "nbformat_minor": 0
}
