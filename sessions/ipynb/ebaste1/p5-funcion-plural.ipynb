{
 "cells": [
  {
   "cell_type": "markdown",
   "metadata": {},
   "source": [
    "# Práctica 5\n",
    "\n",
    "Define una función llamada `plural` que tome como entrada una cadena representando una palabra española en singular y devuelva la forma plural."
   ]
  },
  {
   "cell_type": "code",
   "execution_count": null,
   "metadata": {
    "collapsed": false
   },
   "outputs": [],
   "source": [
    "def plural(palabra):\n",
    "    '''Toma como entrada una palabra española en singular y devuelve la forma en plural'''\n",
    "    # elimina la línea siguiente y escribe tu código a partir de aquí\n",
    "    pass"
   ]
  },
  {
   "cell_type": "markdown",
   "metadata": {},
   "source": [
    "Defínela de manera que devuelva correctamente los plurales regulares y maneje algunas excepciones como:\n",
    "\n",
    "- las palabras invariables en plural como *crisis*, *miércoles* e *hipótesis*.\n",
    "- los dobles plurales de palabras como *zulú*, *marroquí* y *bigudí*: haz que devuelva una tupla de dos elementos con ambos plurales: `('zulús', 'zulúes')`.\n",
    "- las tildes en las palabras agudas en singular que, en plural, se convierten en llanas: *camión/camiones*."
   ]
  },
  {
   "cell_type": "code",
   "execution_count": null,
   "metadata": {
    "collapsed": false
   },
   "outputs": [],
   "source": [
    "# comprueba que las instrucciones de esta celda funcionan como deben\n",
    "\n",
    "# defino una lista de palabras de prueba: añade alguna más si te apatece\n",
    "palabras_de_prueba = 'coche zulú crisis camión cómic'.split()\n",
    "\n",
    "# recorro la lista e imprimo los plurales\n",
    "for palabra in palabras_de_prueba:\n",
    "    print('El plural de', palabra, 'es', plural(palabra))"
   ]
  }
 ],
 "metadata": {
  "kernelspec": {
   "display_name": "Python 3",
   "language": "python",
   "name": "python3"
  },
  "language_info": {
   "codemirror_mode": {
    "name": "ipython",
    "version": 3
   },
   "file_extension": ".py",
   "mimetype": "text/x-python",
   "name": "python",
   "nbconvert_exporter": "python",
   "pygments_lexer": "ipython3",
   "version": "3.4.3+"
  }
 },
 "nbformat": 4,
 "nbformat_minor": 0
}
