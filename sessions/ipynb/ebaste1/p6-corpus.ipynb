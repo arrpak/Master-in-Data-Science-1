{
 "cells": [
  {
   "cell_type": "markdown",
   "metadata": {},
   "source": [
    "# Práctica 6\n",
    "\n",
    "## Ejercicio 1\n",
    "\n",
    "En este primer ejercicio vamos a jugar con el corpus de Brown para buscar sustantivos que sean palabras excepcionalmente largas. Antes de nada, ejecuta la siguiente celda para acceder al corpus desde NLTK:"
   ]
  },
  {
   "cell_type": "code",
   "execution_count": null,
   "metadata": {
    "collapsed": false
   },
   "outputs": [],
   "source": [
    "from nltk.corpus import brown"
   ]
  },
  {
   "cell_type": "markdown",
   "metadata": {},
   "source": [
    "Carga en una variable llamada `text` la lista de palabras etiquetadas de los textos sobre noticias (*news*) del Corpus de Brown. Recorre dicha lista e imprime por pantalla solo las palabras simples etiquetadas como sustantivos que tengan al menos 16 letras de longitud.\n",
    "\n",
    "\n",
    "**PISTAS**: El método `.tagged_words()` te ayudará a acceder a las palabras etiquetadas del corpus. Revisa [el listado de etiquetas del Corpus de Brown](http://www.comp.leeds.ac.uk/ccalas/tagsets/brown.html) para confirmar qué etiquetas se refieren a sustantivos. Con palabras simples me refiero a palabras que no provengan de la concatenación con guiones de otras palabras simples. Evita, por lo tanto, palabras como *air-conditioning* o *rookie-of-the-year*."
   ]
  },
  {
   "cell_type": "code",
   "execution_count": null,
   "metadata": {
    "collapsed": false
   },
   "outputs": [],
   "source": [
    "# escribe tu código aquí\n"
   ]
  },
  {
   "cell_type": "markdown",
   "metadata": {},
   "source": [
    "## Ejercicio 2\n",
    "\n",
    "En este ejercicio vamos a necesitar acceder a Wordnet desde NLTK. Antes de nada, ejecuta la\n",
    "siguiente línea."
   ]
  },
  {
   "cell_type": "code",
   "execution_count": null,
   "metadata": {
    "collapsed": false
   },
   "outputs": [],
   "source": [
    "from nltk.corpus import wordnet as wn"
   ]
  },
  {
   "cell_type": "markdown",
   "metadata": {},
   "source": [
    "La palabra *driver* es polisémica en inglés. Busca todos los synsets de driver y quédate solo con el sentido referido a *conductor de vehículo a motor*. A partir de este synset, imprime por pantalla la información de todos los tipos de conductor que haya, es decir, imprime los lemas y las definiciones de todos los synsets hipónimos para este sentido de *driver*."
   ]
  },
  {
   "cell_type": "code",
   "execution_count": null,
   "metadata": {
    "collapsed": false
   },
   "outputs": [],
   "source": [
    "# escribe tu código aquí\n"
   ]
  }
 ],
 "metadata": {
  "kernelspec": {
   "display_name": "Python 3",
   "language": "python",
   "name": "python3"
  },
  "language_info": {
   "codemirror_mode": {
    "name": "ipython",
    "version": 3
   },
   "file_extension": ".py",
   "mimetype": "text/x-python",
   "name": "python",
   "nbconvert_exporter": "python",
   "pygments_lexer": "ipython3",
   "version": "3.4.3+"
  }
 },
 "nbformat": 4,
 "nbformat_minor": 0
}
