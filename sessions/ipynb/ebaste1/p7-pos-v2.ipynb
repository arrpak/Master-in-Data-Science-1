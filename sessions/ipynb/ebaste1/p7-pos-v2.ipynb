{
 "cells": [
  {
   "cell_type": "markdown",
   "metadata": {},
   "source": [
    "# Práctica 7\n",
    "\n",
    "## Introducción\n",
    "\n",
    "En este primer ejercicio vamos a jugar con uno de los corpus en español que está disponible desde NLTK: CESS_ESP, un *treebank* anotado a partir de una colección de noticias en español. \n",
    "\n",
    "Este corpus está actualmente incluído en un recurso más amplio, el corpus [AnCora](http://clic.ub.edu/corpus/es) que desarrollan en la Universitat de Barcelona. Para más información, podéis leer el artículo de M. Taulé, M. A. Martí y M. Recasens \"[AnCora: Multilevel Annotated Corpora for Catalan and Spanish](http://www.lrec-conf.org/proceedings/lrec2008/pdf/35_paper.pdf)\". *Proceedings of 6th International Conference on Language Resources and Evaluation (LREC 2008)*. 2008. Marrakesh (Morocco).\n",
    "\n",
    "Antes de nada, ejecuta la siguiente celda para acceder al corpus y a otras herramientas que vamos a usar en este ejercicio."
   ]
  },
  {
   "cell_type": "code",
   "execution_count": 1,
   "metadata": {
    "collapsed": false
   },
   "outputs": [],
   "source": [
    "import nltk\n",
    "from nltk.corpus import cess_esp"
   ]
  },
  {
   "cell_type": "markdown",
   "metadata": {},
   "source": [
    "## Ejercicio 1\n",
    "\n",
    "Carga en una variable llamada `palabras` las palabras del corpus `cess_esp` etiquetas morfológicamente. Imprime por pantalla:\n",
    "\n",
    "- las 50 primeras palabras del corpus.\n",
    "- el número de palabras que contiene este corpus."
   ]
  },
  {
   "cell_type": "code",
   "execution_count": null,
   "metadata": {
    "collapsed": false
   },
   "outputs": [],
   "source": [
    "# escribe tu código aquí\n"
   ]
  },
  {
   "cell_type": "markdown",
   "metadata": {},
   "source": [
    "Fíjate que las etiquetas que se usan en el treebank español son diferentes a las etiquetas que habíamos visto en inglés. Para empezar, el español es una lengua con una morfología más rica: si queremos reflejar el género y el número de los adjetivos, por ejemplo, no nos vale con etiquetar los adjetivos con una simple `JJ`.\n",
    "\n",
    "\n",
    "Echa un vistazo a las etiquetas morfológicas y trata de interpretar su significado. En estas primera 50 palabras encontramos:\n",
    "\n",
    "- `da0ms0`: determinante artículo masculino singular\n",
    "- `ncms000`: nombre común masculino singular\n",
    "- `aq0cs0`: adjetivo calificativo de género común singular\n",
    "- `np00000`: nombre propio \n",
    "- `sps00`: preposición\n",
    "- `vmis3s0`: verbo principal indicativo pasado 3ª persona del singular\n",
    "\n",
    "\n",
    "## Ejercicio 2\n",
    "\n",
    "Aquí tienes el [la explicación y el catálogo completo de etiquetas](http://nlp.lsi.upc.edu/freeling/doc/tagsets/tagset-es.html) usadas en este corpus. A partir de lo que aprendas en el enlace anterior:\n",
    "\n",
    "- Imprime por pantalla solo las palabras etiquetadas como **formas verbales en 3ª persona del plural del pretérito perfecto simple de indicativo**.\n",
    "- Calcula qué porcentaje del total representan las palabras del corpus CEES_ESP etiquetadas como formas verbales en 3ª persona del plural del pretérito perfecto simple de indicativo."
   ]
  },
  {
   "cell_type": "code",
   "execution_count": null,
   "metadata": {
    "collapsed": false
   },
   "outputs": [],
   "source": [
    "# escribe tu código aquí\n"
   ]
  },
  {
   "cell_type": "markdown",
   "metadata": {},
   "source": [
    "## Ejercicio 3\n",
    "\n",
    "Las etiquetas morfológicas que hemos visto son bastante complejas, ya que incorporan los rasgos de la flexión del español. Afortunadamente, NLTK permite cargar los corpus etiquetados con [un conjunto de etiquetas universal y simplificado](http://arxiv.org/abs/1104.2086) utilizando la opcion `tagset='universal'`. Para ello, ejecuta la siguiente celda y fíjate cómo hemos cargado una lista de oraciones etiquetadas con esta nueva versión de las etiquetas."
   ]
  },
  {
   "cell_type": "code",
   "execution_count": 3,
   "metadata": {
    "collapsed": false
   },
   "outputs": [
    {
     "name": "stdout",
     "output_type": "stream",
     "text": [
      "[[('El', 'DET'), ('grupo', 'NOUN'), ('estatal', 'ADJ'), ('Electricité_de_France', 'NOUN'), ('-Fpa-', '.'), ('EDF', 'NOUN'), ('-Fpt-', '.'), ('anunció', 'VERB'), ('hoy', 'ADV'), (',', '.'), ('jueves', 'X'), (',', '.'), ('la', 'DET'), ('compra', 'NOUN'), ('del', 'ADP'), ('51_por_ciento', 'NUM'), ('de', 'ADP'), ('la', 'DET'), ('empresa', 'NOUN'), ('mexicana', 'ADJ'), ('Electricidad_Águila_de_Altamira', 'NOUN'), ('-Fpa-', '.'), ('EAA', 'NOUN'), ('-Fpt-', '.'), (',', '.'), ('creada', 'ADJ'), ('por', 'ADP'), ('el', 'DET'), ('japonés', 'ADJ'), ('Mitsubishi_Corporation', 'NOUN'), ('para', 'ADP'), ('poner_en_marcha', 'VERB'), ('una', 'DET'), ('central', 'NOUN'), ('de', 'ADP'), ('gas', 'NOUN'), ('de', 'ADP'), ('495', 'X'), ('megavatios', 'NOUN'), ('.', '.')], [('Una', 'DET'), ('portavoz', 'NOUN'), ('de', 'ADP'), ('EDF', 'NOUN'), ('explicó', 'VERB'), ('a', 'ADP'), ('EFE', 'NOUN'), ('que', 'CONJ'), ('el', 'DET'), ('proyecto', 'NOUN'), ('para', 'ADP'), ('la', 'DET'), ('construcción', 'NOUN'), ('de', 'ADP'), ('Altamira_2', 'NOUN'), (',', '.'), ('al', 'ADP'), ('norte', 'NOUN'), ('de', 'ADP'), ('Tampico', 'NOUN'), (',', '.'), ('prevé', 'VERB'), ('la', 'DET'), ('utilización', 'NOUN'), ('de', 'ADP'), ('gas', 'NOUN'), ('natural', 'ADJ'), ('como', 'CONJ'), ('combustible', 'NOUN'), ('principal', 'ADJ'), ('en', 'ADP'), ('una', 'DET'), ('central', 'NOUN'), ('de', 'ADP'), ('ciclo', 'NOUN'), ('combinado', 'ADJ'), ('que', 'PRON'), ('debe', 'VERB'), ('empezar', 'VERB'), ('a', 'ADP'), ('funcionar', 'VERB'), ('en', 'ADP'), ('mayo_del_2002', 'X'), ('.', '.')]]\n"
     ]
    }
   ],
   "source": [
    "cess_esp._tagset = 'es-ancora'\n",
    "oraciones = cess_esp.tagged_sents(tagset='universal')\n",
    "print(oraciones[:2])"
   ]
  },
  {
   "cell_type": "markdown",
   "metadata": {},
   "source": [
    "Estas etiquetas son más sencillas, ¿verdad? Básicamente tenemos `DET` para determinante, `NOUN` para nombre, `VERB` para verbo, `ADJ` para adjetivo, `ADP` para preposición, etc.\n",
    "\n",
    "\n",
    "Vamos a utilizar este corpus para entrenar varios etiquetadores basados en ngramas, tal y como hicimos en clase y se explica en la presentación `nltk-pos`. \n",
    "\n",
    "Construye de manera incremental cuatro etiquetadores.\n",
    "\n",
    "1. un etiquetador que por defecto que asuma que una palabra desconocida es un nombre común en masculino singular y asigne la etiqueta correspondiente a todas las palabras.\n",
    "2. un etiquetador basado en unigramas que aprenda a partir de la lista `oraciones` y utilice en etiquetador anterior como respaldo.\n",
    "3. un etiquetador basado en bigramas que aprenda a partir de la lista `oraciones` y utilice en etiquetador anterior como respaldo.\n",
    "4. un etiquetador basado en trigramas que aprenda a partir de la lista `oraciones` y utilice en etiquetador anterior como respaldo."
   ]
  },
  {
   "cell_type": "code",
   "execution_count": null,
   "metadata": {
    "collapsed": false
   },
   "outputs": [],
   "source": [
    "# escribe tu código aquí\n",
    "oraciones[0]"
   ]
  },
  {
   "cell_type": "code",
   "execution_count": null,
   "metadata": {
    "collapsed": false
   },
   "outputs": [],
   "source": [
    "# prueba tu etiquetador basado en trigramas con las siguientes oraciones que, con toda seguridad, no aparecen en el corpus\n",
    "print(trigramTagger.tag(\"Este banco está ocupado por un padre y por un hijo. El padre se llama Juan y el hijo ya te lo he dicho\".split()))\n",
    "print(trigramTagger.tag(\"\"\"El presidente del gobierno por fin ha dado la cara para anunciar aumentos de presupuesto en Educación y Sanidad a costa de dejar de subvencionar las empresas de los amigotes.\"\"\".split()))\n",
    "print(trigramTagger.tag(\"El cacique corrupto y la tonadillera se comerán el turrón en prisión.\".split()))"
   ]
  }
 ],
 "metadata": {
  "kernelspec": {
   "display_name": "Python 3",
   "language": "python",
   "name": "python3"
  },
  "language_info": {
   "codemirror_mode": {
    "name": "ipython",
    "version": 3
   },
   "file_extension": ".py",
   "mimetype": "text/x-python",
   "name": "python",
   "nbconvert_exporter": "python",
   "pygments_lexer": "ipython3",
   "version": "3.4.3+"
  }
 },
 "nbformat": 4,
 "nbformat_minor": 0
}
