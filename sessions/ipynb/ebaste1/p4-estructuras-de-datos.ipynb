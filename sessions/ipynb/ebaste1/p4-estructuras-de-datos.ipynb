{
 "cells": [
  {
   "cell_type": "markdown",
   "metadata": {},
   "source": [
    "# Práctica 4\n",
    "\n",
    "La práctica consiste en tres pequeños ejercicios en los deberéis demostrar que habéis entendido el funcionamiento y manejo de los tipos y las estructuras de datos que hemos visto en clase.\n",
    "\n",
    "Para completar la práctica, añade y/o modifica código en las celdas correspondientes. Ejecuta cada celda las veces que sea necesario y comprueba que hace lo que se pide en cada ejercicio.\n",
    "\n",
    "\n",
    "## Ejercicio 1. \n",
    "\n",
    "Crea una variable llamada `edad` y asígnale el valor aproximado de tu edad con un número real (número con decimales). No es necesario que ajustes mucho, pero si tienes 25 años y medio, asígnale el valor de *25.5*. Si cumples 23 el mes que viene, asígnale el valor *22.9*. \n",
    "\n",
    "Calcula el número de lustros, días, horas, minutos y segundos que llevas entre nosotros e imprime todas las cantidades por pantalla. Para simplificar, asume que los años bisiextos no existen."
   ]
  },
  {
   "cell_type": "code",
   "execution_count": null,
   "metadata": {
    "collapsed": false
   },
   "outputs": [],
   "source": [
    "# escribe tu código aquí"
   ]
  },
  {
   "cell_type": "markdown",
   "metadata": {},
   "source": [
    "## Ejercicio 2\n",
    "\n",
    "Crea una lista llamada `meses` que contenga los nombres de los 12 meses del año.\n",
    "\n",
    "1. Imprime por pantalla el primer mes del año y el último.\n",
    "2. Imprime por pantalla los meses del segundo trimestre.\n",
    "3. Reasigna el valor del séptimo elemento: cambia su valor de *julio* a *july*.   "
   ]
  },
  {
   "cell_type": "code",
   "execution_count": null,
   "metadata": {
    "collapsed": false
   },
   "outputs": [],
   "source": [
    "# escribe tu código aquí"
   ]
  },
  {
   "cell_type": "markdown",
   "metadata": {},
   "source": [
    "## Ejercicio 3\n",
    "\n",
    "La variable `mensajes` es una lista de diccionarios que contienen información sobre los mensajes de móvil que he mandado hoy. Fíjate en cómo está definida para entender la estructura:\n",
    "\n",
    "Añade las líneas de código necesarias en la próxima celda para:\n",
    "\n",
    "1. Imprimir por pantalla el teléfono destinatario del segundo sms.\n",
    "2. Imprimir por pantalla el nombre del primer fichero adjunto del segundo sms.\n",
    "3. Reasignar el valor de la clave `hora` del último mensaje."
   ]
  },
  {
   "cell_type": "code",
   "execution_count": null,
   "metadata": {
    "collapsed": false
   },
   "outputs": [],
   "source": [
    "# defino varios una lista formada por varios diccionarios con la información de los mensajes que he escrito hoy\n",
    "mensajes = []\n",
    "mensajes.append({\"destinatario\": \"+34677443322\", \"hora\":\"9:02\", \"texto\":\"ya he llegado, ¿dónde estás?\", \"adjuntos\": []})\n",
    "mensajes.append({\"destinatario\": \"+16265552233\", \"hora\":\"11:12\", \"texto\":\"Hi! Check this out.\", \"adjuntos\": [\"pic233.jpg\", \"pic234.jpg\"]})\n",
    "mensajes.append({\"destinatario\": \"+34623679000\", \"hora\":\"13:02\", \"texto\":\"espérame, ahora mismo bajo\", \"adjuntos\": []})\n",
    "mensajes.append({\"destinatario\": \"+34623679000\", \"hora\":\"13:03\", \"texto\":\"sí, yo también tengo hambre\", \"adjuntos\": []})\n",
    "\n",
    "# escribe tu código aquí\n"
   ]
  }
 ],
 "metadata": {
  "kernelspec": {
   "display_name": "Python 3",
   "language": "python",
   "name": "python3"
  },
  "language_info": {
   "codemirror_mode": {
    "name": "ipython",
    "version": 3
   },
   "file_extension": ".py",
   "mimetype": "text/x-python",
   "name": "python",
   "nbconvert_exporter": "python",
   "pygments_lexer": "ipython3",
   "version": "3.4.3+"
  }
 },
 "nbformat": 4,
 "nbformat_minor": 0
}
