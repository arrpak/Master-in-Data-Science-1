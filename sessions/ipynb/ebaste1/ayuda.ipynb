{
 "cells": [
  {
   "cell_type": "markdown",
   "metadata": {},
   "source": [
    "# Ayuda\n",
    "\n",
    "En este cuaderno iré resolviendo dudas generales sobre el funcionamiento de los *noteboks* a medida que vayan saliendo.\n",
    "\n"
   ]
  },
  {
   "cell_type": "markdown",
   "metadata": {},
   "source": [
    "# Preguntas frecuentes"
   ]
  },
  {
   "cell_type": "markdown",
   "metadata": {},
   "source": [
    "### ¿Dónde están almacenados los *notebooks*?\n",
    "\n",
    "Las copias personales de los cuadernos están almacenadas en un directorio llamado `notebooks/` dentro de nuestro directorio de trabajo personal. "
   ]
  },
  {
   "cell_type": "code",
   "execution_count": null,
   "metadata": {
    "collapsed": false
   },
   "outputs": [],
   "source": [
    "!cd && ls -l"
   ]
  },
  {
   "cell_type": "markdown",
   "metadata": {},
   "source": [
    "Las copias originales (y limpias) de los cuadernos están en el directorio `/opt/notebooks/`. Si quieres, por ejemplo, hacer una copia de este cuaderno de ayuda en tu directorio personal, ejecuta la celda siguiente."
   ]
  },
  {
   "cell_type": "code",
   "execution_count": null,
   "metadata": {
    "collapsed": true
   },
   "outputs": [],
   "source": [
    "!cp /opt/notebooks/ayuda.ipynb ~/notebooks/"
   ]
  },
  {
   "cell_type": "markdown",
   "metadata": {},
   "source": [
    "Si lo que quieres es recuperar las versiones originales de los cuadernos, ejectua algo cómo:"
   ]
  },
  {
   "cell_type": "code",
   "execution_count": null,
   "metadata": {
    "collapsed": true
   },
   "outputs": [],
   "source": [
    "!cp /opt/notebooks/*.ipynb ~/notebooks/"
   ]
  },
  {
   "cell_type": "markdown",
   "metadata": {},
   "source": [
    "**¡¡OJO!!** Estas instrucciones con `cp` sobreescribirán cualquier versión anterior de los cuadernos, en el caso de que existan. Procede con cuidado y, si te interesa conservar tus copias personales, renómbralas antes."
   ]
  },
  {
   "cell_type": "markdown",
   "metadata": {
    "collapsed": true
   },
   "source": [
    "### ¿Qué significa el símbolo de exclamación (`!`)? que aparece en las instrucciones anteriores?\n",
    "\n",
    "En las celdas de código, podemos ejecutar cualquier instrucción de unix sin necesidad de abrir un terminal SSH si añadimos una exclamación al inicio. En este caso, no podemos poner instrucciones de Python: son instrucciones de la línea de comandos."
   ]
  },
  {
   "cell_type": "code",
   "execution_count": null,
   "metadata": {
    "collapsed": false
   },
   "outputs": [],
   "source": [
    "!pwd\n",
    "!cd /tmp/ && ls"
   ]
  },
  {
   "cell_type": "markdown",
   "metadata": {},
   "source": [
    "### ¿Y qué significan esos dos símbolos de *ampersand* seguidos (`&&`)?\n",
    "\n",
    "En las celdas de código en las que ejecutamos instrucciones de la línea de comandos (las que comienzan con la exclamación `!`), podemos ejecutar varias instrucciones seguidas utilizando ese operador. \n",
    "\n",
    "**¡¡OJO!!** Esto no tiene nada que ver con el *pipeline* `|` que usábamos para concatenar instrucciones, conectando la salida de un comando con la entrada del siguiente."
   ]
  },
  {
   "cell_type": "code",
   "execution_count": null,
   "metadata": {
    "collapsed": true
   },
   "outputs": [],
   "source": []
  }
 ],
 "metadata": {
  "kernelspec": {
   "display_name": "Python 3",
   "language": "python",
   "name": "python3"
  },
  "language_info": {
   "codemirror_mode": {
    "name": "ipython",
    "version": 3
   },
   "file_extension": ".py",
   "mimetype": "text/x-python",
   "name": "python",
   "nbconvert_exporter": "python",
   "pygments_lexer": "ipython3",
   "version": "3.4.3+"
  }
 },
 "nbformat": 4,
 "nbformat_minor": 0
}
