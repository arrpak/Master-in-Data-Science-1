{
 "cells": [
  {
   "cell_type": "code",
   "execution_count": 6,
   "metadata": {
    "collapsed": true
   },
   "outputs": [],
   "source": [
    "from flask import Flask\n",
    "from flask.ext import restful # Se instala con sudo pip install flask-restful"
   ]
  },
  {
   "cell_type": "code",
   "execution_count": 7,
   "metadata": {
    "collapsed": false
   },
   "outputs": [],
   "source": [
    "# Creamos la aplicación\n",
    "app = Flask(\"Test\")\n",
    "api = restful.Api(app)"
   ]
  },
  {
   "cell_type": "code",
   "execution_count": 8,
   "metadata": {
    "collapsed": false
   },
   "outputs": [],
   "source": [
    "# Ahora añadimos recursos a la aplicación\n",
    "class HelloWorld(restful.Resource):\n",
    "    def get(self):\n",
    "        return {'Hello': 'World'}"
   ]
  },
  {
   "cell_type": "markdown",
   "metadata": {},
   "source": [
    "#### Protocolo http:\n",
    "\n",
    "Request\n",
    "GET /api/v1/helloworld\n",
    "PUT\n",
    "POST /api/v1/helloworld\n",
    "DELETE, etc\n",
    "\n",
    "Responde:\n",
    "Status 500 ==> Error\n",
    "Status 494 ==> Resource not found"
   ]
  },
  {
   "cell_type": "code",
   "execution_count": 9,
   "metadata": {
    "collapsed": false
   },
   "outputs": [],
   "source": [
    "api.add_resource(HelloWorld, '/api/v1/helloworld')"
   ]
  },
  {
   "cell_type": "code",
   "execution_count": 10,
   "metadata": {
    "collapsed": true
   },
   "outputs": [],
   "source": [
    "# Definimos ports\n",
    "app.run(port=8080)"
   ]
  },
  {
   "cell_type": "markdown",
   "metadata": {},
   "source": [
    "### Otra aplicación con datos dinámicos"
   ]
  },
  {
   "cell_type": "code",
   "execution_count": 11,
   "metadata": {
    "collapsed": true
   },
   "outputs": [],
   "source": [
    "import pandas as pd"
   ]
  },
  {
   "cell_type": "code",
   "execution_count": 12,
   "metadata": {
    "collapsed": false
   },
   "outputs": [],
   "source": [
    "alturas=[1,2,3,4,5,6]\n",
    "alturas = pd.Series(alturas)\n",
    "res = alturas.to_json()"
   ]
  },
  {
   "cell_type": "code",
   "execution_count": 13,
   "metadata": {
    "collapsed": false
   },
   "outputs": [
    {
     "data": {
      "text/plain": [
       "str"
      ]
     },
     "execution_count": 13,
     "metadata": {},
     "output_type": "execute_result"
    }
   ],
   "source": [
    "type(res) # Es un string pero quiero un objeto"
   ]
  },
  {
   "cell_type": "code",
   "execution_count": 14,
   "metadata": {
    "collapsed": false
   },
   "outputs": [
    {
     "data": {
      "text/plain": [
       "{u'0': 1, u'1': 2, u'2': 3, u'3': 4, u'4': 5, u'5': 6}"
      ]
     },
     "execution_count": 14,
     "metadata": {},
     "output_type": "execute_result"
    }
   ],
   "source": [
    "import json\n",
    "res2 = json.loads(res)\n",
    "res2"
   ]
  },
  {
   "cell_type": "code",
   "execution_count": 15,
   "metadata": {
    "collapsed": false
   },
   "outputs": [
    {
     "data": {
      "text/plain": [
       "{0: 1, 1: 2, 2: 3, 3: 4, 4: 5, 5: 6}"
      ]
     },
     "execution_count": 15,
     "metadata": {},
     "output_type": "execute_result"
    }
   ],
   "source": [
    "# o mejor\n",
    "res2 = alturas.to_dict()\n",
    "res2"
   ]
  },
  {
   "cell_type": "code",
   "execution_count": 25,
   "metadata": {
    "collapsed": false
   },
   "outputs": [],
   "source": [
    "# Creamos otra aplicación\n",
    "app = Flask(\"Test\")\n",
    "api = restful.Api(app)\n",
    "# Ahora añadimos recursos a la aplicación\n",
    "class HelloWorld(restful.Resource):\n",
    "    def get(self):\n",
    "        return {'helloworld': res2}\n",
    "api.add_resource(HelloWorld, '/api/v1/helloworld')\n",
    "# Definimos ports\n",
    "app.run(port=8080)"
   ]
  },
  {
   "cell_type": "markdown",
   "metadata": {},
   "source": [
    "### Ahora parseando"
   ]
  },
  {
   "cell_type": "code",
   "execution_count": 26,
   "metadata": {
    "collapsed": false
   },
   "outputs": [],
   "source": [
    "# Creamos otra aplicación\n",
    "from flask_restful import reqparse\n",
    "\n",
    "app = Flask(\"Test\")\n",
    "api = restful.Api(app)\n",
    "# Ahora añadimos recursos a la aplicación\n",
    "class HelloWorld(restful.Resource):\n",
    "    def get(self):\n",
    "        # Argument parsing after ?id=\n",
    "        parser = reqparse.RequestParser()\n",
    "        parser.add_argument('id',required=True)\n",
    "        parser.add_argument('name')\n",
    "        args = parser.parse_args()\n",
    "        return {'helloworld': args[\"id\"],\"name\":args['name']}\n",
    "api.add_resource(HelloWorld, '/api/v1/helloworld')\n",
    "# Definimos ports\n",
    "app.run(port=8080)"
   ]
  },
  {
   "cell_type": "markdown",
   "metadata": {},
   "source": [
    "## Ahora web service con fichero Temperature y sqlite3"
   ]
  },
  {
   "cell_type": "code",
   "execution_count": 65,
   "metadata": {
    "collapsed": true
   },
   "outputs": [],
   "source": [
    "import sqlite3 # he creado antes base de datos worldtemp.db (mirar apuntes)"
   ]
  },
  {
   "cell_type": "code",
   "execution_count": 73,
   "metadata": {
    "collapsed": true
   },
   "outputs": [],
   "source": [
    "# Creamos conexión\n",
    "conn = sqlite3.connect(\"data/worldtemp.db\")\n",
    "# Creamos cursor\n",
    "cursor = conn.cursor()"
   ]
  },
  {
   "cell_type": "code",
   "execution_count": 74,
   "metadata": {
    "collapsed": false,
    "scrolled": true
   },
   "outputs": [],
   "source": [
    "rows = cursor.execute(\"SELECT * FROM worldtemp LIMIT 1\")"
   ]
  },
  {
   "cell_type": "code",
   "execution_count": 75,
   "metadata": {
    "collapsed": false
   },
   "outputs": [
    {
     "name": "stdout",
     "output_type": "stream",
     "text": [
      "(0, 51957, u'IVM00065594', u'20160101', u'TAVG', 28.3, u'H', u'', u'S', u'', u'SPY', 4.746717, -6.660817, u'Ivory Coast', u'San Pedro')\n"
     ]
    }
   ],
   "source": [
    "for row in rows:\n",
    "    print row"
   ]
  },
  {
   "cell_type": "code",
   "execution_count": 60,
   "metadata": {
    "collapsed": false
   },
   "outputs": [],
   "source": [
    "# Creamos otra aplicación\n",
    "from flask_restful import reqparse\n",
    "\n",
    "app = Flask(\"Test\")\n",
    "api = restful.Api(app)\n",
    "# Ahora añadimos recursos a la aplicación\n",
    "class HelloWorld(restful.Resource):\n",
    "    def get(self):\n",
    "        # Argument parsing after ?id=\n",
    "        parser = reqparse.RequestParser()\n",
    "        parser.add_argument('code',required=True)\n",
    "        args = parser.parse_args()\n",
    "        code = args[\"code\"]\n",
    "        query = \"\"\"\n",
    "        SELECT temp,period\n",
    "        FROM worldtemp \n",
    "        WHERE code='\"\"\"+code+\"\"\"'\n",
    "        ORDER BY period\n",
    "        \"\"\"\n",
    "        rows = cursor.execute(query)\n",
    "        result = []\n",
    "        for row in rows:\n",
    "            result.append({\"period\": row[1],\"temp\":row[0]})\n",
    "        \n",
    "        return {\"temp\":result}\n",
    "api.add_resource(HelloWorld, '/api/v1/temp')\n",
    "# Definimos ports\n",
    "app.run(port=8080)"
   ]
  },
  {
   "cell_type": "code",
   "execution_count": 84,
   "metadata": {
    "collapsed": false
   },
   "outputs": [],
   "source": [
    "# Explicación del código \n",
    "code = \"PAR\"\n",
    "query = \"\"\"\n",
    "    SELECT temp,period\n",
    "    FROM worldtemp \n",
    "    WHERE code='\"\"\"+code+\"\"\"'\n",
    "    ORDER BY period\n",
    "    \"\"\"\n",
    "rows = cursor.execute(query)"
   ]
  },
  {
   "cell_type": "code",
   "execution_count": 70,
   "metadata": {
    "collapsed": true
   },
   "outputs": [],
   "source": [
    "result=[]\n",
    "for row in rows:\n",
    "    dict = {}\n",
    "    dict[\"temp\"]=row[0]\n",
    "    dict[\"period\"]=row[1]\n",
    "    result.append(dict)"
   ]
  },
  {
   "cell_type": "code",
   "execution_count": 85,
   "metadata": {
    "collapsed": false
   },
   "outputs": [
    {
     "data": {
      "text/plain": [
       "[{'period': u'20160101', 'temp': 6.7},\n",
       " {'period': u'20160102', 'temp': 9.1},\n",
       " {'period': u'20160103', 'temp': 7.3},\n",
       " {'period': u'20160104', 'temp': 7.4},\n",
       " {'period': u'20160105', 'temp': 7.4}]"
      ]
     },
     "execution_count": 85,
     "metadata": {},
     "output_type": "execute_result"
    }
   ],
   "source": [
    "# Alternativa\n",
    "result=[]\n",
    "for row in rows:\n",
    "    result.append({\"temp\": row[0],\"period\": row[1]})\n",
    "result[:5]"
   ]
  },
  {
   "cell_type": "markdown",
   "metadata": {},
   "source": [
    "## Mirar aplicación de \"Chrome WebStore\" llamada postman para probar webservices"
   ]
  },
  {
   "cell_type": "code",
   "execution_count": null,
   "metadata": {
    "collapsed": true
   },
   "outputs": [],
   "source": []
  },
  {
   "cell_type": "code",
   "execution_count": null,
   "metadata": {
    "collapsed": true
   },
   "outputs": [],
   "source": []
  }
 ],
 "metadata": {
  "kernelspec": {
   "display_name": "Python 2",
   "language": "python",
   "name": "python2"
  },
  "language_info": {
   "codemirror_mode": {
    "name": "ipython",
    "version": 2
   },
   "file_extension": ".py",
   "mimetype": "text/x-python",
   "name": "python",
   "nbconvert_exporter": "python",
   "pygments_lexer": "ipython2",
   "version": "2.7.10"
  }
 },
 "nbformat": 4,
 "nbformat_minor": 0
}
