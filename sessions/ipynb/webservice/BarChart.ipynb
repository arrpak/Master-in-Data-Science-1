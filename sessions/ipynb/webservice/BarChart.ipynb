{
 "cells": [
  {
   "cell_type": "code",
   "execution_count": 24,
   "metadata": {
    "collapsed": false
   },
   "outputs": [
    {
     "name": "stdout",
     "output_type": "stream",
     "text": [
      "Overwriting templates/barchart1.html\n"
     ]
    }
   ],
   "source": [
    "%%writefile templates/barchart1.html\n",
    "<!DOCTYPE html>\n",
    "<meta charset=\"utf-8\">\n",
    "\n",
    "<head>\n",
    "\t<style>\n",
    "\n",
    "\t.axis {\n",
    "\t  font: 10px sans-serif;\n",
    "\t}\n",
    "\n",
    "\t.axis path,\n",
    "\t.axis line {\n",
    "\t  fill: none;\n",
    "\t  stroke: #000;\n",
    "\t  shape-rendering: crispEdges;\n",
    "\t}\n",
    "\n",
    "\t</style>\n",
    "</head>\n",
    "\n",
    "<body>\n",
    "\t\n",
    "<script src=\"http://d3js.org/d3.v3.min.js\"></script>\n",
    "\n",
    "<script>\n",
    "\n",
    "var margin = {top: 20, right: 20, bottom: 70, left: 40},\n",
    "    width = 600 - margin.left - margin.right,\n",
    "    height = 300 - margin.top - margin.bottom;\n",
    "\n",
    "// Parse the date / time\n",
    "var\tparseDate = d3.time.format(\"%Y-%m\").parse;\n",
    "\n",
    "var x = d3.scale.ordinal().rangeRoundBands([0, width], .05);\n",
    "\n",
    "var y = d3.scale.linear().range([height, 0]);\n",
    "\n",
    "var xAxis = d3.svg.axis()\n",
    "    .scale(x)\n",
    "    .orient(\"bottom\")\n",
    "    .tickFormat(d3.time.format(\"%Y-%m\"));\n",
    "\n",
    "var yAxis = d3.svg.axis()\n",
    "    .scale(y)\n",
    "    .orient(\"left\")\n",
    "    .ticks(10);\n",
    "\n",
    "var svg = d3.select(\"body\").append(\"svg\")\n",
    "    .attr(\"width\", width + margin.left + margin.right)\n",
    "    .attr(\"height\", height + margin.top + margin.bottom)\n",
    "  .append(\"g\")\n",
    "    .attr(\"transform\", \n",
    "          \"translate(\" + margin.left + \",\" + margin.top + \")\");\n",
    "\n",
    "d3.csv(\"../data/bar-data.csv\", function(error, data) {\n",
    "\n",
    "    /* array de objetos llave - data, valor - value of list */\n",
    "        \n",
    "    data.forEach(function(d) {\n",
    "        d.date = parseDate(d.date);\n",
    "        d.value = +d.value;\n",
    "    });\n",
    "\t\n",
    "  x.domain(data.map(function(d) { return d.date; }));\n",
    "  y.domain([0, d3.max(data, function(d) { return d.value; })]);\n",
    "\n",
    "  svg.append(\"g\")\n",
    "      .attr(\"class\", \"x axis\")\n",
    "      .attr(\"transform\", \"translate(0,\" + height + \")\")\n",
    "      .call(xAxis)\n",
    "    .selectAll(\"text\")\n",
    "      .style(\"text-anchor\", \"end\")\n",
    "      .attr(\"dx\", \"-.8em\")\n",
    "      .attr(\"dy\", \"-.55em\")\n",
    "      .attr(\"transform\", \"rotate(-90)\" );\n",
    "\n",
    "  svg.append(\"g\")\n",
    "      .attr(\"class\", \"y axis\")\n",
    "      .call(yAxis)\n",
    "    .append(\"text\")\n",
    "      .attr(\"transform\", \"rotate(-90)\")\n",
    "      .attr(\"y\", 6)\n",
    "      .attr(\"dy\", \".71em\")\n",
    "      .style(\"text-anchor\", \"end\")\n",
    "      .text(\"Value ($)\");\n",
    "\n",
    "  svg.selectAll(\"bar\")\n",
    "      .data(data)\n",
    "    .enter().append(\"rect\")\n",
    "      .style(\"fill\", \"steelblue\")\n",
    "      .attr(\"x\", function(d) { return x(d.date); })\n",
    "      .attr(\"width\", x.rangeBand())\n",
    "      .attr(\"y\", function(d) { return y(d.value); })\n",
    "      .attr(\"height\", function(d) { return height - y(d.value); });\n",
    "\n",
    "});\n",
    "\n",
    "</script>\n",
    "\n",
    "</body>"
   ]
  },
  {
   "cell_type": "code",
   "execution_count": 25,
   "metadata": {
    "collapsed": false
   },
   "outputs": [
    {
     "name": "stdout",
     "output_type": "stream",
     "text": [
      "Overwriting data/bar-data.csv\n"
     ]
    }
   ],
   "source": [
    "%%writefile data/bar-data.csv\n",
    "date,value\n",
    "2013-01,53\n",
    "2013-02,165\n",
    "2013-03,269\n",
    "2013-04,344\n",
    "2013-05,376\n",
    "2013-06,410\n",
    "2013-07,421\n",
    "2013-08,405\n",
    "2013-09,376\n",
    "2013-10,359\n",
    "2013-11,392\n",
    "2013-12,433\n",
    "2014-01,455\n",
    "2014-02,478"
   ]
  },
  {
   "cell_type": "code",
   "execution_count": 26,
   "metadata": {
    "collapsed": false
   },
   "outputs": [
    {
     "data": {
      "text/html": [
       "\n",
       "        <iframe\n",
       "            width=\"800\"\n",
       "            height=\"800\"\n",
       "            src=\"templates/barchart1.html\"\n",
       "            frameborder=\"0\"\n",
       "            allowfullscreen\n",
       "        ></iframe>\n",
       "        "
      ],
      "text/plain": [
       "<IPython.lib.display.IFrame at 0x7f17bcc0d910>"
      ]
     },
     "execution_count": 26,
     "metadata": {},
     "output_type": "execute_result"
    }
   ],
   "source": [
    "from IPython.display import IFrame\n",
    "IFrame(\"templates/barchart1.html\",800,800)"
   ]
  },
  {
   "cell_type": "code",
   "execution_count": 81,
   "metadata": {
    "collapsed": false
   },
   "outputs": [
    {
     "name": "stdout",
     "output_type": "stream",
     "text": [
      "Overwriting templates/barchart1.template\n"
     ]
    }
   ],
   "source": [
    "%%writefile templates/barchart1.template\n",
    "<!DOCTYPE html>\n",
    "<meta charset=\"utf-8\">\n",
    "\n",
    "<head>\n",
    "\t<style>\n",
    "\n",
    "\t.axis {\n",
    "\t  font: 10px sans-serif;\n",
    "\t}\n",
    "\n",
    "\t.axis path,\n",
    "\t.axis line {\n",
    "\t  fill: none;\n",
    "\t  stroke: #000;\n",
    "\t  shape-rendering: crispEdges;\n",
    "\t}\n",
    "\n",
    "\t</style>\n",
    "</head>\n",
    "\n",
    "<body>\n",
    "\t\n",
    "<script src=\"http://d3js.org/d3.v3.min.js\"></script>\n",
    "\n",
    "<script>\n",
    "\n",
    "var margin = {top: 20, right: 20, bottom: 70, left: 40},\n",
    "    width = 600 - margin.left - margin.right,\n",
    "    height = 300 - margin.top - margin.bottom;\n",
    "\n",
    "// Parse the date / time\n",
    "var\tparseDate = d3.time.format(\"%Y-%m\").parse;\n",
    "\n",
    "var x = d3.scale.ordinal().rangeRoundBands([0, width], .05);\n",
    "\n",
    "var y = d3.scale.linear().range([height, 0]);\n",
    "\n",
    "var xAxis = d3.svg.axis()\n",
    "    .scale(x)\n",
    "    .orient(\"bottom\")\n",
    "    .tickFormat(d3.time.format(\"%Y-%m\"));\n",
    "\n",
    "var yAxis = d3.svg.axis()\n",
    "    .scale(y)\n",
    "    .orient(\"left\")\n",
    "    .ticks(10);\n",
    "\n",
    "var svg = d3.select(\"body\").append(\"svg\")\n",
    "    .attr(\"width\", width + margin.left + margin.right)\n",
    "    .attr(\"height\", height + margin.top + margin.bottom)\n",
    "    .append(\"g\")\n",
    "    .attr(\"transform\", \n",
    "          \"translate(\" + margin.left + \",\" + margin.top + \")\");\n",
    "\n",
    "var process = function(error, data) {\n",
    "\n",
    "    /* array de objetos llave - data, valor - value of list */\n",
    "        \n",
    "    data.forEach(function(d) {\n",
    "        d.date = parseDate(d.date);\n",
    "        d.value = +d.value;\n",
    "    });\n",
    "\t\n",
    "  x.domain(data.map(function(d) { return d.date; }));\n",
    "  y.domain([0, d3.max(data, function(d) { return d.value; })]);\n",
    "\n",
    "  svg.append(\"g\")\n",
    "      .attr(\"class\", \"x axis\")\n",
    "      .attr(\"transform\", \"translate(0,\" + height + \")\")\n",
    "      .call(xAxis)\n",
    "    .selectAll(\"text\")\n",
    "      .style(\"text-anchor\", \"end\")\n",
    "      .attr(\"dx\", \"-.8em\")\n",
    "      .attr(\"dy\", \"-.55em\")\n",
    "      .attr(\"transform\", \"rotate(-90)\" );\n",
    "\n",
    "  svg.append(\"g\")\n",
    "      .attr(\"class\", \"y axis\")\n",
    "      .call(yAxis)\n",
    "    .append(\"text\")\n",
    "      .attr(\"transform\", \"rotate(-90)\")\n",
    "      .attr(\"y\", 6)\n",
    "      .attr(\"dy\", \".71em\")\n",
    "      .style(\"text-anchor\", \"end\")\n",
    "      .text(\"Value ($)\");\n",
    "\n",
    "  svg.selectAll(\"bar\")\n",
    "      .data(data)\n",
    "    .enter().append(\"rect\")\n",
    "      .style(\"fill\", \"pink\")\n",
    "      .attr(\"x\", function(d) { return x(d.date); })\n",
    "      .attr(\"width\", x.rangeBand()*.25)\n",
    "      .attr(\"y\", function(d) { return y(d.value); })\n",
    "      .attr(\"height\", function(d) { return height - y(d.value); });\n",
    "\n",
    "};\n",
    "\n",
    "//d3.csv(\"../data/bar-data.csv\", process)\n",
    "var data = {data}\n",
    "process(\"\",data)\n",
    "\n",
    "</script>\n",
    "\n",
    "</body>"
   ]
  },
  {
   "cell_type": "code",
   "execution_count": 82,
   "metadata": {
    "collapsed": true
   },
   "outputs": [],
   "source": [
    "import pandas as pd\n",
    "df = pd.read_csv(\"data/bar-data.csv\")"
   ]
  },
  {
   "cell_type": "code",
   "execution_count": 83,
   "metadata": {
    "collapsed": false
   },
   "outputs": [
    {
     "data": {
      "text/plain": [
       "'{\"date\":{\"0\":\"2013-01\",\"1\":\"2013-02\",\"2\":\"2013-03\",\"3\":\"2013-04\",\"4\":\"2013-05\",\"5\":\"2013-06\",\"6\":\"2013-07\",\"7\":\"2013-08\",\"8\":\"2013-09\",\"9\":\"2013-10\",\"10\":\"2013-11\",\"11\":\"2013-12\",\"12\":\"2014-01\",\"13\":\"2014-02\"},\"value\":{\"0\":53,\"1\":165,\"2\":269,\"3\":344,\"4\":376,\"5\":410,\"6\":421,\"7\":405,\"8\":376,\"9\":359,\"10\":392,\"11\":433,\"12\":455,\"13\":478}}'"
      ]
     },
     "execution_count": 83,
     "metadata": {},
     "output_type": "execute_result"
    }
   ],
   "source": [
    "df.to_json()     # IMP!!!!! Se pueden comprobar en jsoneditoronline.com "
   ]
  },
  {
   "cell_type": "code",
   "execution_count": 84,
   "metadata": {
    "collapsed": false
   },
   "outputs": [
    {
     "data": {
      "text/plain": [
       "'[{\"date\":\"2013-01\",\"value\":53},{\"date\":\"2013-02\",\"value\":165},{\"date\":\"2013-03\",\"value\":269},{\"date\":\"2013-04\",\"value\":344},{\"date\":\"2013-05\",\"value\":376},{\"date\":\"2013-06\",\"value\":410},{\"date\":\"2013-07\",\"value\":421},{\"date\":\"2013-08\",\"value\":405},{\"date\":\"2013-09\",\"value\":376},{\"date\":\"2013-10\",\"value\":359},{\"date\":\"2013-11\",\"value\":392},{\"date\":\"2013-12\",\"value\":433},{\"date\":\"2014-01\",\"value\":455},{\"date\":\"2014-02\",\"value\":478}]'"
      ]
     },
     "execution_count": 84,
     "metadata": {},
     "output_type": "execute_result"
    }
   ],
   "source": [
    "# lo oriento igual que array de d3, oriento adecuadamente los objetos\n",
    "df.to_json(orient=\"records\")"
   ]
  },
  {
   "cell_type": "code",
   "execution_count": 85,
   "metadata": {
    "collapsed": false
   },
   "outputs": [
    {
     "data": {
      "text/html": [
       "\n",
       "        <iframe\n",
       "            width=\"800\"\n",
       "            height=\"400\"\n",
       "            src=\"tmp/bar3.html\"\n",
       "            frameborder=\"0\"\n",
       "            allowfullscreen\n",
       "        ></iframe>\n",
       "        "
      ],
      "text/plain": [
       "<IPython.lib.display.IFrame at 0x7f17a04f5110>"
      ]
     },
     "execution_count": 85,
     "metadata": {},
     "output_type": "execute_result"
    }
   ],
   "source": [
    "input = open(\"templates/barchart1.template\")\n",
    "text = input.read()\n",
    "input.close()\n",
    "text = text.replace(\"{data}\",df.to_json(orient=\"records\"))\n",
    "output = open(\"tmp/bar3.html\",\"w\")\n",
    "output.write(text)\n",
    "output.close()\n",
    "IFrame(\"tmp/bar3.html\",800,400)"
   ]
  },
  {
   "cell_type": "code",
   "execution_count": null,
   "metadata": {
    "collapsed": true
   },
   "outputs": [],
   "source": []
  }
 ],
 "metadata": {
  "kernelspec": {
   "display_name": "Python 2",
   "language": "python",
   "name": "python2"
  },
  "language_info": {
   "codemirror_mode": {
    "name": "ipython",
    "version": 2
   },
   "file_extension": ".py",
   "mimetype": "text/x-python",
   "name": "python",
   "nbconvert_exporter": "python",
   "pygments_lexer": "ipython2",
   "version": "2.7.10"
  }
 },
 "nbformat": 4,
 "nbformat_minor": 0
}
