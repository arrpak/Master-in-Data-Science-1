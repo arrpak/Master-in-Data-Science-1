{
 "cells": [
  {
   "cell_type": "code",
   "execution_count": null,
   "metadata": {
    "collapsed": true
   },
   "outputs": [],
   "source": [
    "from flask import Flask\n",
    "from flask.ext import restful\n",
    "from flask.ext.cors import CORS\n",
    "import sqlite3\n",
    "conn = sqlite3.connect(\"worldtemp.db\")\n",
    "cursor = conn.cursor()\n",
    "\n",
    "from flask_restful import reqparse\n",
    "\n",
    "app = Flask(\"Test\")\n",
    "api = restful.Api(app)\n",
    "cors = CORS(app, resources={r\"/api/*\": {\"origins\": \"*\"}})\n",
    "\n",
    "class HelloWorld(restful.Resource):\n",
    "   def get(self):\n",
    "    #Argument Parsing after ?\n",
    "    parser = reqparse.RequestParser()\n",
    "    parser.add_argument('code',required=True)\n",
    "    args = parser.parse_args()\n",
    "    code = args[\"code\"]\n",
    "    query = \"\"\"\n",
    "    SELECT temp,period \n",
    "    FROM worldtemp \n",
    "    WHERE code='\"\"\"+code+\"\"\"'\n",
    "    ORDER BY period\n",
    "    \"\"\"\n",
    "    rows = cursor.execute(query)\n",
    "    \n",
    "    result = []\n",
    "    for row in rows:\n",
    "        result.append({\"period\":row[1],\"temp\":row[0]})\n",
    "    \n",
    "    return {\"temp\":result}     \n",
    "\n",
    "api.add_resource(HelloWorld, '/api/v1/temp')\n",
    "\n",
    "app.run(port=8080)"
   ]
  },
  {
   "cell_type": "code",
   "execution_count": null,
   "metadata": {
    "collapsed": true
   },
   "outputs": [],
   "source": []
  }
 ],
 "metadata": {
  "kernelspec": {
   "display_name": "Python 2",
   "language": "python",
   "name": "python2"
  },
  "language_info": {
   "codemirror_mode": {
    "name": "ipython",
    "version": 2
   },
   "file_extension": ".py",
   "mimetype": "text/x-python",
   "name": "python",
   "nbconvert_exporter": "python",
   "pygments_lexer": "ipython2",
   "version": "2.7.10"
  }
 },
 "nbformat": 4,
 "nbformat_minor": 0
}
