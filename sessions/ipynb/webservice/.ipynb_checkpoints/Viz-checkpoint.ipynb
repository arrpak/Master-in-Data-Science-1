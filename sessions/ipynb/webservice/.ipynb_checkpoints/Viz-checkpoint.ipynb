{
 "cells": [
  {
   "cell_type": "code",
   "execution_count": 2,
   "metadata": {
    "collapsed": false
   },
   "outputs": [
    {
     "name": "stdout",
     "output_type": "stream",
     "text": [
      "Writing webPages/test.xml\n"
     ]
    }
   ],
   "source": [
    "%%writefile webPages/test.xml\n",
    "<padre profesion='sith'>\n",
    "    <luke>\n",
    "        hola\n",
    "    </luke>\n",
    "</padre>"
   ]
  },
  {
   "cell_type": "code",
   "execution_count": 9,
   "metadata": {
    "collapsed": false
   },
   "outputs": [
    {
     "name": "stdout",
     "output_type": "stream",
     "text": [
      "Overwriting webPages/basic.html\n"
     ]
    }
   ],
   "source": [
    "%%writefile webPages/basic.html\n",
    "<html>\n",
    "    <head></head>\n",
    "    <body>\n",
    "        <button>Púlsame !!!</button>\n",
    "    </body>\n",
    "</html>"
   ]
  },
  {
   "cell_type": "code",
   "execution_count": 1,
   "metadata": {
    "collapsed": true
   },
   "outputs": [],
   "source": [
    "from IPython.display import IFrame"
   ]
  },
  {
   "cell_type": "code",
   "execution_count": 22,
   "metadata": {
    "collapsed": false
   },
   "outputs": [
    {
     "data": {
      "text/html": [
       "\n",
       "        <iframe\n",
       "            width=\"400\"\n",
       "            height=\"75\"\n",
       "            src=\"webPages/basic.html\"\n",
       "            frameborder=\"0\"\n",
       "            allowfullscreen\n",
       "        ></iframe>\n",
       "        "
      ],
      "text/plain": [
       "<IPython.lib.display.IFrame at 0x7ff0249cc190>"
      ]
     },
     "execution_count": 22,
     "metadata": {},
     "output_type": "execute_result"
    }
   ],
   "source": [
    "IFrame(\"webPages/basic.html\",400,75)"
   ]
  },
  {
   "cell_type": "code",
   "execution_count": 48,
   "metadata": {
    "collapsed": false
   },
   "outputs": [
    {
     "name": "stdout",
     "output_type": "stream",
     "text": [
      "Overwriting webPages/basic+.html\n"
     ]
    }
   ],
   "source": [
    "%%writefile webPages/basic+.html\n",
    "<html>\n",
    "    <head></head>\n",
    "    <body>\n",
    "        <div>\n",
    "            <button id=\"go\">Pulsame</button>\n",
    "            <textarea>hola</textarea>\n",
    "            <br></br>\n",
    "            <p> Esto es un texto escrito por mi</p>\n",
    "            <h1>Titulo</h1> \n",
    "            <h2>Titulo más pequeño</h2>\n",
    "            <a href=\"http://www.elmundo.com\">Link</a>\n",
    "        </div>\n",
    "        <svg width=400 heigth=400></svg>\n",
    "    </body>\n",
    "</html>"
   ]
  },
  {
   "cell_type": "code",
   "execution_count": 49,
   "metadata": {
    "collapsed": false
   },
   "outputs": [
    {
     "data": {
      "text/html": [
       "\n",
       "        <iframe\n",
       "            width=\"400\"\n",
       "            height=\"300\"\n",
       "            src=\"webPages/basic+.html\"\n",
       "            frameborder=\"0\"\n",
       "            allowfullscreen\n",
       "        ></iframe>\n",
       "        "
      ],
      "text/plain": [
       "<IPython.lib.display.IFrame at 0x7ff0249cc890>"
      ]
     },
     "execution_count": 49,
     "metadata": {},
     "output_type": "execute_result"
    }
   ],
   "source": [
    "IFrame(\"webPages/basic+.html\",400,300)"
   ]
  },
  {
   "cell_type": "code",
   "execution_count": 72,
   "metadata": {
    "collapsed": false
   },
   "outputs": [
    {
     "name": "stdout",
     "output_type": "stream",
     "text": [
      "Overwriting webPages/basic+.html\n"
     ]
    }
   ],
   "source": [
    "%%writefile webPages/basic+.html\n",
    "<html>\n",
    "    <head></head>\n",
    "    <body>\n",
    "    <svg width=400 heigth=400>\n",
    "        <rect x=20 y=20 width=50 height=60 style=\"fill:red;stroke:green;stroke-width:10\"></rect>\n",
    "        <circle cx=30 cy=100 r=10 style=\"fill:blue\"></circle>\n",
    "    </svg>\n",
    "    </body>\n",
    "</html>"
   ]
  },
  {
   "cell_type": "code",
   "execution_count": 73,
   "metadata": {
    "collapsed": false
   },
   "outputs": [
    {
     "data": {
      "text/html": [
       "\n",
       "        <iframe\n",
       "            width=\"400\"\n",
       "            height=\"150\"\n",
       "            src=\"webPages/basic+.html\"\n",
       "            frameborder=\"0\"\n",
       "            allowfullscreen\n",
       "        ></iframe>\n",
       "        "
      ],
      "text/plain": [
       "<IPython.lib.display.IFrame at 0x7ff0249cc4d0>"
      ]
     },
     "execution_count": 73,
     "metadata": {},
     "output_type": "execute_result"
    }
   ],
   "source": [
    "IFrame(\"webPages/basic+.html\",400,150)"
   ]
  },
  {
   "cell_type": "code",
   "execution_count": 102,
   "metadata": {
    "collapsed": false
   },
   "outputs": [
    {
     "name": "stdout",
     "output_type": "stream",
     "text": [
      "Overwriting webPages/drawingwithstyle.html\n"
     ]
    }
   ],
   "source": [
    "%%writefile webPages/drawingwithstyle.html\n",
    "<html>\n",
    "    <head></head>\n",
    "    <body>\n",
    "    <style>\n",
    "        #rojo {\n",
    "            fill:red;\n",
    "            stroke:green;\n",
    "            stroke-width:10\n",
    "        }\n",
    "        circle {\n",
    "            fill:green\n",
    "        }\n",
    "        .azul {\n",
    "            fill:blue\n",
    "        }\n",
    "    </style>\n",
    "    <svg width=400 heigth=400>\n",
    "        <rect id=\"rojo\" x=20 y=20 width=50 height=60></rect>\n",
    "        <rect x=90 y=20 width=50 height=60></rect>\n",
    "        <circle cx=30 cy=100 r=5></circle>\n",
    "        <circle class=\"azul\" cx=50 cy=100 r=5></circle>\n",
    "        <circle class=\"azul\" cx=70 cy=100 r=5></circle>\n",
    "    </svg>\n",
    "    </body>\n",
    "</html>"
   ]
  },
  {
   "cell_type": "code",
   "execution_count": 104,
   "metadata": {
    "collapsed": false
   },
   "outputs": [
    {
     "data": {
      "text/html": [
       "\n",
       "        <iframe\n",
       "            width=\"400\"\n",
       "            height=\"200\"\n",
       "            src=\"webPages/drawingwithstyle.html\"\n",
       "            frameborder=\"0\"\n",
       "            allowfullscreen\n",
       "        ></iframe>\n",
       "        "
      ],
      "text/plain": [
       "<IPython.lib.display.IFrame at 0x7ff0249c40d0>"
      ]
     },
     "execution_count": 104,
     "metadata": {},
     "output_type": "execute_result"
    }
   ],
   "source": [
    "IFrame(\"webPages/drawingwithstyle.html\",400,200)"
   ]
  },
  {
   "cell_type": "code",
   "execution_count": 4,
   "metadata": {
    "collapsed": false
   },
   "outputs": [
    {
     "name": "stdout",
     "output_type": "stream",
     "text": [
      "Overwriting webPages/basicwithjs.html\n"
     ]
    }
   ],
   "source": [
    "%%writefile webPages/basicwithjs.html\n",
    "<html>\n",
    "    <head></head>\n",
    "    <body>\n",
    "        <button id=\"go\">Go</button>\n",
    "        <script src=\"https://code.jquery.com/jquery-2.2.3.min.js\"></script>\n",
    "        <script>\n",
    "            /* \n",
    "            var elem = document.getElementById(\"go\");\n",
    "            elem.style.color = \"red\"\n",
    "            elem.onclick = function (){ alert(\"red\") }\n",
    "            */\n",
    "            \n",
    "            $(\"#go\").css(\"color\",\"blue\")\n",
    "            $(\"#go\").click(function(){ \n",
    "                    alert(\"blue\")\n",
    "            })\n",
    "        </script>\n",
    "    </body>\n",
    "</html>"
   ]
  },
  {
   "cell_type": "code",
   "execution_count": 5,
   "metadata": {
    "collapsed": false
   },
   "outputs": [
    {
     "data": {
      "text/html": [
       "\n",
       "        <iframe\n",
       "            width=\"400\"\n",
       "            height=\"200\"\n",
       "            src=\"webPages/basicwithjs.html\"\n",
       "            frameborder=\"0\"\n",
       "            allowfullscreen\n",
       "        ></iframe>\n",
       "        "
      ],
      "text/plain": [
       "<IPython.lib.display.IFrame at 0x7f26d07b0a10>"
      ]
     },
     "execution_count": 5,
     "metadata": {},
     "output_type": "execute_result"
    }
   ],
   "source": [
    "IFrame(\"webPages/basicwithjs.html\",400,200)"
   ]
  },
  {
   "cell_type": "code",
   "execution_count": 24,
   "metadata": {
    "collapsed": false
   },
   "outputs": [
    {
     "name": "stdout",
     "output_type": "stream",
     "text": [
      "Overwriting webPages/basicwithd3.html\n"
     ]
    }
   ],
   "source": [
    "%%writefile webPages/basicwithd3.html\n",
    "<html>\n",
    "    <head></head>\n",
    "    <body>\n",
    "        <style>\n",
    "            .bar {\n",
    "                background-colo:blue;\n",
    "            }\n",
    "        </style>\n",
    "        <script src=\"https://cdnjs.cloudflare.com/ajax/libs/d3/3.5.16/d3.min.js\"></script>  \n",
    "        <script>\n",
    "            var list = [4,8,15,16,23,42]\n",
    "\n",
    "            \n",
    "            var body = d3.select(\"body\")\n",
    "            body.style(\"background-color\",\"black\")\n",
    "            \n",
    "            var container = body.append(\"div\")\n",
    "            container.style(\"background-color\",\"blue\")\n",
    "            container.style(\"width\",100)\n",
    "            container.style(\"height\",200)\n",
    "            \n",
    "            </script>\n",
    "    </body>\n",
    "</html>"
   ]
  },
  {
   "cell_type": "code",
   "execution_count": 25,
   "metadata": {
    "collapsed": false
   },
   "outputs": [
    {
     "data": {
      "text/html": [
       "\n",
       "        <iframe\n",
       "            width=\"400\"\n",
       "            height=\"400\"\n",
       "            src=\"webPages/basicwithd3.html\"\n",
       "            frameborder=\"0\"\n",
       "            allowfullscreen\n",
       "        ></iframe>\n",
       "        "
      ],
      "text/plain": [
       "<IPython.lib.display.IFrame at 0x7f26d0314310>"
      ]
     },
     "execution_count": 25,
     "metadata": {},
     "output_type": "execute_result"
    }
   ],
   "source": [
    "IFrame(\"webPages/basicwithd3.html\",400,400)"
   ]
  },
  {
   "cell_type": "code",
   "execution_count": 34,
   "metadata": {
    "collapsed": false
   },
   "outputs": [
    {
     "name": "stdout",
     "output_type": "stream",
     "text": [
      "Overwriting webPages/basicwithd3.html\n"
     ]
    }
   ],
   "source": [
    "%%writefile webPages/basicwithd3.html\n",
    "<html>\n",
    "    <head></head>\n",
    "    <body>\n",
    "        <style>\n",
    "            .bar {\n",
    "                background-colo:blue;\n",
    "            }\n",
    "        </style>\n",
    "        <script src=\"https://cdnjs.cloudflare.com/ajax/libs/d3/3.5.16/d3.min.js\"></script>  \n",
    "        <script>\n",
    "            var list = [4,8,15,16,23,42]\n",
    "\n",
    "            \n",
    "            var body = d3.select(\"body\")\n",
    "                         .style(\"background-color\",\"darkblue\")\n",
    "            \n",
    "            /*\n",
    "            var container = body.append(\"div\") \n",
    "                                .style(\"background-color\",\"blue\")\n",
    "                                .style(\"width\",100)\n",
    "                                .style(\"height\",200)\n",
    "            */\n",
    "            \n",
    "            list.forEach(function(v,i,a) {\n",
    "                  body.append(\"div\") \n",
    "                      .style(\"background-color\",\"blue\")\n",
    "                      .style(\"width\",v)\n",
    "                      .style(\"height\",20)  \n",
    "                })\n",
    "            </script>\n",
    "    </body>\n",
    "</html>"
   ]
  },
  {
   "cell_type": "code",
   "execution_count": 35,
   "metadata": {
    "collapsed": false
   },
   "outputs": [
    {
     "data": {
      "text/html": [
       "\n",
       "        <iframe\n",
       "            width=\"400\"\n",
       "            height=\"400\"\n",
       "            src=\"webPages/basicwithd3.html\"\n",
       "            frameborder=\"0\"\n",
       "            allowfullscreen\n",
       "        ></iframe>\n",
       "        "
      ],
      "text/plain": [
       "<IPython.lib.display.IFrame at 0x7f26d0314790>"
      ]
     },
     "execution_count": 35,
     "metadata": {},
     "output_type": "execute_result"
    }
   ],
   "source": [
    "IFrame(\"webPages/basicwithd3.html\",400,400)"
   ]
  },
  {
   "cell_type": "code",
   "execution_count": 70,
   "metadata": {
    "collapsed": false
   },
   "outputs": [
    {
     "name": "stdout",
     "output_type": "stream",
     "text": [
      "Overwriting webPages/basic2withd3.html\n"
     ]
    }
   ],
   "source": [
    "%%writefile webPages/basic2withd3.html\n",
    "<html>\n",
    "    <head></head>\n",
    "    <body>\n",
    "        <style>\n",
    "            .bar {\n",
    "                background-color:blue;\n",
    "                color:white;\n",
    "                margin:10px\n",
    "            }\n",
    "        </style>\n",
    "        <script src=\"https://cdnjs.cloudflare.com/ajax/libs/d3/3.5.16/d3.min.js\"></script>  \n",
    "        <script>\n",
    "            var list = [4,8,15,16,23,42]\n",
    "\n",
    "            var body = d3.select(\"body\")\n",
    "                         .style(\"background-color\",\"darkblue\")\n",
    "            \n",
    "            var d3join = d3.select(\"body\").selectAll(\".bar\").data(list)\n",
    "            \n",
    "            d3join.enter().append(\"div\")\n",
    "                          .attr(\"class\",\"bar\")\n",
    "                          .style(\"width\",function(d){return 6*d})\n",
    "                          .style(\"height\",20)\n",
    "                          .text(function(d){return d})\n",
    "                    \n",
    "            d3join.exit().remove()\n",
    "            \n",
    "         </script>\n",
    "    </body>\n",
    "</html>"
   ]
  },
  {
   "cell_type": "code",
   "execution_count": 71,
   "metadata": {
    "collapsed": false
   },
   "outputs": [
    {
     "data": {
      "text/html": [
       "\n",
       "        <iframe\n",
       "            width=\"400\"\n",
       "            height=\"400\"\n",
       "            src=\"webPages/basic2withd3.html\"\n",
       "            frameborder=\"0\"\n",
       "            allowfullscreen\n",
       "        ></iframe>\n",
       "        "
      ],
      "text/plain": [
       "<IPython.lib.display.IFrame at 0x7f26d0314590>"
      ]
     },
     "execution_count": 71,
     "metadata": {},
     "output_type": "execute_result"
    }
   ],
   "source": [
    "IFrame(\"webPages/basic2withd3.html\",400,400)"
   ]
  },
  {
   "cell_type": "code",
   "execution_count": 79,
   "metadata": {
    "collapsed": false
   },
   "outputs": [
    {
     "name": "stdout",
     "output_type": "stream",
     "text": [
      "Overwriting webPages/basic3withd3.html\n"
     ]
    }
   ],
   "source": [
    "%%writefile webPages/basic3withd3.html\n",
    "<html>\n",
    "    <head></head>\n",
    "    <body>\n",
    "        <style>\n",
    "            .bar {\n",
    "                fill:blue;\n",
    "            }\n",
    "        </style>\n",
    "        <script src=\"https://cdnjs.cloudflare.com/ajax/libs/d3/3.5.16/d3.min.js\"></script>  \n",
    "        <script>\n",
    "            var list = [4,8,15,16,23,42]\n",
    "\n",
    "            var svg = d3.select(\"body\").append(\"svg\")\n",
    "           \n",
    "            var d3join = svg.selectAll(\"rect\").data(list)\n",
    "            \n",
    "            d3join.enter().append(\"rect\")\n",
    "                          .attr(\"class\",\"bar\")\n",
    "                          .attr(\"x\",20)\n",
    "                          .attr(\"y\",function(d,i) {return i*25})\n",
    "                          .attr(\"width\",function(d){return 6*d})\n",
    "                          .attr(\"height\",20)                  \n",
    "            \n",
    "         </script>\n",
    "    </body>\n",
    "</html>"
   ]
  },
  {
   "cell_type": "code",
   "execution_count": 80,
   "metadata": {
    "collapsed": false
   },
   "outputs": [
    {
     "data": {
      "text/html": [
       "\n",
       "        <iframe\n",
       "            width=\"400\"\n",
       "            height=\"400\"\n",
       "            src=\"webPages/basic3withd3.html\"\n",
       "            frameborder=\"0\"\n",
       "            allowfullscreen\n",
       "        ></iframe>\n",
       "        "
      ],
      "text/plain": [
       "<IPython.lib.display.IFrame at 0x7f26d02ab210>"
      ]
     },
     "execution_count": 80,
     "metadata": {},
     "output_type": "execute_result"
    }
   ],
   "source": [
    "IFrame(\"webPages/basic3withd3.html\",400,400)"
   ]
  },
  {
   "cell_type": "code",
   "execution_count": 140,
   "metadata": {
    "collapsed": false
   },
   "outputs": [
    {
     "name": "stdout",
     "output_type": "stream",
     "text": [
      "Overwriting webPages/basic4withd3.html\n"
     ]
    }
   ],
   "source": [
    "%%writefile webPages/basic4withd3.html\n",
    "<html>\n",
    "    <head></head>\n",
    "    <body>\n",
    "        <style>\n",
    "            .bar {\n",
    "                fill:blue;\n",
    "            }\n",
    "        </style>\n",
    "        <script src=\"https://cdnjs.cloudflare.com/ajax/libs/d3/3.5.16/d3.min.js\"></script>  \n",
    "        <script>\n",
    "            var list = [4,8,15,16,23,42]\n",
    "            \n",
    "            var minL = d3.min(list)\n",
    "            var maxL = d3.max(list)\n",
    "            \n",
    "            var xscale = d3.scale.linear()\n",
    "                                 .range([0,500])\n",
    "                                 .domain([minL,maxL])\n",
    "            \n",
    "            var svg = d3.select(\"body\").append(\"svg\").attr(\"width\",600)\n",
    "           \n",
    "            var d3join = svg.selectAll(\"rect\").data(list)\n",
    "            \n",
    "            d3join.enter().append(\"rect\")\n",
    "                          .attr(\"class\",\"bar\")\n",
    "                          .attr(\"x\",20)\n",
    "                          .attr(\"y\",function(d,i) {return i*25})\n",
    "                          .attr(\"width\",function(d){return xscale(d)})\n",
    "                          .attr(\"height\",20)                  \n",
    " \n",
    "            var d3join = svg.selectAll(\"text\").data(list)\n",
    "            \n",
    "            d3join.enter().append(\"text\")\n",
    "                          .attr(\"x\",20)\n",
    "                          .attr(\"y\",function(d,i) {return i*25+15})\n",
    "                          .text(function(d,i){return i})\n",
    "                          .attr(\"fill\",\"white\")\n",
    "\n",
    "         </script>\n",
    "    </body>\n",
    "</html>"
   ]
  },
  {
   "cell_type": "code",
   "execution_count": 141,
   "metadata": {
    "collapsed": false
   },
   "outputs": [
    {
     "data": {
      "text/html": [
       "\n",
       "        <iframe\n",
       "            width=\"700\"\n",
       "            height=\"300\"\n",
       "            src=\"webPages/basic4withd3.html\"\n",
       "            frameborder=\"0\"\n",
       "            allowfullscreen\n",
       "        ></iframe>\n",
       "        "
      ],
      "text/plain": [
       "<IPython.lib.display.IFrame at 0x7f26d02c22d0>"
      ]
     },
     "execution_count": 141,
     "metadata": {},
     "output_type": "execute_result"
    }
   ],
   "source": [
    "IFrame(\"webPages/basic4withd3.html\",700,300)"
   ]
  },
  {
   "cell_type": "code",
   "execution_count": 2,
   "metadata": {
    "collapsed": false
   },
   "outputs": [
    {
     "name": "stdout",
     "output_type": "stream",
     "text": [
      "Overwriting templates/basic4withd3.template\n"
     ]
    }
   ],
   "source": [
    "%%writefile templates/basic4withd3.template\n",
    "<html>\n",
    "    <head></head>\n",
    "    <body>\n",
    "        <style>\n",
    "            .bar {\n",
    "                fill:blue;\n",
    "            }\n",
    "        </style>\n",
    "        <script src=\"https://cdnjs.cloudflare.com/ajax/libs/d3/3.5.16/d3.min.js\"></script>  \n",
    "        <script>\n",
    "            var list = [4,8,15,16,23,42]\n",
    "            \n",
    "            var minL = d3.min(list)\n",
    "            var maxL = d3.max(list)\n",
    "            \n",
    "            var xscale = d3.scale.linear()\n",
    "                                 .range([0,500])\n",
    "                                 .domain([minL,maxL])\n",
    "            \n",
    "            var svg = d3.select(\"body\").append(\"svg\").attr(\"width\",1000)\n",
    "           \n",
    "            var d3join = svg.selectAll(\"rect\").data(list)\n",
    "            \n",
    "            d3join.enter().append(\"rect\")\n",
    "                          .attr(\"class\",\"bar\")\n",
    "                          .attr(\"x\",20)\n",
    "                          .attr(\"y\",function(d,i) {return i*25})\n",
    "                          .attr(\"width\",function(d){return xscale(d)})\n",
    "                          .attr(\"height\",20)                  \n",
    " \n",
    "            var d3join = svg.selectAll(\"text\").data(list)\n",
    "            \n",
    "            d3join.enter().append(\"text\")\n",
    "                          .attr(\"x\",20)\n",
    "                          .attr(\"y\",function(d,i) {return i*25+15})\n",
    "                          .text(function(d,i){return i})\n",
    "                          .attr(\"fill\",\"white\")\n",
    "\n",
    "         </script>\n",
    "    </body>\n",
    "</html>"
   ]
  },
  {
   "cell_type": "code",
   "execution_count": 4,
   "metadata": {
    "collapsed": true
   },
   "outputs": [],
   "source": [
    "input = open(\"templates/basic4withd3.template\")"
   ]
  },
  {
   "cell_type": "code",
   "execution_count": 5,
   "metadata": {
    "collapsed": true
   },
   "outputs": [],
   "source": [
    "text = input.read()"
   ]
  },
  {
   "cell_type": "code",
   "execution_count": null,
   "metadata": {
    "collapsed": false
   },
   "outputs": [],
   "source": []
  },
  {
   "cell_type": "code",
   "execution_count": null,
   "metadata": {
    "collapsed": true
   },
   "outputs": [],
   "source": []
  },
  {
   "cell_type": "code",
   "execution_count": null,
   "metadata": {
    "collapsed": true
   },
   "outputs": [],
   "source": []
  },
  {
   "cell_type": "code",
   "execution_count": null,
   "metadata": {
    "collapsed": true
   },
   "outputs": [],
   "source": []
  },
  {
   "cell_type": "code",
   "execution_count": null,
   "metadata": {
    "collapsed": true
   },
   "outputs": [],
   "source": []
  },
  {
   "cell_type": "code",
   "execution_count": null,
   "metadata": {
    "collapsed": true
   },
   "outputs": [],
   "source": []
  },
  {
   "cell_type": "code",
   "execution_count": null,
   "metadata": {
    "collapsed": true
   },
   "outputs": [],
   "source": []
  },
  {
   "cell_type": "code",
   "execution_count": null,
   "metadata": {
    "collapsed": true
   },
   "outputs": [],
   "source": []
  }
 ],
 "metadata": {
  "kernelspec": {
   "display_name": "Python 2",
   "language": "python",
   "name": "python2"
  },
  "language_info": {
   "codemirror_mode": {
    "name": "ipython",
    "version": 2
   },
   "file_extension": ".py",
   "mimetype": "text/x-python",
   "name": "python",
   "nbconvert_exporter": "python",
   "pygments_lexer": "ipython2",
   "version": "2.7.10"
  }
 },
 "nbformat": 4,
 "nbformat_minor": 0
}
